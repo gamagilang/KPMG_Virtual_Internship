{
  "nbformat": 4,
  "nbformat_minor": 0,
  "metadata": {
    "colab": {
      "name": "KPMG Task 2.ipynb",
      "provenance": [],
      "collapsed_sections": [],
      "authorship_tag": "ABX9TyPaEuHc4vfzmjf4jQDdRxmM",
      "include_colab_link": true
    },
    "kernelspec": {
      "name": "python3",
      "display_name": "Python 3"
    }
  },
  "cells": [
    {
      "cell_type": "markdown",
      "metadata": {
        "id": "view-in-github",
        "colab_type": "text"
      },
      "source": [
        "<a href=\"https://colab.research.google.com/github/gamagilang/KPMG_Virtual_Internship/blob/master/KPMG_Task_2.ipynb\" target=\"_parent\"><img src=\"https://colab.research.google.com/assets/colab-badge.svg\" alt=\"Open In Colab\"/></a>"
      ]
    },
    {
      "cell_type": "code",
      "metadata": {
        "id": "ILixkD4uqMZw",
        "outputId": "7195e79c-d2c1-4835-a96d-fec72e899d88",
        "colab": {
          "base_uri": "https://localhost:8080/",
          "height": 119
        }
      },
      "source": [
        "! git clone https://github.com/gamagilang/KPMG_Virtual_Internship.git"
      ],
      "execution_count": null,
      "outputs": [
        {
          "output_type": "stream",
          "text": [
            "Cloning into 'KPMG_Virtual_Internship'...\n",
            "remote: Enumerating objects: 9, done.\u001b[K\n",
            "remote: Counting objects: 100% (9/9), done.\u001b[K\n",
            "remote: Compressing objects: 100% (8/8), done.\u001b[K\n",
            "remote: Total 9 (delta 0), reused 0 (delta 0), pack-reused 0\u001b[K\n",
            "Unpacking objects: 100% (9/9), done.\n"
          ],
          "name": "stdout"
        }
      ]
    },
    {
      "cell_type": "code",
      "metadata": {
        "id": "Brwd35bYqWw5"
      },
      "source": [
        "import pandas as pd\n",
        "import numpy as np\n",
        "import matplotlib.pyplot as plt"
      ],
      "execution_count": null,
      "outputs": []
    },
    {
      "cell_type": "markdown",
      "metadata": {
        "id": "NsN0fW_murxx"
      },
      "source": [
        "**Import Excel File**"
      ]
    },
    {
      "cell_type": "code",
      "metadata": {
        "id": "L2drHsYgkOfk"
      },
      "source": [
        "xl = pd.ExcelFile('/content/KPMG_Virtual_Internship/KPMG_VI_New_raw_data_update_final.xlsx')"
      ],
      "execution_count": null,
      "outputs": []
    },
    {
      "cell_type": "code",
      "metadata": {
        "id": "J5wnquPAkS2m",
        "outputId": "08398e5e-c560-4b31-8ffa-87ab666672f3",
        "colab": {
          "base_uri": "https://localhost:8080/",
          "height": 102
        }
      },
      "source": [
        "xl.sheet_names"
      ],
      "execution_count": null,
      "outputs": [
        {
          "output_type": "execute_result",
          "data": {
            "text/plain": [
              "['Title Sheet',\n",
              " 'Transactions',\n",
              " 'NewCustomerList',\n",
              " 'CustomerDemographic',\n",
              " 'CustomerAddress']"
            ]
          },
          "metadata": {
            "tags": []
          },
          "execution_count": 114
        }
      ]
    },
    {
      "cell_type": "code",
      "metadata": {
        "id": "K0cX-UZ8oFUI",
        "outputId": "4d8223f1-ebbd-498b-f1a8-03d014d4f777",
        "colab": {
          "base_uri": "https://localhost:8080/",
          "height": 51
        }
      },
      "source": [
        "print('Customer Demographic Data Frame:\\n')\n",
        "df1 = pd.read_excel('/content/KPMG_Virtual_Internship/KPMG_VI_New_raw_data_update_final.xlsx', sheet_name= 'CustomerDemographic')\n",
        "#df1.head(10)"
      ],
      "execution_count": null,
      "outputs": [
        {
          "output_type": "stream",
          "text": [
            "Customer Demographic Data Frame:\n",
            "\n"
          ],
          "name": "stdout"
        }
      ]
    },
    {
      "cell_type": "code",
      "metadata": {
        "id": "izsZRahJ5atL",
        "outputId": "edb9cac2-686b-416c-a198-380ca7251a20",
        "colab": {
          "base_uri": "https://localhost:8080/",
          "height": 51
        }
      },
      "source": [
        "print('Customer Adress Data Frame:\\n')\n",
        "df2 = pd.read_excel('/content/KPMG_Virtual_Internship/KPMG_VI_New_raw_data_update_final.xlsx', sheet_name= 'CustomerAddress')\n",
        "#df2.head(10)"
      ],
      "execution_count": null,
      "outputs": [
        {
          "output_type": "stream",
          "text": [
            "Customer Adress Data Frame:\n",
            "\n"
          ],
          "name": "stdout"
        }
      ]
    },
    {
      "cell_type": "code",
      "metadata": {
        "id": "hyfzNQWJ5h_w",
        "outputId": "4466361e-f4fd-4f86-f106-c958f6f4e5a5",
        "colab": {
          "base_uri": "https://localhost:8080/",
          "height": 51
        }
      },
      "source": [
        "print('Transaction Data Frame:\\n')\n",
        "df3 = pd.read_excel('/content/KPMG_Virtual_Internship/KPMG_VI_New_raw_data_update_final.xlsx', sheet_name= 'Transactions')\n",
        "#df3.head(10)"
      ],
      "execution_count": null,
      "outputs": [
        {
          "output_type": "stream",
          "text": [
            "Transaction Data Frame:\n",
            "\n"
          ],
          "name": "stdout"
        }
      ]
    },
    {
      "cell_type": "markdown",
      "metadata": {
        "id": "r9p4b5238lJ0"
      },
      "source": [
        "**Note** : The Column Labels are invalid or Unnamed. It seems like the 0 row index label of DataFrame are the ACTUAL COLUMN LABELS because there are Note on the first row of Excel File in which the pandas module consider it as the column label. So the furthur Label Cleaning should be done in the following code"
      ]
    },
    {
      "cell_type": "markdown",
      "metadata": {
        "id": "0BMR9BschssF"
      },
      "source": [
        "**Clear Formating each DataFrame**"
      ]
    },
    {
      "cell_type": "code",
      "metadata": {
        "id": "tAwLTJe3XTg4"
      },
      "source": [
        "## Making the datafame columns to be right\n",
        "#df1 = df1.reset_index(None)\n",
        "col1 = df1.iloc[0] #Column for df1\n",
        "col2 = df2.iloc[0]\n",
        "col3 = df3.iloc[0]\n",
        "list_col = ['col1','col2','col3']\n",
        "for col in list_col:\n",
        "  if col == 'col1':\n",
        "    df1.columns = col1\n",
        "    df1 = df1.drop([0]).reset_index(drop = True)\n",
        "  elif col == 'col2':\n",
        "    df2.columns = col2\n",
        "    df2 = df2.drop([0]).reset_index(drop = True)\n",
        "  else:\n",
        "    df3.columns = col3\n",
        "    df3 = df3.drop([0]).reset_index(drop = True)  \n",
        "#df1.head(10)\n"
      ],
      "execution_count": null,
      "outputs": []
    },
    {
      "cell_type": "code",
      "metadata": {
        "id": "73Zi8nrraJQi",
        "outputId": "3f92952f-f980-4b37-8e4d-eed119968fed",
        "colab": {
          "base_uri": "https://localhost:8080/",
          "height": 51
        }
      },
      "source": [
        "print('\\nDataFrame Customer Demographics:')\n",
        "#df1.head(5)"
      ],
      "execution_count": null,
      "outputs": [
        {
          "output_type": "stream",
          "text": [
            "\n",
            "DataFrame Customer Demographics:\n"
          ],
          "name": "stdout"
        }
      ]
    },
    {
      "cell_type": "code",
      "metadata": {
        "id": "VYM2APXIxovr",
        "outputId": "1a5f82d6-f804-400e-cc46-d12fce5999c8",
        "colab": {
          "base_uri": "https://localhost:8080/",
          "height": 231
        }
      },
      "source": [
        "print('\\nDataFrame Customer Address:')\n",
        "df2.head(5)"
      ],
      "execution_count": null,
      "outputs": [
        {
          "output_type": "stream",
          "text": [
            "\n",
            "DataFrame Customer Address:\n"
          ],
          "name": "stdout"
        },
        {
          "output_type": "execute_result",
          "data": {
            "text/html": [
              "<div>\n",
              "<style scoped>\n",
              "    .dataframe tbody tr th:only-of-type {\n",
              "        vertical-align: middle;\n",
              "    }\n",
              "\n",
              "    .dataframe tbody tr th {\n",
              "        vertical-align: top;\n",
              "    }\n",
              "\n",
              "    .dataframe thead th {\n",
              "        text-align: right;\n",
              "    }\n",
              "</style>\n",
              "<table border=\"1\" class=\"dataframe\">\n",
              "  <thead>\n",
              "    <tr style=\"text-align: right;\">\n",
              "      <th></th>\n",
              "      <th>customer_id</th>\n",
              "      <th>address</th>\n",
              "      <th>postcode</th>\n",
              "      <th>state</th>\n",
              "      <th>country</th>\n",
              "      <th>property_valuation</th>\n",
              "    </tr>\n",
              "  </thead>\n",
              "  <tbody>\n",
              "    <tr>\n",
              "      <th>0</th>\n",
              "      <td>1</td>\n",
              "      <td>060 Morning Avenue</td>\n",
              "      <td>2016</td>\n",
              "      <td>New South Wales</td>\n",
              "      <td>Australia</td>\n",
              "      <td>10</td>\n",
              "    </tr>\n",
              "    <tr>\n",
              "      <th>1</th>\n",
              "      <td>2</td>\n",
              "      <td>6 Meadow Vale Court</td>\n",
              "      <td>2153</td>\n",
              "      <td>New South Wales</td>\n",
              "      <td>Australia</td>\n",
              "      <td>10</td>\n",
              "    </tr>\n",
              "    <tr>\n",
              "      <th>2</th>\n",
              "      <td>4</td>\n",
              "      <td>0 Holy Cross Court</td>\n",
              "      <td>4211</td>\n",
              "      <td>QLD</td>\n",
              "      <td>Australia</td>\n",
              "      <td>9</td>\n",
              "    </tr>\n",
              "    <tr>\n",
              "      <th>3</th>\n",
              "      <td>5</td>\n",
              "      <td>17979 Del Mar Point</td>\n",
              "      <td>2448</td>\n",
              "      <td>New South Wales</td>\n",
              "      <td>Australia</td>\n",
              "      <td>4</td>\n",
              "    </tr>\n",
              "    <tr>\n",
              "      <th>4</th>\n",
              "      <td>6</td>\n",
              "      <td>9 Oakridge Court</td>\n",
              "      <td>3216</td>\n",
              "      <td>VIC</td>\n",
              "      <td>Australia</td>\n",
              "      <td>9</td>\n",
              "    </tr>\n",
              "  </tbody>\n",
              "</table>\n",
              "</div>"
            ],
            "text/plain": [
              "0 customer_id              address  ...    country property_valuation\n",
              "0           1   060 Morning Avenue  ...  Australia                 10\n",
              "1           2  6 Meadow Vale Court  ...  Australia                 10\n",
              "2           4   0 Holy Cross Court  ...  Australia                  9\n",
              "3           5  17979 Del Mar Point  ...  Australia                  4\n",
              "4           6     9 Oakridge Court  ...  Australia                  9\n",
              "\n",
              "[5 rows x 6 columns]"
            ]
          },
          "metadata": {
            "tags": []
          },
          "execution_count": 120
        }
      ]
    },
    {
      "cell_type": "code",
      "metadata": {
        "id": "x-GsFLzHxv92",
        "outputId": "7eb55500-2f82-4776-910a-b07b72beb3f2",
        "colab": {
          "base_uri": "https://localhost:8080/",
          "height": 336
        }
      },
      "source": [
        "print('\\nDataFrame Customer Transaction:')\n",
        "df3.head(5)"
      ],
      "execution_count": null,
      "outputs": [
        {
          "output_type": "stream",
          "text": [
            "\n",
            "DataFrame Customer Transaction:\n"
          ],
          "name": "stdout"
        },
        {
          "output_type": "execute_result",
          "data": {
            "text/html": [
              "<div>\n",
              "<style scoped>\n",
              "    .dataframe tbody tr th:only-of-type {\n",
              "        vertical-align: middle;\n",
              "    }\n",
              "\n",
              "    .dataframe tbody tr th {\n",
              "        vertical-align: top;\n",
              "    }\n",
              "\n",
              "    .dataframe thead th {\n",
              "        text-align: right;\n",
              "    }\n",
              "</style>\n",
              "<table border=\"1\" class=\"dataframe\">\n",
              "  <thead>\n",
              "    <tr style=\"text-align: right;\">\n",
              "      <th></th>\n",
              "      <th>transaction_id</th>\n",
              "      <th>product_id</th>\n",
              "      <th>customer_id</th>\n",
              "      <th>transaction_date</th>\n",
              "      <th>online_order</th>\n",
              "      <th>order_status</th>\n",
              "      <th>brand</th>\n",
              "      <th>product_line</th>\n",
              "      <th>product_class</th>\n",
              "      <th>product_size</th>\n",
              "      <th>list_price</th>\n",
              "      <th>standard_cost</th>\n",
              "      <th>product_first_sold_date</th>\n",
              "    </tr>\n",
              "  </thead>\n",
              "  <tbody>\n",
              "    <tr>\n",
              "      <th>0</th>\n",
              "      <td>1</td>\n",
              "      <td>2</td>\n",
              "      <td>2950</td>\n",
              "      <td>2017-02-25 00:00:00</td>\n",
              "      <td>False</td>\n",
              "      <td>Approved</td>\n",
              "      <td>Solex</td>\n",
              "      <td>Standard</td>\n",
              "      <td>medium</td>\n",
              "      <td>medium</td>\n",
              "      <td>71.49</td>\n",
              "      <td>53.62</td>\n",
              "      <td>41245</td>\n",
              "    </tr>\n",
              "    <tr>\n",
              "      <th>1</th>\n",
              "      <td>2</td>\n",
              "      <td>3</td>\n",
              "      <td>3120</td>\n",
              "      <td>2017-05-21 00:00:00</td>\n",
              "      <td>True</td>\n",
              "      <td>Approved</td>\n",
              "      <td>Trek Bicycles</td>\n",
              "      <td>Standard</td>\n",
              "      <td>medium</td>\n",
              "      <td>large</td>\n",
              "      <td>2091.47</td>\n",
              "      <td>388.92</td>\n",
              "      <td>41701</td>\n",
              "    </tr>\n",
              "    <tr>\n",
              "      <th>2</th>\n",
              "      <td>3</td>\n",
              "      <td>37</td>\n",
              "      <td>402</td>\n",
              "      <td>2017-10-16 00:00:00</td>\n",
              "      <td>False</td>\n",
              "      <td>Approved</td>\n",
              "      <td>OHM Cycles</td>\n",
              "      <td>Standard</td>\n",
              "      <td>low</td>\n",
              "      <td>medium</td>\n",
              "      <td>1793.43</td>\n",
              "      <td>248.82</td>\n",
              "      <td>36361</td>\n",
              "    </tr>\n",
              "    <tr>\n",
              "      <th>3</th>\n",
              "      <td>4</td>\n",
              "      <td>88</td>\n",
              "      <td>3135</td>\n",
              "      <td>2017-08-31 00:00:00</td>\n",
              "      <td>False</td>\n",
              "      <td>Approved</td>\n",
              "      <td>Norco Bicycles</td>\n",
              "      <td>Standard</td>\n",
              "      <td>medium</td>\n",
              "      <td>medium</td>\n",
              "      <td>1198.46</td>\n",
              "      <td>381.1</td>\n",
              "      <td>36145</td>\n",
              "    </tr>\n",
              "    <tr>\n",
              "      <th>4</th>\n",
              "      <td>5</td>\n",
              "      <td>78</td>\n",
              "      <td>787</td>\n",
              "      <td>2017-10-01 00:00:00</td>\n",
              "      <td>True</td>\n",
              "      <td>Approved</td>\n",
              "      <td>Giant Bicycles</td>\n",
              "      <td>Standard</td>\n",
              "      <td>medium</td>\n",
              "      <td>large</td>\n",
              "      <td>1765.3</td>\n",
              "      <td>709.48</td>\n",
              "      <td>42226</td>\n",
              "    </tr>\n",
              "  </tbody>\n",
              "</table>\n",
              "</div>"
            ],
            "text/plain": [
              "0 transaction_id product_id  ... standard_cost product_first_sold_date\n",
              "0              1          2  ...         53.62                   41245\n",
              "1              2          3  ...        388.92                   41701\n",
              "2              3         37  ...        248.82                   36361\n",
              "3              4         88  ...         381.1                   36145\n",
              "4              5         78  ...        709.48                   42226\n",
              "\n",
              "[5 rows x 13 columns]"
            ]
          },
          "metadata": {
            "tags": []
          },
          "execution_count": 121
        }
      ]
    },
    {
      "cell_type": "code",
      "metadata": {
        "id": "ZAbat-Ejclk8",
        "outputId": "4840d975-f8ad-4e10-d5f4-5b1992ff740d",
        "colab": {
          "base_uri": "https://localhost:8080/",
          "height": 1000
        }
      },
      "source": [
        "print('\\nDataFrame Customer Demographics Info:\\n')\n",
        "print(df1.info())\n",
        "print('\\nDataFrame Customer Address Info:\\n')\n",
        "print(df2.info())\n",
        "print('\\nDataFrame Customer Transaction Info:\\n')\n",
        "print(df3.info())"
      ],
      "execution_count": null,
      "outputs": [
        {
          "output_type": "stream",
          "text": [
            "\n",
            "DataFrame Customer Demographics Info:\n",
            "\n",
            "<class 'pandas.core.frame.DataFrame'>\n",
            "RangeIndex: 4000 entries, 0 to 3999\n",
            "Data columns (total 13 columns):\n",
            " #   Column                               Non-Null Count  Dtype \n",
            "---  ------                               --------------  ----- \n",
            " 0   customer_id                          4000 non-null   object\n",
            " 1   first_name                           4000 non-null   object\n",
            " 2   last_name                            3875 non-null   object\n",
            " 3   gender                               4000 non-null   object\n",
            " 4   past_3_years_bike_related_purchases  4000 non-null   object\n",
            " 5   DOB                                  3913 non-null   object\n",
            " 6   job_title                            3494 non-null   object\n",
            " 7   job_industry_category                3344 non-null   object\n",
            " 8   wealth_segment                       4000 non-null   object\n",
            " 9   deceased_indicator                   4000 non-null   object\n",
            " 10  default                              3698 non-null   object\n",
            " 11  owns_car                             4000 non-null   object\n",
            " 12  tenure                               3913 non-null   object\n",
            "dtypes: object(13)\n",
            "memory usage: 406.4+ KB\n",
            "None\n",
            "\n",
            "DataFrame Customer Address Info:\n",
            "\n",
            "<class 'pandas.core.frame.DataFrame'>\n",
            "RangeIndex: 3999 entries, 0 to 3998\n",
            "Data columns (total 6 columns):\n",
            " #   Column              Non-Null Count  Dtype \n",
            "---  ------              --------------  ----- \n",
            " 0   customer_id         3999 non-null   object\n",
            " 1   address             3999 non-null   object\n",
            " 2   postcode            3999 non-null   object\n",
            " 3   state               3999 non-null   object\n",
            " 4   country             3999 non-null   object\n",
            " 5   property_valuation  3999 non-null   object\n",
            "dtypes: object(6)\n",
            "memory usage: 187.6+ KB\n",
            "None\n",
            "\n",
            "DataFrame Customer Transaction Info:\n",
            "\n",
            "<class 'pandas.core.frame.DataFrame'>\n",
            "RangeIndex: 20000 entries, 0 to 19999\n",
            "Data columns (total 13 columns):\n",
            " #   Column                   Non-Null Count  Dtype \n",
            "---  ------                   --------------  ----- \n",
            " 0   transaction_id           20000 non-null  object\n",
            " 1   product_id               20000 non-null  object\n",
            " 2   customer_id              20000 non-null  object\n",
            " 3   transaction_date         20000 non-null  object\n",
            " 4   online_order             19640 non-null  object\n",
            " 5   order_status             20000 non-null  object\n",
            " 6   brand                    19803 non-null  object\n",
            " 7   product_line             19803 non-null  object\n",
            " 8   product_class            19803 non-null  object\n",
            " 9   product_size             19803 non-null  object\n",
            " 10  list_price               20000 non-null  object\n",
            " 11  standard_cost            19803 non-null  object\n",
            " 12  product_first_sold_date  19803 non-null  object\n",
            "dtypes: object(13)\n",
            "memory usage: 2.0+ MB\n",
            "None\n"
          ],
          "name": "stdout"
        }
      ]
    },
    {
      "cell_type": "markdown",
      "metadata": {
        "id": "Nyqhjh9fh-_m"
      },
      "source": [
        "--> Checking miss Value"
      ]
    },
    {
      "cell_type": "code",
      "metadata": {
        "id": "myNcfaztiT_Q",
        "outputId": "f3a40f25-62d7-4412-830c-daea98615eb6",
        "colab": {
          "base_uri": "https://localhost:8080/",
          "height": 768
        }
      },
      "source": [
        "print('\\nNumber Missing Value Each Feature in Customer Demographics:')\n",
        "print(df1.isnull().sum())\n",
        "print('\\nNumber Missing Value Each Feature in Customer Address:')\n",
        "print(df2.isnull().sum())\n",
        "print('\\nNumber Missing Value Each Feature in Transaction:')\n",
        "print(df3.isnull().sum())"
      ],
      "execution_count": null,
      "outputs": [
        {
          "output_type": "stream",
          "text": [
            "\n",
            "Number Missing Value Each Feature in Customer Demographics:\n",
            "0\n",
            "customer_id                              0\n",
            "first_name                               0\n",
            "last_name                              125\n",
            "gender                                   0\n",
            "past_3_years_bike_related_purchases      0\n",
            "DOB                                     87\n",
            "job_title                              506\n",
            "job_industry_category                  656\n",
            "wealth_segment                           0\n",
            "deceased_indicator                       0\n",
            "default                                302\n",
            "owns_car                                 0\n",
            "tenure                                  87\n",
            "dtype: int64\n",
            "\n",
            "Number Missing Value Each Feature in Customer Address:\n",
            "0\n",
            "customer_id           0\n",
            "address               0\n",
            "postcode              0\n",
            "state                 0\n",
            "country               0\n",
            "property_valuation    0\n",
            "dtype: int64\n",
            "\n",
            "Number Missing Value Each Feature in Transaction:\n",
            "0\n",
            "transaction_id               0\n",
            "product_id                   0\n",
            "customer_id                  0\n",
            "transaction_date             0\n",
            "online_order               360\n",
            "order_status                 0\n",
            "brand                      197\n",
            "product_line               197\n",
            "product_class              197\n",
            "product_size               197\n",
            "list_price                   0\n",
            "standard_cost              197\n",
            "product_first_sold_date    197\n",
            "dtype: int64\n"
          ],
          "name": "stdout"
        }
      ]
    },
    {
      "cell_type": "markdown",
      "metadata": {
        "id": "LJgIYKCl7kEY"
      },
      "source": [
        "**Note**: A lot of missing value that should be dealing with"
      ]
    },
    {
      "cell_type": "markdown",
      "metadata": {
        "id": "dh75d5OIwkZi"
      },
      "source": [
        "--> Checking Consistancy Value"
      ]
    },
    {
      "cell_type": "code",
      "metadata": {
        "id": "H2SiKiQMJDyM",
        "outputId": "fe55e128-7881-474c-c633-8a0ce5d27ec2",
        "colab": {
          "base_uri": "https://localhost:8080/",
          "height": 1000
        }
      },
      "source": [
        "print('\\nUnique Value in Each Feature in Customer Demographic]:')\n",
        "for col in df1.columns:\n",
        "  print('\\nNumber Unique Value in \"{}\" Feature:\\n'.format(col))\n",
        "  print(df1[col].value_counts())"
      ],
      "execution_count": null,
      "outputs": [
        {
          "output_type": "stream",
          "text": [
            "\n",
            "Unique Value in Each Feature in Customer Demographic]:\n",
            "\n",
            "Number Unique Value in \"customer_id\" Feature:\n",
            "\n",
            "4000    1\n",
            "1329    1\n",
            "1342    1\n",
            "1341    1\n",
            "1340    1\n",
            "       ..\n",
            "2662    1\n",
            "2661    1\n",
            "2660    1\n",
            "2659    1\n",
            "1       1\n",
            "Name: customer_id, Length: 4000, dtype: int64\n",
            "\n",
            "Number Unique Value in \"first_name\" Feature:\n",
            "\n",
            "Max        5\n",
            "Timmie     5\n",
            "Tobe       5\n",
            "Pail       4\n",
            "Osgood     4\n",
            "          ..\n",
            "Brena      1\n",
            "Woody      1\n",
            "Anthia     1\n",
            "Bren       1\n",
            "Erasmus    1\n",
            "Name: first_name, Length: 3139, dtype: int64\n",
            "\n",
            "Number Unique Value in \"last_name\" Feature:\n",
            "\n",
            "Ramsdell      3\n",
            "Pristnor      3\n",
            "Strutz        2\n",
            "Dabbes        2\n",
            "Cliff         2\n",
            "             ..\n",
            "Wrout         1\n",
            "Vautre        1\n",
            "Dublin        1\n",
            "Goodfield     1\n",
            "Markushkin    1\n",
            "Name: last_name, Length: 3725, dtype: int64\n",
            "\n",
            "Number Unique Value in \"gender\" Feature:\n",
            "\n",
            "Female    2037\n",
            "Male      1872\n",
            "U           88\n",
            "M            1\n",
            "Femal        1\n",
            "F            1\n",
            "Name: gender, dtype: int64\n",
            "\n",
            "Number Unique Value in \"past_3_years_bike_related_purchases\" Feature:\n",
            "\n",
            "16    56\n",
            "19    56\n",
            "20    54\n",
            "67    54\n",
            "2     50\n",
            "      ..\n",
            "8     28\n",
            "86    27\n",
            "85    27\n",
            "95    27\n",
            "92    24\n",
            "Name: past_3_years_bike_related_purchases, Length: 100, dtype: int64\n",
            "\n",
            "Number Unique Value in \"DOB\" Feature:\n",
            "\n",
            "1978-01-30    7\n",
            "1962-12-17    4\n",
            "1964-07-08    4\n",
            "1978-08-19    4\n",
            "1977-05-13    4\n",
            "             ..\n",
            "1991-09-04    1\n",
            "1985-08-06    1\n",
            "1972-05-21    1\n",
            "1985-12-22    1\n",
            "1977-03-08    1\n",
            "Name: DOB, Length: 3448, dtype: int64\n",
            "\n",
            "Number Unique Value in \"job_title\" Feature:\n",
            "\n",
            "Business Systems Development Analyst    45\n",
            "Social Worker                           44\n",
            "Tax Accountant                          44\n",
            "Internal Auditor                        42\n",
            "Recruiting Manager                      41\n",
            "                                        ..\n",
            "Database Administrator I                 4\n",
            "Health Coach III                         3\n",
            "Health Coach I                           3\n",
            "Research Assistant III                   3\n",
            "Developer I                              1\n",
            "Name: job_title, Length: 195, dtype: int64\n",
            "\n",
            "Number Unique Value in \"job_industry_category\" Feature:\n",
            "\n",
            "Manufacturing         799\n",
            "Financial Services    774\n",
            "Health                602\n",
            "Retail                358\n",
            "Property              267\n",
            "IT                    223\n",
            "Entertainment         136\n",
            "Argiculture           113\n",
            "Telecommunications     72\n",
            "Name: job_industry_category, dtype: int64\n",
            "\n",
            "Number Unique Value in \"wealth_segment\" Feature:\n",
            "\n",
            "Mass Customer        2000\n",
            "High Net Worth       1021\n",
            "Affluent Customer     979\n",
            "Name: wealth_segment, dtype: int64\n",
            "\n",
            "Number Unique Value in \"deceased_indicator\" Feature:\n",
            "\n",
            "N    3998\n",
            "Y       2\n",
            "Name: deceased_indicator, dtype: int64\n",
            "\n",
            "Number Unique Value in \"default\" Feature:\n",
            "\n",
            "100                                       113\n",
            "1                                         112\n",
            "-1                                        111\n",
            "-100                                       99\n",
            "Ù¡Ù¢Ù£                                     53\n",
            "                                         ... \n",
            "testâ testâ«                               31\n",
            "/dev/null; touch /tmp/blns.fail ; echo     30\n",
            "âªâªtestâª                                 29\n",
            "ì¸ëë°í ë¥´                                 27\n",
            ",ãã»:*:ã»ãâ( â» Ï â» )ãã»:*:ã»ãâ           25\n",
            "Name: default, Length: 90, dtype: int64\n",
            "\n",
            "Number Unique Value in \"owns_car\" Feature:\n",
            "\n",
            "Yes    2024\n",
            "No     1976\n",
            "Name: owns_car, dtype: int64\n",
            "\n",
            "Number Unique Value in \"tenure\" Feature:\n",
            "\n",
            "7     235\n",
            "5     228\n",
            "11    221\n",
            "10    218\n",
            "16    215\n",
            "8     211\n",
            "18    208\n",
            "12    202\n",
            "14    200\n",
            "9     200\n",
            "6     192\n",
            "4     191\n",
            "13    191\n",
            "17    182\n",
            "15    179\n",
            "1     166\n",
            "3     160\n",
            "19    159\n",
            "2     150\n",
            "20     96\n",
            "22     55\n",
            "21     54\n",
            "Name: tenure, dtype: int64\n"
          ],
          "name": "stdout"
        }
      ]
    },
    {
      "cell_type": "code",
      "metadata": {
        "id": "Ifju-RWA0RcC",
        "outputId": "c239d623-9005-471f-83cc-e01cda4f65f0",
        "colab": {
          "base_uri": "https://localhost:8080/",
          "height": 1000
        }
      },
      "source": [
        "print('\\nUnique Value in Each Feature in Customer Address:')\n",
        "for col in df2.columns:\n",
        "  print('\\nNumber Unique Value in \"{}\" Feature:\\n'.format(col))\n",
        "  print(df2[col].value_counts())"
      ],
      "execution_count": null,
      "outputs": [
        {
          "output_type": "stream",
          "text": [
            "\n",
            "Unique Value in Each Feature in Customer Address:\n",
            "\n",
            "Number Unique Value in \"customer_id\" Feature:\n",
            "\n",
            "4003    1\n",
            "1332    1\n",
            "1345    1\n",
            "1344    1\n",
            "1343    1\n",
            "       ..\n",
            "2665    1\n",
            "2664    1\n",
            "2663    1\n",
            "2662    1\n",
            "1       1\n",
            "Name: customer_id, Length: 3999, dtype: int64\n",
            "\n",
            "Number Unique Value in \"address\" Feature:\n",
            "\n",
            "3 Talisman Place           2\n",
            "3 Mariners Cove Terrace    2\n",
            "64 Macpherson Junction     2\n",
            "95 Old Gate Junction       1\n",
            "010 Namekagon Parkway      1\n",
            "                          ..\n",
            "8 Randy Parkway            1\n",
            "5 Stoughton Parkway        1\n",
            "2294 Pleasure Place        1\n",
            "94850 Moland Street        1\n",
            "53 Dunning Lane            1\n",
            "Name: address, Length: 3996, dtype: int64\n",
            "\n",
            "Number Unique Value in \"postcode\" Feature:\n",
            "\n",
            "2170    31\n",
            "2145    30\n",
            "2155    30\n",
            "2153    29\n",
            "2560    26\n",
            "        ..\n",
            "2469     1\n",
            "4155     1\n",
            "2474     1\n",
            "3093     1\n",
            "3094     1\n",
            "Name: postcode, Length: 873, dtype: int64\n",
            "\n",
            "Number Unique Value in \"state\" Feature:\n",
            "\n",
            "NSW                2054\n",
            "VIC                 939\n",
            "QLD                 838\n",
            "New South Wales      86\n",
            "Victoria             82\n",
            "Name: state, dtype: int64\n",
            "\n",
            "Number Unique Value in \"country\" Feature:\n",
            "\n",
            "Australia    3999\n",
            "Name: country, dtype: int64\n",
            "\n",
            "Number Unique Value in \"property_valuation\" Feature:\n",
            "\n",
            "9     647\n",
            "8     646\n",
            "10    577\n",
            "7     493\n",
            "11    281\n",
            "6     238\n",
            "5     225\n",
            "4     214\n",
            "12    195\n",
            "3     186\n",
            "1     154\n",
            "2     143\n",
            "Name: property_valuation, dtype: int64\n"
          ],
          "name": "stdout"
        }
      ]
    },
    {
      "cell_type": "code",
      "metadata": {
        "id": "rspf3M-iVEVu",
        "outputId": "b9bfda7d-02a3-486a-f8ad-aa9cc0897334",
        "colab": {
          "base_uri": "https://localhost:8080/",
          "height": 1000
        }
      },
      "source": [
        "print('\\nUnique Value in Each Feature in Transaction:')\n",
        "for col in df3.columns:\n",
        "  print('\\nNumber Unique Value in \"{}\" Feature:\\n'.format(col))\n",
        "  print(df3[col].value_counts())"
      ],
      "execution_count": null,
      "outputs": [
        {
          "output_type": "stream",
          "text": [
            "\n",
            "Unique Value in Each Feature in Transaction:\n",
            "\n",
            "Number Unique Value in \"transaction_id\" Feature:\n",
            "\n",
            "20000    1\n",
            "6670     1\n",
            "6663     1\n",
            "6664     1\n",
            "6665     1\n",
            "        ..\n",
            "13334    1\n",
            "13335    1\n",
            "13336    1\n",
            "13337    1\n",
            "1        1\n",
            "Name: transaction_id, Length: 20000, dtype: int64\n",
            "\n",
            "Number Unique Value in \"product_id\" Feature:\n",
            "\n",
            "0      1378\n",
            "3       354\n",
            "1       311\n",
            "35      268\n",
            "38      267\n",
            "       ... \n",
            "71      137\n",
            "8       136\n",
            "16      136\n",
            "100     130\n",
            "47      121\n",
            "Name: product_id, Length: 101, dtype: int64\n",
            "\n",
            "Number Unique Value in \"customer_id\" Feature:\n",
            "\n",
            "2476    14\n",
            "1068    14\n",
            "2183    14\n",
            "2464    13\n",
            "3232    13\n",
            "        ..\n",
            "2394     1\n",
            "3428     1\n",
            "191      1\n",
            "1846     1\n",
            "2876     1\n",
            "Name: customer_id, Length: 3494, dtype: int64\n",
            "\n",
            "Number Unique Value in \"transaction_date\" Feature:\n",
            "\n",
            "2017-02-14    82\n",
            "2017-08-18    82\n",
            "2017-10-15    76\n",
            "2017-01-31    73\n",
            "2017-12-19    71\n",
            "              ..\n",
            "2017-08-29    38\n",
            "2017-12-07    37\n",
            "2017-03-29    36\n",
            "2017-09-25    35\n",
            "2017-10-19    32\n",
            "Name: transaction_date, Length: 364, dtype: int64\n",
            "\n",
            "Number Unique Value in \"online_order\" Feature:\n",
            "\n",
            "True     9829\n",
            "False    9811\n",
            "Name: online_order, dtype: int64\n",
            "\n",
            "Number Unique Value in \"order_status\" Feature:\n",
            "\n",
            "Approved     19821\n",
            "Cancelled      179\n",
            "Name: order_status, dtype: int64\n",
            "\n",
            "Number Unique Value in \"brand\" Feature:\n",
            "\n",
            "Solex             4253\n",
            "Giant Bicycles    3312\n",
            "WeareA2B          3295\n",
            "OHM Cycles        3043\n",
            "Trek Bicycles     2990\n",
            "Norco Bicycles    2910\n",
            "Name: brand, dtype: int64\n",
            "\n",
            "Number Unique Value in \"product_line\" Feature:\n",
            "\n",
            "Standard    14176\n",
            "Road         3970\n",
            "Touring      1234\n",
            "Mountain      423\n",
            "Name: product_line, dtype: int64\n",
            "\n",
            "Number Unique Value in \"product_class\" Feature:\n",
            "\n",
            "medium    13826\n",
            "high       3013\n",
            "low        2964\n",
            "Name: product_class, dtype: int64\n",
            "\n",
            "Number Unique Value in \"product_size\" Feature:\n",
            "\n",
            "medium    12990\n",
            "large      3976\n",
            "small      2837\n",
            "Name: product_size, dtype: int64\n",
            "\n",
            "Number Unique Value in \"list_price\" Feature:\n",
            "\n",
            "2091.47    465\n",
            "1403.50    396\n",
            "71.49      274\n",
            "1231.15    235\n",
            "1890.39    233\n",
            "          ... \n",
            "1192.33      1\n",
            "1184.00      1\n",
            "1181.89      1\n",
            "1150.59      1\n",
            "2052.92      1\n",
            "Name: list_price, Length: 296, dtype: int64\n",
            "\n",
            "Number Unique Value in \"standard_cost\" Feature:\n",
            "\n",
            "388.920000    465\n",
            "954.820000    396\n",
            "53.620000     274\n",
            "161.600000    235\n",
            "260.140000    233\n",
            "             ... \n",
            "151.960000    124\n",
            "206.350000    114\n",
            "667.400024      1\n",
            "270.299988      1\n",
            "312.735016      1\n",
            "Name: standard_cost, Length: 103, dtype: int64\n",
            "\n",
            "Number Unique Value in \"product_first_sold_date\" Feature:\n",
            "\n",
            "33879    234\n",
            "41064    229\n",
            "37823    227\n",
            "39880    222\n",
            "38216    220\n",
            "        ... \n",
            "41848    169\n",
            "42404    168\n",
            "41922    166\n",
            "37659    163\n",
            "34586    162\n",
            "Name: product_first_sold_date, Length: 100, dtype: int64\n"
          ],
          "name": "stdout"
        }
      ]
    },
    {
      "cell_type": "markdown",
      "metadata": {
        "id": "UMZNCjGefqoF"
      },
      "source": [
        "We want to make combined dataframe in wich consist of the three of above dataframe called df1, df2, and df3. But the things to be considered is that the combined dataframe must be sort by costumer_id. "
      ]
    },
    {
      "cell_type": "code",
      "metadata": {
        "id": "XRPhur7vY9Wa"
      },
      "source": [
        ""
      ],
      "execution_count": null,
      "outputs": []
    },
    {
      "cell_type": "markdown",
      "metadata": {
        "id": "g6fcS9zlu0vA"
      },
      "source": [
        "**Data Preprocessing CustomerDemographic DataFrame (df1)**\n",
        "\n",
        "---\n",
        "\n"
      ]
    },
    {
      "cell_type": "markdown",
      "metadata": {
        "id": "x1ZJWFw_8bYR"
      },
      "source": [
        "Data Preprocessing CustomerDemographic DataFrame (df1) : Data Transformation\n"
      ]
    },
    {
      "cell_type": "markdown",
      "metadata": {
        "id": "qSMkIMqZRzOp"
      },
      "source": [
        "--> we need to combine the first name and last name in customer demographic because there are many missing values in last name since it is obvious for person who only have first name"
      ]
    },
    {
      "cell_type": "code",
      "metadata": {
        "id": "NsFSikmcqbDu",
        "outputId": "3afb8757-c6fb-4543-df08-cb80f8bb7d7f",
        "colab": {
          "base_uri": "https://localhost:8080/",
          "height": 102
        }
      },
      "source": [
        "df1.columns"
      ],
      "execution_count": null,
      "outputs": [
        {
          "output_type": "execute_result",
          "data": {
            "text/plain": [
              "Index(['customer_id', 'first_name', 'last_name', 'gender',\n",
              "       'past_3_years_bike_related_purchases', 'DOB', 'job_title',\n",
              "       'job_industry_category', 'wealth_segment', 'deceased_indicator',\n",
              "       'default', 'owns_car', 'tenure'],\n",
              "      dtype='object', name=0)"
            ]
          },
          "metadata": {
            "tags": []
          },
          "execution_count": 127
        }
      ]
    },
    {
      "cell_type": "code",
      "metadata": {
        "id": "D1Rj3woR-hoj",
        "outputId": "c5eff620-3eab-4578-e545-a64df8c7e77d",
        "colab": {
          "base_uri": "https://localhost:8080/",
          "height": 388
        }
      },
      "source": [
        "def df1_name (x):\n",
        "  l = []\n",
        "  for elm in x:\n",
        "    l.append(elm)\n",
        "  l = [x for x in l if str(x) != 'nan']\n",
        "  return \" \".join(l)\n",
        "\n",
        "df1['name'] = df1[df1.columns[1:3]].astype(str).apply(df1_name,axis = 1)\n",
        "df1 = df1.reindex(columns = ['customer_id', 'name', 'first_name', 'last_name', 'gender',\n",
        "       'past_3_years_bike_related_purchases', 'DOB', 'job_title',\n",
        "       'job_industry_category', 'wealth_segment', 'deceased_indicator',\n",
        "       'default', 'owns_car', 'tenure']).drop(columns=['first_name','last_name'])\n",
        "df1.head()\n"
      ],
      "execution_count": null,
      "outputs": [
        {
          "output_type": "execute_result",
          "data": {
            "text/html": [
              "<div>\n",
              "<style scoped>\n",
              "    .dataframe tbody tr th:only-of-type {\n",
              "        vertical-align: middle;\n",
              "    }\n",
              "\n",
              "    .dataframe tbody tr th {\n",
              "        vertical-align: top;\n",
              "    }\n",
              "\n",
              "    .dataframe thead th {\n",
              "        text-align: right;\n",
              "    }\n",
              "</style>\n",
              "<table border=\"1\" class=\"dataframe\">\n",
              "  <thead>\n",
              "    <tr style=\"text-align: right;\">\n",
              "      <th></th>\n",
              "      <th>customer_id</th>\n",
              "      <th>name</th>\n",
              "      <th>gender</th>\n",
              "      <th>past_3_years_bike_related_purchases</th>\n",
              "      <th>DOB</th>\n",
              "      <th>job_title</th>\n",
              "      <th>job_industry_category</th>\n",
              "      <th>wealth_segment</th>\n",
              "      <th>deceased_indicator</th>\n",
              "      <th>default</th>\n",
              "      <th>owns_car</th>\n",
              "      <th>tenure</th>\n",
              "    </tr>\n",
              "  </thead>\n",
              "  <tbody>\n",
              "    <tr>\n",
              "      <th>0</th>\n",
              "      <td>1</td>\n",
              "      <td>Laraine Medendorp</td>\n",
              "      <td>F</td>\n",
              "      <td>93</td>\n",
              "      <td>1953-10-12 00:00:00</td>\n",
              "      <td>Executive Secretary</td>\n",
              "      <td>Health</td>\n",
              "      <td>Mass Customer</td>\n",
              "      <td>N</td>\n",
              "      <td>\"'</td>\n",
              "      <td>Yes</td>\n",
              "      <td>11</td>\n",
              "    </tr>\n",
              "    <tr>\n",
              "      <th>1</th>\n",
              "      <td>2</td>\n",
              "      <td>Eli Bockman</td>\n",
              "      <td>Male</td>\n",
              "      <td>81</td>\n",
              "      <td>1980-12-16 00:00:00</td>\n",
              "      <td>Administrative Officer</td>\n",
              "      <td>Financial Services</td>\n",
              "      <td>Mass Customer</td>\n",
              "      <td>N</td>\n",
              "      <td>&lt;script&gt;alert('hi')&lt;/script&gt;</td>\n",
              "      <td>Yes</td>\n",
              "      <td>16</td>\n",
              "    </tr>\n",
              "    <tr>\n",
              "      <th>2</th>\n",
              "      <td>3</td>\n",
              "      <td>Arlin Dearle</td>\n",
              "      <td>Male</td>\n",
              "      <td>61</td>\n",
              "      <td>1954-01-20 00:00:00</td>\n",
              "      <td>Recruiting Manager</td>\n",
              "      <td>Property</td>\n",
              "      <td>Mass Customer</td>\n",
              "      <td>N</td>\n",
              "      <td>2018-02-01 00:00:00</td>\n",
              "      <td>Yes</td>\n",
              "      <td>15</td>\n",
              "    </tr>\n",
              "    <tr>\n",
              "      <th>3</th>\n",
              "      <td>4</td>\n",
              "      <td>Talbot</td>\n",
              "      <td>Male</td>\n",
              "      <td>33</td>\n",
              "      <td>1961-10-03 00:00:00</td>\n",
              "      <td>NaN</td>\n",
              "      <td>IT</td>\n",
              "      <td>Mass Customer</td>\n",
              "      <td>N</td>\n",
              "      <td>() { _; } &gt;_[$($())] { touch /tmp/blns.shellsh...</td>\n",
              "      <td>No</td>\n",
              "      <td>7</td>\n",
              "    </tr>\n",
              "    <tr>\n",
              "      <th>4</th>\n",
              "      <td>5</td>\n",
              "      <td>Sheila-kathryn Calton</td>\n",
              "      <td>Female</td>\n",
              "      <td>56</td>\n",
              "      <td>1977-05-13 00:00:00</td>\n",
              "      <td>Senior Editor</td>\n",
              "      <td>NaN</td>\n",
              "      <td>Affluent Customer</td>\n",
              "      <td>N</td>\n",
              "      <td>NIL</td>\n",
              "      <td>Yes</td>\n",
              "      <td>8</td>\n",
              "    </tr>\n",
              "  </tbody>\n",
              "</table>\n",
              "</div>"
            ],
            "text/plain": [
              "0 customer_id                   name  ... owns_car tenure\n",
              "0           1      Laraine Medendorp  ...      Yes     11\n",
              "1           2            Eli Bockman  ...      Yes     16\n",
              "2           3           Arlin Dearle  ...      Yes     15\n",
              "3           4                 Talbot  ...       No      7\n",
              "4           5  Sheila-kathryn Calton  ...      Yes      8\n",
              "\n",
              "[5 rows x 12 columns]"
            ]
          },
          "metadata": {
            "tags": []
          },
          "execution_count": 152
        }
      ]
    },
    {
      "cell_type": "code",
      "metadata": {
        "id": "8DUWR4ipam_D",
        "outputId": "a733f691-e5e7-41c4-d0c9-94481cf99499",
        "colab": {
          "base_uri": "https://localhost:8080/",
          "height": 341
        }
      },
      "source": [
        "df1.info()"
      ],
      "execution_count": null,
      "outputs": [
        {
          "output_type": "stream",
          "text": [
            "<class 'pandas.core.frame.DataFrame'>\n",
            "RangeIndex: 4000 entries, 0 to 3999\n",
            "Data columns (total 12 columns):\n",
            " #   Column                               Non-Null Count  Dtype \n",
            "---  ------                               --------------  ----- \n",
            " 0   customer_id                          4000 non-null   object\n",
            " 1   name                                 4000 non-null   object\n",
            " 2   gender                               4000 non-null   object\n",
            " 3   past_3_years_bike_related_purchases  4000 non-null   object\n",
            " 4   DOB                                  3913 non-null   object\n",
            " 5   job_title                            3494 non-null   object\n",
            " 6   job_industry_category                3344 non-null   object\n",
            " 7   wealth_segment                       4000 non-null   object\n",
            " 8   deceased_indicator                   4000 non-null   object\n",
            " 9   default                              3698 non-null   object\n",
            " 10  owns_car                             4000 non-null   object\n",
            " 11  tenure                               3913 non-null   object\n",
            "dtypes: object(12)\n",
            "memory usage: 375.1+ KB\n"
          ],
          "name": "stdout"
        }
      ]
    },
    {
      "cell_type": "markdown",
      "metadata": {
        "id": "K6P9uVUWMrYl"
      },
      "source": [
        "--> Deleting Default Feature\n",
        "\n",
        "**Note** :\n",
        "\n",
        "PROBLEM (Relefancy) : Irrelevance 'default' feature \n",
        "From The First 10 rows of DataFrame above, the feature named 'default' doesn't show any valid and distincable information so we just need to delete this row.\n",
        "SOLUTION : Delete feature"
      ]
    },
    {
      "cell_type": "code",
      "metadata": {
        "id": "g5VRYuto4t3b",
        "outputId": "2be6cef6-970f-4fce-f45b-921b5e103f8e",
        "colab": {
          "base_uri": "https://localhost:8080/",
          "height": 368
        }
      },
      "source": [
        "## Deleting default feature\n",
        "df1 = df1.drop(columns='default')\n",
        "df1.head(5)"
      ],
      "execution_count": null,
      "outputs": [
        {
          "output_type": "execute_result",
          "data": {
            "text/html": [
              "<div>\n",
              "<style scoped>\n",
              "    .dataframe tbody tr th:only-of-type {\n",
              "        vertical-align: middle;\n",
              "    }\n",
              "\n",
              "    .dataframe tbody tr th {\n",
              "        vertical-align: top;\n",
              "    }\n",
              "\n",
              "    .dataframe thead th {\n",
              "        text-align: right;\n",
              "    }\n",
              "</style>\n",
              "<table border=\"1\" class=\"dataframe\">\n",
              "  <thead>\n",
              "    <tr style=\"text-align: right;\">\n",
              "      <th></th>\n",
              "      <th>customer_id</th>\n",
              "      <th>name</th>\n",
              "      <th>gender</th>\n",
              "      <th>past_3_years_bike_related_purchases</th>\n",
              "      <th>DOB</th>\n",
              "      <th>job_title</th>\n",
              "      <th>job_industry_category</th>\n",
              "      <th>wealth_segment</th>\n",
              "      <th>deceased_indicator</th>\n",
              "      <th>owns_car</th>\n",
              "      <th>tenure</th>\n",
              "    </tr>\n",
              "  </thead>\n",
              "  <tbody>\n",
              "    <tr>\n",
              "      <th>0</th>\n",
              "      <td>1</td>\n",
              "      <td>Laraine Medendorp</td>\n",
              "      <td>F</td>\n",
              "      <td>93</td>\n",
              "      <td>1953-10-12 00:00:00</td>\n",
              "      <td>Executive Secretary</td>\n",
              "      <td>Health</td>\n",
              "      <td>Mass Customer</td>\n",
              "      <td>N</td>\n",
              "      <td>Yes</td>\n",
              "      <td>11</td>\n",
              "    </tr>\n",
              "    <tr>\n",
              "      <th>1</th>\n",
              "      <td>2</td>\n",
              "      <td>Eli Bockman</td>\n",
              "      <td>Male</td>\n",
              "      <td>81</td>\n",
              "      <td>1980-12-16 00:00:00</td>\n",
              "      <td>Administrative Officer</td>\n",
              "      <td>Financial Services</td>\n",
              "      <td>Mass Customer</td>\n",
              "      <td>N</td>\n",
              "      <td>Yes</td>\n",
              "      <td>16</td>\n",
              "    </tr>\n",
              "    <tr>\n",
              "      <th>2</th>\n",
              "      <td>3</td>\n",
              "      <td>Arlin Dearle</td>\n",
              "      <td>Male</td>\n",
              "      <td>61</td>\n",
              "      <td>1954-01-20 00:00:00</td>\n",
              "      <td>Recruiting Manager</td>\n",
              "      <td>Property</td>\n",
              "      <td>Mass Customer</td>\n",
              "      <td>N</td>\n",
              "      <td>Yes</td>\n",
              "      <td>15</td>\n",
              "    </tr>\n",
              "    <tr>\n",
              "      <th>3</th>\n",
              "      <td>4</td>\n",
              "      <td>Talbot</td>\n",
              "      <td>Male</td>\n",
              "      <td>33</td>\n",
              "      <td>1961-10-03 00:00:00</td>\n",
              "      <td>NaN</td>\n",
              "      <td>IT</td>\n",
              "      <td>Mass Customer</td>\n",
              "      <td>N</td>\n",
              "      <td>No</td>\n",
              "      <td>7</td>\n",
              "    </tr>\n",
              "    <tr>\n",
              "      <th>4</th>\n",
              "      <td>5</td>\n",
              "      <td>Sheila-kathryn Calton</td>\n",
              "      <td>Female</td>\n",
              "      <td>56</td>\n",
              "      <td>1977-05-13 00:00:00</td>\n",
              "      <td>Senior Editor</td>\n",
              "      <td>NaN</td>\n",
              "      <td>Affluent Customer</td>\n",
              "      <td>N</td>\n",
              "      <td>Yes</td>\n",
              "      <td>8</td>\n",
              "    </tr>\n",
              "  </tbody>\n",
              "</table>\n",
              "</div>"
            ],
            "text/plain": [
              "0 customer_id                   name  gender  ... deceased_indicator owns_car tenure\n",
              "0           1      Laraine Medendorp       F  ...                  N      Yes     11\n",
              "1           2            Eli Bockman    Male  ...                  N      Yes     16\n",
              "2           3           Arlin Dearle    Male  ...                  N      Yes     15\n",
              "3           4                 Talbot    Male  ...                  N       No      7\n",
              "4           5  Sheila-kathryn Calton  Female  ...                  N      Yes      8\n",
              "\n",
              "[5 rows x 11 columns]"
            ]
          },
          "metadata": {
            "tags": []
          },
          "execution_count": 154
        }
      ]
    },
    {
      "cell_type": "markdown",
      "metadata": {
        "id": "D9ETSThKuZrs"
      },
      "source": [
        "--> Checking Data Frame Info (Type, Total Index Number per Column)"
      ]
    },
    {
      "cell_type": "code",
      "metadata": {
        "id": "ovj4No0xujzP",
        "outputId": "6545a259-bbe9-4791-a08b-8de37ab9f286",
        "colab": {
          "base_uri": "https://localhost:8080/",
          "height": 324
        }
      },
      "source": [
        "df1.info()"
      ],
      "execution_count": null,
      "outputs": [
        {
          "output_type": "stream",
          "text": [
            "<class 'pandas.core.frame.DataFrame'>\n",
            "RangeIndex: 4000 entries, 0 to 3999\n",
            "Data columns (total 11 columns):\n",
            " #   Column                               Non-Null Count  Dtype \n",
            "---  ------                               --------------  ----- \n",
            " 0   customer_id                          4000 non-null   object\n",
            " 1   name                                 4000 non-null   object\n",
            " 2   gender                               4000 non-null   object\n",
            " 3   past_3_years_bike_related_purchases  4000 non-null   object\n",
            " 4   DOB                                  3913 non-null   object\n",
            " 5   job_title                            3494 non-null   object\n",
            " 6   job_industry_category                3344 non-null   object\n",
            " 7   wealth_segment                       4000 non-null   object\n",
            " 8   deceased_indicator                   4000 non-null   object\n",
            " 9   owns_car                             4000 non-null   object\n",
            " 10  tenure                               3913 non-null   object\n",
            "dtypes: object(11)\n",
            "memory usage: 343.9+ KB\n"
          ],
          "name": "stdout"
        }
      ]
    },
    {
      "cell_type": "markdown",
      "metadata": {
        "id": "cVIuMiqhvVnx"
      },
      "source": [
        "**Note**: The DataFrame info above shows the possible several columns have missing value e.g: last_name, DOB, job_title,job_industry_category,default,tenure. We should checking and cleaning in order to make the prediction model a lot easier and reliable. "
      ]
    },
    {
      "cell_type": "markdown",
      "metadata": {
        "id": "qEyynT6wovrL"
      },
      "source": [
        "--> Checking Unique customer_id Number\n",
        "\n",
        "\n"
      ]
    },
    {
      "cell_type": "markdown",
      "metadata": {
        "id": "iZDocIJHwD3t"
      },
      "source": [
        "**Note** : \n",
        "\n",
        "It is a common thing to check the duplicate when dealing with customer_id data due to possible mistake in the input process like human error or technical error. "
      ]
    },
    {
      "cell_type": "code",
      "metadata": {
        "id": "mBpcvNdCxL9O",
        "outputId": "7b01a2fa-e64a-4c45-9d2b-0b9883b5d4e0",
        "colab": {
          "base_uri": "https://localhost:8080/",
          "height": 85
        }
      },
      "source": [
        "print('Number of Unique Values in customer ID : \\n',df1.customer_id.nunique())\n",
        "print('Number of Unique Values in First Name : \\n',df1.name.nunique())\n"
      ],
      "execution_count": null,
      "outputs": [
        {
          "output_type": "stream",
          "text": [
            "Number of Unique Values in customer ID : \n",
            " 4000\n",
            "Number of Unique Values in First Name : \n",
            " 3998\n"
          ],
          "name": "stdout"
        }
      ]
    },
    {
      "cell_type": "markdown",
      "metadata": {
        "id": "18-Z0E3izlG0"
      },
      "source": [
        "**Note** : \n",
        "The above code shows that there are 4000 unique number in customer_id which means there are no duplicate id number. \n",
        "\n",
        "It is okay if there are 2 identical Name since it is common for person who have identical name."
      ]
    },
    {
      "cell_type": "markdown",
      "metadata": {
        "id": "33CEEPQioIor"
      },
      "source": [
        "--> Checking Mising Values"
      ]
    },
    {
      "cell_type": "code",
      "metadata": {
        "id": "KeFF_YmnvFNe",
        "outputId": "ccb2e8ea-91e9-4607-aa3e-36cb904f0a55",
        "colab": {
          "base_uri": "https://localhost:8080/",
          "height": 273
        }
      },
      "source": [
        "print('\\nThe number missing value in each feature')\n",
        "df1.isnull().sum()"
      ],
      "execution_count": null,
      "outputs": [
        {
          "output_type": "stream",
          "text": [
            "\n",
            "The number missing value in each feature\n"
          ],
          "name": "stdout"
        },
        {
          "output_type": "execute_result",
          "data": {
            "text/plain": [
              "0\n",
              "customer_id                              0\n",
              "name                                     0\n",
              "gender                                   0\n",
              "past_3_years_bike_related_purchases      0\n",
              "DOB                                     87\n",
              "job_title                              506\n",
              "job_industry_category                  656\n",
              "wealth_segment                           0\n",
              "deceased_indicator                       0\n",
              "owns_car                                 0\n",
              "tenure                                  87\n",
              "dtype: int64"
            ]
          },
          "metadata": {
            "tags": []
          },
          "execution_count": 24
        }
      ]
    },
    {
      "cell_type": "markdown",
      "metadata": {
        "id": "cGz20aAja9K0"
      },
      "source": [
        "--> Dealing with missing Values"
      ]
    },
    {
      "cell_type": "code",
      "metadata": {
        "id": "BnViezc-hDfl",
        "outputId": "8ccf1e7f-2e54-4b36-87ba-5f4de1f54343",
        "colab": {
          "base_uri": "https://localhost:8080/",
          "height": 256
        }
      },
      "source": [
        "col_miss = ['DOB','job_title','job_industry_category']\n",
        "for col in col_miss:\n",
        "  if (col == 'job_title'):\n",
        "    df1[col].fillna(value='Other', inplace = True)\n",
        "  elif (col == 'job_industry_category'):\n",
        "    df1[col].fillna(value='Other', inplace = True)\n",
        "  else:\n",
        "    df1.dropna(subset=['DOB'],inplace = True)\n",
        "print('Current Number Missing Value in Each Feature')\n",
        "print(df1.isnull().sum())"
      ],
      "execution_count": null,
      "outputs": [
        {
          "output_type": "stream",
          "text": [
            "Current Number Missing Value in Each Feature\n",
            "0\n",
            "customer_id                            0\n",
            "name                                   0\n",
            "gender                                 0\n",
            "past_3_years_bike_related_purchases    0\n",
            "DOB                                    0\n",
            "job_title                              0\n",
            "job_industry_category                  0\n",
            "wealth_segment                         0\n",
            "deceased_indicator                     0\n",
            "owns_car                               0\n",
            "tenure                                 0\n",
            "dtype: int64\n"
          ],
          "name": "stdout"
        }
      ]
    },
    {
      "cell_type": "code",
      "metadata": {
        "id": "YVYJze_uqmvz",
        "outputId": "0a9105cf-d070-486a-96eb-fd73b7827a52",
        "colab": {
          "base_uri": "https://localhost:8080/",
          "height": 324
        }
      },
      "source": [
        "df1.info()"
      ],
      "execution_count": null,
      "outputs": [
        {
          "output_type": "stream",
          "text": [
            "<class 'pandas.core.frame.DataFrame'>\n",
            "Int64Index: 3913 entries, 0 to 3999\n",
            "Data columns (total 11 columns):\n",
            " #   Column                               Non-Null Count  Dtype \n",
            "---  ------                               --------------  ----- \n",
            " 0   customer_id                          3913 non-null   object\n",
            " 1   name                                 3913 non-null   object\n",
            " 2   gender                               3913 non-null   object\n",
            " 3   past_3_years_bike_related_purchases  3913 non-null   object\n",
            " 4   DOB                                  3913 non-null   object\n",
            " 5   job_title                            3913 non-null   object\n",
            " 6   job_industry_category                3913 non-null   object\n",
            " 7   wealth_segment                       3913 non-null   object\n",
            " 8   deceased_indicator                   3913 non-null   object\n",
            " 9   owns_car                             3913 non-null   object\n",
            " 10  tenure                               3913 non-null   object\n",
            "dtypes: object(11)\n",
            "memory usage: 366.8+ KB\n"
          ],
          "name": "stdout"
        }
      ]
    },
    {
      "cell_type": "code",
      "metadata": {
        "id": "eromUbvmtJZh",
        "outputId": "745c5807-7e38-4551-9231-4881cead3112",
        "colab": {
          "base_uri": "https://localhost:8080/",
          "height": 368
        }
      },
      "source": [
        "df1.head()"
      ],
      "execution_count": null,
      "outputs": [
        {
          "output_type": "execute_result",
          "data": {
            "text/html": [
              "<div>\n",
              "<style scoped>\n",
              "    .dataframe tbody tr th:only-of-type {\n",
              "        vertical-align: middle;\n",
              "    }\n",
              "\n",
              "    .dataframe tbody tr th {\n",
              "        vertical-align: top;\n",
              "    }\n",
              "\n",
              "    .dataframe thead th {\n",
              "        text-align: right;\n",
              "    }\n",
              "</style>\n",
              "<table border=\"1\" class=\"dataframe\">\n",
              "  <thead>\n",
              "    <tr style=\"text-align: right;\">\n",
              "      <th></th>\n",
              "      <th>customer_id</th>\n",
              "      <th>name</th>\n",
              "      <th>gender</th>\n",
              "      <th>past_3_years_bike_related_purchases</th>\n",
              "      <th>DOB</th>\n",
              "      <th>job_title</th>\n",
              "      <th>job_industry_category</th>\n",
              "      <th>wealth_segment</th>\n",
              "      <th>deceased_indicator</th>\n",
              "      <th>owns_car</th>\n",
              "      <th>tenure</th>\n",
              "    </tr>\n",
              "  </thead>\n",
              "  <tbody>\n",
              "    <tr>\n",
              "      <th>0</th>\n",
              "      <td>1</td>\n",
              "      <td>Laraine Medendorp</td>\n",
              "      <td>F</td>\n",
              "      <td>93</td>\n",
              "      <td>1953-10-12 00:00:00</td>\n",
              "      <td>Executive Secretary</td>\n",
              "      <td>Health</td>\n",
              "      <td>Mass Customer</td>\n",
              "      <td>N</td>\n",
              "      <td>Yes</td>\n",
              "      <td>11</td>\n",
              "    </tr>\n",
              "    <tr>\n",
              "      <th>1</th>\n",
              "      <td>2</td>\n",
              "      <td>Eli Bockman</td>\n",
              "      <td>Male</td>\n",
              "      <td>81</td>\n",
              "      <td>1980-12-16 00:00:00</td>\n",
              "      <td>Administrative Officer</td>\n",
              "      <td>Financial Services</td>\n",
              "      <td>Mass Customer</td>\n",
              "      <td>N</td>\n",
              "      <td>Yes</td>\n",
              "      <td>16</td>\n",
              "    </tr>\n",
              "    <tr>\n",
              "      <th>2</th>\n",
              "      <td>3</td>\n",
              "      <td>Arlin Dearle</td>\n",
              "      <td>Male</td>\n",
              "      <td>61</td>\n",
              "      <td>1954-01-20 00:00:00</td>\n",
              "      <td>Recruiting Manager</td>\n",
              "      <td>Property</td>\n",
              "      <td>Mass Customer</td>\n",
              "      <td>N</td>\n",
              "      <td>Yes</td>\n",
              "      <td>15</td>\n",
              "    </tr>\n",
              "    <tr>\n",
              "      <th>3</th>\n",
              "      <td>4</td>\n",
              "      <td>Talbot</td>\n",
              "      <td>Male</td>\n",
              "      <td>33</td>\n",
              "      <td>1961-10-03 00:00:00</td>\n",
              "      <td>Other</td>\n",
              "      <td>IT</td>\n",
              "      <td>Mass Customer</td>\n",
              "      <td>N</td>\n",
              "      <td>No</td>\n",
              "      <td>7</td>\n",
              "    </tr>\n",
              "    <tr>\n",
              "      <th>4</th>\n",
              "      <td>5</td>\n",
              "      <td>Sheila-kathryn Calton</td>\n",
              "      <td>Female</td>\n",
              "      <td>56</td>\n",
              "      <td>1977-05-13 00:00:00</td>\n",
              "      <td>Senior Editor</td>\n",
              "      <td>Other</td>\n",
              "      <td>Affluent Customer</td>\n",
              "      <td>N</td>\n",
              "      <td>Yes</td>\n",
              "      <td>8</td>\n",
              "    </tr>\n",
              "  </tbody>\n",
              "</table>\n",
              "</div>"
            ],
            "text/plain": [
              "0 customer_id                   name  gender  ... deceased_indicator owns_car tenure\n",
              "0           1      Laraine Medendorp       F  ...                  N      Yes     11\n",
              "1           2            Eli Bockman    Male  ...                  N      Yes     16\n",
              "2           3           Arlin Dearle    Male  ...                  N      Yes     15\n",
              "3           4                 Talbot    Male  ...                  N       No      7\n",
              "4           5  Sheila-kathryn Calton  Female  ...                  N      Yes      8\n",
              "\n",
              "[5 rows x 11 columns]"
            ]
          },
          "metadata": {
            "tags": []
          },
          "execution_count": 158
        }
      ]
    },
    {
      "cell_type": "markdown",
      "metadata": {
        "id": "z0Ez5Vmfl4tM"
      },
      "source": [
        "**Note** :\n",
        "\n",
        "The Dataset now is free from missing value and has a 3913 samples even we still have missing value in last_name feature but it doesnt contribute in customer segmentation using RMF and also in predictive modelling using machine learning method"
      ]
    },
    {
      "cell_type": "markdown",
      "metadata": {
        "id": "e0sf4fve0j39"
      },
      "source": [
        "--> Checking The Un-Standard Value of each column."
      ]
    },
    {
      "cell_type": "markdown",
      "metadata": {
        "id": "Gtc-pvau6rJ9"
      },
      "source": [
        "**Note**: \n",
        "\n",
        "It is a common thing in gender data to have various spelling in gender classification like Women,women,W,Male,male,M,ect. So we need to like equalize male gender type to 'Male' and female to 'Female' form. And also we wanna do this to all of the columns name."
      ]
    },
    {
      "cell_type": "code",
      "metadata": {
        "id": "a6NTnxUAvx-k",
        "outputId": "bd4095f1-458d-4a3f-e199-e59643b29836",
        "colab": {
          "base_uri": "https://localhost:8080/",
          "height": 1000
        }
      },
      "source": [
        "# Checking Unstandard Value\n",
        "for col_name in df1.columns:\n",
        "  print('\\nUnique Values Count \\033[1m'+'\\033[0mVariable',col_name)\n",
        "  print(df1[col_name].value_counts())"
      ],
      "execution_count": null,
      "outputs": [
        {
          "output_type": "stream",
          "text": [
            "\n",
            "Unique Values Count \u001b[1m\u001b[0mVariable customer_id\n",
            "4000    1\n",
            "1343    1\n",
            "1341    1\n",
            "1340    1\n",
            "1339    1\n",
            "       ..\n",
            "2661    1\n",
            "2660    1\n",
            "2659    1\n",
            "2658    1\n",
            "1       1\n",
            "Name: customer_id, Length: 3913, dtype: int64\n",
            "\n",
            "Unique Values Count \u001b[1m\u001b[0mVariable name\n",
            "Corabelle             2\n",
            "Stormie Smyth         1\n",
            "Kerr Simmell          1\n",
            "Frederico Spearman    1\n",
            "Brendan Vicent        1\n",
            "                     ..\n",
            "Johnathan Audiss      1\n",
            "Lena Chape            1\n",
            "Zorina Bosomworth     1\n",
            "Dulcine Gauson        1\n",
            "Antons Ley            1\n",
            "Name: name, Length: 3912, dtype: int64\n",
            "\n",
            "Unique Values Count \u001b[1m\u001b[0mVariable gender\n",
            "Female    2037\n",
            "Male      1872\n",
            "M            1\n",
            "U            1\n",
            "Femal        1\n",
            "F            1\n",
            "Name: gender, dtype: int64\n",
            "\n",
            "Unique Values Count \u001b[1m\u001b[0mVariable past_3_years_bike_related_purchases\n",
            "19    55\n",
            "16    55\n",
            "20    53\n",
            "67    52\n",
            "2     50\n",
            "      ..\n",
            "86    27\n",
            "85    27\n",
            "8     27\n",
            "95    26\n",
            "92    24\n",
            "Name: past_3_years_bike_related_purchases, Length: 100, dtype: int64\n",
            "\n",
            "Unique Values Count \u001b[1m\u001b[0mVariable DOB\n",
            "1978-01-30    7\n",
            "1962-12-17    4\n",
            "1964-07-08    4\n",
            "1978-08-19    4\n",
            "1977-05-13    4\n",
            "             ..\n",
            "1991-09-04    1\n",
            "1985-08-06    1\n",
            "1972-05-21    1\n",
            "1985-12-22    1\n",
            "1977-03-08    1\n",
            "Name: DOB, Length: 3448, dtype: int64\n",
            "\n",
            "Unique Values Count \u001b[1m\u001b[0mVariable job_title\n",
            "Other                                   497\n",
            "Tax Accountant                           43\n",
            "Business Systems Development Analyst     43\n",
            "Social Worker                            42\n",
            "Recruiting Manager                       41\n",
            "                                       ... \n",
            "Staff Accountant I                        4\n",
            "Health Coach III                          3\n",
            "Research Assistant III                    3\n",
            "Health Coach I                            3\n",
            "Developer I                               1\n",
            "Name: job_title, Length: 196, dtype: int64\n",
            "\n",
            "Unique Values Count \u001b[1m\u001b[0mVariable job_industry_category\n",
            "Manufacturing         796\n",
            "Financial Services    767\n",
            "Other                 656\n",
            "Health                596\n",
            "Retail                358\n",
            "Property              267\n",
            "IT                    152\n",
            "Entertainment         136\n",
            "Argiculture           113\n",
            "Telecommunications     72\n",
            "Name: job_industry_category, dtype: int64\n",
            "\n",
            "Unique Values Count \u001b[1m\u001b[0mVariable wealth_segment\n",
            "Mass Customer        1954\n",
            "High Net Worth        996\n",
            "Affluent Customer     963\n",
            "Name: wealth_segment, dtype: int64\n",
            "\n",
            "Unique Values Count \u001b[1m\u001b[0mVariable deceased_indicator\n",
            "N    3911\n",
            "Y       2\n",
            "Name: deceased_indicator, dtype: int64\n",
            "\n",
            "Unique Values Count \u001b[1m\u001b[0mVariable owns_car\n",
            "Yes    1974\n",
            "No     1939\n",
            "Name: owns_car, dtype: int64\n",
            "\n",
            "Unique Values Count \u001b[1m\u001b[0mVariable tenure\n",
            "7     235\n",
            "5     228\n",
            "11    221\n",
            "10    218\n",
            "16    215\n",
            "8     211\n",
            "18    208\n",
            "12    202\n",
            "14    200\n",
            "9     200\n",
            "6     192\n",
            "4     191\n",
            "13    191\n",
            "17    182\n",
            "15    179\n",
            "1     166\n",
            "3     160\n",
            "19    159\n",
            "2     150\n",
            "20     96\n",
            "22     55\n",
            "21     54\n",
            "Name: tenure, dtype: int64\n"
          ],
          "name": "stdout"
        }
      ]
    },
    {
      "cell_type": "markdown",
      "metadata": {
        "id": "iqK2zCUu4b2s"
      },
      "source": [
        "**Note**: \n",
        "\n",
        "1) there are 3 type of gender which are U (LGBT), Male, and Female. But there are also M and F in which we might consider it as Male and Female respectively. Also there is on class of gender data named Femal in which we might also consider it as Female. Unfortunately, we notice that there is one particular gender classification named U, it dosent contribute significan to data distribution since only 1 frequency. So The next following codes labeled as \"Code 1\" are to standarize the gender data "
      ]
    },
    {
      "cell_type": "code",
      "metadata": {
        "id": "hye1-FnitOga"
      },
      "source": [
        "## CODE 1\n",
        "list_unstandard = ['M','F','Femal','U','Y']\n",
        "for value in list_unstandard:\n",
        "  if value == 'M':\n",
        "    df1['gender'].replace(to_replace = ['M'], value = ['Male'], inplace = True)\n",
        "  elif value == 'F':\n",
        "    df1['gender'].replace(to_replace = ['F'], value = ['Female'], inplace = True)\n",
        "  elif value == 'Femal':\n",
        "    df1['gender'].replace(to_replace = ['Femal'], value = ['Female'], inplace = True)\n",
        "  else :\n",
        "    df1 = df1.drop(index = df1.loc[df1.gender == 'U'].index).reset_index(drop = True)\n",
        "  #else:\n",
        "    #df1 = df1.drop(index = df1.loc[df1.deceased_indicator == 'Y'].index).reset_index(drop = True)\n",
        "\n",
        "#print(df3.gender.value_counts())  \n",
        "#for i,v in enumerate(df3['gender'].value_counts()):\n",
        " # plt.text(v+10,i-0.01, str(v), color = 'black')"
      ],
      "execution_count": null,
      "outputs": []
    },
    {
      "cell_type": "code",
      "metadata": {
        "id": "Q8I1_GXmI6VP",
        "outputId": "fbcc1e00-a9d2-4b18-cf59-2bf9b350784d",
        "colab": {
          "base_uri": "https://localhost:8080/",
          "height": 1000
        }
      },
      "source": [
        "for col in df1.columns:\n",
        "  print('\\nUnique Value Counts in Variable \"{}\" :'.format(col))\n",
        "  print(df1[col].value_counts())"
      ],
      "execution_count": null,
      "outputs": [
        {
          "output_type": "stream",
          "text": [
            "\n",
            "Unique Value Counts in Variable \"customer_id\" :\n",
            "4000    1\n",
            "1344    1\n",
            "1342    1\n",
            "1341    1\n",
            "1340    1\n",
            "       ..\n",
            "2662    1\n",
            "2661    1\n",
            "2660    1\n",
            "2659    1\n",
            "1       1\n",
            "Name: customer_id, Length: 3912, dtype: int64\n",
            "\n",
            "Unique Value Counts in Variable \"name\" :\n",
            "Corabelle             2\n",
            "Stormie Smyth         1\n",
            "Kerr Simmell          1\n",
            "Frederico Spearman    1\n",
            "Brendan Vicent        1\n",
            "                     ..\n",
            "Lena Chape            1\n",
            "Zorina Bosomworth     1\n",
            "Dulcine Gauson        1\n",
            "Griffith Minor        1\n",
            "Antons Ley            1\n",
            "Name: name, Length: 3911, dtype: int64\n",
            "\n",
            "Unique Value Counts in Variable \"gender\" :\n",
            "Female    2039\n",
            "Male      1873\n",
            "Name: gender, dtype: int64\n",
            "\n",
            "Unique Value Counts in Variable \"past_3_years_bike_related_purchases\" :\n",
            "19    55\n",
            "16    55\n",
            "20    53\n",
            "67    52\n",
            "2     50\n",
            "      ..\n",
            "86    27\n",
            "85    27\n",
            "8     27\n",
            "95    26\n",
            "92    24\n",
            "Name: past_3_years_bike_related_purchases, Length: 100, dtype: int64\n",
            "\n",
            "Unique Value Counts in Variable \"DOB\" :\n",
            "1978-01-30    7\n",
            "1964-07-08    4\n",
            "1976-09-25    4\n",
            "1978-08-19    4\n",
            "1962-12-17    4\n",
            "             ..\n",
            "1991-09-04    1\n",
            "1985-08-06    1\n",
            "1972-05-21    1\n",
            "1985-12-22    1\n",
            "1977-03-08    1\n",
            "Name: DOB, Length: 3447, dtype: int64\n",
            "\n",
            "Unique Value Counts in Variable \"job_title\" :\n",
            "Other                                   497\n",
            "Tax Accountant                           43\n",
            "Business Systems Development Analyst     43\n",
            "Social Worker                            42\n",
            "Recruiting Manager                       41\n",
            "                                       ... \n",
            "Staff Accountant I                        4\n",
            "Health Coach III                          3\n",
            "Research Assistant III                    3\n",
            "Health Coach I                            3\n",
            "Developer I                               1\n",
            "Name: job_title, Length: 196, dtype: int64\n",
            "\n",
            "Unique Value Counts in Variable \"job_industry_category\" :\n",
            "Manufacturing         796\n",
            "Financial Services    767\n",
            "Other                 656\n",
            "Health                596\n",
            "Retail                358\n",
            "Property              267\n",
            "IT                    151\n",
            "Entertainment         136\n",
            "Argiculture           113\n",
            "Telecommunications     72\n",
            "Name: job_industry_category, dtype: int64\n",
            "\n",
            "Unique Value Counts in Variable \"wealth_segment\" :\n",
            "Mass Customer        1954\n",
            "High Net Worth        996\n",
            "Affluent Customer     962\n",
            "Name: wealth_segment, dtype: int64\n",
            "\n",
            "Unique Value Counts in Variable \"deceased_indicator\" :\n",
            "N    3910\n",
            "Y       2\n",
            "Name: deceased_indicator, dtype: int64\n",
            "\n",
            "Unique Value Counts in Variable \"owns_car\" :\n",
            "Yes    1974\n",
            "No     1938\n",
            "Name: owns_car, dtype: int64\n",
            "\n",
            "Unique Value Counts in Variable \"tenure\" :\n",
            "7     235\n",
            "5     228\n",
            "11    221\n",
            "10    218\n",
            "16    215\n",
            "8     211\n",
            "18    208\n",
            "12    202\n",
            "14    200\n",
            "9     200\n",
            "6     192\n",
            "4     191\n",
            "13    191\n",
            "17    182\n",
            "15    179\n",
            "1     166\n",
            "3     160\n",
            "19    159\n",
            "2     150\n",
            "20     95\n",
            "22     55\n",
            "21     54\n",
            "Name: tenure, dtype: int64\n"
          ],
          "name": "stdout"
        }
      ]
    },
    {
      "cell_type": "markdown",
      "metadata": {
        "id": "sBCWYf68dhKb"
      },
      "source": [
        "--> Checking Accuracy of Datasets: \n",
        "Detecting possible outliers in feature; tenure "
      ]
    },
    {
      "cell_type": "code",
      "metadata": {
        "id": "KW-RXq1bWW2q",
        "outputId": "3257705d-de85-4c3b-c4e4-18731906a8ba",
        "colab": {
          "base_uri": "https://localhost:8080/",
          "height": 1000
        }
      },
      "source": [
        "import seaborn as sns\n",
        "col_outlier = ['past_3_years_bike_related_purchases','tenure']\n",
        "for col in df1[col_outlier]:\n",
        "  plt.figure(figsize=(10,8))\n",
        "  sns.boxplot(df1[col])"
      ],
      "execution_count": null,
      "outputs": [
        {
          "output_type": "stream",
          "text": [
            "/usr/local/lib/python3.6/dist-packages/seaborn/_decorators.py:43: FutureWarning: Pass the following variable as a keyword arg: x. From version 0.12, the only valid positional argument will be `data`, and passing other arguments without an explicit keyword will result in an error or misinterpretation.\n",
            "  FutureWarning\n",
            "/usr/local/lib/python3.6/dist-packages/seaborn/_decorators.py:43: FutureWarning: Pass the following variable as a keyword arg: x. From version 0.12, the only valid positional argument will be `data`, and passing other arguments without an explicit keyword will result in an error or misinterpretation.\n",
            "  FutureWarning\n"
          ],
          "name": "stderr"
        },
        {
          "output_type": "display_data",
          "data": {
            "image/png": "[encoded data removed]",
            "text/plain": [
              "<Figure size 720x576 with 1 Axes>"
            ]
          },
          "metadata": {
            "tags": [],
            "needs_background": "light"
          }
        },
        {
          "output_type": "display_data",
          "data": {
            "image/png": "[encoded data removed]",
            "text/plain": [
              "<Figure size 720x576 with 1 Axes>"
            ]
          },
          "metadata": {
            "tags": [],
            "needs_background": "light"
          }
        }
      ]
    },
    {
      "cell_type": "markdown",
      "metadata": {
        "id": "sKt1I9Hx9rqv"
      },
      "source": [
        "Data Preprocessing CustomerDemographic DataFrame (df1) : Feature Enginerring\n"
      ]
    },
    {
      "cell_type": "markdown",
      "metadata": {
        "id": "1X829xFnMNzF"
      },
      "source": [
        "--> Adding Demographic Info : Age"
      ]
    },
    {
      "cell_type": "code",
      "metadata": {
        "id": "GJ6XPsE5Mb3H"
      },
      "source": [
        "now = pd.Timestamp('now')\n",
        "df1['age'] = (now - df1['DOB']).astype('<m8[Y]') # 3"
      ],
      "execution_count": null,
      "outputs": []
    },
    {
      "cell_type": "code",
      "metadata": {
        "id": "s38NO0D2NvMe",
        "outputId": "e16f45dc-4dbe-4db1-acf2-63fbf63ff73a",
        "colab": {
          "base_uri": "https://localhost:8080/",
          "height": 341
        }
      },
      "source": [
        "df1.info()"
      ],
      "execution_count": null,
      "outputs": [
        {
          "output_type": "stream",
          "text": [
            "<class 'pandas.core.frame.DataFrame'>\n",
            "RangeIndex: 3912 entries, 0 to 3911\n",
            "Data columns (total 12 columns):\n",
            " #   Column                               Non-Null Count  Dtype  \n",
            "---  ------                               --------------  -----  \n",
            " 0   customer_id                          3912 non-null   object \n",
            " 1   name                                 3912 non-null   object \n",
            " 2   gender                               3912 non-null   object \n",
            " 3   past_3_years_bike_related_purchases  3912 non-null   object \n",
            " 4   DOB                                  3912 non-null   object \n",
            " 5   job_title                            3912 non-null   object \n",
            " 6   job_industry_category                3912 non-null   object \n",
            " 7   wealth_segment                       3912 non-null   object \n",
            " 8   deceased_indicator                   3912 non-null   object \n",
            " 9   owns_car                             3912 non-null   object \n",
            " 10  tenure                               3912 non-null   object \n",
            " 11  age                                  3912 non-null   float64\n",
            "dtypes: float64(1), object(11)\n",
            "memory usage: 366.9+ KB\n"
          ],
          "name": "stdout"
        }
      ]
    },
    {
      "cell_type": "code",
      "metadata": {
        "id": "qtzCGiwqqoZZ",
        "outputId": "4b45b63d-4160-438a-c43d-cfe06fcb7a37",
        "colab": {
          "base_uri": "https://localhost:8080/",
          "height": 568
        }
      },
      "source": [
        "import seaborn as sns\n",
        "plt.figure(figsize=(10,8))\n",
        "sns.boxplot(df1['age'])"
      ],
      "execution_count": null,
      "outputs": [
        {
          "output_type": "stream",
          "text": [
            "/usr/local/lib/python3.6/dist-packages/seaborn/_decorators.py:43: FutureWarning: Pass the following variable as a keyword arg: x. From version 0.12, the only valid positional argument will be `data`, and passing other arguments without an explicit keyword will result in an error or misinterpretation.\n",
            "  FutureWarning\n"
          ],
          "name": "stderr"
        },
        {
          "output_type": "execute_result",
          "data": {
            "text/plain": [
              "<matplotlib.axes._subplots.AxesSubplot at 0x7fe18c1a31d0>"
            ]
          },
          "metadata": {
            "tags": []
          },
          "execution_count": 165
        },
        {
          "output_type": "display_data",
          "data": {
            "image/png": "[encoded data removed]",
            "text/plain": [
              "<Figure size 720x576 with 1 Axes>"
            ]
          },
          "metadata": {
            "tags": [],
            "needs_background": "light"
          }
        }
      ]
    },
    {
      "cell_type": "markdown",
      "metadata": {
        "id": "Cq_uJEM6iheT"
      },
      "source": [
        "**Data Preprocessing Customer Address DataFrame (df2)**\n",
        "\n",
        "---\n",
        "\n"
      ]
    },
    {
      "cell_type": "markdown",
      "metadata": {
        "id": "EIJnHDSS--L9"
      },
      "source": [
        "Data Preprocessing Customer Address DataFrame (df2) : Data Transformation\n",
        "\n",
        "\n"
      ]
    },
    {
      "cell_type": "code",
      "metadata": {
        "id": "CeOYfT2Pk1JV",
        "outputId": "d5ce4054-626b-4e56-92c3-8517cbf9b1b6",
        "colab": {
          "base_uri": "https://localhost:8080/",
          "height": 197
        }
      },
      "source": [
        "df2.head()"
      ],
      "execution_count": null,
      "outputs": [
        {
          "output_type": "execute_result",
          "data": {
            "text/html": [
              "<div>\n",
              "<style scoped>\n",
              "    .dataframe tbody tr th:only-of-type {\n",
              "        vertical-align: middle;\n",
              "    }\n",
              "\n",
              "    .dataframe tbody tr th {\n",
              "        vertical-align: top;\n",
              "    }\n",
              "\n",
              "    .dataframe thead th {\n",
              "        text-align: right;\n",
              "    }\n",
              "</style>\n",
              "<table border=\"1\" class=\"dataframe\">\n",
              "  <thead>\n",
              "    <tr style=\"text-align: right;\">\n",
              "      <th></th>\n",
              "      <th>customer_id</th>\n",
              "      <th>address</th>\n",
              "      <th>postcode</th>\n",
              "      <th>state</th>\n",
              "      <th>country</th>\n",
              "      <th>property_valuation</th>\n",
              "    </tr>\n",
              "  </thead>\n",
              "  <tbody>\n",
              "    <tr>\n",
              "      <th>0</th>\n",
              "      <td>1</td>\n",
              "      <td>060 Morning Avenue</td>\n",
              "      <td>2016</td>\n",
              "      <td>New South Wales</td>\n",
              "      <td>Australia</td>\n",
              "      <td>10</td>\n",
              "    </tr>\n",
              "    <tr>\n",
              "      <th>1</th>\n",
              "      <td>2</td>\n",
              "      <td>6 Meadow Vale Court</td>\n",
              "      <td>2153</td>\n",
              "      <td>New South Wales</td>\n",
              "      <td>Australia</td>\n",
              "      <td>10</td>\n",
              "    </tr>\n",
              "    <tr>\n",
              "      <th>2</th>\n",
              "      <td>4</td>\n",
              "      <td>0 Holy Cross Court</td>\n",
              "      <td>4211</td>\n",
              "      <td>QLD</td>\n",
              "      <td>Australia</td>\n",
              "      <td>9</td>\n",
              "    </tr>\n",
              "    <tr>\n",
              "      <th>3</th>\n",
              "      <td>5</td>\n",
              "      <td>17979 Del Mar Point</td>\n",
              "      <td>2448</td>\n",
              "      <td>New South Wales</td>\n",
              "      <td>Australia</td>\n",
              "      <td>4</td>\n",
              "    </tr>\n",
              "    <tr>\n",
              "      <th>4</th>\n",
              "      <td>6</td>\n",
              "      <td>9 Oakridge Court</td>\n",
              "      <td>3216</td>\n",
              "      <td>VIC</td>\n",
              "      <td>Australia</td>\n",
              "      <td>9</td>\n",
              "    </tr>\n",
              "  </tbody>\n",
              "</table>\n",
              "</div>"
            ],
            "text/plain": [
              "0 customer_id              address  ...    country property_valuation\n",
              "0           1   060 Morning Avenue  ...  Australia                 10\n",
              "1           2  6 Meadow Vale Court  ...  Australia                 10\n",
              "2           4   0 Holy Cross Court  ...  Australia                  9\n",
              "3           5  17979 Del Mar Point  ...  Australia                  4\n",
              "4           6     9 Oakridge Court  ...  Australia                  9\n",
              "\n",
              "[5 rows x 6 columns]"
            ]
          },
          "metadata": {
            "tags": []
          },
          "execution_count": 166
        }
      ]
    },
    {
      "cell_type": "code",
      "metadata": {
        "id": "peUN0QryQshs",
        "outputId": "140f38b3-d960-4904-c340-186343701162",
        "colab": {
          "base_uri": "https://localhost:8080/",
          "height": 238
        }
      },
      "source": [
        "df2.info()"
      ],
      "execution_count": null,
      "outputs": [
        {
          "output_type": "stream",
          "text": [
            "<class 'pandas.core.frame.DataFrame'>\n",
            "RangeIndex: 3999 entries, 0 to 3998\n",
            "Data columns (total 6 columns):\n",
            " #   Column              Non-Null Count  Dtype \n",
            "---  ------              --------------  ----- \n",
            " 0   customer_id         3999 non-null   object\n",
            " 1   address             3999 non-null   object\n",
            " 2   postcode            3999 non-null   object\n",
            " 3   state               3999 non-null   object\n",
            " 4   country             3999 non-null   object\n",
            " 5   property_valuation  3999 non-null   object\n",
            "dtypes: object(6)\n",
            "memory usage: 187.6+ KB\n"
          ],
          "name": "stdout"
        }
      ]
    },
    {
      "cell_type": "code",
      "metadata": {
        "id": "q7sCDVD8xIMS",
        "outputId": "ec5f0655-68fe-47fc-fbc1-a3253497e2e3",
        "colab": {
          "base_uri": "https://localhost:8080/",
          "height": 153
        }
      },
      "source": [
        "df2.isnull().sum()"
      ],
      "execution_count": null,
      "outputs": [
        {
          "output_type": "execute_result",
          "data": {
            "text/plain": [
              "0\n",
              "customer_id           0\n",
              "address               0\n",
              "postcode              0\n",
              "state                 0\n",
              "country               0\n",
              "property_valuation    0\n",
              "dtype: int64"
            ]
          },
          "metadata": {
            "tags": []
          },
          "execution_count": 168
        }
      ]
    },
    {
      "cell_type": "code",
      "metadata": {
        "id": "g4cSkkDBQXqy",
        "outputId": "3937b726-d5d7-40c3-9443-a0449fc0db7c",
        "colab": {
          "base_uri": "https://localhost:8080/",
          "height": 34
        }
      },
      "source": [
        "df2.customer_id.nunique()"
      ],
      "execution_count": null,
      "outputs": [
        {
          "output_type": "execute_result",
          "data": {
            "text/plain": [
              "3999"
            ]
          },
          "metadata": {
            "tags": []
          },
          "execution_count": 169
        }
      ]
    },
    {
      "cell_type": "code",
      "metadata": {
        "id": "ghuFldikvFhc",
        "outputId": "dd009a82-6a45-4c65-e2b6-c02b7ef5ef1a",
        "colab": {
          "base_uri": "https://localhost:8080/",
          "height": 1000
        }
      },
      "source": [
        "for col in df2.columns:\n",
        "  print('\\nUnique Value in feature \"{}\" :'.format(col))\n",
        "  print(df2[col].value_counts())"
      ],
      "execution_count": null,
      "outputs": [
        {
          "output_type": "stream",
          "text": [
            "\n",
            "Unique Value in feature \"customer_id\" :\n",
            "4003    1\n",
            "1332    1\n",
            "1345    1\n",
            "1344    1\n",
            "1343    1\n",
            "       ..\n",
            "2665    1\n",
            "2664    1\n",
            "2663    1\n",
            "2662    1\n",
            "1       1\n",
            "Name: customer_id, Length: 3999, dtype: int64\n",
            "\n",
            "Unique Value in feature \"address\" :\n",
            "3 Talisman Place           2\n",
            "3 Mariners Cove Terrace    2\n",
            "64 Macpherson Junction     2\n",
            "95 Old Gate Junction       1\n",
            "010 Namekagon Parkway      1\n",
            "                          ..\n",
            "8 Randy Parkway            1\n",
            "5 Stoughton Parkway        1\n",
            "2294 Pleasure Place        1\n",
            "94850 Moland Street        1\n",
            "53 Dunning Lane            1\n",
            "Name: address, Length: 3996, dtype: int64\n",
            "\n",
            "Unique Value in feature \"postcode\" :\n",
            "2170    31\n",
            "2145    30\n",
            "2155    30\n",
            "2153    29\n",
            "2560    26\n",
            "        ..\n",
            "2469     1\n",
            "4155     1\n",
            "2474     1\n",
            "3093     1\n",
            "3094     1\n",
            "Name: postcode, Length: 873, dtype: int64\n",
            "\n",
            "Unique Value in feature \"state\" :\n",
            "NSW                2054\n",
            "VIC                 939\n",
            "QLD                 838\n",
            "New South Wales      86\n",
            "Victoria             82\n",
            "Name: state, dtype: int64\n",
            "\n",
            "Unique Value in feature \"country\" :\n",
            "Australia    3999\n",
            "Name: country, dtype: int64\n",
            "\n",
            "Unique Value in feature \"property_valuation\" :\n",
            "9     647\n",
            "8     646\n",
            "10    577\n",
            "7     493\n",
            "11    281\n",
            "6     238\n",
            "5     225\n",
            "4     214\n",
            "12    195\n",
            "3     186\n",
            "1     154\n",
            "2     143\n",
            "Name: property_valuation, dtype: int64\n"
          ],
          "name": "stdout"
        }
      ]
    },
    {
      "cell_type": "markdown",
      "metadata": {
        "id": "-uOcr5iWvYyi"
      },
      "source": [
        "**Note:** \n",
        "\n",
        "We notice the unstandard value in State. To addres this problem, we sould use .replace in order to standardize the value"
      ]
    },
    {
      "cell_type": "code",
      "metadata": {
        "id": "0KlmEyOLvnjh",
        "outputId": "f7904085-7559-40d3-e0c8-b8bb225ee672",
        "colab": {
          "base_uri": "https://localhost:8080/",
          "height": 85
        }
      },
      "source": [
        "df2 = df2.replace(to_replace=['New South Wales','Victoria'], value = ['NSW','VIC'])\n",
        "print(df2.state.value_counts())"
      ],
      "execution_count": null,
      "outputs": [
        {
          "output_type": "stream",
          "text": [
            "NSW    2140\n",
            "VIC    1021\n",
            "QLD     838\n",
            "Name: state, dtype: int64\n"
          ],
          "name": "stdout"
        }
      ]
    },
    {
      "cell_type": "code",
      "metadata": {
        "id": "ujygRrCNxbKa",
        "outputId": "2e3e19f2-80a6-44a6-b356-02ab2b75e0ca",
        "colab": {
          "base_uri": "https://localhost:8080/",
          "height": 409
        }
      },
      "source": [
        "print('Customer Address Info')\n",
        "print(df2.info())\n",
        "print(df2.isnull().any())"
      ],
      "execution_count": null,
      "outputs": [
        {
          "output_type": "stream",
          "text": [
            "Customer Address Info\n",
            "<class 'pandas.core.frame.DataFrame'>\n",
            "RangeIndex: 3999 entries, 0 to 3998\n",
            "Data columns (total 6 columns):\n",
            " #   Column              Non-Null Count  Dtype \n",
            "---  ------              --------------  ----- \n",
            " 0   customer_id         3999 non-null   int64 \n",
            " 1   address             3999 non-null   object\n",
            " 2   postcode            3999 non-null   int64 \n",
            " 3   state               3999 non-null   object\n",
            " 4   country             3999 non-null   object\n",
            " 5   property_valuation  3999 non-null   int64 \n",
            "dtypes: int64(3), object(3)\n",
            "memory usage: 187.6+ KB\n",
            "None\n",
            "0\n",
            "customer_id           False\n",
            "address               False\n",
            "postcode              False\n",
            "state                 False\n",
            "country               False\n",
            "property_valuation    False\n",
            "dtype: bool\n"
          ],
          "name": "stdout"
        }
      ]
    },
    {
      "cell_type": "markdown",
      "metadata": {
        "id": "D0dxTNCwxc3p"
      },
      "source": [
        "**Note**:\n",
        "Now the Customer Adrees dataset is celan and we are going to combine the customer demographic and customer address"
      ]
    },
    {
      "cell_type": "code",
      "metadata": {
        "id": "apnrRCESyfJv",
        "outputId": "d02eabee-292f-4f6a-c8a5-7f37933aa740",
        "colab": {
          "base_uri": "https://localhost:8080/",
          "height": 800
        }
      },
      "source": [
        "df = pd.merge(df1, df2, on='customer_id')\n",
        "df"
      ],
      "execution_count": null,
      "outputs": [
        {
          "output_type": "execute_result",
          "data": {
            "text/html": [
              "<div>\n",
              "<style scoped>\n",
              "    .dataframe tbody tr th:only-of-type {\n",
              "        vertical-align: middle;\n",
              "    }\n",
              "\n",
              "    .dataframe tbody tr th {\n",
              "        vertical-align: top;\n",
              "    }\n",
              "\n",
              "    .dataframe thead th {\n",
              "        text-align: right;\n",
              "    }\n",
              "</style>\n",
              "<table border=\"1\" class=\"dataframe\">\n",
              "  <thead>\n",
              "    <tr style=\"text-align: right;\">\n",
              "      <th></th>\n",
              "      <th>customer_id</th>\n",
              "      <th>name</th>\n",
              "      <th>gender</th>\n",
              "      <th>past_3_years_bike_related_purchases</th>\n",
              "      <th>DOB</th>\n",
              "      <th>job_title</th>\n",
              "      <th>job_industry_category</th>\n",
              "      <th>wealth_segment</th>\n",
              "      <th>deceased_indicator</th>\n",
              "      <th>owns_car</th>\n",
              "      <th>tenure</th>\n",
              "      <th>age</th>\n",
              "      <th>address</th>\n",
              "      <th>postcode</th>\n",
              "      <th>state</th>\n",
              "      <th>country</th>\n",
              "      <th>property_valuation</th>\n",
              "    </tr>\n",
              "  </thead>\n",
              "  <tbody>\n",
              "    <tr>\n",
              "      <th>0</th>\n",
              "      <td>1</td>\n",
              "      <td>Laraine Medendorp</td>\n",
              "      <td>Female</td>\n",
              "      <td>93</td>\n",
              "      <td>1953-10-12 00:00:00</td>\n",
              "      <td>Executive Secretary</td>\n",
              "      <td>Health</td>\n",
              "      <td>Mass Customer</td>\n",
              "      <td>N</td>\n",
              "      <td>Yes</td>\n",
              "      <td>11</td>\n",
              "      <td>67.0</td>\n",
              "      <td>060 Morning Avenue</td>\n",
              "      <td>2016</td>\n",
              "      <td>NSW</td>\n",
              "      <td>Australia</td>\n",
              "      <td>10</td>\n",
              "    </tr>\n",
              "    <tr>\n",
              "      <th>1</th>\n",
              "      <td>2</td>\n",
              "      <td>Eli Bockman</td>\n",
              "      <td>Male</td>\n",
              "      <td>81</td>\n",
              "      <td>1980-12-16 00:00:00</td>\n",
              "      <td>Administrative Officer</td>\n",
              "      <td>Financial Services</td>\n",
              "      <td>Mass Customer</td>\n",
              "      <td>N</td>\n",
              "      <td>Yes</td>\n",
              "      <td>16</td>\n",
              "      <td>39.0</td>\n",
              "      <td>6 Meadow Vale Court</td>\n",
              "      <td>2153</td>\n",
              "      <td>NSW</td>\n",
              "      <td>Australia</td>\n",
              "      <td>10</td>\n",
              "    </tr>\n",
              "    <tr>\n",
              "      <th>2</th>\n",
              "      <td>4</td>\n",
              "      <td>Talbot</td>\n",
              "      <td>Male</td>\n",
              "      <td>33</td>\n",
              "      <td>1961-10-03 00:00:00</td>\n",
              "      <td>Other</td>\n",
              "      <td>IT</td>\n",
              "      <td>Mass Customer</td>\n",
              "      <td>N</td>\n",
              "      <td>No</td>\n",
              "      <td>7</td>\n",
              "      <td>59.0</td>\n",
              "      <td>0 Holy Cross Court</td>\n",
              "      <td>4211</td>\n",
              "      <td>QLD</td>\n",
              "      <td>Australia</td>\n",
              "      <td>9</td>\n",
              "    </tr>\n",
              "    <tr>\n",
              "      <th>3</th>\n",
              "      <td>5</td>\n",
              "      <td>Sheila-kathryn Calton</td>\n",
              "      <td>Female</td>\n",
              "      <td>56</td>\n",
              "      <td>1977-05-13 00:00:00</td>\n",
              "      <td>Senior Editor</td>\n",
              "      <td>Other</td>\n",
              "      <td>Affluent Customer</td>\n",
              "      <td>N</td>\n",
              "      <td>Yes</td>\n",
              "      <td>8</td>\n",
              "      <td>43.0</td>\n",
              "      <td>17979 Del Mar Point</td>\n",
              "      <td>2448</td>\n",
              "      <td>NSW</td>\n",
              "      <td>Australia</td>\n",
              "      <td>4</td>\n",
              "    </tr>\n",
              "    <tr>\n",
              "      <th>4</th>\n",
              "      <td>6</td>\n",
              "      <td>Curr Duckhouse</td>\n",
              "      <td>Male</td>\n",
              "      <td>35</td>\n",
              "      <td>1966-09-16 00:00:00</td>\n",
              "      <td>Other</td>\n",
              "      <td>Retail</td>\n",
              "      <td>High Net Worth</td>\n",
              "      <td>N</td>\n",
              "      <td>Yes</td>\n",
              "      <td>13</td>\n",
              "      <td>54.0</td>\n",
              "      <td>9 Oakridge Court</td>\n",
              "      <td>3216</td>\n",
              "      <td>VIC</td>\n",
              "      <td>Australia</td>\n",
              "      <td>9</td>\n",
              "    </tr>\n",
              "    <tr>\n",
              "      <th>...</th>\n",
              "      <td>...</td>\n",
              "      <td>...</td>\n",
              "      <td>...</td>\n",
              "      <td>...</td>\n",
              "      <td>...</td>\n",
              "      <td>...</td>\n",
              "      <td>...</td>\n",
              "      <td>...</td>\n",
              "      <td>...</td>\n",
              "      <td>...</td>\n",
              "      <td>...</td>\n",
              "      <td>...</td>\n",
              "      <td>...</td>\n",
              "      <td>...</td>\n",
              "      <td>...</td>\n",
              "      <td>...</td>\n",
              "      <td>...</td>\n",
              "    </tr>\n",
              "    <tr>\n",
              "      <th>3903</th>\n",
              "      <td>3995</td>\n",
              "      <td>Rusty Iapico</td>\n",
              "      <td>Male</td>\n",
              "      <td>93</td>\n",
              "      <td>1975-12-12 00:00:00</td>\n",
              "      <td>Staff Scientist</td>\n",
              "      <td>Manufacturing</td>\n",
              "      <td>Mass Customer</td>\n",
              "      <td>N</td>\n",
              "      <td>Yes</td>\n",
              "      <td>14</td>\n",
              "      <td>44.0</td>\n",
              "      <td>613 Erie Lane</td>\n",
              "      <td>2088</td>\n",
              "      <td>NSW</td>\n",
              "      <td>Australia</td>\n",
              "      <td>12</td>\n",
              "    </tr>\n",
              "    <tr>\n",
              "      <th>3904</th>\n",
              "      <td>3996</td>\n",
              "      <td>Rosalia Halgarth</td>\n",
              "      <td>Female</td>\n",
              "      <td>8</td>\n",
              "      <td>1975-08-09 00:00:00</td>\n",
              "      <td>VP Product Management</td>\n",
              "      <td>Health</td>\n",
              "      <td>Mass Customer</td>\n",
              "      <td>N</td>\n",
              "      <td>No</td>\n",
              "      <td>19</td>\n",
              "      <td>45.0</td>\n",
              "      <td>0 Transport Center</td>\n",
              "      <td>3977</td>\n",
              "      <td>VIC</td>\n",
              "      <td>Australia</td>\n",
              "      <td>6</td>\n",
              "    </tr>\n",
              "    <tr>\n",
              "      <th>3905</th>\n",
              "      <td>3997</td>\n",
              "      <td>Blanch Nisuis</td>\n",
              "      <td>Female</td>\n",
              "      <td>87</td>\n",
              "      <td>2001-07-13 00:00:00</td>\n",
              "      <td>Statistician II</td>\n",
              "      <td>Manufacturing</td>\n",
              "      <td>High Net Worth</td>\n",
              "      <td>N</td>\n",
              "      <td>Yes</td>\n",
              "      <td>1</td>\n",
              "      <td>19.0</td>\n",
              "      <td>4 Dovetail Crossing</td>\n",
              "      <td>2350</td>\n",
              "      <td>NSW</td>\n",
              "      <td>Australia</td>\n",
              "      <td>2</td>\n",
              "    </tr>\n",
              "    <tr>\n",
              "      <th>3906</th>\n",
              "      <td>3999</td>\n",
              "      <td>Patrizius</td>\n",
              "      <td>Male</td>\n",
              "      <td>11</td>\n",
              "      <td>1973-10-24 00:00:00</td>\n",
              "      <td>Other</td>\n",
              "      <td>Manufacturing</td>\n",
              "      <td>Affluent Customer</td>\n",
              "      <td>N</td>\n",
              "      <td>Yes</td>\n",
              "      <td>10</td>\n",
              "      <td>46.0</td>\n",
              "      <td>1482 Hauk Trail</td>\n",
              "      <td>3064</td>\n",
              "      <td>VIC</td>\n",
              "      <td>Australia</td>\n",
              "      <td>3</td>\n",
              "    </tr>\n",
              "    <tr>\n",
              "      <th>3907</th>\n",
              "      <td>4000</td>\n",
              "      <td>Kippy Oldland</td>\n",
              "      <td>Male</td>\n",
              "      <td>76</td>\n",
              "      <td>1991-11-05 00:00:00</td>\n",
              "      <td>Software Engineer IV</td>\n",
              "      <td>Other</td>\n",
              "      <td>Affluent Customer</td>\n",
              "      <td>N</td>\n",
              "      <td>No</td>\n",
              "      <td>11</td>\n",
              "      <td>28.0</td>\n",
              "      <td>57042 Village Green Point</td>\n",
              "      <td>4511</td>\n",
              "      <td>QLD</td>\n",
              "      <td>Australia</td>\n",
              "      <td>6</td>\n",
              "    </tr>\n",
              "  </tbody>\n",
              "</table>\n",
              "<p>3908 rows × 17 columns</p>\n",
              "</div>"
            ],
            "text/plain": [
              "0    customer_id                   name  ...    country property_valuation\n",
              "0              1      Laraine Medendorp  ...  Australia                 10\n",
              "1              2            Eli Bockman  ...  Australia                 10\n",
              "2              4                 Talbot  ...  Australia                  9\n",
              "3              5  Sheila-kathryn Calton  ...  Australia                  4\n",
              "4              6         Curr Duckhouse  ...  Australia                  9\n",
              "...          ...                    ...  ...        ...                ...\n",
              "3903        3995           Rusty Iapico  ...  Australia                 12\n",
              "3904        3996       Rosalia Halgarth  ...  Australia                  6\n",
              "3905        3997          Blanch Nisuis  ...  Australia                  2\n",
              "3906        3999              Patrizius  ...  Australia                  3\n",
              "3907        4000          Kippy Oldland  ...  Australia                  6\n",
              "\n",
              "[3908 rows x 17 columns]"
            ]
          },
          "metadata": {
            "tags": []
          },
          "execution_count": 174
        }
      ]
    },
    {
      "cell_type": "code",
      "metadata": {
        "id": "lEn1SS-S35dp",
        "outputId": "edb140da-743c-4a15-d3b1-f2b6a61db11a",
        "colab": {
          "base_uri": "https://localhost:8080/",
          "height": 102
        }
      },
      "source": [
        "# Re-arrange the columns\n",
        "df.columns"
      ],
      "execution_count": null,
      "outputs": [
        {
          "output_type": "execute_result",
          "data": {
            "text/plain": [
              "Index(['customer_id', 'name', 'gender', 'past_3_years_bike_related_purchases',\n",
              "       'DOB', 'job_title', 'job_industry_category', 'wealth_segment',\n",
              "       'deceased_indicator', 'owns_car', 'tenure', 'age', 'address',\n",
              "       'postcode', 'state', 'country', 'property_valuation'],\n",
              "      dtype='object', name=0)"
            ]
          },
          "metadata": {
            "tags": []
          },
          "execution_count": 43
        }
      ]
    },
    {
      "cell_type": "code",
      "metadata": {
        "id": "nC6ATUIw4lrU",
        "outputId": "5e911f8b-7eb3-41ae-a469-1f81515485be",
        "colab": {
          "base_uri": "https://localhost:8080/",
          "height": 405
        }
      },
      "source": [
        "df = df.reindex(columns=['customer_id', 'name', 'gender','DOB','age','address','postcode', 'state', 'country','deceased_indicator','job_title', \n",
        "                    'job_industry_category','tenure','past_3_years_bike_related_purchases','owns_car','property_valuation','wealth_segment'])\n",
        "df.head()"
      ],
      "execution_count": null,
      "outputs": [
        {
          "output_type": "execute_result",
          "data": {
            "text/html": [
              "<div>\n",
              "<style scoped>\n",
              "    .dataframe tbody tr th:only-of-type {\n",
              "        vertical-align: middle;\n",
              "    }\n",
              "\n",
              "    .dataframe tbody tr th {\n",
              "        vertical-align: top;\n",
              "    }\n",
              "\n",
              "    .dataframe thead th {\n",
              "        text-align: right;\n",
              "    }\n",
              "</style>\n",
              "<table border=\"1\" class=\"dataframe\">\n",
              "  <thead>\n",
              "    <tr style=\"text-align: right;\">\n",
              "      <th></th>\n",
              "      <th>customer_id</th>\n",
              "      <th>name</th>\n",
              "      <th>gender</th>\n",
              "      <th>DOB</th>\n",
              "      <th>age</th>\n",
              "      <th>address</th>\n",
              "      <th>postcode</th>\n",
              "      <th>state</th>\n",
              "      <th>country</th>\n",
              "      <th>deceased_indicator</th>\n",
              "      <th>job_title</th>\n",
              "      <th>job_industry_category</th>\n",
              "      <th>tenure</th>\n",
              "      <th>past_3_years_bike_related_purchases</th>\n",
              "      <th>owns_car</th>\n",
              "      <th>property_valuation</th>\n",
              "      <th>wealth_segment</th>\n",
              "    </tr>\n",
              "  </thead>\n",
              "  <tbody>\n",
              "    <tr>\n",
              "      <th>0</th>\n",
              "      <td>1</td>\n",
              "      <td>Laraine Medendorp</td>\n",
              "      <td>Female</td>\n",
              "      <td>1953-10-12 00:00:00</td>\n",
              "      <td>67.0</td>\n",
              "      <td>060 Morning Avenue</td>\n",
              "      <td>2016</td>\n",
              "      <td>NSW</td>\n",
              "      <td>Australia</td>\n",
              "      <td>N</td>\n",
              "      <td>Executive Secretary</td>\n",
              "      <td>Health</td>\n",
              "      <td>11</td>\n",
              "      <td>93</td>\n",
              "      <td>Yes</td>\n",
              "      <td>10</td>\n",
              "      <td>Mass Customer</td>\n",
              "    </tr>\n",
              "    <tr>\n",
              "      <th>1</th>\n",
              "      <td>2</td>\n",
              "      <td>Eli Bockman</td>\n",
              "      <td>Male</td>\n",
              "      <td>1980-12-16 00:00:00</td>\n",
              "      <td>39.0</td>\n",
              "      <td>6 Meadow Vale Court</td>\n",
              "      <td>2153</td>\n",
              "      <td>NSW</td>\n",
              "      <td>Australia</td>\n",
              "      <td>N</td>\n",
              "      <td>Administrative Officer</td>\n",
              "      <td>Financial Services</td>\n",
              "      <td>16</td>\n",
              "      <td>81</td>\n",
              "      <td>Yes</td>\n",
              "      <td>10</td>\n",
              "      <td>Mass Customer</td>\n",
              "    </tr>\n",
              "    <tr>\n",
              "      <th>2</th>\n",
              "      <td>4</td>\n",
              "      <td>Talbot</td>\n",
              "      <td>Male</td>\n",
              "      <td>1961-10-03 00:00:00</td>\n",
              "      <td>59.0</td>\n",
              "      <td>0 Holy Cross Court</td>\n",
              "      <td>4211</td>\n",
              "      <td>QLD</td>\n",
              "      <td>Australia</td>\n",
              "      <td>N</td>\n",
              "      <td>Other</td>\n",
              "      <td>IT</td>\n",
              "      <td>7</td>\n",
              "      <td>33</td>\n",
              "      <td>No</td>\n",
              "      <td>9</td>\n",
              "      <td>Mass Customer</td>\n",
              "    </tr>\n",
              "    <tr>\n",
              "      <th>3</th>\n",
              "      <td>5</td>\n",
              "      <td>Sheila-kathryn Calton</td>\n",
              "      <td>Female</td>\n",
              "      <td>1977-05-13 00:00:00</td>\n",
              "      <td>43.0</td>\n",
              "      <td>17979 Del Mar Point</td>\n",
              "      <td>2448</td>\n",
              "      <td>NSW</td>\n",
              "      <td>Australia</td>\n",
              "      <td>N</td>\n",
              "      <td>Senior Editor</td>\n",
              "      <td>Other</td>\n",
              "      <td>8</td>\n",
              "      <td>56</td>\n",
              "      <td>Yes</td>\n",
              "      <td>4</td>\n",
              "      <td>Affluent Customer</td>\n",
              "    </tr>\n",
              "    <tr>\n",
              "      <th>4</th>\n",
              "      <td>6</td>\n",
              "      <td>Curr Duckhouse</td>\n",
              "      <td>Male</td>\n",
              "      <td>1966-09-16 00:00:00</td>\n",
              "      <td>54.0</td>\n",
              "      <td>9 Oakridge Court</td>\n",
              "      <td>3216</td>\n",
              "      <td>VIC</td>\n",
              "      <td>Australia</td>\n",
              "      <td>N</td>\n",
              "      <td>Other</td>\n",
              "      <td>Retail</td>\n",
              "      <td>13</td>\n",
              "      <td>35</td>\n",
              "      <td>Yes</td>\n",
              "      <td>9</td>\n",
              "      <td>High Net Worth</td>\n",
              "    </tr>\n",
              "  </tbody>\n",
              "</table>\n",
              "</div>"
            ],
            "text/plain": [
              "0 customer_id                   name  ... property_valuation     wealth_segment\n",
              "0           1      Laraine Medendorp  ...                 10      Mass Customer\n",
              "1           2            Eli Bockman  ...                 10      Mass Customer\n",
              "2           4                 Talbot  ...                  9      Mass Customer\n",
              "3           5  Sheila-kathryn Calton  ...                  4  Affluent Customer\n",
              "4           6         Curr Duckhouse  ...                  9     High Net Worth\n",
              "\n",
              "[5 rows x 17 columns]"
            ]
          },
          "metadata": {
            "tags": []
          },
          "execution_count": 175
        }
      ]
    },
    {
      "cell_type": "code",
      "metadata": {
        "id": "Ddv3kuh9cMfN",
        "outputId": "d21edcf1-9fd8-491a-9356-f549ceae0afe",
        "colab": {
          "base_uri": "https://localhost:8080/",
          "height": 426
        }
      },
      "source": [
        "df.info()"
      ],
      "execution_count": null,
      "outputs": [
        {
          "output_type": "stream",
          "text": [
            "<class 'pandas.core.frame.DataFrame'>\n",
            "Int64Index: 3908 entries, 0 to 3907\n",
            "Data columns (total 17 columns):\n",
            " #   Column                               Non-Null Count  Dtype  \n",
            "---  ------                               --------------  -----  \n",
            " 0   customer_id                          3908 non-null   object \n",
            " 1   name                                 3908 non-null   object \n",
            " 2   gender                               3908 non-null   object \n",
            " 3   DOB                                  3908 non-null   object \n",
            " 4   age                                  3908 non-null   float64\n",
            " 5   address                              3908 non-null   object \n",
            " 6   postcode                             3908 non-null   int64  \n",
            " 7   state                                3908 non-null   object \n",
            " 8   country                              3908 non-null   object \n",
            " 9   deceased_indicator                   3908 non-null   object \n",
            " 10  job_title                            3908 non-null   object \n",
            " 11  job_industry_category                3908 non-null   object \n",
            " 12  tenure                               3908 non-null   object \n",
            " 13  past_3_years_bike_related_purchases  3908 non-null   object \n",
            " 14  owns_car                             3908 non-null   object \n",
            " 15  property_valuation                   3908 non-null   int64  \n",
            " 16  wealth_segment                       3908 non-null   object \n",
            "dtypes: float64(1), int64(2), object(14)\n",
            "memory usage: 549.6+ KB\n"
          ],
          "name": "stdout"
        }
      ]
    },
    {
      "cell_type": "markdown",
      "metadata": {
        "id": "QZVT7zX4GYid"
      },
      "source": [
        "**Data Preprocessing Transaction List (df3)**"
      ]
    },
    {
      "cell_type": "markdown",
      "metadata": {
        "id": "_-pDuPyf6tt2"
      },
      "source": [
        "Data Preprocessing Transaction List : Data Transformation"
      ]
    },
    {
      "cell_type": "code",
      "metadata": {
        "id": "NLTEBqo1Gdxc",
        "outputId": "b8909bc9-b4b7-4b7c-ba7b-f74db4a11529",
        "colab": {
          "base_uri": "https://localhost:8080/",
          "height": 302
        }
      },
      "source": [
        "df3.head()"
      ],
      "execution_count": null,
      "outputs": [
        {
          "output_type": "execute_result",
          "data": {
            "text/html": [
              "<div>\n",
              "<style scoped>\n",
              "    .dataframe tbody tr th:only-of-type {\n",
              "        vertical-align: middle;\n",
              "    }\n",
              "\n",
              "    .dataframe tbody tr th {\n",
              "        vertical-align: top;\n",
              "    }\n",
              "\n",
              "    .dataframe thead th {\n",
              "        text-align: right;\n",
              "    }\n",
              "</style>\n",
              "<table border=\"1\" class=\"dataframe\">\n",
              "  <thead>\n",
              "    <tr style=\"text-align: right;\">\n",
              "      <th></th>\n",
              "      <th>transaction_id</th>\n",
              "      <th>product_id</th>\n",
              "      <th>customer_id</th>\n",
              "      <th>transaction_date</th>\n",
              "      <th>online_order</th>\n",
              "      <th>order_status</th>\n",
              "      <th>brand</th>\n",
              "      <th>product_line</th>\n",
              "      <th>product_class</th>\n",
              "      <th>product_size</th>\n",
              "      <th>list_price</th>\n",
              "      <th>standard_cost</th>\n",
              "      <th>product_first_sold_date</th>\n",
              "    </tr>\n",
              "  </thead>\n",
              "  <tbody>\n",
              "    <tr>\n",
              "      <th>0</th>\n",
              "      <td>1</td>\n",
              "      <td>2</td>\n",
              "      <td>2950</td>\n",
              "      <td>2017-02-25 00:00:00</td>\n",
              "      <td>False</td>\n",
              "      <td>Approved</td>\n",
              "      <td>Solex</td>\n",
              "      <td>Standard</td>\n",
              "      <td>medium</td>\n",
              "      <td>medium</td>\n",
              "      <td>71.49</td>\n",
              "      <td>53.62</td>\n",
              "      <td>41245</td>\n",
              "    </tr>\n",
              "    <tr>\n",
              "      <th>1</th>\n",
              "      <td>2</td>\n",
              "      <td>3</td>\n",
              "      <td>3120</td>\n",
              "      <td>2017-05-21 00:00:00</td>\n",
              "      <td>True</td>\n",
              "      <td>Approved</td>\n",
              "      <td>Trek Bicycles</td>\n",
              "      <td>Standard</td>\n",
              "      <td>medium</td>\n",
              "      <td>large</td>\n",
              "      <td>2091.47</td>\n",
              "      <td>388.92</td>\n",
              "      <td>41701</td>\n",
              "    </tr>\n",
              "    <tr>\n",
              "      <th>2</th>\n",
              "      <td>3</td>\n",
              "      <td>37</td>\n",
              "      <td>402</td>\n",
              "      <td>2017-10-16 00:00:00</td>\n",
              "      <td>False</td>\n",
              "      <td>Approved</td>\n",
              "      <td>OHM Cycles</td>\n",
              "      <td>Standard</td>\n",
              "      <td>low</td>\n",
              "      <td>medium</td>\n",
              "      <td>1793.43</td>\n",
              "      <td>248.82</td>\n",
              "      <td>36361</td>\n",
              "    </tr>\n",
              "    <tr>\n",
              "      <th>3</th>\n",
              "      <td>4</td>\n",
              "      <td>88</td>\n",
              "      <td>3135</td>\n",
              "      <td>2017-08-31 00:00:00</td>\n",
              "      <td>False</td>\n",
              "      <td>Approved</td>\n",
              "      <td>Norco Bicycles</td>\n",
              "      <td>Standard</td>\n",
              "      <td>medium</td>\n",
              "      <td>medium</td>\n",
              "      <td>1198.46</td>\n",
              "      <td>381.1</td>\n",
              "      <td>36145</td>\n",
              "    </tr>\n",
              "    <tr>\n",
              "      <th>4</th>\n",
              "      <td>5</td>\n",
              "      <td>78</td>\n",
              "      <td>787</td>\n",
              "      <td>2017-10-01 00:00:00</td>\n",
              "      <td>True</td>\n",
              "      <td>Approved</td>\n",
              "      <td>Giant Bicycles</td>\n",
              "      <td>Standard</td>\n",
              "      <td>medium</td>\n",
              "      <td>large</td>\n",
              "      <td>1765.3</td>\n",
              "      <td>709.48</td>\n",
              "      <td>42226</td>\n",
              "    </tr>\n",
              "  </tbody>\n",
              "</table>\n",
              "</div>"
            ],
            "text/plain": [
              "0 transaction_id product_id  ... standard_cost product_first_sold_date\n",
              "0              1          2  ...         53.62                   41245\n",
              "1              2          3  ...        388.92                   41701\n",
              "2              3         37  ...        248.82                   36361\n",
              "3              4         88  ...         381.1                   36145\n",
              "4              5         78  ...        709.48                   42226\n",
              "\n",
              "[5 rows x 13 columns]"
            ]
          },
          "metadata": {
            "tags": []
          },
          "execution_count": 177
        }
      ]
    },
    {
      "cell_type": "markdown",
      "metadata": {
        "id": "o_aTVGrcmQPt"
      },
      "source": [
        "--> Checking Missing Values"
      ]
    },
    {
      "cell_type": "code",
      "metadata": {
        "id": "X0nt0YxkOo65",
        "outputId": "78766c39-d710-4224-fb5b-a920433226d2",
        "colab": {
          "base_uri": "https://localhost:8080/",
          "height": 273
        }
      },
      "source": [
        "df3.isnull().sum()"
      ],
      "execution_count": null,
      "outputs": [
        {
          "output_type": "execute_result",
          "data": {
            "text/plain": [
              "0\n",
              "transaction_id               0\n",
              "product_id                   0\n",
              "customer_id                  0\n",
              "transaction_date             0\n",
              "online_order               360\n",
              "order_status                 0\n",
              "brand                      197\n",
              "product_line               197\n",
              "product_class              197\n",
              "product_size               197\n",
              "list_price                   0\n",
              "standard_cost              197\n",
              "product_first_sold_date    197\n",
              "dtype: int64"
            ]
          },
          "metadata": {
            "tags": []
          },
          "execution_count": 178
        }
      ]
    },
    {
      "cell_type": "markdown",
      "metadata": {
        "id": "K1Yq6qnOmWvY"
      },
      "source": [
        "--> Dealing with Missing Values"
      ]
    },
    {
      "cell_type": "code",
      "metadata": {
        "id": "YLvSK6jBQVEf"
      },
      "source": [
        "#df3_test = df3.copy(deep=True)\n",
        "df3_col_miss_value = ['online_order', 'brand', 'product_line','product_class', 'product_size', 'standard_cost', 'product_first_sold_date'] \n",
        "for col in df3_col_miss_value:\n",
        "  if col == 'online_order': \n",
        "    df3.dropna(subset= ['online_order'], inplace = True)  \n",
        "  elif col == 'brand' :\n",
        "    df3[col].fillna(value = 'Other', inplace = True)\n",
        "  elif col == 'product_line': \n",
        "    df3[col].fillna(value = 'Other', inplace = True)\n",
        "  elif col == 'product_size':\n",
        "    df3[col].fillna(value = 'Other', inplace = True)\n",
        "  elif col == 'standard_cost':\n",
        "    df3.dropna(subset=['standard_cost'], inplace = True)\n",
        "  else:\n",
        "    df3.dropna(subset = ['product_first_sold_date'], inplace= True)\n",
        "   # df3_test = df3_test[col].dropna(subset=['standard_cost'], inplace = True)\n",
        "#df3_test.head()"
      ],
      "execution_count": null,
      "outputs": []
    },
    {
      "cell_type": "code",
      "metadata": {
        "id": "THSlpsQhlyxr",
        "outputId": "3cfd729a-81e2-4ec0-ace2-ef0c99fc1435",
        "colab": {
          "base_uri": "https://localhost:8080/",
          "height": 358
        }
      },
      "source": [
        "df3.info()"
      ],
      "execution_count": null,
      "outputs": [
        {
          "output_type": "stream",
          "text": [
            "<class 'pandas.core.frame.DataFrame'>\n",
            "Int64Index: 19445 entries, 0 to 19999\n",
            "Data columns (total 13 columns):\n",
            " #   Column                   Non-Null Count  Dtype \n",
            "---  ------                   --------------  ----- \n",
            " 0   transaction_id           19445 non-null  object\n",
            " 1   product_id               19445 non-null  object\n",
            " 2   customer_id              19445 non-null  object\n",
            " 3   transaction_date         19445 non-null  object\n",
            " 4   online_order             19445 non-null  object\n",
            " 5   order_status             19445 non-null  object\n",
            " 6   brand                    19445 non-null  object\n",
            " 7   product_line             19445 non-null  object\n",
            " 8   product_class            19445 non-null  object\n",
            " 9   product_size             19445 non-null  object\n",
            " 10  list_price               19445 non-null  object\n",
            " 11  standard_cost            19445 non-null  object\n",
            " 12  product_first_sold_date  19445 non-null  object\n",
            "dtypes: object(13)\n",
            "memory usage: 2.1+ MB\n"
          ],
          "name": "stdout"
        }
      ]
    },
    {
      "cell_type": "code",
      "metadata": {
        "id": "pKFVR6hISCOt",
        "outputId": "17864e48-9ee9-4e49-dd63-3298365d799e",
        "colab": {
          "base_uri": "https://localhost:8080/",
          "height": 273
        }
      },
      "source": [
        "df3.isnull().sum()"
      ],
      "execution_count": null,
      "outputs": [
        {
          "output_type": "execute_result",
          "data": {
            "text/plain": [
              "0\n",
              "transaction_id             0\n",
              "product_id                 0\n",
              "customer_id                0\n",
              "transaction_date           0\n",
              "online_order               0\n",
              "order_status               0\n",
              "brand                      0\n",
              "product_line               0\n",
              "product_class              0\n",
              "product_size               0\n",
              "list_price                 0\n",
              "standard_cost              0\n",
              "product_first_sold_date    0\n",
              "dtype: int64"
            ]
          },
          "metadata": {
            "tags": []
          },
          "execution_count": 181
        }
      ]
    },
    {
      "cell_type": "markdown",
      "metadata": {
        "id": "o76SYrYtmM08"
      },
      "source": [
        "--> Checking Unstandard Data"
      ]
    },
    {
      "cell_type": "code",
      "metadata": {
        "id": "vvRe69B2mjny",
        "outputId": "fce3aa77-6343-4c53-d7de-79c3c35f8419",
        "colab": {
          "base_uri": "https://localhost:8080/",
          "height": 1000
        }
      },
      "source": [
        "for col in df3.columns:\n",
        "  print('\\nUnique Value in Feature \"{}\" :'.format(col))\n",
        "  print(df3[col].value_counts())"
      ],
      "execution_count": null,
      "outputs": [
        {
          "output_type": "stream",
          "text": [
            "\n",
            "Unique Value in Feature \"transaction_id\" :\n",
            "20000    1\n",
            "6641     1\n",
            "6643     1\n",
            "6645     1\n",
            "6646     1\n",
            "        ..\n",
            "13320    1\n",
            "13321    1\n",
            "13322    1\n",
            "13323    1\n",
            "1        1\n",
            "Name: transaction_id, Length: 19445, dtype: int64\n",
            "\n",
            "Unique Value in Feature \"product_id\" :\n",
            "0      1157\n",
            "3       349\n",
            "1       305\n",
            "38      267\n",
            "35      261\n",
            "       ... \n",
            "16      134\n",
            "71      134\n",
            "8       132\n",
            "100     126\n",
            "47      118\n",
            "Name: product_id, Length: 101, dtype: int64\n",
            "\n",
            "Unique Value in Feature \"customer_id\" :\n",
            "1068    14\n",
            "2183    14\n",
            "2476    14\n",
            "1946    13\n",
            "2548    13\n",
            "        ..\n",
            "2749     1\n",
            "3161     1\n",
            "302      1\n",
            "1325     1\n",
            "2532     1\n",
            "Name: customer_id, Length: 3492, dtype: int64\n",
            "\n",
            "Unique Value in Feature \"transaction_date\" :\n",
            "2017-02-14    81\n",
            "2017-08-18    81\n",
            "2017-10-15    73\n",
            "2017-01-31    72\n",
            "2017-12-19    70\n",
            "              ..\n",
            "2017-12-07    37\n",
            "2017-01-12    36\n",
            "2017-09-25    35\n",
            "2017-03-29    34\n",
            "2017-10-19    32\n",
            "Name: transaction_date, Length: 364, dtype: int64\n",
            "\n",
            "Unique Value in Feature \"online_order\" :\n",
            "True     9739\n",
            "False    9706\n",
            "Name: online_order, dtype: int64\n",
            "\n",
            "Unique Value in Feature \"order_status\" :\n",
            "Approved     19273\n",
            "Cancelled      172\n",
            "Name: order_status, dtype: int64\n",
            "\n",
            "Unique Value in Feature \"brand\" :\n",
            "Solex             4169\n",
            "WeareA2B          3245\n",
            "Giant Bicycles    3244\n",
            "OHM Cycles        2993\n",
            "Trek Bicycles     2931\n",
            "Norco Bicycles    2863\n",
            "Name: brand, dtype: int64\n",
            "\n",
            "Unique Value in Feature \"product_line\" :\n",
            "Standard    13920\n",
            "Road         3894\n",
            "Touring      1213\n",
            "Mountain      418\n",
            "Name: product_line, dtype: int64\n",
            "\n",
            "Unique Value in Feature \"product_class\" :\n",
            "medium    13587\n",
            "high       2952\n",
            "low        2906\n",
            "Name: product_class, dtype: int64\n",
            "\n",
            "Unique Value in Feature \"product_size\" :\n",
            "medium    12767\n",
            "large      3900\n",
            "small      2778\n",
            "Name: product_size, dtype: int64\n",
            "\n",
            "Unique Value in Feature \"list_price\" :\n",
            "2091.47    460\n",
            "1403.50    389\n",
            "71.49      269\n",
            "1231.15    232\n",
            "1890.39    230\n",
            "          ... \n",
            "1172.78    153\n",
            "358.39     138\n",
            "1227.34    126\n",
            "202.62     123\n",
            "1036.59    111\n",
            "Name: list_price, Length: 100, dtype: int64\n",
            "\n",
            "Unique Value in Feature \"standard_cost\" :\n",
            "388.920000    460\n",
            "954.820000    389\n",
            "53.620000     269\n",
            "161.600000    232\n",
            "260.140000    230\n",
            "             ... \n",
            "151.960000    123\n",
            "206.350000    111\n",
            "270.299988      1\n",
            "312.735016      1\n",
            "667.400024      1\n",
            "Name: standard_cost, Length: 103, dtype: int64\n",
            "\n",
            "Unique Value in Feature \"product_first_sold_date\" :\n",
            "33879    230\n",
            "41064    223\n",
            "37823    221\n",
            "39880    220\n",
            "38216    217\n",
            "        ... \n",
            "41848    168\n",
            "42404    167\n",
            "41922    163\n",
            "37659    161\n",
            "34586    159\n",
            "Name: product_first_sold_date, Length: 100, dtype: int64\n"
          ],
          "name": "stdout"
        }
      ]
    },
    {
      "cell_type": "markdown",
      "metadata": {
        "id": "ag6oafcF7EOv"
      },
      "source": [
        "**Note** : All value within all feature are standard"
      ]
    },
    {
      "cell_type": "markdown",
      "metadata": {
        "id": "glt_QrRQnQaq"
      },
      "source": [
        "--> Checking unique transaction ID"
      ]
    },
    {
      "cell_type": "code",
      "metadata": {
        "id": "KO0wLTw9nTyg",
        "outputId": "ec81fd42-5635-451f-f837-617b0aabf004",
        "colab": {
          "base_uri": "https://localhost:8080/",
          "height": 51
        }
      },
      "source": [
        "print('Unique Values in Transaction ID:')\n",
        "print(df3['transaction_id'].nunique())"
      ],
      "execution_count": null,
      "outputs": [
        {
          "output_type": "stream",
          "text": [
            "Unique Values in Transaction ID:\n",
            "19445\n"
          ],
          "name": "stdout"
        }
      ]
    },
    {
      "cell_type": "markdown",
      "metadata": {
        "id": "gS1rpLp-nojJ"
      },
      "source": [
        "**Note** : Its Unique"
      ]
    },
    {
      "cell_type": "markdown",
      "metadata": {
        "id": "aQ6Y3j5mA93j"
      },
      "source": [
        "--> Making date format in feature 'product_first_sold_date' valid (Still cant find the method)"
      ]
    },
    {
      "cell_type": "code",
      "metadata": {
        "id": "QA4p4TzDBQDj"
      },
      "source": [
        "from datetime import datetime\n",
        "#df3 = df3.copy(deep = True)\n",
        "df3['product_first_sold_date'] = df3['product_first_sold_date'].astype(float)\n",
        "#df3_test['product_first_sold_date_new'] = df3_test['product_first_sold_date'].apply('{:06}'.format)\n",
        "now = pd.Timestamp('now')\n",
        "df3['product_first_sold_date'] = pd.to_datetime(df3['product_first_sold_date'],unit='D', origin=pd.Timestamp('1900-01-01'))#based on microsoft excel origin format "
      ],
      "execution_count": null,
      "outputs": []
    },
    {
      "cell_type": "code",
      "metadata": {
        "id": "UKz352rGX7wq",
        "outputId": "874ebf0e-873c-4be7-e1d5-3065bbbd50bc",
        "colab": {
          "base_uri": "https://localhost:8080/",
          "height": 302
        }
      },
      "source": [
        "df3.head()"
      ],
      "execution_count": null,
      "outputs": [
        {
          "output_type": "execute_result",
          "data": {
            "text/html": [
              "<div>\n",
              "<style scoped>\n",
              "    .dataframe tbody tr th:only-of-type {\n",
              "        vertical-align: middle;\n",
              "    }\n",
              "\n",
              "    .dataframe tbody tr th {\n",
              "        vertical-align: top;\n",
              "    }\n",
              "\n",
              "    .dataframe thead th {\n",
              "        text-align: right;\n",
              "    }\n",
              "</style>\n",
              "<table border=\"1\" class=\"dataframe\">\n",
              "  <thead>\n",
              "    <tr style=\"text-align: right;\">\n",
              "      <th></th>\n",
              "      <th>transaction_id</th>\n",
              "      <th>product_id</th>\n",
              "      <th>customer_id</th>\n",
              "      <th>transaction_date</th>\n",
              "      <th>online_order</th>\n",
              "      <th>order_status</th>\n",
              "      <th>brand</th>\n",
              "      <th>product_line</th>\n",
              "      <th>product_class</th>\n",
              "      <th>product_size</th>\n",
              "      <th>list_price</th>\n",
              "      <th>standard_cost</th>\n",
              "      <th>product_first_sold_date</th>\n",
              "    </tr>\n",
              "  </thead>\n",
              "  <tbody>\n",
              "    <tr>\n",
              "      <th>0</th>\n",
              "      <td>1</td>\n",
              "      <td>2</td>\n",
              "      <td>2950</td>\n",
              "      <td>2017-02-25 00:00:00</td>\n",
              "      <td>False</td>\n",
              "      <td>Approved</td>\n",
              "      <td>Solex</td>\n",
              "      <td>Standard</td>\n",
              "      <td>medium</td>\n",
              "      <td>medium</td>\n",
              "      <td>71.49</td>\n",
              "      <td>53.62</td>\n",
              "      <td>2012-12-04</td>\n",
              "    </tr>\n",
              "    <tr>\n",
              "      <th>1</th>\n",
              "      <td>2</td>\n",
              "      <td>3</td>\n",
              "      <td>3120</td>\n",
              "      <td>2017-05-21 00:00:00</td>\n",
              "      <td>True</td>\n",
              "      <td>Approved</td>\n",
              "      <td>Trek Bicycles</td>\n",
              "      <td>Standard</td>\n",
              "      <td>medium</td>\n",
              "      <td>large</td>\n",
              "      <td>2091.47</td>\n",
              "      <td>388.92</td>\n",
              "      <td>2014-03-05</td>\n",
              "    </tr>\n",
              "    <tr>\n",
              "      <th>2</th>\n",
              "      <td>3</td>\n",
              "      <td>37</td>\n",
              "      <td>402</td>\n",
              "      <td>2017-10-16 00:00:00</td>\n",
              "      <td>False</td>\n",
              "      <td>Approved</td>\n",
              "      <td>OHM Cycles</td>\n",
              "      <td>Standard</td>\n",
              "      <td>low</td>\n",
              "      <td>medium</td>\n",
              "      <td>1793.43</td>\n",
              "      <td>248.82</td>\n",
              "      <td>1999-07-22</td>\n",
              "    </tr>\n",
              "    <tr>\n",
              "      <th>3</th>\n",
              "      <td>4</td>\n",
              "      <td>88</td>\n",
              "      <td>3135</td>\n",
              "      <td>2017-08-31 00:00:00</td>\n",
              "      <td>False</td>\n",
              "      <td>Approved</td>\n",
              "      <td>Norco Bicycles</td>\n",
              "      <td>Standard</td>\n",
              "      <td>medium</td>\n",
              "      <td>medium</td>\n",
              "      <td>1198.46</td>\n",
              "      <td>381.1</td>\n",
              "      <td>1998-12-18</td>\n",
              "    </tr>\n",
              "    <tr>\n",
              "      <th>4</th>\n",
              "      <td>5</td>\n",
              "      <td>78</td>\n",
              "      <td>787</td>\n",
              "      <td>2017-10-01 00:00:00</td>\n",
              "      <td>True</td>\n",
              "      <td>Approved</td>\n",
              "      <td>Giant Bicycles</td>\n",
              "      <td>Standard</td>\n",
              "      <td>medium</td>\n",
              "      <td>large</td>\n",
              "      <td>1765.3</td>\n",
              "      <td>709.48</td>\n",
              "      <td>2015-08-12</td>\n",
              "    </tr>\n",
              "  </tbody>\n",
              "</table>\n",
              "</div>"
            ],
            "text/plain": [
              "0 transaction_id product_id  ... standard_cost product_first_sold_date\n",
              "0              1          2  ...         53.62              2012-12-04\n",
              "1              2          3  ...        388.92              2014-03-05\n",
              "2              3         37  ...        248.82              1999-07-22\n",
              "3              4         88  ...         381.1              1998-12-18\n",
              "4              5         78  ...        709.48              2015-08-12\n",
              "\n",
              "[5 rows x 13 columns]"
            ]
          },
          "metadata": {
            "tags": []
          },
          "execution_count": 185
        }
      ]
    },
    {
      "cell_type": "code",
      "metadata": {
        "id": "zWcxo-rNDKWo",
        "outputId": "41827797-82aa-4307-e68d-accaa315db35",
        "colab": {
          "base_uri": "https://localhost:8080/",
          "height": 302
        }
      },
      "source": [
        "aa = df3[df3['brand'] == 'Solex']\n",
        "aa.head()"
      ],
      "execution_count": null,
      "outputs": [
        {
          "output_type": "execute_result",
          "data": {
            "text/html": [
              "<div>\n",
              "<style scoped>\n",
              "    .dataframe tbody tr th:only-of-type {\n",
              "        vertical-align: middle;\n",
              "    }\n",
              "\n",
              "    .dataframe tbody tr th {\n",
              "        vertical-align: top;\n",
              "    }\n",
              "\n",
              "    .dataframe thead th {\n",
              "        text-align: right;\n",
              "    }\n",
              "</style>\n",
              "<table border=\"1\" class=\"dataframe\">\n",
              "  <thead>\n",
              "    <tr style=\"text-align: right;\">\n",
              "      <th></th>\n",
              "      <th>transaction_id</th>\n",
              "      <th>product_id</th>\n",
              "      <th>customer_id</th>\n",
              "      <th>transaction_date</th>\n",
              "      <th>online_order</th>\n",
              "      <th>order_status</th>\n",
              "      <th>brand</th>\n",
              "      <th>product_line</th>\n",
              "      <th>product_class</th>\n",
              "      <th>product_size</th>\n",
              "      <th>list_price</th>\n",
              "      <th>standard_cost</th>\n",
              "      <th>product_first_sold_date</th>\n",
              "      <th>profit</th>\n",
              "    </tr>\n",
              "  </thead>\n",
              "  <tbody>\n",
              "    <tr>\n",
              "      <th>0</th>\n",
              "      <td>1</td>\n",
              "      <td>2</td>\n",
              "      <td>2950</td>\n",
              "      <td>2017-02-25 00:00:00</td>\n",
              "      <td>False</td>\n",
              "      <td>Approved</td>\n",
              "      <td>Solex</td>\n",
              "      <td>Standard</td>\n",
              "      <td>medium</td>\n",
              "      <td>medium</td>\n",
              "      <td>71.49</td>\n",
              "      <td>53.62</td>\n",
              "      <td>2012-12-04</td>\n",
              "      <td>17.87</td>\n",
              "    </tr>\n",
              "    <tr>\n",
              "      <th>8</th>\n",
              "      <td>9</td>\n",
              "      <td>67</td>\n",
              "      <td>1305</td>\n",
              "      <td>2017-08-10 00:00:00</td>\n",
              "      <td>False</td>\n",
              "      <td>Approved</td>\n",
              "      <td>Solex</td>\n",
              "      <td>Standard</td>\n",
              "      <td>medium</td>\n",
              "      <td>large</td>\n",
              "      <td>1071.23</td>\n",
              "      <td>380.74</td>\n",
              "      <td>1991-08-07</td>\n",
              "      <td>690.49</td>\n",
              "    </tr>\n",
              "    <tr>\n",
              "      <th>36</th>\n",
              "      <td>37</td>\n",
              "      <td>14</td>\n",
              "      <td>1040</td>\n",
              "      <td>2017-01-09 00:00:00</td>\n",
              "      <td>False</td>\n",
              "      <td>Approved</td>\n",
              "      <td>Solex</td>\n",
              "      <td>Standard</td>\n",
              "      <td>high</td>\n",
              "      <td>large</td>\n",
              "      <td>1842.92</td>\n",
              "      <td>1105.75</td>\n",
              "      <td>1995-10-26</td>\n",
              "      <td>737.17</td>\n",
              "    </tr>\n",
              "    <tr>\n",
              "      <th>37</th>\n",
              "      <td>38</td>\n",
              "      <td>2</td>\n",
              "      <td>2916</td>\n",
              "      <td>2017-12-06 00:00:00</td>\n",
              "      <td>False</td>\n",
              "      <td>Approved</td>\n",
              "      <td>Solex</td>\n",
              "      <td>Standard</td>\n",
              "      <td>medium</td>\n",
              "      <td>medium</td>\n",
              "      <td>71.49</td>\n",
              "      <td>53.62</td>\n",
              "      <td>1991-11-09</td>\n",
              "      <td>17.87</td>\n",
              "    </tr>\n",
              "    <tr>\n",
              "      <th>41</th>\n",
              "      <td>42</td>\n",
              "      <td>79</td>\n",
              "      <td>3398</td>\n",
              "      <td>2017-05-14 00:00:00</td>\n",
              "      <td>False</td>\n",
              "      <td>Approved</td>\n",
              "      <td>Solex</td>\n",
              "      <td>Touring</td>\n",
              "      <td>medium</td>\n",
              "      <td>large</td>\n",
              "      <td>2083.94</td>\n",
              "      <td>675.03</td>\n",
              "      <td>2013-09-18</td>\n",
              "      <td>1408.91</td>\n",
              "    </tr>\n",
              "  </tbody>\n",
              "</table>\n",
              "</div>"
            ],
            "text/plain": [
              "0  transaction_id product_id  ... product_first_sold_date   profit\n",
              "0               1          2  ...              2012-12-04    17.87\n",
              "8               9         67  ...              1991-08-07   690.49\n",
              "36             37         14  ...              1995-10-26   737.17\n",
              "37             38          2  ...              1991-11-09    17.87\n",
              "41             42         79  ...              2013-09-18  1408.91\n",
              "\n",
              "[5 rows x 14 columns]"
            ]
          },
          "metadata": {
            "tags": []
          },
          "execution_count": 193
        }
      ]
    },
    {
      "cell_type": "markdown",
      "metadata": {
        "id": "9o-vQllkn6aT"
      },
      "source": [
        "Data Preprocessing Transaction List : Feature Engineering"
      ]
    },
    {
      "cell_type": "markdown",
      "metadata": {
        "id": "w28ImS5Rrvrp"
      },
      "source": [
        "--> Add Profit Attribute"
      ]
    },
    {
      "cell_type": "code",
      "metadata": {
        "id": "eEsxQK4AryVV"
      },
      "source": [
        "df3['profit'] = df3['list_price']-df3['standard_cost']\n"
      ],
      "execution_count": null,
      "outputs": []
    },
    {
      "cell_type": "markdown",
      "metadata": {
        "id": "-HHxVAS6lNev"
      },
      "source": [
        "--> Add RFM (recency, frequency, monetary)"
      ]
    },
    {
      "cell_type": "code",
      "metadata": {
        "id": "UXfjGblI5Bq0",
        "outputId": "390bf5de-b27a-49da-c330-84563327d391",
        "colab": {
          "base_uri": "https://localhost:8080/",
          "height": 197
        }
      },
      "source": [
        "import datetime as dt\n",
        "df3_test = df3.copy(deep=True)\n",
        "df3_test['transaction_date'] = pd.to_datetime(df3_test['transaction_date'])\n",
        "NOW = df3_test['transaction_date'].max()\n",
        "# Recency\n",
        "rfmTable = df3_test.groupby('customer_id').agg({'transaction_date': lambda x: (NOW - x.max()).days, # Recency\n",
        "                                        'transaction_id': lambda x: len(x),      # Frequency\n",
        "                                        'profit': lambda x: x.sum()}) # Monetary Value\n",
        "\n",
        "rfmTable['transaction_date'] = rfmTable['transaction_date'].astype(int)\n",
        "rfmTable.rename(columns={'transaction_date': 'recency', \n",
        "                         'transaction_id': 'frequency', \n",
        "                         'profit': 'monetary_value'}, inplace=True)\n",
        "rfmTable.reset_index(level=0, inplace=True)\n",
        "rfmTable.head()"
      ],
      "execution_count": null,
      "outputs": [
        {
          "output_type": "execute_result",
          "data": {
            "text/html": [
              "<div>\n",
              "<style scoped>\n",
              "    .dataframe tbody tr th:only-of-type {\n",
              "        vertical-align: middle;\n",
              "    }\n",
              "\n",
              "    .dataframe tbody tr th {\n",
              "        vertical-align: top;\n",
              "    }\n",
              "\n",
              "    .dataframe thead th {\n",
              "        text-align: right;\n",
              "    }\n",
              "</style>\n",
              "<table border=\"1\" class=\"dataframe\">\n",
              "  <thead>\n",
              "    <tr style=\"text-align: right;\">\n",
              "      <th></th>\n",
              "      <th>customer_id</th>\n",
              "      <th>recency</th>\n",
              "      <th>frequency</th>\n",
              "      <th>monetary_value</th>\n",
              "    </tr>\n",
              "  </thead>\n",
              "  <tbody>\n",
              "    <tr>\n",
              "      <th>0</th>\n",
              "      <td>1</td>\n",
              "      <td>7</td>\n",
              "      <td>11</td>\n",
              "      <td>3018.09</td>\n",
              "    </tr>\n",
              "    <tr>\n",
              "      <th>1</th>\n",
              "      <td>2</td>\n",
              "      <td>128</td>\n",
              "      <td>3</td>\n",
              "      <td>2226.26</td>\n",
              "    </tr>\n",
              "    <tr>\n",
              "      <th>2</th>\n",
              "      <td>3</td>\n",
              "      <td>102</td>\n",
              "      <td>7</td>\n",
              "      <td>3290.21</td>\n",
              "    </tr>\n",
              "    <tr>\n",
              "      <th>3</th>\n",
              "      <td>4</td>\n",
              "      <td>195</td>\n",
              "      <td>2</td>\n",
              "      <td>220.57</td>\n",
              "    </tr>\n",
              "    <tr>\n",
              "      <th>4</th>\n",
              "      <td>5</td>\n",
              "      <td>16</td>\n",
              "      <td>6</td>\n",
              "      <td>2394.94</td>\n",
              "    </tr>\n",
              "  </tbody>\n",
              "</table>\n",
              "</div>"
            ],
            "text/plain": [
              "   customer_id  recency  frequency  monetary_value\n",
              "0            1        7         11         3018.09\n",
              "1            2      128          3         2226.26\n",
              "2            3      102          7         3290.21\n",
              "3            4      195          2          220.57\n",
              "4            5       16          6         2394.94"
            ]
          },
          "metadata": {
            "tags": []
          },
          "execution_count": 187
        }
      ]
    },
    {
      "cell_type": "code",
      "metadata": {
        "id": "VH524SleHkGY",
        "outputId": "5dedb7c7-072b-4029-8de7-7ca412b8ebfc",
        "colab": {
          "base_uri": "https://localhost:8080/",
          "height": 197
        }
      },
      "source": [
        "quantiles = rfmTable.drop(columns = 'customer_id').quantile(q=[0.25,0.5,0.75])\n",
        "quantiles = quantiles.to_dict()\n",
        "#print(quantiles)\n",
        "rfmSegmentation = rfmTable\n",
        "\n",
        "# Arguments (x = value, p = recency, monetary_value, frequency, d = quartiles dict)\n",
        "def RClass(x,p,d):\n",
        "    if x <= d[p][0.25]:\n",
        "        return 1\n",
        "    elif x <= d[p][0.50]:\n",
        "        return 2\n",
        "    elif x <= d[p][0.75]: \n",
        "        return 3\n",
        "    else:\n",
        "        return 4\n",
        "    \n",
        "# Arguments (x = value, p = recency, monetary_value, frequency, d = quartiles dict)\n",
        "def FMClass(x,p,d):\n",
        "    if x <= d[p][0.25]:\n",
        "        return 4\n",
        "    elif x <= d[p][0.50]:\n",
        "        return 3\n",
        "    elif x <= d[p][0.75]: \n",
        "        return 2\n",
        "    else:\n",
        "        return 1\n",
        "# Arguments (x = dataframe Value row list)\n",
        "def RFM_Class (x):\n",
        "  L = []\n",
        "  for elm in x:\n",
        "    L.append(elm)\n",
        "  return \"\".join(L)\n",
        "\n",
        "# Feature Enginering For RFM Analysis\n",
        "rfmSegmentation['R_Quartile'] = rfmSegmentation['recency'].apply(RClass, args=('recency',quantiles))\n",
        "rfmSegmentation['F_Quartile'] = rfmSegmentation['frequency'].apply(FMClass, args=('frequency',quantiles))\n",
        "rfmSegmentation['M_Quartile'] = rfmSegmentation['monetary_value'].apply(FMClass, args=('monetary_value',quantiles))\n",
        "rfmSegmentation['RFM_Class'] = rfmSegmentation[rfmSegmentation.columns[4:7]].astype(str).apply(RFM_Class, axis=1)\n",
        "rfmSegmentation.head()"
      ],
      "execution_count": null,
      "outputs": [
        {
          "output_type": "execute_result",
          "data": {
            "text/html": [
              "<div>\n",
              "<style scoped>\n",
              "    .dataframe tbody tr th:only-of-type {\n",
              "        vertical-align: middle;\n",
              "    }\n",
              "\n",
              "    .dataframe tbody tr th {\n",
              "        vertical-align: top;\n",
              "    }\n",
              "\n",
              "    .dataframe thead th {\n",
              "        text-align: right;\n",
              "    }\n",
              "</style>\n",
              "<table border=\"1\" class=\"dataframe\">\n",
              "  <thead>\n",
              "    <tr style=\"text-align: right;\">\n",
              "      <th></th>\n",
              "      <th>customer_id</th>\n",
              "      <th>recency</th>\n",
              "      <th>frequency</th>\n",
              "      <th>monetary_value</th>\n",
              "      <th>R_Quartile</th>\n",
              "      <th>F_Quartile</th>\n",
              "      <th>M_Quartile</th>\n",
              "      <th>RFM_Class</th>\n",
              "    </tr>\n",
              "  </thead>\n",
              "  <tbody>\n",
              "    <tr>\n",
              "      <th>0</th>\n",
              "      <td>1</td>\n",
              "      <td>7</td>\n",
              "      <td>11</td>\n",
              "      <td>3018.09</td>\n",
              "      <td>1</td>\n",
              "      <td>1</td>\n",
              "      <td>2</td>\n",
              "      <td>112</td>\n",
              "    </tr>\n",
              "    <tr>\n",
              "      <th>1</th>\n",
              "      <td>2</td>\n",
              "      <td>128</td>\n",
              "      <td>3</td>\n",
              "      <td>2226.26</td>\n",
              "      <td>4</td>\n",
              "      <td>4</td>\n",
              "      <td>3</td>\n",
              "      <td>443</td>\n",
              "    </tr>\n",
              "    <tr>\n",
              "      <th>2</th>\n",
              "      <td>3</td>\n",
              "      <td>102</td>\n",
              "      <td>7</td>\n",
              "      <td>3290.21</td>\n",
              "      <td>4</td>\n",
              "      <td>2</td>\n",
              "      <td>2</td>\n",
              "      <td>422</td>\n",
              "    </tr>\n",
              "    <tr>\n",
              "      <th>3</th>\n",
              "      <td>4</td>\n",
              "      <td>195</td>\n",
              "      <td>2</td>\n",
              "      <td>220.57</td>\n",
              "      <td>4</td>\n",
              "      <td>4</td>\n",
              "      <td>4</td>\n",
              "      <td>444</td>\n",
              "    </tr>\n",
              "    <tr>\n",
              "      <th>4</th>\n",
              "      <td>5</td>\n",
              "      <td>16</td>\n",
              "      <td>6</td>\n",
              "      <td>2394.94</td>\n",
              "      <td>1</td>\n",
              "      <td>2</td>\n",
              "      <td>3</td>\n",
              "      <td>123</td>\n",
              "    </tr>\n",
              "  </tbody>\n",
              "</table>\n",
              "</div>"
            ],
            "text/plain": [
              "   customer_id  recency  frequency  ...  F_Quartile  M_Quartile  RFM_Class\n",
              "0            1        7         11  ...           1           2        112\n",
              "1            2      128          3  ...           4           3        443\n",
              "2            3      102          7  ...           2           2        422\n",
              "3            4      195          2  ...           4           4        444\n",
              "4            5       16          6  ...           2           3        123\n",
              "\n",
              "[5 rows x 8 columns]"
            ]
          },
          "metadata": {
            "tags": []
          },
          "execution_count": 188
        }
      ]
    },
    {
      "cell_type": "code",
      "metadata": {
        "id": "AnmGpZe6dX-c",
        "outputId": "e827304b-59ca-4446-d608-e029b75ea3fe",
        "colab": {
          "base_uri": "https://localhost:8080/",
          "height": 136
        }
      },
      "source": [
        "df3['brand'].value_counts()"
      ],
      "execution_count": null,
      "outputs": [
        {
          "output_type": "execute_result",
          "data": {
            "text/plain": [
              "Solex             4169\n",
              "WeareA2B          3245\n",
              "Giant Bicycles    3244\n",
              "OHM Cycles        2993\n",
              "Trek Bicycles     2931\n",
              "Norco Bicycles    2863\n",
              "Name: brand, dtype: int64"
            ]
          },
          "metadata": {
            "tags": []
          },
          "execution_count": 189
        }
      ]
    },
    {
      "cell_type": "code",
      "metadata": {
        "id": "k3GYb78m0YXj"
      },
      "source": [
        "brand_solex = df3.copy(deep=True)\n",
        "brand_solex['Valid'] = brand_solex['brand'].astype(str).str.match(r'Solex')\n",
        "brand_solex = brand_solex[brand_solex['Valid']==True].drop(columns=['Valid','transaction_id','product_id',\n",
        "                                                                                               'transaction_date','online_order',\n",
        "                                                                                               'order_status','product_line','product_class',\n",
        "                                                                                               'product_size','list_price','standard_cost',\n",
        "                                                                                               'product_first_sold_date','profit'],axis = 1)\n",
        "brand_solex = pd.DataFrame(brand_solex.groupby('customer_id')['brand'].value_counts())\n",
        "brand_solex.columns = ['Solex']\n",
        "brand_solex.reset_index(level=0,inplace = True)\n",
        "brand_solex.reset_index(level=0,inplace = True)\n",
        "brand_solex.drop(columns=['brand'], axis = 1,inplace=True)\n",
        "\n",
        "\n",
        "brand_weareA2B = df3.copy(deep=True)\n",
        "brand_weareA2B['Valid']= brand_weareA2B['brand'].astype(str).str.match(r'WeareA2B')\n",
        "brand_weareA2B = brand_weareA2B[brand_weareA2B['Valid']==True].drop(columns = ['Valid','transaction_id','product_id',\n",
        "                                                                                               'transaction_date','online_order',\n",
        "                                                                                               'order_status','product_line','product_class',\n",
        "                                                                                               'product_size','list_price','standard_cost',\n",
        "                                                                                               'product_first_sold_date','profit'], axis = 1)\n",
        "brand_weareA2B = pd.DataFrame(brand_weareA2B.groupby('customer_id')['brand'].value_counts())\n",
        "brand_weareA2B.columns = ['WeareA2B']\n",
        "brand_weareA2B.reset_index(level=0,inplace = True)\n",
        "brand_weareA2B.reset_index(level=0,inplace = True)\n",
        "brand_weareA2B.drop(columns=['brand'], axis = 1,inplace=True)\n",
        "\n",
        "\n",
        "brand_giant_bicycles = df3.copy(deep = True)\n",
        "brand_giant_bicycles['Valid'] = brand_giant_bicycles['brand'].astype(str).str.match(r'Giant Bicycles')\n",
        "brand_giant_bicycles = brand_giant_bicycles[brand_giant_bicycles['Valid']==True].drop(columns=['Valid','transaction_id','product_id',\n",
        "                                                                                               'transaction_date','online_order',\n",
        "                                                                                               'order_status','product_line','product_class',\n",
        "                                                                                               'product_size','list_price','standard_cost',\n",
        "                                                                                               'product_first_sold_date','profit'],axis = 1)\n",
        "brand_giant_bicycles = pd.DataFrame(brand_giant_bicycles.groupby('customer_id')['brand'].value_counts())\n",
        "brand_giant_bicycles.columns = ['Giant Bicycles']\n",
        "brand_giant_bicycles.reset_index(level=0,inplace = True)\n",
        "brand_giant_bicycles.reset_index(level=0,inplace = True)\n",
        "brand_giant_bicycles.drop(columns=['brand'], axis = 1,inplace=True)\n",
        "\n",
        "\n",
        "brand_ohm_cycles = df3.copy(deep=True)\n",
        "brand_ohm_cycles['Valid'] = brand_ohm_cycles['brand'].astype(str).str.match(r'OHM Cycles')\n",
        "brand_ohm_cycles = brand_ohm_cycles[brand_ohm_cycles['Valid']==True].drop(columns=['Valid','transaction_id','product_id',\n",
        "                                                                                               'transaction_date','online_order',\n",
        "                                                                                               'order_status','product_line','product_class',\n",
        "                                                                                               'product_size','list_price','standard_cost',\n",
        "                                                                                               'product_first_sold_date','profit'],axis = 1)\n",
        "brand_ohm_cycles = pd.DataFrame(brand_ohm_cycles.groupby('customer_id')['brand'].value_counts())\n",
        "brand_ohm_cycles.columns = ['OHM Cycles']\n",
        "brand_ohm_cycles.reset_index(level=0,inplace = True)\n",
        "brand_ohm_cycles.reset_index(level=0,inplace = True)\n",
        "brand_ohm_cycles.drop(columns=['brand'], axis = 1,inplace=True)\n",
        "\n",
        "\n",
        "brand_trek_bicycles = df3.copy(deep=True)\n",
        "brand_trek_bicycles['Valid'] = brand_trek_bicycles['brand'].astype(str).str.match(r'Trek Bicycles')\n",
        "brand_trek_bicycles = brand_trek_bicycles[brand_trek_bicycles['Valid']==True].drop(columns=['Valid','transaction_id','product_id',\n",
        "                                                                                               'transaction_date','online_order',\n",
        "                                                                                               'order_status','product_line','product_class',\n",
        "                                                                                               'product_size','list_price','standard_cost',\n",
        "                                                                                               'product_first_sold_date','profit'],axis = 1)\n",
        "brand_trek_bicycles = pd.DataFrame(brand_trek_bicycles.groupby('customer_id')['brand'].value_counts())\n",
        "brand_trek_bicycles.columns = ['Trek Bicycles']\n",
        "brand_trek_bicycles.reset_index(level=0,inplace = True)\n",
        "brand_trek_bicycles.reset_index(level=0,inplace = True)\n",
        "brand_trek_bicycles.drop(columns=['brand'], axis = 1,inplace=True)\n",
        "\n",
        "\n",
        "brand_norco_bicycles = df3.copy(deep=True)\n",
        "brand_norco_bicycles['Valid'] = brand_norco_bicycles['brand'].astype(str).str.match(r'Norco Bicycles')\n",
        "brand_norco_bicycles = brand_norco_bicycles[brand_norco_bicycles['Valid']==True].drop(columns=['Valid','transaction_id','product_id',\n",
        "                                                                                               'transaction_date','online_order',\n",
        "                                                                                               'order_status','product_line','product_class',\n",
        "                                                                                               'product_size','list_price','standard_cost',\n",
        "                                                                                               'product_first_sold_date','profit'], axis = 1)\n",
        "brand_norco_bicycles = pd.DataFrame(brand_norco_bicycles.groupby('customer_id')['brand'].value_counts())\n",
        "brand_norco_bicycles.columns = ['Norco Bicycles']\n",
        "brand_norco_bicycles.reset_index(level=0,inplace = True)\n",
        "brand_norco_bicycles.reset_index(level=0,inplace = True)\n",
        "brand_norco_bicycles.drop(columns=['brand'], axis = 1,inplace=True)\n"
      ],
      "execution_count": null,
      "outputs": []
    },
    {
      "cell_type": "code",
      "metadata": {
        "id": "jPOQUTxG4XwN",
        "outputId": "9bebbf2c-4fb7-49b0-d09c-c15fe1109bda",
        "colab": {
          "base_uri": "https://localhost:8080/",
          "height": 436
        }
      },
      "source": [
        "def brands_dataframe(brand_list):\n",
        "  brand_list = [brand_solex,brand_giant_bicycles,brand_weareA2B,brand_ohm_cycles,brand_trek_bicycles,brand_norco_bicycles]\n",
        "  left_brands_2nd = brand_list[0]\n",
        "  right_brands_2nd = brand_list[1]\n",
        "  brands_2nd_merge = pd.merge(left = left_brands_2nd,right = right_brands_2nd,how='outer', sort = True)\n",
        "  left_brands_3rd = brands_2nd_merge\n",
        "  right_brands_3rd = brand_list[2]\n",
        "  brands_3rd_merge = pd.merge(left = left_brands_3rd,right = right_brands_3rd, how='outer', sort = True )\n",
        "  left_brands_4th = brands_3rd_merge\n",
        "  right_brands_4th = brand_list[3]\n",
        "  brands_4th_merge = pd.merge(left = left_brands_4th, right = right_brands_4th, how = 'outer', sort = True)\n",
        "  left_brands_5th = brands_4th_merge\n",
        "  right_brands_5th = brand_list[4]\n",
        "  brands_5th_merge = pd.merge(left = left_brands_5th, right = right_brands_5th, how = 'outer', sort = True)\n",
        "  left_brands_6th = brands_5th_merge\n",
        "  right_brands_6th = brand_list[5]\n",
        "  brands_6th_merge = pd.merge(left = left_brands_6th, right = right_brands_6th, how = 'outer', sort = True)  \n",
        "  return brands_6th_merge\n",
        "\n",
        "brand_list = [brand_solex,brand_giant_bicycles,brand_weareA2B,brand_ohm_cycles,brand_trek_bicycles,brand_norco_bicycles]\n",
        "df_brands = pd.DataFrame(brands_dataframe(brand_list))\n",
        "\n",
        "df_brands.info()\n",
        "df_brands.fillna(value = 0, inplace = True)\n",
        "df_brands.head()"
      ],
      "execution_count": null,
      "outputs": [
        {
          "output_type": "stream",
          "text": [
            "<class 'pandas.core.frame.DataFrame'>\n",
            "Int64Index: 3492 entries, 0 to 3491\n",
            "Data columns (total 7 columns):\n",
            " #   Column          Non-Null Count  Dtype  \n",
            "---  ------          --------------  -----  \n",
            " 0   customer_id     3492 non-null   int64  \n",
            " 1   Solex           2446 non-null   float64\n",
            " 2   Giant Bicycles  2155 non-null   float64\n",
            " 3   WeareA2B        2138 non-null   float64\n",
            " 4   OHM Cycles      1994 non-null   float64\n",
            " 5   Trek Bicycles   2004 non-null   float64\n",
            " 6   Norco Bicycles  1922 non-null   float64\n",
            "dtypes: float64(6), int64(1)\n",
            "memory usage: 218.2 KB\n"
          ],
          "name": "stdout"
        },
        {
          "output_type": "execute_result",
          "data": {
            "text/html": [
              "<div>\n",
              "<style scoped>\n",
              "    .dataframe tbody tr th:only-of-type {\n",
              "        vertical-align: middle;\n",
              "    }\n",
              "\n",
              "    .dataframe tbody tr th {\n",
              "        vertical-align: top;\n",
              "    }\n",
              "\n",
              "    .dataframe thead th {\n",
              "        text-align: right;\n",
              "    }\n",
              "</style>\n",
              "<table border=\"1\" class=\"dataframe\">\n",
              "  <thead>\n",
              "    <tr style=\"text-align: right;\">\n",
              "      <th></th>\n",
              "      <th>customer_id</th>\n",
              "      <th>Solex</th>\n",
              "      <th>Giant Bicycles</th>\n",
              "      <th>WeareA2B</th>\n",
              "      <th>OHM Cycles</th>\n",
              "      <th>Trek Bicycles</th>\n",
              "      <th>Norco Bicycles</th>\n",
              "    </tr>\n",
              "  </thead>\n",
              "  <tbody>\n",
              "    <tr>\n",
              "      <th>0</th>\n",
              "      <td>1</td>\n",
              "      <td>2.0</td>\n",
              "      <td>4.0</td>\n",
              "      <td>0.0</td>\n",
              "      <td>2.0</td>\n",
              "      <td>1.0</td>\n",
              "      <td>2.0</td>\n",
              "    </tr>\n",
              "    <tr>\n",
              "      <th>1</th>\n",
              "      <td>2</td>\n",
              "      <td>0.0</td>\n",
              "      <td>1.0</td>\n",
              "      <td>2.0</td>\n",
              "      <td>0.0</td>\n",
              "      <td>0.0</td>\n",
              "      <td>0.0</td>\n",
              "    </tr>\n",
              "    <tr>\n",
              "      <th>2</th>\n",
              "      <td>3</td>\n",
              "      <td>0.0</td>\n",
              "      <td>2.0</td>\n",
              "      <td>0.0</td>\n",
              "      <td>0.0</td>\n",
              "      <td>3.0</td>\n",
              "      <td>2.0</td>\n",
              "    </tr>\n",
              "    <tr>\n",
              "      <th>3</th>\n",
              "      <td>4</td>\n",
              "      <td>1.0</td>\n",
              "      <td>1.0</td>\n",
              "      <td>0.0</td>\n",
              "      <td>0.0</td>\n",
              "      <td>0.0</td>\n",
              "      <td>0.0</td>\n",
              "    </tr>\n",
              "    <tr>\n",
              "      <th>4</th>\n",
              "      <td>5</td>\n",
              "      <td>1.0</td>\n",
              "      <td>1.0</td>\n",
              "      <td>1.0</td>\n",
              "      <td>0.0</td>\n",
              "      <td>1.0</td>\n",
              "      <td>2.0</td>\n",
              "    </tr>\n",
              "  </tbody>\n",
              "</table>\n",
              "</div>"
            ],
            "text/plain": [
              "   customer_id  Solex  ...  Trek Bicycles  Norco Bicycles\n",
              "0            1    2.0  ...            1.0             2.0\n",
              "1            2    0.0  ...            0.0             0.0\n",
              "2            3    0.0  ...            3.0             2.0\n",
              "3            4    1.0  ...            0.0             0.0\n",
              "4            5    1.0  ...            1.0             2.0\n",
              "\n",
              "[5 rows x 7 columns]"
            ]
          },
          "metadata": {
            "tags": []
          },
          "execution_count": 191
        }
      ]
    },
    {
      "cell_type": "code",
      "metadata": {
        "id": "il5A8sn3ChJ3"
      },
      "source": [
        ""
      ],
      "execution_count": null,
      "outputs": []
    },
    {
      "cell_type": "markdown",
      "metadata": {
        "id": "EzLsNXDX4LX3"
      },
      "source": [
        "**Understanding The Distribution of Datasets**"
      ]
    },
    {
      "cell_type": "code",
      "metadata": {
        "id": "E1Da7R7J4QQO",
        "outputId": "d6ee0361-2218-4c0a-fa0b-9fd47f89be8c",
        "colab": {
          "base_uri": "https://localhost:8080/",
          "height": 1000
        }
      },
      "source": [
        "for col in df.columns:\n",
        "  print('Unique Value in Feature \"{}\":'.format(col))\n",
        "  print(df[col].value_counts())"
      ],
      "execution_count": null,
      "outputs": [
        {
          "output_type": "stream",
          "text": [
            "Unique Value in Feature \"customer_id\":\n",
            "4000    1\n",
            "1346    1\n",
            "1344    1\n",
            "1343    1\n",
            "1342    1\n",
            "       ..\n",
            "2664    1\n",
            "2663    1\n",
            "2662    1\n",
            "2661    1\n",
            "1       1\n",
            "Name: customer_id, Length: 3908, dtype: int64\n",
            "Unique Value in Feature \"name\":\n",
            "Corabelle            2\n",
            "Stormie Smyth        1\n",
            "Gardiner Nutley      1\n",
            "Ham Pietrusiak       1\n",
            "Lian Madrell         1\n",
            "                    ..\n",
            "Griffith Minor       1\n",
            "Aldous Cubin         1\n",
            "Donovan Conry        1\n",
            "Ganny Dwerryhouse    1\n",
            "Antons Ley           1\n",
            "Name: name, Length: 3907, dtype: int64\n",
            "Unique Value in Feature \"gender\":\n",
            "Female    2037\n",
            "Male      1871\n",
            "Name: gender, dtype: int64\n",
            "Unique Value in Feature \"DOB\":\n",
            "1978-01-30    7\n",
            "1976-09-25    4\n",
            "1976-07-16    4\n",
            "1978-08-19    4\n",
            "1962-12-17    4\n",
            "             ..\n",
            "1991-09-04    1\n",
            "1985-08-06    1\n",
            "1972-05-21    1\n",
            "1985-12-22    1\n",
            "1977-03-08    1\n",
            "Name: DOB, Length: 3443, dtype: int64\n",
            "Unique Value in Feature \"age\":\n",
            "42.0    244\n",
            "43.0    178\n",
            "46.0    145\n",
            "44.0    144\n",
            "41.0    128\n",
            "40.0    126\n",
            "45.0    122\n",
            "34.0    117\n",
            "47.0    104\n",
            "61.0     90\n",
            "25.0     87\n",
            "39.0     86\n",
            "33.0     82\n",
            "23.0     79\n",
            "53.0     78\n",
            "56.0     77\n",
            "31.0     77\n",
            "49.0     76\n",
            "58.0     76\n",
            "35.0     75\n",
            "55.0     74\n",
            "22.0     71\n",
            "26.0     71\n",
            "21.0     71\n",
            "52.0     69\n",
            "51.0     68\n",
            "32.0     68\n",
            "27.0     66\n",
            "28.0     66\n",
            "54.0     66\n",
            "24.0     66\n",
            "60.0     66\n",
            "48.0     66\n",
            "50.0     65\n",
            "64.0     63\n",
            "63.0     63\n",
            "57.0     62\n",
            "30.0     60\n",
            "66.0     58\n",
            "65.0     58\n",
            "59.0     58\n",
            "62.0     57\n",
            "38.0     47\n",
            "29.0     47\n",
            "20.0     46\n",
            "37.0     41\n",
            "36.0     40\n",
            "19.0     33\n",
            "18.0     16\n",
            "67.0     10\n",
            "76.0      1\n",
            "88.0      1\n",
            "80.0      1\n",
            "85.0      1\n",
            "77.0      1\n",
            "Name: age, dtype: int64\n",
            "Unique Value in Feature \"address\":\n",
            "3 Talisman Place           2\n",
            "64 Macpherson Junction     2\n",
            "3 Mariners Cove Terrace    2\n",
            "3 Florence Drive           1\n",
            "21 West Avenue             1\n",
            "                          ..\n",
            "76 Graedel Street          1\n",
            "61976 Emmet Junction       1\n",
            "33 Prentice Street         1\n",
            "14 Bunting Alley           1\n",
            "53 Dunning Lane            1\n",
            "Name: address, Length: 3905, dtype: int64\n",
            "Unique Value in Feature \"postcode\":\n",
            "2170    30\n",
            "2155    30\n",
            "2145    29\n",
            "2153    29\n",
            "3977    26\n",
            "        ..\n",
            "2549     1\n",
            "3122     1\n",
            "3644     1\n",
            "3116     1\n",
            "4721     1\n",
            "Name: postcode, Length: 865, dtype: int64\n",
            "Unique Value in Feature \"state\":\n",
            "NSW    2089\n",
            "VIC     998\n",
            "QLD     821\n",
            "Name: state, dtype: int64\n",
            "Unique Value in Feature \"country\":\n",
            "Australia    3908\n",
            "Name: country, dtype: int64\n",
            "Unique Value in Feature \"deceased_indicator\":\n",
            "N    3906\n",
            "Y       2\n",
            "Name: deceased_indicator, dtype: int64\n",
            "Unique Value in Feature \"job_title\":\n",
            "Other                                   495\n",
            "Tax Accountant                           43\n",
            "Business Systems Development Analyst     43\n",
            "Social Worker                            42\n",
            "Recruiting Manager                       40\n",
            "                                       ... \n",
            "Staff Accountant I                        4\n",
            "Health Coach III                          3\n",
            "Research Assistant III                    3\n",
            "Health Coach I                            3\n",
            "Developer I                               1\n",
            "Name: job_title, Length: 196, dtype: int64\n",
            "Unique Value in Feature \"job_industry_category\":\n",
            "Manufacturing         796\n",
            "Financial Services    766\n",
            "Other                 655\n",
            "Health                596\n",
            "Retail                358\n",
            "Property              266\n",
            "IT                    150\n",
            "Entertainment         136\n",
            "Argiculture           113\n",
            "Telecommunications     72\n",
            "Name: job_industry_category, dtype: int64\n",
            "Unique Value in Feature \"tenure\":\n",
            "7     235\n",
            "5     228\n",
            "11    220\n",
            "10    218\n",
            "16    215\n",
            "8     211\n",
            "18    208\n",
            "12    202\n",
            "14    200\n",
            "9     200\n",
            "6     192\n",
            "4     191\n",
            "13    191\n",
            "17    182\n",
            "15    178\n",
            "1     165\n",
            "3     160\n",
            "19    159\n",
            "2     150\n",
            "20     94\n",
            "22     55\n",
            "21     54\n",
            "Name: tenure, dtype: int64\n",
            "Unique Value in Feature \"past_3_years_bike_related_purchases\":\n",
            "19    55\n",
            "16    55\n",
            "20    53\n",
            "67    52\n",
            "2     50\n",
            "      ..\n",
            "86    27\n",
            "8     27\n",
            "85    27\n",
            "95    26\n",
            "92    24\n",
            "Name: past_3_years_bike_related_purchases, Length: 100, dtype: int64\n",
            "Unique Value in Feature \"owns_car\":\n",
            "Yes    1971\n",
            "No     1937\n",
            "Name: owns_car, dtype: int64\n",
            "Unique Value in Feature \"property_valuation\":\n",
            "9     634\n",
            "8     628\n",
            "10    563\n",
            "7     480\n",
            "11    277\n",
            "6     232\n",
            "5     223\n",
            "4     211\n",
            "12    189\n",
            "3     182\n",
            "1     151\n",
            "2     138\n",
            "Name: property_valuation, dtype: int64\n",
            "Unique Value in Feature \"wealth_segment\":\n",
            "Mass Customer        1951\n",
            "High Net Worth        995\n",
            "Affluent Customer     962\n",
            "Name: wealth_segment, dtype: int64\n"
          ],
          "name": "stdout"
        }
      ]
    },
    {
      "cell_type": "markdown",
      "metadata": {
        "id": "f6bOm-E5Og_o"
      },
      "source": [
        "Information is included by sex and age group as follows: 0-14 years (children), 15-24 years (early working age), 25-54 years (prime working age), 55-64 years (mature working age), 65 years and over (elderly)."
      ]
    },
    {
      "cell_type": "code",
      "metadata": {
        "id": "kBL36oE2tGjp",
        "outputId": "ecf4b6dc-5003-4d13-a471-43629ba54796",
        "colab": {
          "base_uri": "https://localhost:8080/",
          "height": 170
        }
      },
      "source": [
        "df.age.describe()"
      ],
      "execution_count": null,
      "outputs": [
        {
          "output_type": "execute_result",
          "data": {
            "text/plain": [
              "count    3908.000000\n",
              "mean       42.709826\n",
              "std        12.618103\n",
              "min        18.000000\n",
              "25%        33.000000\n",
              "50%        43.000000\n",
              "75%        52.000000\n",
              "max        88.000000\n",
              "Name: age, dtype: float64"
            ]
          },
          "metadata": {
            "tags": []
          },
          "execution_count": 84
        }
      ]
    },
    {
      "cell_type": "code",
      "metadata": {
        "id": "sW5qxlGkOkRK",
        "outputId": "8f088136-a756-482d-a6e8-0431af20a2b7",
        "colab": {
          "base_uri": "https://localhost:8080/",
          "height": 405
        }
      },
      "source": [
        "bins = [18, 25, 55, 65, 100]\n",
        "labels = ['18-24', '25-54', '55-64', '65+']\n",
        "df['age_range'] = pd.cut(df.age, bins, labels = labels,include_lowest = True)\n",
        "\n",
        "df.head()"
      ],
      "execution_count": null,
      "outputs": [
        {
          "output_type": "execute_result",
          "data": {
            "text/html": [
              "<div>\n",
              "<style scoped>\n",
              "    .dataframe tbody tr th:only-of-type {\n",
              "        vertical-align: middle;\n",
              "    }\n",
              "\n",
              "    .dataframe tbody tr th {\n",
              "        vertical-align: top;\n",
              "    }\n",
              "\n",
              "    .dataframe thead th {\n",
              "        text-align: right;\n",
              "    }\n",
              "</style>\n",
              "<table border=\"1\" class=\"dataframe\">\n",
              "  <thead>\n",
              "    <tr style=\"text-align: right;\">\n",
              "      <th></th>\n",
              "      <th>customer_id</th>\n",
              "      <th>name</th>\n",
              "      <th>gender</th>\n",
              "      <th>DOB</th>\n",
              "      <th>age</th>\n",
              "      <th>address</th>\n",
              "      <th>postcode</th>\n",
              "      <th>state</th>\n",
              "      <th>country</th>\n",
              "      <th>deceased_indicator</th>\n",
              "      <th>job_title</th>\n",
              "      <th>job_industry_category</th>\n",
              "      <th>tenure</th>\n",
              "      <th>past_3_years_bike_related_purchases</th>\n",
              "      <th>owns_car</th>\n",
              "      <th>property_valuation</th>\n",
              "      <th>wealth_segment</th>\n",
              "      <th>age_range</th>\n",
              "    </tr>\n",
              "  </thead>\n",
              "  <tbody>\n",
              "    <tr>\n",
              "      <th>0</th>\n",
              "      <td>1</td>\n",
              "      <td>Laraine Medendorp</td>\n",
              "      <td>Female</td>\n",
              "      <td>1953-10-12 00:00:00</td>\n",
              "      <td>66.0</td>\n",
              "      <td>060 Morning Avenue</td>\n",
              "      <td>2016</td>\n",
              "      <td>NSW</td>\n",
              "      <td>Australia</td>\n",
              "      <td>N</td>\n",
              "      <td>Executive Secretary</td>\n",
              "      <td>Health</td>\n",
              "      <td>11</td>\n",
              "      <td>93</td>\n",
              "      <td>Yes</td>\n",
              "      <td>10</td>\n",
              "      <td>Mass Customer</td>\n",
              "      <td>65+</td>\n",
              "    </tr>\n",
              "    <tr>\n",
              "      <th>1</th>\n",
              "      <td>2</td>\n",
              "      <td>Eli Bockman</td>\n",
              "      <td>Male</td>\n",
              "      <td>1980-12-16 00:00:00</td>\n",
              "      <td>39.0</td>\n",
              "      <td>6 Meadow Vale Court</td>\n",
              "      <td>2153</td>\n",
              "      <td>NSW</td>\n",
              "      <td>Australia</td>\n",
              "      <td>N</td>\n",
              "      <td>Administrative Officer</td>\n",
              "      <td>Financial Services</td>\n",
              "      <td>16</td>\n",
              "      <td>81</td>\n",
              "      <td>Yes</td>\n",
              "      <td>10</td>\n",
              "      <td>Mass Customer</td>\n",
              "      <td>25-54</td>\n",
              "    </tr>\n",
              "    <tr>\n",
              "      <th>2</th>\n",
              "      <td>4</td>\n",
              "      <td>Talbot</td>\n",
              "      <td>Male</td>\n",
              "      <td>1961-10-03 00:00:00</td>\n",
              "      <td>59.0</td>\n",
              "      <td>0 Holy Cross Court</td>\n",
              "      <td>4211</td>\n",
              "      <td>QLD</td>\n",
              "      <td>Australia</td>\n",
              "      <td>N</td>\n",
              "      <td>Other</td>\n",
              "      <td>IT</td>\n",
              "      <td>7</td>\n",
              "      <td>33</td>\n",
              "      <td>No</td>\n",
              "      <td>9</td>\n",
              "      <td>Mass Customer</td>\n",
              "      <td>55-64</td>\n",
              "    </tr>\n",
              "    <tr>\n",
              "      <th>3</th>\n",
              "      <td>5</td>\n",
              "      <td>Sheila-kathryn Calton</td>\n",
              "      <td>Female</td>\n",
              "      <td>1977-05-13 00:00:00</td>\n",
              "      <td>43.0</td>\n",
              "      <td>17979 Del Mar Point</td>\n",
              "      <td>2448</td>\n",
              "      <td>NSW</td>\n",
              "      <td>Australia</td>\n",
              "      <td>N</td>\n",
              "      <td>Senior Editor</td>\n",
              "      <td>Other</td>\n",
              "      <td>8</td>\n",
              "      <td>56</td>\n",
              "      <td>Yes</td>\n",
              "      <td>4</td>\n",
              "      <td>Affluent Customer</td>\n",
              "      <td>25-54</td>\n",
              "    </tr>\n",
              "    <tr>\n",
              "      <th>4</th>\n",
              "      <td>6</td>\n",
              "      <td>Curr Duckhouse</td>\n",
              "      <td>Male</td>\n",
              "      <td>1966-09-16 00:00:00</td>\n",
              "      <td>54.0</td>\n",
              "      <td>9 Oakridge Court</td>\n",
              "      <td>3216</td>\n",
              "      <td>VIC</td>\n",
              "      <td>Australia</td>\n",
              "      <td>N</td>\n",
              "      <td>Other</td>\n",
              "      <td>Retail</td>\n",
              "      <td>13</td>\n",
              "      <td>35</td>\n",
              "      <td>Yes</td>\n",
              "      <td>9</td>\n",
              "      <td>High Net Worth</td>\n",
              "      <td>25-54</td>\n",
              "    </tr>\n",
              "  </tbody>\n",
              "</table>\n",
              "</div>"
            ],
            "text/plain": [
              "0 customer_id                   name  ...     wealth_segment age_range\n",
              "0           1      Laraine Medendorp  ...      Mass Customer       65+\n",
              "1           2            Eli Bockman  ...      Mass Customer     25-54\n",
              "2           4                 Talbot  ...      Mass Customer     55-64\n",
              "3           5  Sheila-kathryn Calton  ...  Affluent Customer     25-54\n",
              "4           6         Curr Duckhouse  ...     High Net Worth     25-54\n",
              "\n",
              "[5 rows x 18 columns]"
            ]
          },
          "metadata": {
            "tags": []
          },
          "execution_count": 85
        }
      ]
    },
    {
      "cell_type": "code",
      "metadata": {
        "id": "8ZYFlvxovwHJ",
        "outputId": "a2893fcd-40a5-4ac8-9950-9dc38caabd83",
        "colab": {
          "base_uri": "https://localhost:8080/",
          "height": 443
        }
      },
      "source": [
        "df.info()"
      ],
      "execution_count": null,
      "outputs": [
        {
          "output_type": "stream",
          "text": [
            "<class 'pandas.core.frame.DataFrame'>\n",
            "Int64Index: 3908 entries, 0 to 3907\n",
            "Data columns (total 18 columns):\n",
            " #   Column                               Non-Null Count  Dtype   \n",
            "---  ------                               --------------  -----   \n",
            " 0   customer_id                          3908 non-null   object  \n",
            " 1   name                                 3908 non-null   object  \n",
            " 2   gender                               3908 non-null   object  \n",
            " 3   DOB                                  3908 non-null   object  \n",
            " 4   age                                  3908 non-null   float64 \n",
            " 5   address                              3908 non-null   object  \n",
            " 6   postcode                             3908 non-null   int64   \n",
            " 7   state                                3908 non-null   object  \n",
            " 8   country                              3908 non-null   object  \n",
            " 9   deceased_indicator                   3908 non-null   object  \n",
            " 10  job_title                            3908 non-null   object  \n",
            " 11  job_industry_category                3908 non-null   object  \n",
            " 12  tenure                               3908 non-null   object  \n",
            " 13  past_3_years_bike_related_purchases  3908 non-null   object  \n",
            " 14  owns_car                             3908 non-null   object  \n",
            " 15  property_valuation                   3908 non-null   int64   \n",
            " 16  wealth_segment                       3908 non-null   object  \n",
            " 17  age_range                            3908 non-null   category\n",
            "dtypes: category(1), float64(1), int64(2), object(14)\n",
            "memory usage: 553.6+ KB\n"
          ],
          "name": "stdout"
        }
      ]
    },
    {
      "cell_type": "code",
      "metadata": {
        "id": "M5TCKsjll2KQ"
      },
      "source": [
        "df['past_3_years_bike_related_purchases'] = df['past_3_years_bike_related_purchases'].astype(int)\n",
        "df['tenure'] = df['tenure'].astype(int) \n",
        "df['customer_id'] = df['customer_id'].astype(int)"
      ],
      "execution_count": null,
      "outputs": []
    },
    {
      "cell_type": "code",
      "metadata": {
        "id": "Vaj1vvjGmCpr",
        "outputId": "cab00ee5-811b-4881-e936-a826a3f440a3",
        "colab": {
          "base_uri": "https://localhost:8080/",
          "height": 436
        }
      },
      "source": [
        "df.info()"
      ],
      "execution_count": null,
      "outputs": [
        {
          "output_type": "stream",
          "text": [
            "<class 'pandas.core.frame.DataFrame'>\n",
            "Int64Index: 3908 entries, 0 to 3907\n",
            "Data columns (total 18 columns):\n",
            " #   Column                               Non-Null Count  Dtype   \n",
            "---  ------                               --------------  -----   \n",
            " 0   customer_id                          3908 non-null   int64   \n",
            " 1   name                                 3908 non-null   object  \n",
            " 2   gender                               3908 non-null   object  \n",
            " 3   DOB                                  3908 non-null   object  \n",
            " 4   age                                  3908 non-null   float64 \n",
            " 5   address                              3908 non-null   object  \n",
            " 6   postcode                             3908 non-null   int64   \n",
            " 7   state                                3908 non-null   object  \n",
            " 8   country                              3908 non-null   object  \n",
            " 9   deceased_indicator                   3908 non-null   object  \n",
            " 10  job_title                            3908 non-null   object  \n",
            " 11  job_industry_category                3908 non-null   object  \n",
            " 12  tenure                               3908 non-null   int64   \n",
            " 13  past_3_years_bike_related_purchases  3908 non-null   int64   \n",
            " 14  owns_car                             3908 non-null   object  \n",
            " 15  property_valuation                   3908 non-null   int64   \n",
            " 16  wealth_segment                       3908 non-null   object  \n",
            " 17  age_range                            3908 non-null   category\n",
            "dtypes: category(1), float64(1), int64(5), object(11)\n",
            "memory usage: 553.6+ KB\n"
          ],
          "name": "stdout"
        }
      ]
    },
    {
      "cell_type": "code",
      "metadata": {
        "id": "_dDGwq-kv9qa",
        "outputId": "da115d1f-d024-4f07-d40f-3c1597454d55",
        "colab": {
          "base_uri": "https://localhost:8080/",
          "height": 117
        }
      },
      "source": [
        "df.columns"
      ],
      "execution_count": null,
      "outputs": [
        {
          "output_type": "execute_result",
          "data": {
            "text/plain": [
              "Index(['customer_id', 'name', 'gender', 'DOB', 'age', 'address', 'postcode',\n",
              "       'state', 'country', 'deceased_indicator', 'job_title',\n",
              "       'job_industry_category', 'tenure',\n",
              "       'past_3_years_bike_related_purchases', 'owns_car', 'property_valuation',\n",
              "       'wealth_segment', 'age_range'],\n",
              "      dtype='object', name=0)"
            ]
          },
          "metadata": {
            "tags": []
          },
          "execution_count": 168
        }
      ]
    },
    {
      "cell_type": "code",
      "metadata": {
        "id": "BmnjZOjkwAg-",
        "outputId": "557fcdcd-8725-43e3-896a-65f3f60c33b8",
        "colab": {
          "base_uri": "https://localhost:8080/",
          "height": 153
        }
      },
      "source": [
        "df = df.reindex(columns= ['customer_id', 'name', 'gender', 'DOB', 'age', 'age_range', 'address', 'postcode',\n",
        "       'state', 'country', 'deceased_indicator', 'job_title',\n",
        "       'job_industry_category', 'tenure',\n",
        "       'past_3_years_bike_related_purchases', 'owns_car', 'property_valuation',\n",
        "       'wealth_segment'])\n",
        "df = df.rename_axis(None, axis = 1)\n",
        "print(df.head())"
      ],
      "execution_count": null,
      "outputs": [
        {
          "output_type": "stream",
          "text": [
            "   customer_id                   name  ... property_valuation     wealth_segment\n",
            "0            1      Laraine Medendorp  ...                 10      Mass Customer\n",
            "1            2            Eli Bockman  ...                 10      Mass Customer\n",
            "2            4                 Talbot  ...                  9      Mass Customer\n",
            "3            5  Sheila-kathryn Calton  ...                  4  Affluent Customer\n",
            "4            6         Curr Duckhouse  ...                  9     High Net Worth\n",
            "\n",
            "[5 rows x 18 columns]\n"
          ],
          "name": "stdout"
        }
      ]
    },
    {
      "cell_type": "code",
      "metadata": {
        "id": "XKJUpntywHs2",
        "outputId": "f723049b-075e-4492-c679-907858a10a22",
        "colab": {
          "base_uri": "https://localhost:8080/",
          "height": 405
        }
      },
      "source": [
        "df.head()"
      ],
      "execution_count": null,
      "outputs": [
        {
          "output_type": "execute_result",
          "data": {
            "text/html": [
              "<div>\n",
              "<style scoped>\n",
              "    .dataframe tbody tr th:only-of-type {\n",
              "        vertical-align: middle;\n",
              "    }\n",
              "\n",
              "    .dataframe tbody tr th {\n",
              "        vertical-align: top;\n",
              "    }\n",
              "\n",
              "    .dataframe thead th {\n",
              "        text-align: right;\n",
              "    }\n",
              "</style>\n",
              "<table border=\"1\" class=\"dataframe\">\n",
              "  <thead>\n",
              "    <tr style=\"text-align: right;\">\n",
              "      <th></th>\n",
              "      <th>customer_id</th>\n",
              "      <th>name</th>\n",
              "      <th>gender</th>\n",
              "      <th>DOB</th>\n",
              "      <th>age</th>\n",
              "      <th>age_range</th>\n",
              "      <th>address</th>\n",
              "      <th>postcode</th>\n",
              "      <th>state</th>\n",
              "      <th>country</th>\n",
              "      <th>deceased_indicator</th>\n",
              "      <th>job_title</th>\n",
              "      <th>job_industry_category</th>\n",
              "      <th>tenure</th>\n",
              "      <th>past_3_years_bike_related_purchases</th>\n",
              "      <th>owns_car</th>\n",
              "      <th>property_valuation</th>\n",
              "      <th>wealth_segment</th>\n",
              "    </tr>\n",
              "  </thead>\n",
              "  <tbody>\n",
              "    <tr>\n",
              "      <th>0</th>\n",
              "      <td>1</td>\n",
              "      <td>Laraine Medendorp</td>\n",
              "      <td>Female</td>\n",
              "      <td>1953-10-12 00:00:00</td>\n",
              "      <td>66.0</td>\n",
              "      <td>65+</td>\n",
              "      <td>060 Morning Avenue</td>\n",
              "      <td>2016</td>\n",
              "      <td>NSW</td>\n",
              "      <td>Australia</td>\n",
              "      <td>N</td>\n",
              "      <td>Executive Secretary</td>\n",
              "      <td>Health</td>\n",
              "      <td>11</td>\n",
              "      <td>93</td>\n",
              "      <td>Yes</td>\n",
              "      <td>10</td>\n",
              "      <td>Mass Customer</td>\n",
              "    </tr>\n",
              "    <tr>\n",
              "      <th>1</th>\n",
              "      <td>2</td>\n",
              "      <td>Eli Bockman</td>\n",
              "      <td>Male</td>\n",
              "      <td>1980-12-16 00:00:00</td>\n",
              "      <td>39.0</td>\n",
              "      <td>25-54</td>\n",
              "      <td>6 Meadow Vale Court</td>\n",
              "      <td>2153</td>\n",
              "      <td>NSW</td>\n",
              "      <td>Australia</td>\n",
              "      <td>N</td>\n",
              "      <td>Administrative Officer</td>\n",
              "      <td>Financial Services</td>\n",
              "      <td>16</td>\n",
              "      <td>81</td>\n",
              "      <td>Yes</td>\n",
              "      <td>10</td>\n",
              "      <td>Mass Customer</td>\n",
              "    </tr>\n",
              "    <tr>\n",
              "      <th>2</th>\n",
              "      <td>4</td>\n",
              "      <td>Talbot</td>\n",
              "      <td>Male</td>\n",
              "      <td>1961-10-03 00:00:00</td>\n",
              "      <td>59.0</td>\n",
              "      <td>55-64</td>\n",
              "      <td>0 Holy Cross Court</td>\n",
              "      <td>4211</td>\n",
              "      <td>QLD</td>\n",
              "      <td>Australia</td>\n",
              "      <td>N</td>\n",
              "      <td>Other</td>\n",
              "      <td>IT</td>\n",
              "      <td>7</td>\n",
              "      <td>33</td>\n",
              "      <td>No</td>\n",
              "      <td>9</td>\n",
              "      <td>Mass Customer</td>\n",
              "    </tr>\n",
              "    <tr>\n",
              "      <th>3</th>\n",
              "      <td>5</td>\n",
              "      <td>Sheila-kathryn Calton</td>\n",
              "      <td>Female</td>\n",
              "      <td>1977-05-13 00:00:00</td>\n",
              "      <td>43.0</td>\n",
              "      <td>25-54</td>\n",
              "      <td>17979 Del Mar Point</td>\n",
              "      <td>2448</td>\n",
              "      <td>NSW</td>\n",
              "      <td>Australia</td>\n",
              "      <td>N</td>\n",
              "      <td>Senior Editor</td>\n",
              "      <td>Other</td>\n",
              "      <td>8</td>\n",
              "      <td>56</td>\n",
              "      <td>Yes</td>\n",
              "      <td>4</td>\n",
              "      <td>Affluent Customer</td>\n",
              "    </tr>\n",
              "    <tr>\n",
              "      <th>4</th>\n",
              "      <td>6</td>\n",
              "      <td>Curr Duckhouse</td>\n",
              "      <td>Male</td>\n",
              "      <td>1966-09-16 00:00:00</td>\n",
              "      <td>54.0</td>\n",
              "      <td>25-54</td>\n",
              "      <td>9 Oakridge Court</td>\n",
              "      <td>3216</td>\n",
              "      <td>VIC</td>\n",
              "      <td>Australia</td>\n",
              "      <td>N</td>\n",
              "      <td>Other</td>\n",
              "      <td>Retail</td>\n",
              "      <td>13</td>\n",
              "      <td>35</td>\n",
              "      <td>Yes</td>\n",
              "      <td>9</td>\n",
              "      <td>High Net Worth</td>\n",
              "    </tr>\n",
              "  </tbody>\n",
              "</table>\n",
              "</div>"
            ],
            "text/plain": [
              "   customer_id                   name  ... property_valuation     wealth_segment\n",
              "0            1      Laraine Medendorp  ...                 10      Mass Customer\n",
              "1            2            Eli Bockman  ...                 10      Mass Customer\n",
              "2            4                 Talbot  ...                  9      Mass Customer\n",
              "3            5  Sheila-kathryn Calton  ...                  4  Affluent Customer\n",
              "4            6         Curr Duckhouse  ...                  9     High Net Worth\n",
              "\n",
              "[5 rows x 18 columns]"
            ]
          },
          "metadata": {
            "tags": []
          },
          "execution_count": 89
        }
      ]
    },
    {
      "cell_type": "code",
      "metadata": {
        "id": "bjHR9I3ESg63",
        "outputId": "dc6d6d33-8a99-4266-9a76-95d0115ebf81",
        "colab": {
          "base_uri": "https://localhost:8080/",
          "height": 68
        }
      },
      "source": [
        "print(df['age_range'].values)"
      ],
      "execution_count": null,
      "outputs": [
        {
          "output_type": "stream",
          "text": [
            "['65+', '25-54', '55-64', '25-54', '25-54', ..., '25-54', '25-54', '18-24', '25-54', '25-54']\n",
            "Length: 3908\n",
            "Categories (4, object): ['18-24' < '25-54' < '55-64' < '65+']\n"
          ],
          "name": "stdout"
        }
      ]
    },
    {
      "cell_type": "markdown",
      "metadata": {
        "id": "UPl1P75zfOKf"
      },
      "source": [
        "--> Tenure Vs Age Segmentation"
      ]
    },
    {
      "cell_type": "code",
      "metadata": {
        "id": "LYjATMGiy4zQ",
        "outputId": "300b55bd-afcc-4d4f-a62f-b3e7e4b1921d",
        "colab": {
          "base_uri": "https://localhost:8080/",
          "height": 591
        }
      },
      "source": [
        "subject = ['tenure']\n",
        "data1 = df.groupby('age_range')[subject].mean()\n",
        "index = np.arange(len(subject))\n",
        "#score = np.arange(0,100,10)\n",
        "early_working = list(data1.T['18-24'])\n",
        "prime_working = list(data1.T['25-54'])\n",
        "mature_working = list(data1.T['55-64'])\n",
        "elderly = list(data1.T['65+']) \n",
        "#data1 = data1.reset_index(drop = True)\n",
        "#fig,ax = plt.subplots()\n",
        "bar_width = 0.1\n",
        "plt.figure(figsize=[10,10])\n",
        "plt.bar(index,early_working, width = bar_width, color = 'yellow', label = 'Early Working Age', zorder = 2)\n",
        "plt.bar(index + bar_width , prime_working, width=bar_width, color = 'red', label = 'Prime Working Age',zorder = 2)\n",
        "plt.bar(index + bar_width*2, mature_working,width = bar_width, color = 'blue', label = 'Mature Working Age',zorder = 2)\n",
        "plt.bar(index + bar_width*3,elderly, width = bar_width, color = 'green',label = 'Elderly',zorder = 2)\n",
        "\n",
        "plt.xticks(index + bar_width*1.48,subject)\n",
        "plt.ylabel('year')\n",
        "plt.legend()\n",
        "plt.grid(axis='y')\n",
        "plt.ylim(0,15)\n",
        "plt.show()"
      ],
      "execution_count": null,
      "outputs": [
        {
          "output_type": "display_data",
          "data": {
            "image/png": "[encoded data removed]",
            "text/plain": [
              "<Figure size 720x720 with 1 Axes>"
            ]
          },
          "metadata": {
            "tags": [],
            "needs_background": "light"
          }
        }
      ]
    },
    {
      "cell_type": "markdown",
      "metadata": {
        "id": "t0rT0uc-W5VM"
      },
      "source": [
        "--> Population Distribution in each states based on wealth segment"
      ]
    },
    {
      "cell_type": "code",
      "metadata": {
        "id": "2YPb9Xzj-eA5"
      },
      "source": [
        "state_nsw = df.copy(deep= True)\n",
        "state_nsw['Valid'] = state_nsw['state'].astype(str).str.match(r'NSW')\n",
        "state_nsw = state_nsw[state_nsw['Valid'] == True]\n",
        "state_nsw = state_nsw['wealth_segment'].value_counts().rename_axis('unique_values').reset_index(name='counts')\n",
        "state_nsw = state_nsw.T\n",
        "col_nsw = state_nsw.iloc[0]\n",
        "state_nsw.columns = col_nsw\n",
        "state_nsw = state_nsw.drop('unique_values').rename(index = {'counts':'NSW'})\n",
        "state_nsw.columns.name = None\n",
        "\n",
        "state_qld = df.copy(deep= True)\n",
        "state_qld['Valid'] = state_qld['state'].astype(str).str.match(r'QLD')\n",
        "state_qld = state_qld[state_qld['Valid'] == True]\n",
        "state_qld = state_qld['wealth_segment'].value_counts().rename_axis('unique_values').reset_index(name='counts')\n",
        "state_qld = state_qld.T\n",
        "col_qld = state_qld.iloc[0]\n",
        "state_qld.columns = col_qld\n",
        "state_qld = state_qld.drop('unique_values').rename(index = {'counts':'QLD'})\n",
        "state_qld.columns.name = None\n",
        "\n",
        "state_vic = df.copy(deep= True)\n",
        "state_vic['Valid'] = state_vic['state'].astype(str).str.match(r'VIC')\n",
        "state_vic = state_vic[state_vic['Valid'] == True]\n",
        "state_vic = state_vic['wealth_segment'].value_counts().rename_axis('unique_values').reset_index(name='counts')\n",
        "state_vic = state_vic.T\n",
        "col_vic = state_vic.iloc[0]\n",
        "state_vic.columns = col_vic\n",
        "state_vic = state_vic.drop('unique_values').rename(index = {'counts':'VIC'})\n",
        "state_vic.columns.name = None"
      ],
      "execution_count": null,
      "outputs": []
    },
    {
      "cell_type": "code",
      "metadata": {
        "id": "YaMHcR2659a5",
        "outputId": "788c6d27-edb3-4e63-e6ba-26b8d47831e9",
        "colab": {
          "base_uri": "https://localhost:8080/",
          "height": 117
        }
      },
      "source": [
        "print(state_nsw)\n",
        "print(state_qld)\n",
        "print(state_vic)"
      ],
      "execution_count": null,
      "outputs": [
        {
          "output_type": "stream",
          "text": [
            "    Mass Customer High Net Worth Affluent Customer\n",
            "NSW          1039            535               515\n",
            "    Mass Customer Affluent Customer High Net Worth\n",
            "QLD           407               209            205\n",
            "    Mass Customer High Net Worth Affluent Customer\n",
            "VIC           505            255               238\n"
          ],
          "name": "stdout"
        }
      ]
    },
    {
      "cell_type": "code",
      "metadata": {
        "id": "g-jZpS8mPdMX",
        "outputId": "3120f941-e9bb-4b85-ce94-187e8309de49",
        "colab": {
          "base_uri": "https://localhost:8080/",
          "height": 133
        }
      },
      "source": [
        "df_state = pd.concat([state_nsw,state_qld,state_vic])\n",
        "df_state"
      ],
      "execution_count": null,
      "outputs": [
        {
          "output_type": "execute_result",
          "data": {
            "text/html": [
              "<div>\n",
              "<style scoped>\n",
              "    .dataframe tbody tr th:only-of-type {\n",
              "        vertical-align: middle;\n",
              "    }\n",
              "\n",
              "    .dataframe tbody tr th {\n",
              "        vertical-align: top;\n",
              "    }\n",
              "\n",
              "    .dataframe thead th {\n",
              "        text-align: right;\n",
              "    }\n",
              "</style>\n",
              "<table border=\"1\" class=\"dataframe\">\n",
              "  <thead>\n",
              "    <tr style=\"text-align: right;\">\n",
              "      <th></th>\n",
              "      <th>Mass Customer</th>\n",
              "      <th>High Net Worth</th>\n",
              "      <th>Affluent Customer</th>\n",
              "    </tr>\n",
              "  </thead>\n",
              "  <tbody>\n",
              "    <tr>\n",
              "      <th>NSW</th>\n",
              "      <td>1039</td>\n",
              "      <td>535</td>\n",
              "      <td>515</td>\n",
              "    </tr>\n",
              "    <tr>\n",
              "      <th>QLD</th>\n",
              "      <td>407</td>\n",
              "      <td>205</td>\n",
              "      <td>209</td>\n",
              "    </tr>\n",
              "    <tr>\n",
              "      <th>VIC</th>\n",
              "      <td>505</td>\n",
              "      <td>255</td>\n",
              "      <td>238</td>\n",
              "    </tr>\n",
              "  </tbody>\n",
              "</table>\n",
              "</div>"
            ],
            "text/plain": [
              "    Mass Customer High Net Worth Affluent Customer\n",
              "NSW          1039            535               515\n",
              "QLD           407            205               209\n",
              "VIC           505            255               238"
            ]
          },
          "metadata": {
            "tags": []
          },
          "execution_count": 58
        }
      ]
    },
    {
      "cell_type": "code",
      "metadata": {
        "id": "tyVcjLYpQdtq",
        "outputId": "bf1eafc3-3f62-41e6-fe99-5b6953780ca6",
        "colab": {
          "base_uri": "https://localhost:8080/",
          "height": 595
        }
      },
      "source": [
        "wealth_segment = ['Mass Customer','High Net Worth','Affluent Customer']\n",
        "index = np.arange(len(wealth_segment))\n",
        "NSW = list(df_state.T['NSW'])\n",
        "QLD = list(df_state.T['QLD'])\n",
        "VIC = list(df_state.T['VIC'])\n",
        "#data1 = data1.reset_index(drop = True)\n",
        "#fig,ax = plt.subplots()\n",
        "bar_width = 0.25\n",
        "plt.figure(figsize=[10,10])\n",
        "plt.bar(index,NSW, width = bar_width, color = 'yellow', label = 'New South Wales', zorder = 2)\n",
        "plt.bar(index + bar_width , QLD, width=bar_width, color = 'red', label = 'Queensland',zorder = 2)\n",
        "plt.bar(index + bar_width*2, VIC,width = bar_width, color = 'blue', label = 'Victoria',zorder = 2)\n",
        "\n",
        "plt.xticks(index + bar_width*1,wealth_segment,fontsize='large')\n",
        "plt.yticks(fontsize = 'large')\n",
        "plt.ylabel('Population', fontsize='large')\n",
        "plt.legend(fontsize='large')\n",
        "plt.grid(axis='y')\n",
        "plt.show()"
      ],
      "execution_count": null,
      "outputs": [
        {
          "output_type": "display_data",
          "data": {
            "image/png": "[encoded data removed]",
            "text/plain": [
              "<Figure size 720x720 with 1 Axes>"
            ]
          },
          "metadata": {
            "tags": [],
            "needs_background": "light"
          }
        }
      ]
    },
    {
      "cell_type": "markdown",
      "metadata": {
        "id": "jelpDnu3XFNd"
      },
      "source": [
        "--> Age Vs bike related purchase"
      ]
    },
    {
      "cell_type": "code",
      "metadata": {
        "id": "BUEZwOhfXQJ9",
        "outputId": "6b29693f-a0eb-4f2c-f1db-4d9a78f1444b",
        "colab": {
          "base_uri": "https://localhost:8080/",
          "height": 591
        }
      },
      "source": [
        "subject_bike_purchase = ['past_3_years_bike_related_purchases']\n",
        "data_bike_purchase_vs_age = df.groupby('age_range')[subject_bike_purchase].sum()\n",
        "index = np.arange(len([subject_bike_purchase]))\n",
        "#score = np.arange(0,100,10)\n",
        "early_working = list(data_bike_purchase_vs_age.T['18-24'])\n",
        "prime_working = list(data_bike_purchase_vs_age.T['25-54'])\n",
        "mature_working = list(data_bike_purchase_vs_age.T['55-64'])\n",
        "elderly = list(data_bike_purchase_vs_age.T['65+']) \n",
        "#data1 = data1.reset_index(drop = True)\n",
        "#fig,ax = plt.subplots()\n",
        "bar_width = 0.1\n",
        "plt.figure(figsize=[10,10])\n",
        "plt.bar(index,early_working, width = bar_width, color = 'yellow', label = 'Early Working Age', zorder = 2)\n",
        "plt.bar(index + bar_width , prime_working, width=bar_width, color = 'red', label = 'Prime Working Age',zorder = 2)\n",
        "plt.bar(index + bar_width*2, mature_working,width = bar_width, color = 'blue', label = 'Mature Working Age',zorder = 2)\n",
        "plt.bar(index + bar_width*3,elderly, width = bar_width, color = 'green',label = 'Elderly',zorder = 2)\n",
        "\n",
        "plt.xticks(index + bar_width*1.48,subject_bike_purchase)\n",
        "plt.ylabel('Total Purchase')\n",
        "plt.legend()\n",
        "plt.grid(axis='y')\n",
        "#plt.ylim(0,60)\n",
        "plt.show()\n"
      ],
      "execution_count": null,
      "outputs": [
        {
          "output_type": "display_data",
          "data": {
            "image/png": "[encoded data removed]",
            "text/plain": [
              "<Figure size 720x720 with 1 Axes>"
            ]
          },
          "metadata": {
            "tags": [],
            "needs_background": "light"
          }
        }
      ]
    },
    {
      "cell_type": "code",
      "metadata": {
        "id": "A96T4xRJ9Vgn",
        "outputId": "b4834148-ec83-472a-a0d7-66fcafc20210",
        "colab": {
          "base_uri": "https://localhost:8080/",
          "height": 274
        }
      },
      "source": [
        "df3.head()"
      ],
      "execution_count": null,
      "outputs": [
        {
          "output_type": "execute_result",
          "data": {
            "text/html": [
              "<div>\n",
              "<style scoped>\n",
              "    .dataframe tbody tr th:only-of-type {\n",
              "        vertical-align: middle;\n",
              "    }\n",
              "\n",
              "    .dataframe tbody tr th {\n",
              "        vertical-align: top;\n",
              "    }\n",
              "\n",
              "    .dataframe thead th {\n",
              "        text-align: right;\n",
              "    }\n",
              "</style>\n",
              "<table border=\"1\" class=\"dataframe\">\n",
              "  <thead>\n",
              "    <tr style=\"text-align: right;\">\n",
              "      <th></th>\n",
              "      <th>transaction_id</th>\n",
              "      <th>product_id</th>\n",
              "      <th>customer_id</th>\n",
              "      <th>transaction_date</th>\n",
              "      <th>online_order</th>\n",
              "      <th>order_status</th>\n",
              "      <th>brand</th>\n",
              "      <th>product_line</th>\n",
              "      <th>product_class</th>\n",
              "      <th>product_size</th>\n",
              "      <th>list_price</th>\n",
              "      <th>standard_cost</th>\n",
              "      <th>product_first_sold_date</th>\n",
              "    </tr>\n",
              "  </thead>\n",
              "  <tbody>\n",
              "    <tr>\n",
              "      <th>0</th>\n",
              "      <td>1</td>\n",
              "      <td>2</td>\n",
              "      <td>2950</td>\n",
              "      <td>2017-02-25 00:00:00</td>\n",
              "      <td>False</td>\n",
              "      <td>Approved</td>\n",
              "      <td>Solex</td>\n",
              "      <td>Standard</td>\n",
              "      <td>medium</td>\n",
              "      <td>medium</td>\n",
              "      <td>71.49</td>\n",
              "      <td>53.62</td>\n",
              "      <td>41245</td>\n",
              "    </tr>\n",
              "    <tr>\n",
              "      <th>1</th>\n",
              "      <td>2</td>\n",
              "      <td>3</td>\n",
              "      <td>3120</td>\n",
              "      <td>2017-05-21 00:00:00</td>\n",
              "      <td>True</td>\n",
              "      <td>Approved</td>\n",
              "      <td>Trek Bicycles</td>\n",
              "      <td>Standard</td>\n",
              "      <td>medium</td>\n",
              "      <td>large</td>\n",
              "      <td>2091.47</td>\n",
              "      <td>388.92</td>\n",
              "      <td>41701</td>\n",
              "    </tr>\n",
              "    <tr>\n",
              "      <th>2</th>\n",
              "      <td>3</td>\n",
              "      <td>37</td>\n",
              "      <td>402</td>\n",
              "      <td>2017-10-16 00:00:00</td>\n",
              "      <td>False</td>\n",
              "      <td>Approved</td>\n",
              "      <td>OHM Cycles</td>\n",
              "      <td>Standard</td>\n",
              "      <td>low</td>\n",
              "      <td>medium</td>\n",
              "      <td>1793.43</td>\n",
              "      <td>248.82</td>\n",
              "      <td>36361</td>\n",
              "    </tr>\n",
              "    <tr>\n",
              "      <th>3</th>\n",
              "      <td>4</td>\n",
              "      <td>88</td>\n",
              "      <td>3135</td>\n",
              "      <td>2017-08-31 00:00:00</td>\n",
              "      <td>False</td>\n",
              "      <td>Approved</td>\n",
              "      <td>Norco Bicycles</td>\n",
              "      <td>Standard</td>\n",
              "      <td>medium</td>\n",
              "      <td>medium</td>\n",
              "      <td>1198.46</td>\n",
              "      <td>381.1</td>\n",
              "      <td>36145</td>\n",
              "    </tr>\n",
              "    <tr>\n",
              "      <th>4</th>\n",
              "      <td>5</td>\n",
              "      <td>78</td>\n",
              "      <td>787</td>\n",
              "      <td>2017-10-01 00:00:00</td>\n",
              "      <td>True</td>\n",
              "      <td>Approved</td>\n",
              "      <td>Giant Bicycles</td>\n",
              "      <td>Standard</td>\n",
              "      <td>medium</td>\n",
              "      <td>large</td>\n",
              "      <td>1765.3</td>\n",
              "      <td>709.48</td>\n",
              "      <td>42226</td>\n",
              "    </tr>\n",
              "  </tbody>\n",
              "</table>\n",
              "</div>"
            ],
            "text/plain": [
              "0 transaction_id product_id  ... standard_cost product_first_sold_date\n",
              "0              1          2  ...         53.62                   41245\n",
              "1              2          3  ...        388.92                   41701\n",
              "2              3         37  ...        248.82                   36361\n",
              "3              4         88  ...         381.1                   36145\n",
              "4              5         78  ...        709.48                   42226\n",
              "\n",
              "[5 rows x 13 columns]"
            ]
          },
          "metadata": {
            "tags": []
          },
          "execution_count": 61
        }
      ]
    },
    {
      "cell_type": "code",
      "metadata": {
        "id": "ANkMLAS8GIYa"
      },
      "source": [
        ""
      ],
      "execution_count": null,
      "outputs": []
    }
  ]
}