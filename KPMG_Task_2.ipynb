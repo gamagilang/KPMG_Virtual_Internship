{
  "nbformat": 4,
  "nbformat_minor": 0,
  "metadata": {
    "colab": {
      "name": "KPMG Task 2.ipynb",
      "provenance": [],
      "collapsed_sections": [],
      "authorship_tag": "ABX9TyMkDf5M+UkYtoyHnhtwMAb+",
      "include_colab_link": true
    },
    "kernelspec": {
      "name": "python3",
      "display_name": "Python 3"
    }
  },
  "cells": [
    {
      "cell_type": "markdown",
      "metadata": {
        "id": "view-in-github",
        "colab_type": "text"
      },
      "source": [
        "<a href=\"https://colab.research.google.com/github/gamagilang/KPMG_Virtual_Internship/blob/master/KPMG_Task_2.ipynb\" target=\"_parent\"><img src=\"https://colab.research.google.com/assets/colab-badge.svg\" alt=\"Open In Colab\"/></a>"
      ]
    },
    {
      "cell_type": "code",
      "metadata": {
        "id": "ILixkD4uqMZw",
        "colab": {
          "base_uri": "https://localhost:8080/"
        },
        "outputId": "df742a8c-6ebb-4658-ad9b-01380b49ea5d"
      },
      "source": [
        "! git clone https://github.com/gamagilang/KPMG_Virtual_Internship.git"
      ],
      "execution_count": null,
      "outputs": [
        {
          "output_type": "stream",
          "text": [
            "Cloning into 'KPMG_Virtual_Internship'...\n",
            "remote: Enumerating objects: 22, done.\u001b[K\n",
            "remote: Counting objects: 100% (22/22), done.\u001b[K\n",
            "remote: Compressing objects: 100% (21/21), done.\u001b[K\n",
            "remote: Total 22 (delta 6), reused 0 (delta 0), pack-reused 0\u001b[K\n",
            "Unpacking objects: 100% (22/22), done.\n"
          ],
          "name": "stdout"
        }
      ]
    },
    {
      "cell_type": "code",
      "metadata": {
        "id": "7huGzZDKNb0_"
      },
      "source": [
        "S = 'Hello'"
      ],
      "execution_count": null,
      "outputs": []
    },
    {
      "cell_type": "code",
      "metadata": {
        "colab": {
          "base_uri": "https://localhost:8080/",
          "height": 34
        },
        "id": "gyoerkhGNsjF",
        "outputId": "c96629db-4166-4c48-f957-d6b6618ec3a9"
      },
      "source": [
        "S = S.replace(S[0],\"\")\n",
        "S"
      ],
      "execution_count": null,
      "outputs": [
        {
          "output_type": "execute_result",
          "data": {
            "application/vnd.google.colaboratory.intrinsic+json": {
              "type": "string"
            },
            "text/plain": [
              "'ello'"
            ]
          },
          "metadata": {
            "tags": []
          },
          "execution_count": 4
        }
      ]
    },
    {
      "cell_type": "code",
      "metadata": {
        "id": "Brwd35bYqWw5"
      },
      "source": [
        "import pandas as pd\n",
        "import numpy as np\n",
        "import matplotlib.pyplot as plt"
      ],
      "execution_count": null,
      "outputs": []
    },
    {
      "cell_type": "markdown",
      "metadata": {
        "id": "NsN0fW_murxx"
      },
      "source": [
        "**Import Excel File**"
      ]
    },
    {
      "cell_type": "code",
      "metadata": {
        "id": "L2drHsYgkOfk"
      },
      "source": [
        "xl = pd.ExcelFile('/content/KPMG_Virtual_Internship/KPMG_VI_New_raw_data_update_final.xlsx')"
      ],
      "execution_count": null,
      "outputs": []
    },
    {
      "cell_type": "code",
      "metadata": {
        "id": "J5wnquPAkS2m",
        "colab": {
          "base_uri": "https://localhost:8080/"
        },
        "outputId": "f7f9caeb-e56f-43a3-8014-6df90e591ca3"
      },
      "source": [
        "xl.sheet_names"
      ],
      "execution_count": null,
      "outputs": [
        {
          "output_type": "execute_result",
          "data": {
            "text/plain": [
              "['Title Sheet',\n",
              " 'Transactions',\n",
              " 'NewCustomerList',\n",
              " 'CustomerDemographic',\n",
              " 'CustomerAddress']"
            ]
          },
          "metadata": {
            "tags": []
          },
          "execution_count": 7
        }
      ]
    },
    {
      "cell_type": "code",
      "metadata": {
        "id": "K0cX-UZ8oFUI",
        "colab": {
          "base_uri": "https://localhost:8080/",
          "height": 560
        },
        "outputId": "7a3907ce-95b0-4271-a415-d2a1e7ae73e5"
      },
      "source": [
        "print('Customer Demographic Data Frame:\\n')\n",
        "df1 = pd.read_excel('/content/KPMG_Virtual_Internship/KPMG_VI_New_raw_data_update_final.xlsx', sheet_name= 'CustomerDemographic')\n",
        "df1.head(5)"
      ],
      "execution_count": null,
      "outputs": [
        {
          "output_type": "stream",
          "text": [
            "Customer Demographic Data Frame:\n",
            "\n"
          ],
          "name": "stdout"
        },
        {
          "output_type": "execute_result",
          "data": {
            "text/html": [
              "<div>\n",
              "<style scoped>\n",
              "    .dataframe tbody tr th:only-of-type {\n",
              "        vertical-align: middle;\n",
              "    }\n",
              "\n",
              "    .dataframe tbody tr th {\n",
              "        vertical-align: top;\n",
              "    }\n",
              "\n",
              "    .dataframe thead th {\n",
              "        text-align: right;\n",
              "    }\n",
              "</style>\n",
              "<table border=\"1\" class=\"dataframe\">\n",
              "  <thead>\n",
              "    <tr style=\"text-align: right;\">\n",
              "      <th></th>\n",
              "      <th>Note: The data and information in this document is reflective of a hypothetical situation and client. This document is to be used for KPMG Virtual Internship purposes only.</th>\n",
              "      <th>Unnamed: 1</th>\n",
              "      <th>Unnamed: 2</th>\n",
              "      <th>Unnamed: 3</th>\n",
              "      <th>Unnamed: 4</th>\n",
              "      <th>Unnamed: 5</th>\n",
              "      <th>Unnamed: 6</th>\n",
              "      <th>Unnamed: 7</th>\n",
              "      <th>Unnamed: 8</th>\n",
              "      <th>Unnamed: 9</th>\n",
              "      <th>Unnamed: 10</th>\n",
              "      <th>Unnamed: 11</th>\n",
              "      <th>Unnamed: 12</th>\n",
              "    </tr>\n",
              "  </thead>\n",
              "  <tbody>\n",
              "    <tr>\n",
              "      <th>0</th>\n",
              "      <td>customer_id</td>\n",
              "      <td>first_name</td>\n",
              "      <td>last_name</td>\n",
              "      <td>gender</td>\n",
              "      <td>past_3_years_bike_related_purchases</td>\n",
              "      <td>DOB</td>\n",
              "      <td>job_title</td>\n",
              "      <td>job_industry_category</td>\n",
              "      <td>wealth_segment</td>\n",
              "      <td>deceased_indicator</td>\n",
              "      <td>default</td>\n",
              "      <td>owns_car</td>\n",
              "      <td>tenure</td>\n",
              "    </tr>\n",
              "    <tr>\n",
              "      <th>1</th>\n",
              "      <td>1</td>\n",
              "      <td>Laraine</td>\n",
              "      <td>Medendorp</td>\n",
              "      <td>F</td>\n",
              "      <td>93</td>\n",
              "      <td>1953-10-12 00:00:00</td>\n",
              "      <td>Executive Secretary</td>\n",
              "      <td>Health</td>\n",
              "      <td>Mass Customer</td>\n",
              "      <td>N</td>\n",
              "      <td>\"'</td>\n",
              "      <td>Yes</td>\n",
              "      <td>11</td>\n",
              "    </tr>\n",
              "    <tr>\n",
              "      <th>2</th>\n",
              "      <td>2</td>\n",
              "      <td>Eli</td>\n",
              "      <td>Bockman</td>\n",
              "      <td>Male</td>\n",
              "      <td>81</td>\n",
              "      <td>1980-12-16 00:00:00</td>\n",
              "      <td>Administrative Officer</td>\n",
              "      <td>Financial Services</td>\n",
              "      <td>Mass Customer</td>\n",
              "      <td>N</td>\n",
              "      <td>&lt;script&gt;alert('hi')&lt;/script&gt;</td>\n",
              "      <td>Yes</td>\n",
              "      <td>16</td>\n",
              "    </tr>\n",
              "    <tr>\n",
              "      <th>3</th>\n",
              "      <td>3</td>\n",
              "      <td>Arlin</td>\n",
              "      <td>Dearle</td>\n",
              "      <td>Male</td>\n",
              "      <td>61</td>\n",
              "      <td>1954-01-20 00:00:00</td>\n",
              "      <td>Recruiting Manager</td>\n",
              "      <td>Property</td>\n",
              "      <td>Mass Customer</td>\n",
              "      <td>N</td>\n",
              "      <td>2018-02-01 00:00:00</td>\n",
              "      <td>Yes</td>\n",
              "      <td>15</td>\n",
              "    </tr>\n",
              "    <tr>\n",
              "      <th>4</th>\n",
              "      <td>4</td>\n",
              "      <td>Talbot</td>\n",
              "      <td>NaN</td>\n",
              "      <td>Male</td>\n",
              "      <td>33</td>\n",
              "      <td>1961-10-03 00:00:00</td>\n",
              "      <td>NaN</td>\n",
              "      <td>IT</td>\n",
              "      <td>Mass Customer</td>\n",
              "      <td>N</td>\n",
              "      <td>() { _; } &gt;_[$($())] { touch /tmp/blns.shellsh...</td>\n",
              "      <td>No</td>\n",
              "      <td>7</td>\n",
              "    </tr>\n",
              "  </tbody>\n",
              "</table>\n",
              "</div>"
            ],
            "text/plain": [
              "  Note: The data and information in this document is reflective of a hypothetical situation and client. This document is to be used for KPMG Virtual Internship purposes only.   ... Unnamed: 12\n",
              "0                                        customer_id                                                                                                                             ...      tenure\n",
              "1                                                  1                                                                                                                             ...          11\n",
              "2                                                  2                                                                                                                             ...          16\n",
              "3                                                  3                                                                                                                             ...          15\n",
              "4                                                  4                                                                                                                             ...           7\n",
              "\n",
              "[5 rows x 13 columns]"
            ]
          },
          "metadata": {
            "tags": []
          },
          "execution_count": 8
        }
      ]
    },
    {
      "cell_type": "code",
      "metadata": {
        "id": "izsZRahJ5atL",
        "colab": {
          "base_uri": "https://localhost:8080/",
          "height": 308
        },
        "outputId": "ed802d33-26df-4fcc-a442-71b8b7b4392d"
      },
      "source": [
        "print('Customer Adress Data Frame:\\n')\n",
        "df2 = pd.read_excel('/content/KPMG_Virtual_Internship/KPMG_VI_New_raw_data_update_final.xlsx', sheet_name= 'CustomerAddress')\n",
        "df2.head(5)"
      ],
      "execution_count": null,
      "outputs": [
        {
          "output_type": "stream",
          "text": [
            "Customer Adress Data Frame:\n",
            "\n"
          ],
          "name": "stdout"
        },
        {
          "output_type": "execute_result",
          "data": {
            "text/html": [
              "<div>\n",
              "<style scoped>\n",
              "    .dataframe tbody tr th:only-of-type {\n",
              "        vertical-align: middle;\n",
              "    }\n",
              "\n",
              "    .dataframe tbody tr th {\n",
              "        vertical-align: top;\n",
              "    }\n",
              "\n",
              "    .dataframe thead th {\n",
              "        text-align: right;\n",
              "    }\n",
              "</style>\n",
              "<table border=\"1\" class=\"dataframe\">\n",
              "  <thead>\n",
              "    <tr style=\"text-align: right;\">\n",
              "      <th></th>\n",
              "      <th>Note: The data and information in this document is reflective of a hypothetical situation and client. This document is to be used for KPMG Virtual Internship purposes only.</th>\n",
              "      <th>Unnamed: 1</th>\n",
              "      <th>Unnamed: 2</th>\n",
              "      <th>Unnamed: 3</th>\n",
              "      <th>Unnamed: 4</th>\n",
              "      <th>Unnamed: 5</th>\n",
              "    </tr>\n",
              "  </thead>\n",
              "  <tbody>\n",
              "    <tr>\n",
              "      <th>0</th>\n",
              "      <td>customer_id</td>\n",
              "      <td>address</td>\n",
              "      <td>postcode</td>\n",
              "      <td>state</td>\n",
              "      <td>country</td>\n",
              "      <td>property_valuation</td>\n",
              "    </tr>\n",
              "    <tr>\n",
              "      <th>1</th>\n",
              "      <td>1</td>\n",
              "      <td>060 Morning Avenue</td>\n",
              "      <td>2016</td>\n",
              "      <td>New South Wales</td>\n",
              "      <td>Australia</td>\n",
              "      <td>10</td>\n",
              "    </tr>\n",
              "    <tr>\n",
              "      <th>2</th>\n",
              "      <td>2</td>\n",
              "      <td>6 Meadow Vale Court</td>\n",
              "      <td>2153</td>\n",
              "      <td>New South Wales</td>\n",
              "      <td>Australia</td>\n",
              "      <td>10</td>\n",
              "    </tr>\n",
              "    <tr>\n",
              "      <th>3</th>\n",
              "      <td>4</td>\n",
              "      <td>0 Holy Cross Court</td>\n",
              "      <td>4211</td>\n",
              "      <td>QLD</td>\n",
              "      <td>Australia</td>\n",
              "      <td>9</td>\n",
              "    </tr>\n",
              "    <tr>\n",
              "      <th>4</th>\n",
              "      <td>5</td>\n",
              "      <td>17979 Del Mar Point</td>\n",
              "      <td>2448</td>\n",
              "      <td>New South Wales</td>\n",
              "      <td>Australia</td>\n",
              "      <td>4</td>\n",
              "    </tr>\n",
              "  </tbody>\n",
              "</table>\n",
              "</div>"
            ],
            "text/plain": [
              "  Note: The data and information in this document is reflective of a hypothetical situation and client. This document is to be used for KPMG Virtual Internship purposes only.   ...          Unnamed: 5\n",
              "0                                        customer_id                                                                                                                             ...  property_valuation\n",
              "1                                                  1                                                                                                                             ...                  10\n",
              "2                                                  2                                                                                                                             ...                  10\n",
              "3                                                  4                                                                                                                             ...                   9\n",
              "4                                                  5                                                                                                                             ...                   4\n",
              "\n",
              "[5 rows x 6 columns]"
            ]
          },
          "metadata": {
            "tags": []
          },
          "execution_count": 9
        }
      ]
    },
    {
      "cell_type": "code",
      "metadata": {
        "id": "hyfzNQWJ5h_w",
        "colab": {
          "base_uri": "https://localhost:8080/",
          "height": 224
        },
        "outputId": "d5524911-371a-49fb-fb7d-d59eb669d86f"
      },
      "source": [
        "print('Transaction Data Frame:\\n')\n",
        "df3 = pd.read_excel('/content/KPMG_Virtual_Internship/KPMG_VI_New_raw_data_update_final.xlsx', sheet_name= 'Transactions')\n",
        "df3.head(5)"
      ],
      "execution_count": null,
      "outputs": [
        {
          "output_type": "stream",
          "text": [
            "Transaction Data Frame:\n",
            "\n"
          ],
          "name": "stdout"
        },
        {
          "output_type": "execute_result",
          "data": {
            "text/html": [
              "<div>\n",
              "<style scoped>\n",
              "    .dataframe tbody tr th:only-of-type {\n",
              "        vertical-align: middle;\n",
              "    }\n",
              "\n",
              "    .dataframe tbody tr th {\n",
              "        vertical-align: top;\n",
              "    }\n",
              "\n",
              "    .dataframe thead th {\n",
              "        text-align: right;\n",
              "    }\n",
              "</style>\n",
              "<table border=\"1\" class=\"dataframe\">\n",
              "  <thead>\n",
              "    <tr style=\"text-align: right;\">\n",
              "      <th></th>\n",
              "      <th>Unnamed: 0</th>\n",
              "      <th>Unnamed: 1</th>\n",
              "      <th>Unnamed: 2</th>\n",
              "      <th>Unnamed: 3</th>\n",
              "      <th>Unnamed: 4</th>\n",
              "      <th>Unnamed: 5</th>\n",
              "      <th>Unnamed: 6</th>\n",
              "      <th>Unnamed: 7</th>\n",
              "      <th>Unnamed: 8</th>\n",
              "      <th>Unnamed: 9</th>\n",
              "      <th>Unnamed: 10</th>\n",
              "      <th>Unnamed: 11</th>\n",
              "      <th>Unnamed: 12</th>\n",
              "    </tr>\n",
              "  </thead>\n",
              "  <tbody>\n",
              "    <tr>\n",
              "      <th>0</th>\n",
              "      <td>transaction_id</td>\n",
              "      <td>product_id</td>\n",
              "      <td>customer_id</td>\n",
              "      <td>transaction_date</td>\n",
              "      <td>online_order</td>\n",
              "      <td>order_status</td>\n",
              "      <td>brand</td>\n",
              "      <td>product_line</td>\n",
              "      <td>product_class</td>\n",
              "      <td>product_size</td>\n",
              "      <td>list_price</td>\n",
              "      <td>standard_cost</td>\n",
              "      <td>product_first_sold_date</td>\n",
              "    </tr>\n",
              "    <tr>\n",
              "      <th>1</th>\n",
              "      <td>1</td>\n",
              "      <td>2</td>\n",
              "      <td>2950</td>\n",
              "      <td>2017-02-25 00:00:00</td>\n",
              "      <td>False</td>\n",
              "      <td>Approved</td>\n",
              "      <td>Solex</td>\n",
              "      <td>Standard</td>\n",
              "      <td>medium</td>\n",
              "      <td>medium</td>\n",
              "      <td>71.49</td>\n",
              "      <td>53.62</td>\n",
              "      <td>41245</td>\n",
              "    </tr>\n",
              "    <tr>\n",
              "      <th>2</th>\n",
              "      <td>2</td>\n",
              "      <td>3</td>\n",
              "      <td>3120</td>\n",
              "      <td>2017-05-21 00:00:00</td>\n",
              "      <td>True</td>\n",
              "      <td>Approved</td>\n",
              "      <td>Trek Bicycles</td>\n",
              "      <td>Standard</td>\n",
              "      <td>medium</td>\n",
              "      <td>large</td>\n",
              "      <td>2091.47</td>\n",
              "      <td>388.92</td>\n",
              "      <td>41701</td>\n",
              "    </tr>\n",
              "    <tr>\n",
              "      <th>3</th>\n",
              "      <td>3</td>\n",
              "      <td>37</td>\n",
              "      <td>402</td>\n",
              "      <td>2017-10-16 00:00:00</td>\n",
              "      <td>False</td>\n",
              "      <td>Approved</td>\n",
              "      <td>OHM Cycles</td>\n",
              "      <td>Standard</td>\n",
              "      <td>low</td>\n",
              "      <td>medium</td>\n",
              "      <td>1793.43</td>\n",
              "      <td>248.82</td>\n",
              "      <td>36361</td>\n",
              "    </tr>\n",
              "    <tr>\n",
              "      <th>4</th>\n",
              "      <td>4</td>\n",
              "      <td>88</td>\n",
              "      <td>3135</td>\n",
              "      <td>2017-08-31 00:00:00</td>\n",
              "      <td>False</td>\n",
              "      <td>Approved</td>\n",
              "      <td>Norco Bicycles</td>\n",
              "      <td>Standard</td>\n",
              "      <td>medium</td>\n",
              "      <td>medium</td>\n",
              "      <td>1198.46</td>\n",
              "      <td>381.1</td>\n",
              "      <td>36145</td>\n",
              "    </tr>\n",
              "  </tbody>\n",
              "</table>\n",
              "</div>"
            ],
            "text/plain": [
              "       Unnamed: 0  Unnamed: 1  ...    Unnamed: 11              Unnamed: 12\n",
              "0  transaction_id  product_id  ...  standard_cost  product_first_sold_date\n",
              "1               1           2  ...          53.62                    41245\n",
              "2               2           3  ...         388.92                    41701\n",
              "3               3          37  ...         248.82                    36361\n",
              "4               4          88  ...          381.1                    36145\n",
              "\n",
              "[5 rows x 13 columns]"
            ]
          },
          "metadata": {
            "tags": []
          },
          "execution_count": 10
        }
      ]
    },
    {
      "cell_type": "code",
      "metadata": {
        "id": "7kkLJDshSVhL",
        "colab": {
          "base_uri": "https://localhost:8080/",
          "height": 647
        },
        "outputId": "3a714fbd-f183-434e-ed5e-d6e59b935945"
      },
      "source": [
        "print('New Customer List:\\n')\n",
        "df4 = pd.read_excel('/content/KPMG_Virtual_Internship/KPMG_VI_New_raw_data_update_final.xlsx',sheet_name = 'NewCustomerList')\n",
        "df4.head(5)"
      ],
      "execution_count": null,
      "outputs": [
        {
          "output_type": "stream",
          "text": [
            "New Customer List:\n",
            "\n"
          ],
          "name": "stdout"
        },
        {
          "output_type": "execute_result",
          "data": {
            "text/html": [
              "<div>\n",
              "<style scoped>\n",
              "    .dataframe tbody tr th:only-of-type {\n",
              "        vertical-align: middle;\n",
              "    }\n",
              "\n",
              "    .dataframe tbody tr th {\n",
              "        vertical-align: top;\n",
              "    }\n",
              "\n",
              "    .dataframe thead th {\n",
              "        text-align: right;\n",
              "    }\n",
              "</style>\n",
              "<table border=\"1\" class=\"dataframe\">\n",
              "  <thead>\n",
              "    <tr style=\"text-align: right;\">\n",
              "      <th></th>\n",
              "      <th>Note: The data and information in this document is reflective of a hypothetical situation and client. This document is to be used for KPMG Virtual Internship purposes only.</th>\n",
              "      <th>Unnamed: 1</th>\n",
              "      <th>Unnamed: 2</th>\n",
              "      <th>Unnamed: 3</th>\n",
              "      <th>Unnamed: 4</th>\n",
              "      <th>Unnamed: 5</th>\n",
              "      <th>Unnamed: 6</th>\n",
              "      <th>Unnamed: 7</th>\n",
              "      <th>Unnamed: 8</th>\n",
              "      <th>Unnamed: 9</th>\n",
              "      <th>Unnamed: 10</th>\n",
              "      <th>Unnamed: 11</th>\n",
              "      <th>Unnamed: 12</th>\n",
              "      <th>Unnamed: 13</th>\n",
              "      <th>Unnamed: 14</th>\n",
              "      <th>Unnamed: 15</th>\n",
              "      <th>Unnamed: 16</th>\n",
              "      <th>Unnamed: 17</th>\n",
              "      <th>Unnamed: 18</th>\n",
              "      <th>Unnamed: 19</th>\n",
              "      <th>Unnamed: 20</th>\n",
              "      <th>Unnamed: 21</th>\n",
              "      <th>Unnamed: 22</th>\n",
              "    </tr>\n",
              "  </thead>\n",
              "  <tbody>\n",
              "    <tr>\n",
              "      <th>0</th>\n",
              "      <td>first_name</td>\n",
              "      <td>last_name</td>\n",
              "      <td>gender</td>\n",
              "      <td>past_3_years_bike_related_purchases</td>\n",
              "      <td>DOB</td>\n",
              "      <td>job_title</td>\n",
              "      <td>job_industry_category</td>\n",
              "      <td>wealth_segment</td>\n",
              "      <td>deceased_indicator</td>\n",
              "      <td>owns_car</td>\n",
              "      <td>tenure</td>\n",
              "      <td>address</td>\n",
              "      <td>postcode</td>\n",
              "      <td>state</td>\n",
              "      <td>country</td>\n",
              "      <td>property_valuation</td>\n",
              "      <td>NaN</td>\n",
              "      <td>NaN</td>\n",
              "      <td>NaN</td>\n",
              "      <td>NaN</td>\n",
              "      <td>NaN</td>\n",
              "      <td>Rank</td>\n",
              "      <td>Value</td>\n",
              "    </tr>\n",
              "    <tr>\n",
              "      <th>1</th>\n",
              "      <td>Chickie</td>\n",
              "      <td>Brister</td>\n",
              "      <td>Male</td>\n",
              "      <td>86</td>\n",
              "      <td>1957-07-12</td>\n",
              "      <td>General Manager</td>\n",
              "      <td>Manufacturing</td>\n",
              "      <td>Mass Customer</td>\n",
              "      <td>N</td>\n",
              "      <td>Yes</td>\n",
              "      <td>14</td>\n",
              "      <td>45 Shopko Center</td>\n",
              "      <td>4500</td>\n",
              "      <td>QLD</td>\n",
              "      <td>Australia</td>\n",
              "      <td>6</td>\n",
              "      <td>0.79</td>\n",
              "      <td>0.9875</td>\n",
              "      <td>1.234375</td>\n",
              "      <td>1.049219</td>\n",
              "      <td>1.0</td>\n",
              "      <td>1</td>\n",
              "      <td>1.71875</td>\n",
              "    </tr>\n",
              "    <tr>\n",
              "      <th>2</th>\n",
              "      <td>Morly</td>\n",
              "      <td>Genery</td>\n",
              "      <td>Male</td>\n",
              "      <td>69</td>\n",
              "      <td>1970-03-22</td>\n",
              "      <td>Structural Engineer</td>\n",
              "      <td>Property</td>\n",
              "      <td>Mass Customer</td>\n",
              "      <td>N</td>\n",
              "      <td>No</td>\n",
              "      <td>16</td>\n",
              "      <td>14 Mccormick Park</td>\n",
              "      <td>2113</td>\n",
              "      <td>NSW</td>\n",
              "      <td>Australia</td>\n",
              "      <td>11</td>\n",
              "      <td>1.00</td>\n",
              "      <td>1.0000</td>\n",
              "      <td>1.250000</td>\n",
              "      <td>1.062500</td>\n",
              "      <td>1.0</td>\n",
              "      <td>1</td>\n",
              "      <td>1.71875</td>\n",
              "    </tr>\n",
              "    <tr>\n",
              "      <th>3</th>\n",
              "      <td>Ardelis</td>\n",
              "      <td>Forrester</td>\n",
              "      <td>Female</td>\n",
              "      <td>10</td>\n",
              "      <td>1974-08-28 00:00:00</td>\n",
              "      <td>Senior Cost Accountant</td>\n",
              "      <td>Financial Services</td>\n",
              "      <td>Affluent Customer</td>\n",
              "      <td>N</td>\n",
              "      <td>No</td>\n",
              "      <td>10</td>\n",
              "      <td>5 Colorado Crossing</td>\n",
              "      <td>3505</td>\n",
              "      <td>VIC</td>\n",
              "      <td>Australia</td>\n",
              "      <td>5</td>\n",
              "      <td>1.04</td>\n",
              "      <td>1.0400</td>\n",
              "      <td>1.040000</td>\n",
              "      <td>1.040000</td>\n",
              "      <td>1.0</td>\n",
              "      <td>1</td>\n",
              "      <td>1.71875</td>\n",
              "    </tr>\n",
              "    <tr>\n",
              "      <th>4</th>\n",
              "      <td>Lucine</td>\n",
              "      <td>Stutt</td>\n",
              "      <td>Female</td>\n",
              "      <td>64</td>\n",
              "      <td>1979-01-28</td>\n",
              "      <td>Account Representative III</td>\n",
              "      <td>Manufacturing</td>\n",
              "      <td>Affluent Customer</td>\n",
              "      <td>N</td>\n",
              "      <td>Yes</td>\n",
              "      <td>5</td>\n",
              "      <td>207 Annamark Plaza</td>\n",
              "      <td>4814</td>\n",
              "      <td>QLD</td>\n",
              "      <td>Australia</td>\n",
              "      <td>1</td>\n",
              "      <td>0.79</td>\n",
              "      <td>0.9875</td>\n",
              "      <td>0.987500</td>\n",
              "      <td>0.987500</td>\n",
              "      <td>4.0</td>\n",
              "      <td>4</td>\n",
              "      <td>1.70312</td>\n",
              "    </tr>\n",
              "  </tbody>\n",
              "</table>\n",
              "</div>"
            ],
            "text/plain": [
              "  Note: The data and information in this document is reflective of a hypothetical situation and client. This document is to be used for KPMG Virtual Internship purposes only.   ... Unnamed: 22\n",
              "0                                         first_name                                                                                                                             ...       Value\n",
              "1                                            Chickie                                                                                                                             ...     1.71875\n",
              "2                                              Morly                                                                                                                             ...     1.71875\n",
              "3                                            Ardelis                                                                                                                             ...     1.71875\n",
              "4                                             Lucine                                                                                                                             ...     1.70312\n",
              "\n",
              "[5 rows x 23 columns]"
            ]
          },
          "metadata": {
            "tags": []
          },
          "execution_count": 11
        }
      ]
    },
    {
      "cell_type": "markdown",
      "metadata": {
        "id": "r9p4b5238lJ0"
      },
      "source": [
        "**Note** : The Column Labels are invalid or Unnamed. It seems like the 0 row index label of DataFrame are the ACTUAL COLUMN LABELS because there are Note on the first row of Excel File in which the pandas module consider it as the column label. So the furthur Label Cleaning should be done in the following code"
      ]
    },
    {
      "cell_type": "markdown",
      "metadata": {
        "id": "0BMR9BschssF"
      },
      "source": [
        "**Clear Formating each DataFrame**"
      ]
    },
    {
      "cell_type": "code",
      "metadata": {
        "id": "DKijr1-8VRXE"
      },
      "source": [
        "def clear_formating(a,b,c,d):\n",
        "  df = [a,b,c,d]\n",
        "  list_column = []\n",
        "  for i in df:\n",
        "    i.columns = i.iloc[0]\n",
        "    i = i.drop([0]).reset_index(drop = True)\n",
        "    list_column.append(i)\n",
        "  df1,df2,df3,df4 = list_column[0],list_column[1],list_column[2],list_column[3]\n",
        "  return df1,df2,df3,df4\n",
        "df1,df2,df3,df4 = clear_formating(df1,df2,df3,df4)  "
      ],
      "execution_count": null,
      "outputs": []
    },
    {
      "cell_type": "code",
      "metadata": {
        "id": "73Zi8nrraJQi",
        "colab": {
          "base_uri": "https://localhost:8080/",
          "height": 412
        },
        "outputId": "46e3948a-23fa-48e6-c309-740a689b2d6d"
      },
      "source": [
        "print('\\nDataFrame Customer Demographics:')\n",
        "df1.head(5)"
      ],
      "execution_count": null,
      "outputs": [
        {
          "output_type": "stream",
          "text": [
            "\n",
            "DataFrame Customer Demographics:\n"
          ],
          "name": "stdout"
        },
        {
          "output_type": "execute_result",
          "data": {
            "text/html": [
              "<div>\n",
              "<style scoped>\n",
              "    .dataframe tbody tr th:only-of-type {\n",
              "        vertical-align: middle;\n",
              "    }\n",
              "\n",
              "    .dataframe tbody tr th {\n",
              "        vertical-align: top;\n",
              "    }\n",
              "\n",
              "    .dataframe thead th {\n",
              "        text-align: right;\n",
              "    }\n",
              "</style>\n",
              "<table border=\"1\" class=\"dataframe\">\n",
              "  <thead>\n",
              "    <tr style=\"text-align: right;\">\n",
              "      <th></th>\n",
              "      <th>customer_id</th>\n",
              "      <th>first_name</th>\n",
              "      <th>last_name</th>\n",
              "      <th>gender</th>\n",
              "      <th>past_3_years_bike_related_purchases</th>\n",
              "      <th>DOB</th>\n",
              "      <th>job_title</th>\n",
              "      <th>job_industry_category</th>\n",
              "      <th>wealth_segment</th>\n",
              "      <th>deceased_indicator</th>\n",
              "      <th>default</th>\n",
              "      <th>owns_car</th>\n",
              "      <th>tenure</th>\n",
              "    </tr>\n",
              "  </thead>\n",
              "  <tbody>\n",
              "    <tr>\n",
              "      <th>0</th>\n",
              "      <td>1</td>\n",
              "      <td>Laraine</td>\n",
              "      <td>Medendorp</td>\n",
              "      <td>F</td>\n",
              "      <td>93</td>\n",
              "      <td>1953-10-12 00:00:00</td>\n",
              "      <td>Executive Secretary</td>\n",
              "      <td>Health</td>\n",
              "      <td>Mass Customer</td>\n",
              "      <td>N</td>\n",
              "      <td>\"'</td>\n",
              "      <td>Yes</td>\n",
              "      <td>11</td>\n",
              "    </tr>\n",
              "    <tr>\n",
              "      <th>1</th>\n",
              "      <td>2</td>\n",
              "      <td>Eli</td>\n",
              "      <td>Bockman</td>\n",
              "      <td>Male</td>\n",
              "      <td>81</td>\n",
              "      <td>1980-12-16 00:00:00</td>\n",
              "      <td>Administrative Officer</td>\n",
              "      <td>Financial Services</td>\n",
              "      <td>Mass Customer</td>\n",
              "      <td>N</td>\n",
              "      <td>&lt;script&gt;alert('hi')&lt;/script&gt;</td>\n",
              "      <td>Yes</td>\n",
              "      <td>16</td>\n",
              "    </tr>\n",
              "    <tr>\n",
              "      <th>2</th>\n",
              "      <td>3</td>\n",
              "      <td>Arlin</td>\n",
              "      <td>Dearle</td>\n",
              "      <td>Male</td>\n",
              "      <td>61</td>\n",
              "      <td>1954-01-20 00:00:00</td>\n",
              "      <td>Recruiting Manager</td>\n",
              "      <td>Property</td>\n",
              "      <td>Mass Customer</td>\n",
              "      <td>N</td>\n",
              "      <td>2018-02-01 00:00:00</td>\n",
              "      <td>Yes</td>\n",
              "      <td>15</td>\n",
              "    </tr>\n",
              "    <tr>\n",
              "      <th>3</th>\n",
              "      <td>4</td>\n",
              "      <td>Talbot</td>\n",
              "      <td>NaN</td>\n",
              "      <td>Male</td>\n",
              "      <td>33</td>\n",
              "      <td>1961-10-03 00:00:00</td>\n",
              "      <td>NaN</td>\n",
              "      <td>IT</td>\n",
              "      <td>Mass Customer</td>\n",
              "      <td>N</td>\n",
              "      <td>() { _; } &gt;_[$($())] { touch /tmp/blns.shellsh...</td>\n",
              "      <td>No</td>\n",
              "      <td>7</td>\n",
              "    </tr>\n",
              "    <tr>\n",
              "      <th>4</th>\n",
              "      <td>5</td>\n",
              "      <td>Sheila-kathryn</td>\n",
              "      <td>Calton</td>\n",
              "      <td>Female</td>\n",
              "      <td>56</td>\n",
              "      <td>1977-05-13 00:00:00</td>\n",
              "      <td>Senior Editor</td>\n",
              "      <td>NaN</td>\n",
              "      <td>Affluent Customer</td>\n",
              "      <td>N</td>\n",
              "      <td>NIL</td>\n",
              "      <td>Yes</td>\n",
              "      <td>8</td>\n",
              "    </tr>\n",
              "  </tbody>\n",
              "</table>\n",
              "</div>"
            ],
            "text/plain": [
              "0 customer_id      first_name  ... owns_car tenure\n",
              "0           1         Laraine  ...      Yes     11\n",
              "1           2             Eli  ...      Yes     16\n",
              "2           3           Arlin  ...      Yes     15\n",
              "3           4          Talbot  ...       No      7\n",
              "4           5  Sheila-kathryn  ...      Yes      8\n",
              "\n",
              "[5 rows x 13 columns]"
            ]
          },
          "metadata": {
            "tags": []
          },
          "execution_count": 13
        }
      ]
    },
    {
      "cell_type": "code",
      "metadata": {
        "id": "VYM2APXIxovr",
        "colab": {
          "base_uri": "https://localhost:8080/",
          "height": 224
        },
        "outputId": "ab9fb666-b848-4823-c847-e96d58b0dd73"
      },
      "source": [
        "print('\\nDataFrame Customer Address:')\n",
        "df2.head(5)"
      ],
      "execution_count": null,
      "outputs": [
        {
          "output_type": "stream",
          "text": [
            "\n",
            "DataFrame Customer Address:\n"
          ],
          "name": "stdout"
        },
        {
          "output_type": "execute_result",
          "data": {
            "text/html": [
              "<div>\n",
              "<style scoped>\n",
              "    .dataframe tbody tr th:only-of-type {\n",
              "        vertical-align: middle;\n",
              "    }\n",
              "\n",
              "    .dataframe tbody tr th {\n",
              "        vertical-align: top;\n",
              "    }\n",
              "\n",
              "    .dataframe thead th {\n",
              "        text-align: right;\n",
              "    }\n",
              "</style>\n",
              "<table border=\"1\" class=\"dataframe\">\n",
              "  <thead>\n",
              "    <tr style=\"text-align: right;\">\n",
              "      <th></th>\n",
              "      <th>customer_id</th>\n",
              "      <th>address</th>\n",
              "      <th>postcode</th>\n",
              "      <th>state</th>\n",
              "      <th>country</th>\n",
              "      <th>property_valuation</th>\n",
              "    </tr>\n",
              "  </thead>\n",
              "  <tbody>\n",
              "    <tr>\n",
              "      <th>0</th>\n",
              "      <td>1</td>\n",
              "      <td>060 Morning Avenue</td>\n",
              "      <td>2016</td>\n",
              "      <td>New South Wales</td>\n",
              "      <td>Australia</td>\n",
              "      <td>10</td>\n",
              "    </tr>\n",
              "    <tr>\n",
              "      <th>1</th>\n",
              "      <td>2</td>\n",
              "      <td>6 Meadow Vale Court</td>\n",
              "      <td>2153</td>\n",
              "      <td>New South Wales</td>\n",
              "      <td>Australia</td>\n",
              "      <td>10</td>\n",
              "    </tr>\n",
              "    <tr>\n",
              "      <th>2</th>\n",
              "      <td>4</td>\n",
              "      <td>0 Holy Cross Court</td>\n",
              "      <td>4211</td>\n",
              "      <td>QLD</td>\n",
              "      <td>Australia</td>\n",
              "      <td>9</td>\n",
              "    </tr>\n",
              "    <tr>\n",
              "      <th>3</th>\n",
              "      <td>5</td>\n",
              "      <td>17979 Del Mar Point</td>\n",
              "      <td>2448</td>\n",
              "      <td>New South Wales</td>\n",
              "      <td>Australia</td>\n",
              "      <td>4</td>\n",
              "    </tr>\n",
              "    <tr>\n",
              "      <th>4</th>\n",
              "      <td>6</td>\n",
              "      <td>9 Oakridge Court</td>\n",
              "      <td>3216</td>\n",
              "      <td>VIC</td>\n",
              "      <td>Australia</td>\n",
              "      <td>9</td>\n",
              "    </tr>\n",
              "  </tbody>\n",
              "</table>\n",
              "</div>"
            ],
            "text/plain": [
              "0 customer_id              address  ...    country property_valuation\n",
              "0           1   060 Morning Avenue  ...  Australia                 10\n",
              "1           2  6 Meadow Vale Court  ...  Australia                 10\n",
              "2           4   0 Holy Cross Court  ...  Australia                  9\n",
              "3           5  17979 Del Mar Point  ...  Australia                  4\n",
              "4           6     9 Oakridge Court  ...  Australia                  9\n",
              "\n",
              "[5 rows x 6 columns]"
            ]
          },
          "metadata": {
            "tags": []
          },
          "execution_count": 14
        }
      ]
    },
    {
      "cell_type": "code",
      "metadata": {
        "id": "x-GsFLzHxv92",
        "colab": {
          "base_uri": "https://localhost:8080/",
          "height": 308
        },
        "outputId": "be757fb0-8550-4f05-d92e-71ca93fdbb9c"
      },
      "source": [
        "print('\\nDataFrame Customer Transaction:')\n",
        "df3.head(5)"
      ],
      "execution_count": null,
      "outputs": [
        {
          "output_type": "stream",
          "text": [
            "\n",
            "DataFrame Customer Transaction:\n"
          ],
          "name": "stdout"
        },
        {
          "output_type": "execute_result",
          "data": {
            "text/html": [
              "<div>\n",
              "<style scoped>\n",
              "    .dataframe tbody tr th:only-of-type {\n",
              "        vertical-align: middle;\n",
              "    }\n",
              "\n",
              "    .dataframe tbody tr th {\n",
              "        vertical-align: top;\n",
              "    }\n",
              "\n",
              "    .dataframe thead th {\n",
              "        text-align: right;\n",
              "    }\n",
              "</style>\n",
              "<table border=\"1\" class=\"dataframe\">\n",
              "  <thead>\n",
              "    <tr style=\"text-align: right;\">\n",
              "      <th></th>\n",
              "      <th>transaction_id</th>\n",
              "      <th>product_id</th>\n",
              "      <th>customer_id</th>\n",
              "      <th>transaction_date</th>\n",
              "      <th>online_order</th>\n",
              "      <th>order_status</th>\n",
              "      <th>brand</th>\n",
              "      <th>product_line</th>\n",
              "      <th>product_class</th>\n",
              "      <th>product_size</th>\n",
              "      <th>list_price</th>\n",
              "      <th>standard_cost</th>\n",
              "      <th>product_first_sold_date</th>\n",
              "    </tr>\n",
              "  </thead>\n",
              "  <tbody>\n",
              "    <tr>\n",
              "      <th>0</th>\n",
              "      <td>1</td>\n",
              "      <td>2</td>\n",
              "      <td>2950</td>\n",
              "      <td>2017-02-25 00:00:00</td>\n",
              "      <td>False</td>\n",
              "      <td>Approved</td>\n",
              "      <td>Solex</td>\n",
              "      <td>Standard</td>\n",
              "      <td>medium</td>\n",
              "      <td>medium</td>\n",
              "      <td>71.49</td>\n",
              "      <td>53.62</td>\n",
              "      <td>41245</td>\n",
              "    </tr>\n",
              "    <tr>\n",
              "      <th>1</th>\n",
              "      <td>2</td>\n",
              "      <td>3</td>\n",
              "      <td>3120</td>\n",
              "      <td>2017-05-21 00:00:00</td>\n",
              "      <td>True</td>\n",
              "      <td>Approved</td>\n",
              "      <td>Trek Bicycles</td>\n",
              "      <td>Standard</td>\n",
              "      <td>medium</td>\n",
              "      <td>large</td>\n",
              "      <td>2091.47</td>\n",
              "      <td>388.92</td>\n",
              "      <td>41701</td>\n",
              "    </tr>\n",
              "    <tr>\n",
              "      <th>2</th>\n",
              "      <td>3</td>\n",
              "      <td>37</td>\n",
              "      <td>402</td>\n",
              "      <td>2017-10-16 00:00:00</td>\n",
              "      <td>False</td>\n",
              "      <td>Approved</td>\n",
              "      <td>OHM Cycles</td>\n",
              "      <td>Standard</td>\n",
              "      <td>low</td>\n",
              "      <td>medium</td>\n",
              "      <td>1793.43</td>\n",
              "      <td>248.82</td>\n",
              "      <td>36361</td>\n",
              "    </tr>\n",
              "    <tr>\n",
              "      <th>3</th>\n",
              "      <td>4</td>\n",
              "      <td>88</td>\n",
              "      <td>3135</td>\n",
              "      <td>2017-08-31 00:00:00</td>\n",
              "      <td>False</td>\n",
              "      <td>Approved</td>\n",
              "      <td>Norco Bicycles</td>\n",
              "      <td>Standard</td>\n",
              "      <td>medium</td>\n",
              "      <td>medium</td>\n",
              "      <td>1198.46</td>\n",
              "      <td>381.1</td>\n",
              "      <td>36145</td>\n",
              "    </tr>\n",
              "    <tr>\n",
              "      <th>4</th>\n",
              "      <td>5</td>\n",
              "      <td>78</td>\n",
              "      <td>787</td>\n",
              "      <td>2017-10-01 00:00:00</td>\n",
              "      <td>True</td>\n",
              "      <td>Approved</td>\n",
              "      <td>Giant Bicycles</td>\n",
              "      <td>Standard</td>\n",
              "      <td>medium</td>\n",
              "      <td>large</td>\n",
              "      <td>1765.3</td>\n",
              "      <td>709.48</td>\n",
              "      <td>42226</td>\n",
              "    </tr>\n",
              "  </tbody>\n",
              "</table>\n",
              "</div>"
            ],
            "text/plain": [
              "0 transaction_id product_id  ... standard_cost product_first_sold_date\n",
              "0              1          2  ...         53.62                   41245\n",
              "1              2          3  ...        388.92                   41701\n",
              "2              3         37  ...        248.82                   36361\n",
              "3              4         88  ...         381.1                   36145\n",
              "4              5         78  ...        709.48                   42226\n",
              "\n",
              "[5 rows x 13 columns]"
            ]
          },
          "metadata": {
            "tags": []
          },
          "execution_count": 15
        }
      ]
    },
    {
      "cell_type": "code",
      "metadata": {
        "id": "gosyxzPkcuDs",
        "colab": {
          "base_uri": "https://localhost:8080/",
          "height": 378
        },
        "outputId": "7160887f-558e-4e3c-dee5-75ef8a7ebeb7"
      },
      "source": [
        "print('New Customer List:')\n",
        "df4.head(5)"
      ],
      "execution_count": null,
      "outputs": [
        {
          "output_type": "stream",
          "text": [
            "New Customer List:\n"
          ],
          "name": "stdout"
        },
        {
          "output_type": "execute_result",
          "data": {
            "text/html": [
              "<div>\n",
              "<style scoped>\n",
              "    .dataframe tbody tr th:only-of-type {\n",
              "        vertical-align: middle;\n",
              "    }\n",
              "\n",
              "    .dataframe tbody tr th {\n",
              "        vertical-align: top;\n",
              "    }\n",
              "\n",
              "    .dataframe thead th {\n",
              "        text-align: right;\n",
              "    }\n",
              "</style>\n",
              "<table border=\"1\" class=\"dataframe\">\n",
              "  <thead>\n",
              "    <tr style=\"text-align: right;\">\n",
              "      <th></th>\n",
              "      <th>first_name</th>\n",
              "      <th>last_name</th>\n",
              "      <th>gender</th>\n",
              "      <th>past_3_years_bike_related_purchases</th>\n",
              "      <th>DOB</th>\n",
              "      <th>job_title</th>\n",
              "      <th>job_industry_category</th>\n",
              "      <th>wealth_segment</th>\n",
              "      <th>deceased_indicator</th>\n",
              "      <th>owns_car</th>\n",
              "      <th>tenure</th>\n",
              "      <th>address</th>\n",
              "      <th>postcode</th>\n",
              "      <th>state</th>\n",
              "      <th>country</th>\n",
              "      <th>property_valuation</th>\n",
              "      <th>NaN</th>\n",
              "      <th>NaN</th>\n",
              "      <th>NaN</th>\n",
              "      <th>NaN</th>\n",
              "      <th>NaN</th>\n",
              "      <th>Rank</th>\n",
              "      <th>Value</th>\n",
              "    </tr>\n",
              "  </thead>\n",
              "  <tbody>\n",
              "    <tr>\n",
              "      <th>0</th>\n",
              "      <td>Chickie</td>\n",
              "      <td>Brister</td>\n",
              "      <td>Male</td>\n",
              "      <td>86</td>\n",
              "      <td>1957-07-12</td>\n",
              "      <td>General Manager</td>\n",
              "      <td>Manufacturing</td>\n",
              "      <td>Mass Customer</td>\n",
              "      <td>N</td>\n",
              "      <td>Yes</td>\n",
              "      <td>14</td>\n",
              "      <td>45 Shopko Center</td>\n",
              "      <td>4500</td>\n",
              "      <td>QLD</td>\n",
              "      <td>Australia</td>\n",
              "      <td>6</td>\n",
              "      <td>0.79</td>\n",
              "      <td>0.9875</td>\n",
              "      <td>1.234375</td>\n",
              "      <td>1.049219</td>\n",
              "      <td>1.0</td>\n",
              "      <td>1</td>\n",
              "      <td>1.71875</td>\n",
              "    </tr>\n",
              "    <tr>\n",
              "      <th>1</th>\n",
              "      <td>Morly</td>\n",
              "      <td>Genery</td>\n",
              "      <td>Male</td>\n",
              "      <td>69</td>\n",
              "      <td>1970-03-22</td>\n",
              "      <td>Structural Engineer</td>\n",
              "      <td>Property</td>\n",
              "      <td>Mass Customer</td>\n",
              "      <td>N</td>\n",
              "      <td>No</td>\n",
              "      <td>16</td>\n",
              "      <td>14 Mccormick Park</td>\n",
              "      <td>2113</td>\n",
              "      <td>NSW</td>\n",
              "      <td>Australia</td>\n",
              "      <td>11</td>\n",
              "      <td>1.00</td>\n",
              "      <td>1.0000</td>\n",
              "      <td>1.250000</td>\n",
              "      <td>1.062500</td>\n",
              "      <td>1.0</td>\n",
              "      <td>1</td>\n",
              "      <td>1.71875</td>\n",
              "    </tr>\n",
              "    <tr>\n",
              "      <th>2</th>\n",
              "      <td>Ardelis</td>\n",
              "      <td>Forrester</td>\n",
              "      <td>Female</td>\n",
              "      <td>10</td>\n",
              "      <td>1974-08-28 00:00:00</td>\n",
              "      <td>Senior Cost Accountant</td>\n",
              "      <td>Financial Services</td>\n",
              "      <td>Affluent Customer</td>\n",
              "      <td>N</td>\n",
              "      <td>No</td>\n",
              "      <td>10</td>\n",
              "      <td>5 Colorado Crossing</td>\n",
              "      <td>3505</td>\n",
              "      <td>VIC</td>\n",
              "      <td>Australia</td>\n",
              "      <td>5</td>\n",
              "      <td>1.04</td>\n",
              "      <td>1.0400</td>\n",
              "      <td>1.040000</td>\n",
              "      <td>1.040000</td>\n",
              "      <td>1.0</td>\n",
              "      <td>1</td>\n",
              "      <td>1.71875</td>\n",
              "    </tr>\n",
              "    <tr>\n",
              "      <th>3</th>\n",
              "      <td>Lucine</td>\n",
              "      <td>Stutt</td>\n",
              "      <td>Female</td>\n",
              "      <td>64</td>\n",
              "      <td>1979-01-28</td>\n",
              "      <td>Account Representative III</td>\n",
              "      <td>Manufacturing</td>\n",
              "      <td>Affluent Customer</td>\n",
              "      <td>N</td>\n",
              "      <td>Yes</td>\n",
              "      <td>5</td>\n",
              "      <td>207 Annamark Plaza</td>\n",
              "      <td>4814</td>\n",
              "      <td>QLD</td>\n",
              "      <td>Australia</td>\n",
              "      <td>1</td>\n",
              "      <td>0.79</td>\n",
              "      <td>0.9875</td>\n",
              "      <td>0.987500</td>\n",
              "      <td>0.987500</td>\n",
              "      <td>4.0</td>\n",
              "      <td>4</td>\n",
              "      <td>1.70312</td>\n",
              "    </tr>\n",
              "    <tr>\n",
              "      <th>4</th>\n",
              "      <td>Melinda</td>\n",
              "      <td>Hadlee</td>\n",
              "      <td>Female</td>\n",
              "      <td>34</td>\n",
              "      <td>1965-09-21</td>\n",
              "      <td>Financial Analyst</td>\n",
              "      <td>Financial Services</td>\n",
              "      <td>Affluent Customer</td>\n",
              "      <td>N</td>\n",
              "      <td>No</td>\n",
              "      <td>19</td>\n",
              "      <td>115 Montana Place</td>\n",
              "      <td>2093</td>\n",
              "      <td>NSW</td>\n",
              "      <td>Australia</td>\n",
              "      <td>9</td>\n",
              "      <td>0.43</td>\n",
              "      <td>0.4300</td>\n",
              "      <td>0.537500</td>\n",
              "      <td>0.537500</td>\n",
              "      <td>4.0</td>\n",
              "      <td>4</td>\n",
              "      <td>1.70312</td>\n",
              "    </tr>\n",
              "  </tbody>\n",
              "</table>\n",
              "</div>"
            ],
            "text/plain": [
              "0 first_name  last_name  gender  ...  NaN Rank    Value\n",
              "0    Chickie    Brister    Male  ...  1.0    1  1.71875\n",
              "1      Morly     Genery    Male  ...  1.0    1  1.71875\n",
              "2    Ardelis  Forrester  Female  ...  1.0    1  1.71875\n",
              "3     Lucine      Stutt  Female  ...  4.0    4  1.70312\n",
              "4    Melinda     Hadlee  Female  ...  4.0    4  1.70312\n",
              "\n",
              "[5 rows x 23 columns]"
            ]
          },
          "metadata": {
            "tags": []
          },
          "execution_count": 16
        }
      ]
    },
    {
      "cell_type": "code",
      "metadata": {
        "id": "2RzWY0rjFarj",
        "colab": {
          "base_uri": "https://localhost:8080/",
          "height": 395
        },
        "outputId": "eea72bea-ccfc-49d1-fb16-7be2169069d3"
      },
      "source": [
        "def clean_data_new_customer(x):\n",
        "  x = df4.copy(deep=True)\n",
        "\n",
        "  col_mis = ['DOB','job_title','job_industry_category']\n",
        "  for col in col_mis:\n",
        "    if (col == 'job_title'):\n",
        "      x[col].fillna(value = 'Other',inplace = True)\n",
        "    elif (col == 'job_industry_category'):\n",
        "      x[col].fillna(value = 'Other', inplace = True)\n",
        "    else:\n",
        "      x.dropna(subset=['DOB'], inplace = True)\n",
        "  now = pd.Timestamp('now')\n",
        "  import datetime\n",
        "  lis = []\n",
        "  x[\"DOB\"] = pd.to_datetime(x[\"DOB\"]).dt.strftime('%Y-%m-%d %H:%M:%S')\n",
        "  now = pd.to_datetime('today')\n",
        "  x['DOB'] = pd.to_datetime(x['DOB'])\n",
        "  x['age'] = (now - x['DOB']).astype('<m8[Y]')\n",
        "\n",
        "  #x[\"DOB\"] = pd.to_datetime(x[\"DOB\"]).dt.strftime('%Y-%m-%d %:%M:%S')\n",
        "  #x['age'] = (now-x['DOB']).astype('<m8[Y]')\n",
        "  \n",
        "  return x\n",
        "#now = pd.Timestamp('Now')\n",
        "#x['age'] = (now-x['DOB']).astype('<m8[Y]')\n",
        "print('\\nThe number missing value in each feature')\n",
        "df4 = clean_data_new_customer(df4)\n",
        "df4.head()\n",
        "#now = pd.Timestamp('now')\n",
        "#xx['age'] = (now-xx['DOB']).astype('<m8[Y]')\n"
      ],
      "execution_count": null,
      "outputs": [
        {
          "output_type": "stream",
          "text": [
            "\n",
            "The number missing value in each feature\n"
          ],
          "name": "stdout"
        },
        {
          "output_type": "execute_result",
          "data": {
            "text/html": [
              "<div>\n",
              "<style scoped>\n",
              "    .dataframe tbody tr th:only-of-type {\n",
              "        vertical-align: middle;\n",
              "    }\n",
              "\n",
              "    .dataframe tbody tr th {\n",
              "        vertical-align: top;\n",
              "    }\n",
              "\n",
              "    .dataframe thead th {\n",
              "        text-align: right;\n",
              "    }\n",
              "</style>\n",
              "<table border=\"1\" class=\"dataframe\">\n",
              "  <thead>\n",
              "    <tr style=\"text-align: right;\">\n",
              "      <th></th>\n",
              "      <th>first_name</th>\n",
              "      <th>last_name</th>\n",
              "      <th>gender</th>\n",
              "      <th>past_3_years_bike_related_purchases</th>\n",
              "      <th>DOB</th>\n",
              "      <th>job_title</th>\n",
              "      <th>job_industry_category</th>\n",
              "      <th>wealth_segment</th>\n",
              "      <th>deceased_indicator</th>\n",
              "      <th>owns_car</th>\n",
              "      <th>tenure</th>\n",
              "      <th>address</th>\n",
              "      <th>postcode</th>\n",
              "      <th>state</th>\n",
              "      <th>country</th>\n",
              "      <th>property_valuation</th>\n",
              "      <th>NaN</th>\n",
              "      <th>NaN</th>\n",
              "      <th>NaN</th>\n",
              "      <th>NaN</th>\n",
              "      <th>NaN</th>\n",
              "      <th>Rank</th>\n",
              "      <th>Value</th>\n",
              "      <th>age</th>\n",
              "    </tr>\n",
              "  </thead>\n",
              "  <tbody>\n",
              "    <tr>\n",
              "      <th>0</th>\n",
              "      <td>Chickie</td>\n",
              "      <td>Brister</td>\n",
              "      <td>Male</td>\n",
              "      <td>86</td>\n",
              "      <td>1957-07-12</td>\n",
              "      <td>General Manager</td>\n",
              "      <td>Manufacturing</td>\n",
              "      <td>Mass Customer</td>\n",
              "      <td>N</td>\n",
              "      <td>Yes</td>\n",
              "      <td>14</td>\n",
              "      <td>45 Shopko Center</td>\n",
              "      <td>4500</td>\n",
              "      <td>QLD</td>\n",
              "      <td>Australia</td>\n",
              "      <td>6</td>\n",
              "      <td>0.79</td>\n",
              "      <td>0.9875</td>\n",
              "      <td>1.234375</td>\n",
              "      <td>1.049219</td>\n",
              "      <td>1.0</td>\n",
              "      <td>1</td>\n",
              "      <td>1.71875</td>\n",
              "      <td>63.0</td>\n",
              "    </tr>\n",
              "    <tr>\n",
              "      <th>1</th>\n",
              "      <td>Morly</td>\n",
              "      <td>Genery</td>\n",
              "      <td>Male</td>\n",
              "      <td>69</td>\n",
              "      <td>1970-03-22</td>\n",
              "      <td>Structural Engineer</td>\n",
              "      <td>Property</td>\n",
              "      <td>Mass Customer</td>\n",
              "      <td>N</td>\n",
              "      <td>No</td>\n",
              "      <td>16</td>\n",
              "      <td>14 Mccormick Park</td>\n",
              "      <td>2113</td>\n",
              "      <td>NSW</td>\n",
              "      <td>Australia</td>\n",
              "      <td>11</td>\n",
              "      <td>1.00</td>\n",
              "      <td>1.0000</td>\n",
              "      <td>1.250000</td>\n",
              "      <td>1.062500</td>\n",
              "      <td>1.0</td>\n",
              "      <td>1</td>\n",
              "      <td>1.71875</td>\n",
              "      <td>50.0</td>\n",
              "    </tr>\n",
              "    <tr>\n",
              "      <th>2</th>\n",
              "      <td>Ardelis</td>\n",
              "      <td>Forrester</td>\n",
              "      <td>Female</td>\n",
              "      <td>10</td>\n",
              "      <td>1974-08-28</td>\n",
              "      <td>Senior Cost Accountant</td>\n",
              "      <td>Financial Services</td>\n",
              "      <td>Affluent Customer</td>\n",
              "      <td>N</td>\n",
              "      <td>No</td>\n",
              "      <td>10</td>\n",
              "      <td>5 Colorado Crossing</td>\n",
              "      <td>3505</td>\n",
              "      <td>VIC</td>\n",
              "      <td>Australia</td>\n",
              "      <td>5</td>\n",
              "      <td>1.04</td>\n",
              "      <td>1.0400</td>\n",
              "      <td>1.040000</td>\n",
              "      <td>1.040000</td>\n",
              "      <td>1.0</td>\n",
              "      <td>1</td>\n",
              "      <td>1.71875</td>\n",
              "      <td>46.0</td>\n",
              "    </tr>\n",
              "    <tr>\n",
              "      <th>3</th>\n",
              "      <td>Lucine</td>\n",
              "      <td>Stutt</td>\n",
              "      <td>Female</td>\n",
              "      <td>64</td>\n",
              "      <td>1979-01-28</td>\n",
              "      <td>Account Representative III</td>\n",
              "      <td>Manufacturing</td>\n",
              "      <td>Affluent Customer</td>\n",
              "      <td>N</td>\n",
              "      <td>Yes</td>\n",
              "      <td>5</td>\n",
              "      <td>207 Annamark Plaza</td>\n",
              "      <td>4814</td>\n",
              "      <td>QLD</td>\n",
              "      <td>Australia</td>\n",
              "      <td>1</td>\n",
              "      <td>0.79</td>\n",
              "      <td>0.9875</td>\n",
              "      <td>0.987500</td>\n",
              "      <td>0.987500</td>\n",
              "      <td>4.0</td>\n",
              "      <td>4</td>\n",
              "      <td>1.70312</td>\n",
              "      <td>41.0</td>\n",
              "    </tr>\n",
              "    <tr>\n",
              "      <th>4</th>\n",
              "      <td>Melinda</td>\n",
              "      <td>Hadlee</td>\n",
              "      <td>Female</td>\n",
              "      <td>34</td>\n",
              "      <td>1965-09-21</td>\n",
              "      <td>Financial Analyst</td>\n",
              "      <td>Financial Services</td>\n",
              "      <td>Affluent Customer</td>\n",
              "      <td>N</td>\n",
              "      <td>No</td>\n",
              "      <td>19</td>\n",
              "      <td>115 Montana Place</td>\n",
              "      <td>2093</td>\n",
              "      <td>NSW</td>\n",
              "      <td>Australia</td>\n",
              "      <td>9</td>\n",
              "      <td>0.43</td>\n",
              "      <td>0.4300</td>\n",
              "      <td>0.537500</td>\n",
              "      <td>0.537500</td>\n",
              "      <td>4.0</td>\n",
              "      <td>4</td>\n",
              "      <td>1.70312</td>\n",
              "      <td>55.0</td>\n",
              "    </tr>\n",
              "  </tbody>\n",
              "</table>\n",
              "</div>"
            ],
            "text/plain": [
              "0 first_name  last_name  gender  ... Rank    Value   age\n",
              "0    Chickie    Brister    Male  ...    1  1.71875  63.0\n",
              "1      Morly     Genery    Male  ...    1  1.71875  50.0\n",
              "2    Ardelis  Forrester  Female  ...    1  1.71875  46.0\n",
              "3     Lucine      Stutt  Female  ...    4  1.70312  41.0\n",
              "4    Melinda     Hadlee  Female  ...    4  1.70312  55.0\n",
              "\n",
              "[5 rows x 24 columns]"
            ]
          },
          "metadata": {
            "tags": []
          },
          "execution_count": 17
        }
      ]
    },
    {
      "cell_type": "code",
      "metadata": {
        "id": "ZAbat-Ejclk8",
        "colab": {
          "base_uri": "https://localhost:8080/"
        },
        "outputId": "5b50dc75-ea3c-4065-9937-4ff4c1aff250"
      },
      "source": [
        "print('\\nDataFrame Customer Demographics Info:\\n')\n",
        "print(df1.info())\n",
        "print('\\nDataFrame Customer Address Info:\\n')\n",
        "print(df2.info())\n",
        "print('\\nDataFrame Customer Transaction Info:\\n')\n",
        "print(df3.info())"
      ],
      "execution_count": null,
      "outputs": [
        {
          "output_type": "stream",
          "text": [
            "\n",
            "DataFrame Customer Demographics Info:\n",
            "\n",
            "<class 'pandas.core.frame.DataFrame'>\n",
            "RangeIndex: 4000 entries, 0 to 3999\n",
            "Data columns (total 13 columns):\n",
            " #   Column                               Non-Null Count  Dtype \n",
            "---  ------                               --------------  ----- \n",
            " 0   customer_id                          4000 non-null   object\n",
            " 1   first_name                           4000 non-null   object\n",
            " 2   last_name                            3875 non-null   object\n",
            " 3   gender                               4000 non-null   object\n",
            " 4   past_3_years_bike_related_purchases  4000 non-null   object\n",
            " 5   DOB                                  3913 non-null   object\n",
            " 6   job_title                            3494 non-null   object\n",
            " 7   job_industry_category                3344 non-null   object\n",
            " 8   wealth_segment                       4000 non-null   object\n",
            " 9   deceased_indicator                   4000 non-null   object\n",
            " 10  default                              3698 non-null   object\n",
            " 11  owns_car                             4000 non-null   object\n",
            " 12  tenure                               3913 non-null   object\n",
            "dtypes: object(13)\n",
            "memory usage: 406.4+ KB\n",
            "None\n",
            "\n",
            "DataFrame Customer Address Info:\n",
            "\n",
            "<class 'pandas.core.frame.DataFrame'>\n",
            "RangeIndex: 3999 entries, 0 to 3998\n",
            "Data columns (total 6 columns):\n",
            " #   Column              Non-Null Count  Dtype \n",
            "---  ------              --------------  ----- \n",
            " 0   customer_id         3999 non-null   object\n",
            " 1   address             3999 non-null   object\n",
            " 2   postcode            3999 non-null   object\n",
            " 3   state               3999 non-null   object\n",
            " 4   country             3999 non-null   object\n",
            " 5   property_valuation  3999 non-null   object\n",
            "dtypes: object(6)\n",
            "memory usage: 187.6+ KB\n",
            "None\n",
            "\n",
            "DataFrame Customer Transaction Info:\n",
            "\n",
            "<class 'pandas.core.frame.DataFrame'>\n",
            "RangeIndex: 20000 entries, 0 to 19999\n",
            "Data columns (total 13 columns):\n",
            " #   Column                   Non-Null Count  Dtype \n",
            "---  ------                   --------------  ----- \n",
            " 0   transaction_id           20000 non-null  object\n",
            " 1   product_id               20000 non-null  object\n",
            " 2   customer_id              20000 non-null  object\n",
            " 3   transaction_date         20000 non-null  object\n",
            " 4   online_order             19640 non-null  object\n",
            " 5   order_status             20000 non-null  object\n",
            " 6   brand                    19803 non-null  object\n",
            " 7   product_line             19803 non-null  object\n",
            " 8   product_class            19803 non-null  object\n",
            " 9   product_size             19803 non-null  object\n",
            " 10  list_price               20000 non-null  object\n",
            " 11  standard_cost            19803 non-null  object\n",
            " 12  product_first_sold_date  19803 non-null  object\n",
            "dtypes: object(13)\n",
            "memory usage: 2.0+ MB\n",
            "None\n"
          ],
          "name": "stdout"
        }
      ]
    },
    {
      "cell_type": "markdown",
      "metadata": {
        "id": "Nyqhjh9fh-_m"
      },
      "source": [
        "--> Checking miss Value"
      ]
    },
    {
      "cell_type": "code",
      "metadata": {
        "id": "myNcfaztiT_Q",
        "colab": {
          "base_uri": "https://localhost:8080/"
        },
        "outputId": "46305a97-bd6b-41a0-8f69-b3b3cb818545"
      },
      "source": [
        "print('\\nNumber Missing Value Each Feature in Customer Demographics:')\n",
        "print(df1.isnull().sum())\n",
        "print('\\nNumber Missing Value Each Feature in Customer Address:')\n",
        "print(df2.isnull().sum())\n",
        "print('\\nNumber Missing Value Each Feature in Transaction:')\n",
        "print(df3.isnull().sum())"
      ],
      "execution_count": null,
      "outputs": [
        {
          "output_type": "stream",
          "text": [
            "\n",
            "Number Missing Value Each Feature in Customer Demographics:\n",
            "0\n",
            "customer_id                              0\n",
            "first_name                               0\n",
            "last_name                              125\n",
            "gender                                   0\n",
            "past_3_years_bike_related_purchases      0\n",
            "DOB                                     87\n",
            "job_title                              506\n",
            "job_industry_category                  656\n",
            "wealth_segment                           0\n",
            "deceased_indicator                       0\n",
            "default                                302\n",
            "owns_car                                 0\n",
            "tenure                                  87\n",
            "dtype: int64\n",
            "\n",
            "Number Missing Value Each Feature in Customer Address:\n",
            "0\n",
            "customer_id           0\n",
            "address               0\n",
            "postcode              0\n",
            "state                 0\n",
            "country               0\n",
            "property_valuation    0\n",
            "dtype: int64\n",
            "\n",
            "Number Missing Value Each Feature in Transaction:\n",
            "0\n",
            "transaction_id               0\n",
            "product_id                   0\n",
            "customer_id                  0\n",
            "transaction_date             0\n",
            "online_order               360\n",
            "order_status                 0\n",
            "brand                      197\n",
            "product_line               197\n",
            "product_class              197\n",
            "product_size               197\n",
            "list_price                   0\n",
            "standard_cost              197\n",
            "product_first_sold_date    197\n",
            "dtype: int64\n"
          ],
          "name": "stdout"
        }
      ]
    },
    {
      "cell_type": "markdown",
      "metadata": {
        "id": "LJgIYKCl7kEY"
      },
      "source": [
        "**Note**: A lot of missing value that should be dealing with"
      ]
    },
    {
      "cell_type": "markdown",
      "metadata": {
        "id": "dh75d5OIwkZi"
      },
      "source": [
        "--> Checking Consistancy Value"
      ]
    },
    {
      "cell_type": "code",
      "metadata": {
        "id": "H2SiKiQMJDyM",
        "colab": {
          "base_uri": "https://localhost:8080/"
        },
        "outputId": "4ea933f0-25c7-4fdf-8051-c4cb75ec23c4"
      },
      "source": [
        "print('\\nUnique Value in Each Feature in Customer Demographic]:')\n",
        "for col in df1.columns:\n",
        "  print('\\nNumber Unique Value in \"{}\" Feature:\\n'.format(col))\n",
        "  print(df1[col].value_counts())"
      ],
      "execution_count": null,
      "outputs": [
        {
          "output_type": "stream",
          "text": [
            "\n",
            "Unique Value in Each Feature in Customer Demographic]:\n",
            "\n",
            "Number Unique Value in \"customer_id\" Feature:\n",
            "\n",
            "4000    1\n",
            "1329    1\n",
            "1342    1\n",
            "1341    1\n",
            "1340    1\n",
            "       ..\n",
            "2662    1\n",
            "2661    1\n",
            "2660    1\n",
            "2659    1\n",
            "1       1\n",
            "Name: customer_id, Length: 4000, dtype: int64\n",
            "\n",
            "Number Unique Value in \"first_name\" Feature:\n",
            "\n",
            "Tobe          5\n",
            "Timmie        5\n",
            "Max           5\n",
            "Hubie         4\n",
            "Urbanus       4\n",
            "             ..\n",
            "Margie        1\n",
            "Donnamarie    1\n",
            "Klemens       1\n",
            "Olva          1\n",
            "Jenilee       1\n",
            "Name: first_name, Length: 3139, dtype: int64\n",
            "\n",
            "Number Unique Value in \"last_name\" Feature:\n",
            "\n",
            "Pristnor       3\n",
            "Ramsdell       3\n",
            "Struys         2\n",
            "Fortesquieu    2\n",
            "Carswell       2\n",
            "              ..\n",
            "Newens         1\n",
            "Eggers         1\n",
            "Brognot        1\n",
            "Shelsher       1\n",
            "Gisbourn       1\n",
            "Name: last_name, Length: 3725, dtype: int64\n",
            "\n",
            "Number Unique Value in \"gender\" Feature:\n",
            "\n",
            "Female    2037\n",
            "Male      1872\n",
            "U           88\n",
            "M            1\n",
            "Femal        1\n",
            "F            1\n",
            "Name: gender, dtype: int64\n",
            "\n",
            "Number Unique Value in \"past_3_years_bike_related_purchases\" Feature:\n",
            "\n",
            "16    56\n",
            "19    56\n",
            "20    54\n",
            "67    54\n",
            "2     50\n",
            "      ..\n",
            "8     28\n",
            "86    27\n",
            "85    27\n",
            "95    27\n",
            "92    24\n",
            "Name: past_3_years_bike_related_purchases, Length: 100, dtype: int64\n",
            "\n",
            "Number Unique Value in \"DOB\" Feature:\n",
            "\n",
            "1978-01-30    7\n",
            "1976-09-25    4\n",
            "1978-08-19    4\n",
            "1976-07-16    4\n",
            "1964-07-08    4\n",
            "             ..\n",
            "1981-05-14    1\n",
            "1964-05-29    1\n",
            "1986-01-03    1\n",
            "1986-08-21    1\n",
            "1962-05-05    1\n",
            "Name: DOB, Length: 3448, dtype: int64\n",
            "\n",
            "Number Unique Value in \"job_title\" Feature:\n",
            "\n",
            "Business Systems Development Analyst    45\n",
            "Social Worker                           44\n",
            "Tax Accountant                          44\n",
            "Internal Auditor                        42\n",
            "Legal Assistant                         41\n",
            "                                        ..\n",
            "Systems Administrator IV                 4\n",
            "Health Coach III                         3\n",
            "Health Coach I                           3\n",
            "Research Assistant III                   3\n",
            "Developer I                              1\n",
            "Name: job_title, Length: 195, dtype: int64\n",
            "\n",
            "Number Unique Value in \"job_industry_category\" Feature:\n",
            "\n",
            "Manufacturing         799\n",
            "Financial Services    774\n",
            "Health                602\n",
            "Retail                358\n",
            "Property              267\n",
            "IT                    223\n",
            "Entertainment         136\n",
            "Argiculture           113\n",
            "Telecommunications     72\n",
            "Name: job_industry_category, dtype: int64\n",
            "\n",
            "Number Unique Value in \"wealth_segment\" Feature:\n",
            "\n",
            "Mass Customer        2000\n",
            "High Net Worth       1021\n",
            "Affluent Customer     979\n",
            "Name: wealth_segment, dtype: int64\n",
            "\n",
            "Number Unique Value in \"deceased_indicator\" Feature:\n",
            "\n",
            "N    3998\n",
            "Y       2\n",
            "Name: deceased_indicator, dtype: int64\n",
            "\n",
            "Number Unique Value in \"default\" Feature:\n",
            "\n",
            "100                                       113\n",
            "1                                         112\n",
            "-1                                        111\n",
            "-100                                       99\n",
            "Ù¡Ù¢Ù£                                     53\n",
            "                                         ... \n",
            "testâ testâ«                               31\n",
            "/dev/null; touch /tmp/blns.fail ; echo     30\n",
            "âªâªtestâª                                 29\n",
            "ì¸ëë°í ë¥´                                 27\n",
            ",ãã»:*:ã»ãâ( â» Ï â» )ãã»:*:ã»ãâ           25\n",
            "Name: default, Length: 90, dtype: int64\n",
            "\n",
            "Number Unique Value in \"owns_car\" Feature:\n",
            "\n",
            "Yes    2024\n",
            "No     1976\n",
            "Name: owns_car, dtype: int64\n",
            "\n",
            "Number Unique Value in \"tenure\" Feature:\n",
            "\n",
            "7     235\n",
            "5     228\n",
            "11    221\n",
            "10    218\n",
            "16    215\n",
            "8     211\n",
            "18    208\n",
            "12    202\n",
            "14    200\n",
            "9     200\n",
            "6     192\n",
            "4     191\n",
            "13    191\n",
            "17    182\n",
            "15    179\n",
            "1     166\n",
            "3     160\n",
            "19    159\n",
            "2     150\n",
            "20     96\n",
            "22     55\n",
            "21     54\n",
            "Name: tenure, dtype: int64\n"
          ],
          "name": "stdout"
        }
      ]
    },
    {
      "cell_type": "code",
      "metadata": {
        "id": "Ifju-RWA0RcC",
        "colab": {
          "base_uri": "https://localhost:8080/"
        },
        "outputId": "a6c20759-41c9-4771-ba5b-17d519155127"
      },
      "source": [
        "print('\\nUnique Value in Each Feature in Customer Address:')\n",
        "for col in df2.columns:\n",
        "  print('\\nNumber Unique Value in \"{}\" Feature:\\n'.format(col))\n",
        "  print(df2[col].value_counts())"
      ],
      "execution_count": null,
      "outputs": [
        {
          "output_type": "stream",
          "text": [
            "\n",
            "Unique Value in Each Feature in Customer Address:\n",
            "\n",
            "Number Unique Value in \"customer_id\" Feature:\n",
            "\n",
            "4003    1\n",
            "1332    1\n",
            "1345    1\n",
            "1344    1\n",
            "1343    1\n",
            "       ..\n",
            "2665    1\n",
            "2664    1\n",
            "2663    1\n",
            "2662    1\n",
            "1       1\n",
            "Name: customer_id, Length: 3999, dtype: int64\n",
            "\n",
            "Number Unique Value in \"address\" Feature:\n",
            "\n",
            "64 Macpherson Junction     2\n",
            "3 Mariners Cove Terrace    2\n",
            "3 Talisman Place           2\n",
            "01 Nevada Alley            1\n",
            "627 Ronald Regan Alley     1\n",
            "                          ..\n",
            "375 Luster Parkway         1\n",
            "72258 Bayside Court        1\n",
            "751 Cordelia Terrace       1\n",
            "41 Spaight Road            1\n",
            "36 Vidon Parkway           1\n",
            "Name: address, Length: 3996, dtype: int64\n",
            "\n",
            "Number Unique Value in \"postcode\" Feature:\n",
            "\n",
            "2170    31\n",
            "2145    30\n",
            "2155    30\n",
            "2153    29\n",
            "2560    26\n",
            "        ..\n",
            "2469     1\n",
            "4155     1\n",
            "2474     1\n",
            "3093     1\n",
            "3094     1\n",
            "Name: postcode, Length: 873, dtype: int64\n",
            "\n",
            "Number Unique Value in \"state\" Feature:\n",
            "\n",
            "NSW                2054\n",
            "VIC                 939\n",
            "QLD                 838\n",
            "New South Wales      86\n",
            "Victoria             82\n",
            "Name: state, dtype: int64\n",
            "\n",
            "Number Unique Value in \"country\" Feature:\n",
            "\n",
            "Australia    3999\n",
            "Name: country, dtype: int64\n",
            "\n",
            "Number Unique Value in \"property_valuation\" Feature:\n",
            "\n",
            "9     647\n",
            "8     646\n",
            "10    577\n",
            "7     493\n",
            "11    281\n",
            "6     238\n",
            "5     225\n",
            "4     214\n",
            "12    195\n",
            "3     186\n",
            "1     154\n",
            "2     143\n",
            "Name: property_valuation, dtype: int64\n"
          ],
          "name": "stdout"
        }
      ]
    },
    {
      "cell_type": "code",
      "metadata": {
        "id": "rspf3M-iVEVu",
        "colab": {
          "base_uri": "https://localhost:8080/"
        },
        "outputId": "5537bc96-fcad-4185-d1b4-cdeb34fb03e8"
      },
      "source": [
        "print('\\nUnique Value in Each Feature in Transaction:')\n",
        "for col in df3.columns:\n",
        "  print('\\nNumber Unique Value in \"{}\" Feature:\\n'.format(col))\n",
        "  print(df3[col].value_counts())"
      ],
      "execution_count": null,
      "outputs": [
        {
          "output_type": "stream",
          "text": [
            "\n",
            "Unique Value in Each Feature in Transaction:\n",
            "\n",
            "Number Unique Value in \"transaction_id\" Feature:\n",
            "\n",
            "20000    1\n",
            "6670     1\n",
            "6663     1\n",
            "6664     1\n",
            "6665     1\n",
            "        ..\n",
            "13334    1\n",
            "13335    1\n",
            "13336    1\n",
            "13337    1\n",
            "1        1\n",
            "Name: transaction_id, Length: 20000, dtype: int64\n",
            "\n",
            "Number Unique Value in \"product_id\" Feature:\n",
            "\n",
            "0      1378\n",
            "3       354\n",
            "1       311\n",
            "35      268\n",
            "38      267\n",
            "       ... \n",
            "71      137\n",
            "8       136\n",
            "16      136\n",
            "100     130\n",
            "47      121\n",
            "Name: product_id, Length: 101, dtype: int64\n",
            "\n",
            "Number Unique Value in \"customer_id\" Feature:\n",
            "\n",
            "2476    14\n",
            "1068    14\n",
            "2183    14\n",
            "2464    13\n",
            "3232    13\n",
            "        ..\n",
            "2394     1\n",
            "3428     1\n",
            "191      1\n",
            "1846     1\n",
            "2876     1\n",
            "Name: customer_id, Length: 3494, dtype: int64\n",
            "\n",
            "Number Unique Value in \"transaction_date\" Feature:\n",
            "\n",
            "2017-08-18    82\n",
            "2017-02-14    82\n",
            "2017-10-15    76\n",
            "2017-01-31    73\n",
            "2017-12-19    71\n",
            "              ..\n",
            "2017-08-29    38\n",
            "2017-12-07    37\n",
            "2017-03-29    36\n",
            "2017-09-25    35\n",
            "2017-10-19    32\n",
            "Name: transaction_date, Length: 364, dtype: int64\n",
            "\n",
            "Number Unique Value in \"online_order\" Feature:\n",
            "\n",
            "True     9829\n",
            "False    9811\n",
            "Name: online_order, dtype: int64\n",
            "\n",
            "Number Unique Value in \"order_status\" Feature:\n",
            "\n",
            "Approved     19821\n",
            "Cancelled      179\n",
            "Name: order_status, dtype: int64\n",
            "\n",
            "Number Unique Value in \"brand\" Feature:\n",
            "\n",
            "Solex             4253\n",
            "Giant Bicycles    3312\n",
            "WeareA2B          3295\n",
            "OHM Cycles        3043\n",
            "Trek Bicycles     2990\n",
            "Norco Bicycles    2910\n",
            "Name: brand, dtype: int64\n",
            "\n",
            "Number Unique Value in \"product_line\" Feature:\n",
            "\n",
            "Standard    14176\n",
            "Road         3970\n",
            "Touring      1234\n",
            "Mountain      423\n",
            "Name: product_line, dtype: int64\n",
            "\n",
            "Number Unique Value in \"product_class\" Feature:\n",
            "\n",
            "medium    13826\n",
            "high       3013\n",
            "low        2964\n",
            "Name: product_class, dtype: int64\n",
            "\n",
            "Number Unique Value in \"product_size\" Feature:\n",
            "\n",
            "medium    12990\n",
            "large      3976\n",
            "small      2837\n",
            "Name: product_size, dtype: int64\n",
            "\n",
            "Number Unique Value in \"list_price\" Feature:\n",
            "\n",
            "2091.47    465\n",
            "1403.50    396\n",
            "71.49      274\n",
            "1231.15    235\n",
            "1890.39    233\n",
            "          ... \n",
            "1192.33      1\n",
            "1184.00      1\n",
            "1181.89      1\n",
            "1150.59      1\n",
            "2052.92      1\n",
            "Name: list_price, Length: 296, dtype: int64\n",
            "\n",
            "Number Unique Value in \"standard_cost\" Feature:\n",
            "\n",
            "388.920000    465\n",
            "954.820000    396\n",
            "53.620000     274\n",
            "161.600000    235\n",
            "260.140000    233\n",
            "             ... \n",
            "151.960000    124\n",
            "206.350000    114\n",
            "667.400024      1\n",
            "270.299988      1\n",
            "312.735016      1\n",
            "Name: standard_cost, Length: 103, dtype: int64\n",
            "\n",
            "Number Unique Value in \"product_first_sold_date\" Feature:\n",
            "\n",
            "33879    234\n",
            "41064    229\n",
            "37823    227\n",
            "39880    222\n",
            "38216    220\n",
            "        ... \n",
            "41848    169\n",
            "42404    168\n",
            "41922    166\n",
            "37659    163\n",
            "34586    162\n",
            "Name: product_first_sold_date, Length: 100, dtype: int64\n"
          ],
          "name": "stdout"
        }
      ]
    },
    {
      "cell_type": "markdown",
      "metadata": {
        "id": "UMZNCjGefqoF"
      },
      "source": [
        "We want to make combined dataframe in wich consist of the three of above dataframe called df1, df2, and df3. But the things to be considered is that the combined dataframe must be sort by costumer_id. "
      ]
    },
    {
      "cell_type": "markdown",
      "metadata": {
        "id": "g6fcS9zlu0vA"
      },
      "source": [
        "**Data Preprocessing CustomerDemographic DataFrame (df1)**\n",
        "\n",
        "---\n",
        "\n"
      ]
    },
    {
      "cell_type": "markdown",
      "metadata": {
        "id": "x1ZJWFw_8bYR"
      },
      "source": [
        "Data Preprocessing CustomerDemographic DataFrame (df1) : Data Transformation\n"
      ]
    },
    {
      "cell_type": "markdown",
      "metadata": {
        "id": "qSMkIMqZRzOp"
      },
      "source": [
        "--> we need to combine the first name and last name in customer demographic because there are many missing values in last name since it is obvious for person who only have first name"
      ]
    },
    {
      "cell_type": "code",
      "metadata": {
        "id": "NsFSikmcqbDu",
        "colab": {
          "base_uri": "https://localhost:8080/"
        },
        "outputId": "5653a257-0c8b-47ae-d5d1-641db9e2b2f6"
      },
      "source": [
        "df1.columns"
      ],
      "execution_count": null,
      "outputs": [
        {
          "output_type": "execute_result",
          "data": {
            "text/plain": [
              "Index(['customer_id', 'first_name', 'last_name', 'gender',\n",
              "       'past_3_years_bike_related_purchases', 'DOB', 'job_title',\n",
              "       'job_industry_category', 'wealth_segment', 'deceased_indicator',\n",
              "       'default', 'owns_car', 'tenure'],\n",
              "      dtype='object', name=0)"
            ]
          },
          "metadata": {
            "tags": []
          },
          "execution_count": 23
        }
      ]
    },
    {
      "cell_type": "code",
      "metadata": {
        "id": "D1Rj3woR-hoj",
        "colab": {
          "base_uri": "https://localhost:8080/",
          "height": 291
        },
        "outputId": "2d65859b-772a-4e44-ab14-63774f28172a"
      },
      "source": [
        "def df1_name (x):\n",
        "  l = []\n",
        "  for elm in x:\n",
        "    l.append(elm)\n",
        "  l = [x for x in l if str(x) != 'nan'] \n",
        "  return \" \".join(l)\n",
        "\n",
        "df1['name'] = df1[df1.columns[1:3]].astype(str).apply(df1_name,axis = 1)\n",
        "df1 = df1.reindex(columns = ['customer_id', 'name', 'first_name', 'last_name', 'gender',\n",
        "       'past_3_years_bike_related_purchases', 'DOB', 'job_title',\n",
        "       'job_industry_category', 'wealth_segment', 'deceased_indicator',\n",
        "       'default', 'owns_car', 'tenure']).drop(columns=['first_name','last_name'])\n",
        "df1.head()\n"
      ],
      "execution_count": null,
      "outputs": [
        {
          "output_type": "execute_result",
          "data": {
            "text/html": [
              "<div>\n",
              "<style scoped>\n",
              "    .dataframe tbody tr th:only-of-type {\n",
              "        vertical-align: middle;\n",
              "    }\n",
              "\n",
              "    .dataframe tbody tr th {\n",
              "        vertical-align: top;\n",
              "    }\n",
              "\n",
              "    .dataframe thead th {\n",
              "        text-align: right;\n",
              "    }\n",
              "</style>\n",
              "<table border=\"1\" class=\"dataframe\">\n",
              "  <thead>\n",
              "    <tr style=\"text-align: right;\">\n",
              "      <th></th>\n",
              "      <th>customer_id</th>\n",
              "      <th>name</th>\n",
              "      <th>gender</th>\n",
              "      <th>past_3_years_bike_related_purchases</th>\n",
              "      <th>DOB</th>\n",
              "      <th>job_title</th>\n",
              "      <th>job_industry_category</th>\n",
              "      <th>wealth_segment</th>\n",
              "      <th>deceased_indicator</th>\n",
              "      <th>default</th>\n",
              "      <th>owns_car</th>\n",
              "      <th>tenure</th>\n",
              "    </tr>\n",
              "  </thead>\n",
              "  <tbody>\n",
              "    <tr>\n",
              "      <th>0</th>\n",
              "      <td>1</td>\n",
              "      <td>Laraine Medendorp</td>\n",
              "      <td>F</td>\n",
              "      <td>93</td>\n",
              "      <td>1953-10-12 00:00:00</td>\n",
              "      <td>Executive Secretary</td>\n",
              "      <td>Health</td>\n",
              "      <td>Mass Customer</td>\n",
              "      <td>N</td>\n",
              "      <td>\"'</td>\n",
              "      <td>Yes</td>\n",
              "      <td>11</td>\n",
              "    </tr>\n",
              "    <tr>\n",
              "      <th>1</th>\n",
              "      <td>2</td>\n",
              "      <td>Eli Bockman</td>\n",
              "      <td>Male</td>\n",
              "      <td>81</td>\n",
              "      <td>1980-12-16 00:00:00</td>\n",
              "      <td>Administrative Officer</td>\n",
              "      <td>Financial Services</td>\n",
              "      <td>Mass Customer</td>\n",
              "      <td>N</td>\n",
              "      <td>&lt;script&gt;alert('hi')&lt;/script&gt;</td>\n",
              "      <td>Yes</td>\n",
              "      <td>16</td>\n",
              "    </tr>\n",
              "    <tr>\n",
              "      <th>2</th>\n",
              "      <td>3</td>\n",
              "      <td>Arlin Dearle</td>\n",
              "      <td>Male</td>\n",
              "      <td>61</td>\n",
              "      <td>1954-01-20 00:00:00</td>\n",
              "      <td>Recruiting Manager</td>\n",
              "      <td>Property</td>\n",
              "      <td>Mass Customer</td>\n",
              "      <td>N</td>\n",
              "      <td>2018-02-01 00:00:00</td>\n",
              "      <td>Yes</td>\n",
              "      <td>15</td>\n",
              "    </tr>\n",
              "    <tr>\n",
              "      <th>3</th>\n",
              "      <td>4</td>\n",
              "      <td>Talbot</td>\n",
              "      <td>Male</td>\n",
              "      <td>33</td>\n",
              "      <td>1961-10-03 00:00:00</td>\n",
              "      <td>NaN</td>\n",
              "      <td>IT</td>\n",
              "      <td>Mass Customer</td>\n",
              "      <td>N</td>\n",
              "      <td>() { _; } &gt;_[$($())] { touch /tmp/blns.shellsh...</td>\n",
              "      <td>No</td>\n",
              "      <td>7</td>\n",
              "    </tr>\n",
              "    <tr>\n",
              "      <th>4</th>\n",
              "      <td>5</td>\n",
              "      <td>Sheila-kathryn Calton</td>\n",
              "      <td>Female</td>\n",
              "      <td>56</td>\n",
              "      <td>1977-05-13 00:00:00</td>\n",
              "      <td>Senior Editor</td>\n",
              "      <td>NaN</td>\n",
              "      <td>Affluent Customer</td>\n",
              "      <td>N</td>\n",
              "      <td>NIL</td>\n",
              "      <td>Yes</td>\n",
              "      <td>8</td>\n",
              "    </tr>\n",
              "  </tbody>\n",
              "</table>\n",
              "</div>"
            ],
            "text/plain": [
              "0 customer_id                   name  ... owns_car tenure\n",
              "0           1      Laraine Medendorp  ...      Yes     11\n",
              "1           2            Eli Bockman  ...      Yes     16\n",
              "2           3           Arlin Dearle  ...      Yes     15\n",
              "3           4                 Talbot  ...       No      7\n",
              "4           5  Sheila-kathryn Calton  ...      Yes      8\n",
              "\n",
              "[5 rows x 12 columns]"
            ]
          },
          "metadata": {
            "tags": []
          },
          "execution_count": 24
        }
      ]
    },
    {
      "cell_type": "code",
      "metadata": {
        "id": "8DUWR4ipam_D",
        "colab": {
          "base_uri": "https://localhost:8080/"
        },
        "outputId": "df0df6a0-38ec-4c99-acb6-1ac7411851c0"
      },
      "source": [
        "df1.info()"
      ],
      "execution_count": null,
      "outputs": [
        {
          "output_type": "stream",
          "text": [
            "<class 'pandas.core.frame.DataFrame'>\n",
            "RangeIndex: 4000 entries, 0 to 3999\n",
            "Data columns (total 12 columns):\n",
            " #   Column                               Non-Null Count  Dtype \n",
            "---  ------                               --------------  ----- \n",
            " 0   customer_id                          4000 non-null   object\n",
            " 1   name                                 4000 non-null   object\n",
            " 2   gender                               4000 non-null   object\n",
            " 3   past_3_years_bike_related_purchases  4000 non-null   object\n",
            " 4   DOB                                  3913 non-null   object\n",
            " 5   job_title                            3494 non-null   object\n",
            " 6   job_industry_category                3344 non-null   object\n",
            " 7   wealth_segment                       4000 non-null   object\n",
            " 8   deceased_indicator                   4000 non-null   object\n",
            " 9   default                              3698 non-null   object\n",
            " 10  owns_car                             4000 non-null   object\n",
            " 11  tenure                               3913 non-null   object\n",
            "dtypes: object(12)\n",
            "memory usage: 375.1+ KB\n"
          ],
          "name": "stdout"
        }
      ]
    },
    {
      "cell_type": "markdown",
      "metadata": {
        "id": "K6P9uVUWMrYl"
      },
      "source": [
        "--> Deleting Default Feature\n",
        "\n",
        "**Note** :\n",
        "\n",
        "PROBLEM (Relefancy) : Irrelevance 'default' feature \n",
        "From The First 10 rows of DataFrame above, the feature named 'default' doesn't show any valid and distincable information so we just need to delete this row.\n",
        "SOLUTION : Delete feature"
      ]
    },
    {
      "cell_type": "code",
      "metadata": {
        "id": "g5VRYuto4t3b",
        "colab": {
          "base_uri": "https://localhost:8080/",
          "height": 190
        },
        "outputId": "f0f6ccce-e228-436e-f973-fa2f5f0c6123"
      },
      "source": [
        "## Deleting default feature\n",
        "df1 = df1.drop(columns='default')\n",
        "df1.head(5)"
      ],
      "execution_count": null,
      "outputs": [
        {
          "output_type": "execute_result",
          "data": {
            "text/html": [
              "<div>\n",
              "<style scoped>\n",
              "    .dataframe tbody tr th:only-of-type {\n",
              "        vertical-align: middle;\n",
              "    }\n",
              "\n",
              "    .dataframe tbody tr th {\n",
              "        vertical-align: top;\n",
              "    }\n",
              "\n",
              "    .dataframe thead th {\n",
              "        text-align: right;\n",
              "    }\n",
              "</style>\n",
              "<table border=\"1\" class=\"dataframe\">\n",
              "  <thead>\n",
              "    <tr style=\"text-align: right;\">\n",
              "      <th></th>\n",
              "      <th>customer_id</th>\n",
              "      <th>name</th>\n",
              "      <th>gender</th>\n",
              "      <th>past_3_years_bike_related_purchases</th>\n",
              "      <th>DOB</th>\n",
              "      <th>job_title</th>\n",
              "      <th>job_industry_category</th>\n",
              "      <th>wealth_segment</th>\n",
              "      <th>deceased_indicator</th>\n",
              "      <th>owns_car</th>\n",
              "      <th>tenure</th>\n",
              "    </tr>\n",
              "  </thead>\n",
              "  <tbody>\n",
              "    <tr>\n",
              "      <th>0</th>\n",
              "      <td>1</td>\n",
              "      <td>Laraine Medendorp</td>\n",
              "      <td>F</td>\n",
              "      <td>93</td>\n",
              "      <td>1953-10-12 00:00:00</td>\n",
              "      <td>Executive Secretary</td>\n",
              "      <td>Health</td>\n",
              "      <td>Mass Customer</td>\n",
              "      <td>N</td>\n",
              "      <td>Yes</td>\n",
              "      <td>11</td>\n",
              "    </tr>\n",
              "    <tr>\n",
              "      <th>1</th>\n",
              "      <td>2</td>\n",
              "      <td>Eli Bockman</td>\n",
              "      <td>Male</td>\n",
              "      <td>81</td>\n",
              "      <td>1980-12-16 00:00:00</td>\n",
              "      <td>Administrative Officer</td>\n",
              "      <td>Financial Services</td>\n",
              "      <td>Mass Customer</td>\n",
              "      <td>N</td>\n",
              "      <td>Yes</td>\n",
              "      <td>16</td>\n",
              "    </tr>\n",
              "    <tr>\n",
              "      <th>2</th>\n",
              "      <td>3</td>\n",
              "      <td>Arlin Dearle</td>\n",
              "      <td>Male</td>\n",
              "      <td>61</td>\n",
              "      <td>1954-01-20 00:00:00</td>\n",
              "      <td>Recruiting Manager</td>\n",
              "      <td>Property</td>\n",
              "      <td>Mass Customer</td>\n",
              "      <td>N</td>\n",
              "      <td>Yes</td>\n",
              "      <td>15</td>\n",
              "    </tr>\n",
              "    <tr>\n",
              "      <th>3</th>\n",
              "      <td>4</td>\n",
              "      <td>Talbot</td>\n",
              "      <td>Male</td>\n",
              "      <td>33</td>\n",
              "      <td>1961-10-03 00:00:00</td>\n",
              "      <td>NaN</td>\n",
              "      <td>IT</td>\n",
              "      <td>Mass Customer</td>\n",
              "      <td>N</td>\n",
              "      <td>No</td>\n",
              "      <td>7</td>\n",
              "    </tr>\n",
              "    <tr>\n",
              "      <th>4</th>\n",
              "      <td>5</td>\n",
              "      <td>Sheila-kathryn Calton</td>\n",
              "      <td>Female</td>\n",
              "      <td>56</td>\n",
              "      <td>1977-05-13 00:00:00</td>\n",
              "      <td>Senior Editor</td>\n",
              "      <td>NaN</td>\n",
              "      <td>Affluent Customer</td>\n",
              "      <td>N</td>\n",
              "      <td>Yes</td>\n",
              "      <td>8</td>\n",
              "    </tr>\n",
              "  </tbody>\n",
              "</table>\n",
              "</div>"
            ],
            "text/plain": [
              "0 customer_id                   name  gender  ... deceased_indicator owns_car tenure\n",
              "0           1      Laraine Medendorp       F  ...                  N      Yes     11\n",
              "1           2            Eli Bockman    Male  ...                  N      Yes     16\n",
              "2           3           Arlin Dearle    Male  ...                  N      Yes     15\n",
              "3           4                 Talbot    Male  ...                  N       No      7\n",
              "4           5  Sheila-kathryn Calton  Female  ...                  N      Yes      8\n",
              "\n",
              "[5 rows x 11 columns]"
            ]
          },
          "metadata": {
            "tags": []
          },
          "execution_count": 26
        }
      ]
    },
    {
      "cell_type": "markdown",
      "metadata": {
        "id": "D9ETSThKuZrs"
      },
      "source": [
        "--> Checking Data Frame Info (Type, Total Index Number per Column)"
      ]
    },
    {
      "cell_type": "code",
      "metadata": {
        "id": "ovj4No0xujzP",
        "colab": {
          "base_uri": "https://localhost:8080/"
        },
        "outputId": "485d3e67-8a57-4499-e971-82443a5ad82c"
      },
      "source": [
        "df1.info()"
      ],
      "execution_count": null,
      "outputs": [
        {
          "output_type": "stream",
          "text": [
            "<class 'pandas.core.frame.DataFrame'>\n",
            "RangeIndex: 4000 entries, 0 to 3999\n",
            "Data columns (total 11 columns):\n",
            " #   Column                               Non-Null Count  Dtype \n",
            "---  ------                               --------------  ----- \n",
            " 0   customer_id                          4000 non-null   object\n",
            " 1   name                                 4000 non-null   object\n",
            " 2   gender                               4000 non-null   object\n",
            " 3   past_3_years_bike_related_purchases  4000 non-null   object\n",
            " 4   DOB                                  3913 non-null   object\n",
            " 5   job_title                            3494 non-null   object\n",
            " 6   job_industry_category                3344 non-null   object\n",
            " 7   wealth_segment                       4000 non-null   object\n",
            " 8   deceased_indicator                   4000 non-null   object\n",
            " 9   owns_car                             4000 non-null   object\n",
            " 10  tenure                               3913 non-null   object\n",
            "dtypes: object(11)\n",
            "memory usage: 343.9+ KB\n"
          ],
          "name": "stdout"
        }
      ]
    },
    {
      "cell_type": "markdown",
      "metadata": {
        "id": "cVIuMiqhvVnx"
      },
      "source": [
        "**Note**: The DataFrame info above shows the possible several columns have missing value e.g: last_name, DOB, job_title,job_industry_category,default,tenure. We should checking and cleaning in order to make the prediction model a lot easier and reliable. "
      ]
    },
    {
      "cell_type": "markdown",
      "metadata": {
        "id": "qEyynT6wovrL"
      },
      "source": [
        "--> Checking Unique customer_id Number\n",
        "\n",
        "\n"
      ]
    },
    {
      "cell_type": "markdown",
      "metadata": {
        "id": "iZDocIJHwD3t"
      },
      "source": [
        "**Note** : \n",
        "\n",
        "It is a common thing to check the duplicate when dealing with customer_id data due to possible mistake in the input process like human error or technical error. "
      ]
    },
    {
      "cell_type": "code",
      "metadata": {
        "id": "mBpcvNdCxL9O",
        "colab": {
          "base_uri": "https://localhost:8080/"
        },
        "outputId": "d35b2058-42b2-4612-bbf6-d94b19a3d0b8"
      },
      "source": [
        "print('Number of Unique Values in customer ID : \\n',df1.customer_id.nunique())\n",
        "print('Number of Unique Values in First Name : \\n',df1.name.nunique())\n"
      ],
      "execution_count": null,
      "outputs": [
        {
          "output_type": "stream",
          "text": [
            "Number of Unique Values in customer ID : \n",
            " 4000\n",
            "Number of Unique Values in First Name : \n",
            " 3998\n"
          ],
          "name": "stdout"
        }
      ]
    },
    {
      "cell_type": "markdown",
      "metadata": {
        "id": "18-Z0E3izlG0"
      },
      "source": [
        "**Note** : \n",
        "The above code shows that there are 4000 unique number in customer_id which means there are no duplicate id number. \n",
        "\n",
        "It is okay if there are 2 identical Name since it is common for person who have identical name."
      ]
    },
    {
      "cell_type": "markdown",
      "metadata": {
        "id": "33CEEPQioIor"
      },
      "source": [
        "--> Checking Mising Values"
      ]
    },
    {
      "cell_type": "code",
      "metadata": {
        "id": "KeFF_YmnvFNe",
        "colab": {
          "base_uri": "https://localhost:8080/"
        },
        "outputId": "5fbd2928-f099-43c0-afe4-b377c7b69f2c"
      },
      "source": [
        "print('\\nThe number missing value in each feature')\n",
        "df1.isnull().sum()"
      ],
      "execution_count": null,
      "outputs": [
        {
          "output_type": "stream",
          "text": [
            "\n",
            "The number missing value in each feature\n"
          ],
          "name": "stdout"
        },
        {
          "output_type": "execute_result",
          "data": {
            "text/plain": [
              "0\n",
              "customer_id                              0\n",
              "name                                     0\n",
              "gender                                   0\n",
              "past_3_years_bike_related_purchases      0\n",
              "DOB                                     87\n",
              "job_title                              506\n",
              "job_industry_category                  656\n",
              "wealth_segment                           0\n",
              "deceased_indicator                       0\n",
              "owns_car                                 0\n",
              "tenure                                  87\n",
              "dtype: int64"
            ]
          },
          "metadata": {
            "tags": []
          },
          "execution_count": 29
        }
      ]
    },
    {
      "cell_type": "markdown",
      "metadata": {
        "id": "cGz20aAja9K0"
      },
      "source": [
        "--> Dealing with missing Values"
      ]
    },
    {
      "cell_type": "code",
      "metadata": {
        "id": "BnViezc-hDfl",
        "colab": {
          "base_uri": "https://localhost:8080/"
        },
        "outputId": "28c16ee3-ec48-4f6f-c01d-4efb7c3ff1c2"
      },
      "source": [
        "col_miss = ['DOB','job_title','job_industry_category']\n",
        "for col in col_miss:\n",
        "  if (col == 'job_title'):\n",
        "    df1[col].fillna(value='Other', inplace = True)\n",
        "  elif (col == 'job_industry_category'):\n",
        "    df1[col].fillna(value='Other', inplace = True)\n",
        "  else:\n",
        "    df1.dropna(subset=['DOB'],inplace = True)\n",
        "print('Current Number Missing Value in Each Feature')\n",
        "print(df1.isnull().sum())"
      ],
      "execution_count": null,
      "outputs": [
        {
          "output_type": "stream",
          "text": [
            "Current Number Missing Value in Each Feature\n",
            "0\n",
            "customer_id                            0\n",
            "name                                   0\n",
            "gender                                 0\n",
            "past_3_years_bike_related_purchases    0\n",
            "DOB                                    0\n",
            "job_title                              0\n",
            "job_industry_category                  0\n",
            "wealth_segment                         0\n",
            "deceased_indicator                     0\n",
            "owns_car                               0\n",
            "tenure                                 0\n",
            "dtype: int64\n"
          ],
          "name": "stdout"
        }
      ]
    },
    {
      "cell_type": "code",
      "metadata": {
        "id": "YVYJze_uqmvz",
        "colab": {
          "base_uri": "https://localhost:8080/"
        },
        "outputId": "9f13a191-6ad0-4b9d-f253-8f5cc8bf4cc5"
      },
      "source": [
        "df1.info()"
      ],
      "execution_count": null,
      "outputs": [
        {
          "output_type": "stream",
          "text": [
            "<class 'pandas.core.frame.DataFrame'>\n",
            "Int64Index: 3913 entries, 0 to 3999\n",
            "Data columns (total 11 columns):\n",
            " #   Column                               Non-Null Count  Dtype \n",
            "---  ------                               --------------  ----- \n",
            " 0   customer_id                          3913 non-null   object\n",
            " 1   name                                 3913 non-null   object\n",
            " 2   gender                               3913 non-null   object\n",
            " 3   past_3_years_bike_related_purchases  3913 non-null   object\n",
            " 4   DOB                                  3913 non-null   object\n",
            " 5   job_title                            3913 non-null   object\n",
            " 6   job_industry_category                3913 non-null   object\n",
            " 7   wealth_segment                       3913 non-null   object\n",
            " 8   deceased_indicator                   3913 non-null   object\n",
            " 9   owns_car                             3913 non-null   object\n",
            " 10  tenure                               3913 non-null   object\n",
            "dtypes: object(11)\n",
            "memory usage: 366.8+ KB\n"
          ],
          "name": "stdout"
        }
      ]
    },
    {
      "cell_type": "code",
      "metadata": {
        "id": "eromUbvmtJZh",
        "colab": {
          "base_uri": "https://localhost:8080/",
          "height": 190
        },
        "outputId": "8f0a5a5a-273b-4b75-ff7b-e209c4cf8f7c"
      },
      "source": [
        "df1.head()"
      ],
      "execution_count": null,
      "outputs": [
        {
          "output_type": "execute_result",
          "data": {
            "text/html": [
              "<div>\n",
              "<style scoped>\n",
              "    .dataframe tbody tr th:only-of-type {\n",
              "        vertical-align: middle;\n",
              "    }\n",
              "\n",
              "    .dataframe tbody tr th {\n",
              "        vertical-align: top;\n",
              "    }\n",
              "\n",
              "    .dataframe thead th {\n",
              "        text-align: right;\n",
              "    }\n",
              "</style>\n",
              "<table border=\"1\" class=\"dataframe\">\n",
              "  <thead>\n",
              "    <tr style=\"text-align: right;\">\n",
              "      <th></th>\n",
              "      <th>customer_id</th>\n",
              "      <th>name</th>\n",
              "      <th>gender</th>\n",
              "      <th>past_3_years_bike_related_purchases</th>\n",
              "      <th>DOB</th>\n",
              "      <th>job_title</th>\n",
              "      <th>job_industry_category</th>\n",
              "      <th>wealth_segment</th>\n",
              "      <th>deceased_indicator</th>\n",
              "      <th>owns_car</th>\n",
              "      <th>tenure</th>\n",
              "    </tr>\n",
              "  </thead>\n",
              "  <tbody>\n",
              "    <tr>\n",
              "      <th>0</th>\n",
              "      <td>1</td>\n",
              "      <td>Laraine Medendorp</td>\n",
              "      <td>F</td>\n",
              "      <td>93</td>\n",
              "      <td>1953-10-12 00:00:00</td>\n",
              "      <td>Executive Secretary</td>\n",
              "      <td>Health</td>\n",
              "      <td>Mass Customer</td>\n",
              "      <td>N</td>\n",
              "      <td>Yes</td>\n",
              "      <td>11</td>\n",
              "    </tr>\n",
              "    <tr>\n",
              "      <th>1</th>\n",
              "      <td>2</td>\n",
              "      <td>Eli Bockman</td>\n",
              "      <td>Male</td>\n",
              "      <td>81</td>\n",
              "      <td>1980-12-16 00:00:00</td>\n",
              "      <td>Administrative Officer</td>\n",
              "      <td>Financial Services</td>\n",
              "      <td>Mass Customer</td>\n",
              "      <td>N</td>\n",
              "      <td>Yes</td>\n",
              "      <td>16</td>\n",
              "    </tr>\n",
              "    <tr>\n",
              "      <th>2</th>\n",
              "      <td>3</td>\n",
              "      <td>Arlin Dearle</td>\n",
              "      <td>Male</td>\n",
              "      <td>61</td>\n",
              "      <td>1954-01-20 00:00:00</td>\n",
              "      <td>Recruiting Manager</td>\n",
              "      <td>Property</td>\n",
              "      <td>Mass Customer</td>\n",
              "      <td>N</td>\n",
              "      <td>Yes</td>\n",
              "      <td>15</td>\n",
              "    </tr>\n",
              "    <tr>\n",
              "      <th>3</th>\n",
              "      <td>4</td>\n",
              "      <td>Talbot</td>\n",
              "      <td>Male</td>\n",
              "      <td>33</td>\n",
              "      <td>1961-10-03 00:00:00</td>\n",
              "      <td>Other</td>\n",
              "      <td>IT</td>\n",
              "      <td>Mass Customer</td>\n",
              "      <td>N</td>\n",
              "      <td>No</td>\n",
              "      <td>7</td>\n",
              "    </tr>\n",
              "    <tr>\n",
              "      <th>4</th>\n",
              "      <td>5</td>\n",
              "      <td>Sheila-kathryn Calton</td>\n",
              "      <td>Female</td>\n",
              "      <td>56</td>\n",
              "      <td>1977-05-13 00:00:00</td>\n",
              "      <td>Senior Editor</td>\n",
              "      <td>Other</td>\n",
              "      <td>Affluent Customer</td>\n",
              "      <td>N</td>\n",
              "      <td>Yes</td>\n",
              "      <td>8</td>\n",
              "    </tr>\n",
              "  </tbody>\n",
              "</table>\n",
              "</div>"
            ],
            "text/plain": [
              "0 customer_id                   name  gender  ... deceased_indicator owns_car tenure\n",
              "0           1      Laraine Medendorp       F  ...                  N      Yes     11\n",
              "1           2            Eli Bockman    Male  ...                  N      Yes     16\n",
              "2           3           Arlin Dearle    Male  ...                  N      Yes     15\n",
              "3           4                 Talbot    Male  ...                  N       No      7\n",
              "4           5  Sheila-kathryn Calton  Female  ...                  N      Yes      8\n",
              "\n",
              "[5 rows x 11 columns]"
            ]
          },
          "metadata": {
            "tags": []
          },
          "execution_count": 32
        }
      ]
    },
    {
      "cell_type": "markdown",
      "metadata": {
        "id": "z0Ez5Vmfl4tM"
      },
      "source": [
        "**Note** :\n",
        "\n",
        "The Dataset now is free from missing value and has a 3913 samples even we still have missing value in last_name feature but it doesnt contribute in customer segmentation using RMF and also in predictive modelling using machine learning method"
      ]
    },
    {
      "cell_type": "markdown",
      "metadata": {
        "id": "e0sf4fve0j39"
      },
      "source": [
        "--> Checking The Un-Standard Value of each column."
      ]
    },
    {
      "cell_type": "markdown",
      "metadata": {
        "id": "Gtc-pvau6rJ9"
      },
      "source": [
        "**Note**: \n",
        "\n",
        "It is a common thing in gender data to have various spelling in gender classification like Women,women,W,Male,male,M,ect. So we need to like equalize male gender type to 'Male' and female to 'Female' form. And also we wanna do this to all of the columns name."
      ]
    },
    {
      "cell_type": "code",
      "metadata": {
        "id": "a6NTnxUAvx-k",
        "colab": {
          "base_uri": "https://localhost:8080/"
        },
        "outputId": "4b1823ea-f6c7-485e-ae72-7104b0c1bc13"
      },
      "source": [
        "# Checking Unstandard Value\n",
        "for col_name in df1.columns:\n",
        "  print('\\nUnique Values Count \\033[1m'+'\\033[0mVariable',col_name)\n",
        "  print(df1[col_name].value_counts())"
      ],
      "execution_count": null,
      "outputs": [
        {
          "output_type": "stream",
          "text": [
            "\n",
            "Unique Values Count \u001b[1m\u001b[0mVariable customer_id\n",
            "4000    1\n",
            "1343    1\n",
            "1341    1\n",
            "1340    1\n",
            "1339    1\n",
            "       ..\n",
            "2661    1\n",
            "2660    1\n",
            "2659    1\n",
            "2658    1\n",
            "1       1\n",
            "Name: customer_id, Length: 3913, dtype: int64\n",
            "\n",
            "Unique Values Count \u001b[1m\u001b[0mVariable name\n",
            "Corabelle              2\n",
            "Gerladina Carney       1\n",
            "Tracie Bartolomeoni    1\n",
            "Fowler Scotsbrook      1\n",
            "Ronda                  1\n",
            "                      ..\n",
            "Evelina Bavin          1\n",
            "Isadora Gronaller      1\n",
            "Jeni Heymes            1\n",
            "Addi Seager            1\n",
            "Idalina Wilcot         1\n",
            "Name: name, Length: 3912, dtype: int64\n",
            "\n",
            "Unique Values Count \u001b[1m\u001b[0mVariable gender\n",
            "Female    2037\n",
            "Male      1872\n",
            "U            1\n",
            "M            1\n",
            "Femal        1\n",
            "F            1\n",
            "Name: gender, dtype: int64\n",
            "\n",
            "Unique Values Count \u001b[1m\u001b[0mVariable past_3_years_bike_related_purchases\n",
            "19    55\n",
            "16    55\n",
            "20    53\n",
            "67    52\n",
            "2     50\n",
            "      ..\n",
            "86    27\n",
            "85    27\n",
            "8     27\n",
            "95    26\n",
            "92    24\n",
            "Name: past_3_years_bike_related_purchases, Length: 100, dtype: int64\n",
            "\n",
            "Unique Values Count \u001b[1m\u001b[0mVariable DOB\n",
            "1978-01-30    7\n",
            "1976-09-25    4\n",
            "1978-08-19    4\n",
            "1976-07-16    4\n",
            "1964-07-08    4\n",
            "             ..\n",
            "1981-05-14    1\n",
            "1964-05-29    1\n",
            "1986-01-03    1\n",
            "1986-08-21    1\n",
            "1962-05-05    1\n",
            "Name: DOB, Length: 3448, dtype: int64\n",
            "\n",
            "Unique Values Count \u001b[1m\u001b[0mVariable job_title\n",
            "Other                                   497\n",
            "Business Systems Development Analyst     43\n",
            "Tax Accountant                           43\n",
            "Social Worker                            42\n",
            "Recruiting Manager                       41\n",
            "                                       ... \n",
            "Staff Accountant I                        4\n",
            "Health Coach III                          3\n",
            "Health Coach I                            3\n",
            "Research Assistant III                    3\n",
            "Developer I                               1\n",
            "Name: job_title, Length: 196, dtype: int64\n",
            "\n",
            "Unique Values Count \u001b[1m\u001b[0mVariable job_industry_category\n",
            "Manufacturing         796\n",
            "Financial Services    767\n",
            "Other                 656\n",
            "Health                596\n",
            "Retail                358\n",
            "Property              267\n",
            "IT                    152\n",
            "Entertainment         136\n",
            "Argiculture           113\n",
            "Telecommunications     72\n",
            "Name: job_industry_category, dtype: int64\n",
            "\n",
            "Unique Values Count \u001b[1m\u001b[0mVariable wealth_segment\n",
            "Mass Customer        1954\n",
            "High Net Worth        996\n",
            "Affluent Customer     963\n",
            "Name: wealth_segment, dtype: int64\n",
            "\n",
            "Unique Values Count \u001b[1m\u001b[0mVariable deceased_indicator\n",
            "N    3911\n",
            "Y       2\n",
            "Name: deceased_indicator, dtype: int64\n",
            "\n",
            "Unique Values Count \u001b[1m\u001b[0mVariable owns_car\n",
            "Yes    1974\n",
            "No     1939\n",
            "Name: owns_car, dtype: int64\n",
            "\n",
            "Unique Values Count \u001b[1m\u001b[0mVariable tenure\n",
            "7     235\n",
            "5     228\n",
            "11    221\n",
            "10    218\n",
            "16    215\n",
            "8     211\n",
            "18    208\n",
            "12    202\n",
            "14    200\n",
            "9     200\n",
            "6     192\n",
            "4     191\n",
            "13    191\n",
            "17    182\n",
            "15    179\n",
            "1     166\n",
            "3     160\n",
            "19    159\n",
            "2     150\n",
            "20     96\n",
            "22     55\n",
            "21     54\n",
            "Name: tenure, dtype: int64\n"
          ],
          "name": "stdout"
        }
      ]
    },
    {
      "cell_type": "markdown",
      "metadata": {
        "id": "iqK2zCUu4b2s"
      },
      "source": [
        "**Note**: \n",
        "\n",
        "1) there are 3 type of gender which are U (LGBT), Male, and Female. But there are also M and F in which we might consider it as Male and Female respectively. Also there is on class of gender data named Femal in which we might also consider it as Female. Unfortunately, we notice that there is one particular gender classification named U, it dosent contribute significan to data distribution since only 1 frequency. So The next following codes labeled as \"Code 1\" are to standarize the gender data "
      ]
    },
    {
      "cell_type": "code",
      "metadata": {
        "id": "hye1-FnitOga"
      },
      "source": [
        "## CODE 1\n",
        "list_unstandard = ['M','F','Femal','U','Y','Argiculture']\n",
        "for value in list_unstandard:\n",
        "  if value == 'M':\n",
        "    df1['gender'].replace(to_replace = ['M'], value = ['Male'], inplace = True)\n",
        "  elif value == 'F':\n",
        "    df1['gender'].replace(to_replace = ['F'], value = ['Female'], inplace = True)\n",
        "  elif value == 'Femal':\n",
        "    df1['gender'].replace(to_replace = ['Femal'], value = ['Female'], inplace = True)\n",
        "  elif value == 'Argiculture':\n",
        "    df1['job_industry_category'].replace(to_replace = ['Argiculture'], value = ['Agriculture'], inplace = True)\n",
        "  else :\n",
        "    df1 = df1.drop(index = df1.loc[df1.gender == 'U'].index).reset_index(drop = True)\n"
      ],
      "execution_count": null,
      "outputs": []
    },
    {
      "cell_type": "code",
      "metadata": {
        "id": "Q8I1_GXmI6VP",
        "colab": {
          "base_uri": "https://localhost:8080/"
        },
        "outputId": "a65d937a-e2cb-4099-8721-9c4ffb0e46fc"
      },
      "source": [
        "for col in df1.columns:\n",
        "  print('\\nUnique Value Counts in Variable \"{}\" :'.format(col))\n",
        "  print(df1[col].value_counts())"
      ],
      "execution_count": null,
      "outputs": [
        {
          "output_type": "stream",
          "text": [
            "\n",
            "Unique Value Counts in Variable \"customer_id\" :\n",
            "4000    1\n",
            "1344    1\n",
            "1342    1\n",
            "1341    1\n",
            "1340    1\n",
            "       ..\n",
            "2662    1\n",
            "2661    1\n",
            "2660    1\n",
            "2659    1\n",
            "1       1\n",
            "Name: customer_id, Length: 3912, dtype: int64\n",
            "\n",
            "Unique Value Counts in Variable \"name\" :\n",
            "Corabelle              2\n",
            "Gerladina Carney       1\n",
            "Tracie Bartolomeoni    1\n",
            "Fowler Scotsbrook      1\n",
            "Ronda                  1\n",
            "                      ..\n",
            "Evelina Bavin          1\n",
            "Isadora Gronaller      1\n",
            "Jeni Heymes            1\n",
            "Addi Seager            1\n",
            "Idalina Wilcot         1\n",
            "Name: name, Length: 3911, dtype: int64\n",
            "\n",
            "Unique Value Counts in Variable \"gender\" :\n",
            "Female    2039\n",
            "Male      1873\n",
            "Name: gender, dtype: int64\n",
            "\n",
            "Unique Value Counts in Variable \"past_3_years_bike_related_purchases\" :\n",
            "19    55\n",
            "16    55\n",
            "20    53\n",
            "67    52\n",
            "2     50\n",
            "      ..\n",
            "86    27\n",
            "85    27\n",
            "8     27\n",
            "95    26\n",
            "92    24\n",
            "Name: past_3_years_bike_related_purchases, Length: 100, dtype: int64\n",
            "\n",
            "Unique Value Counts in Variable \"DOB\" :\n",
            "1978-01-30    7\n",
            "1977-05-13    4\n",
            "1964-07-08    4\n",
            "1978-08-19    4\n",
            "1976-09-25    4\n",
            "             ..\n",
            "1964-05-29    1\n",
            "1986-01-03    1\n",
            "1986-08-21    1\n",
            "1967-07-25    1\n",
            "1962-05-05    1\n",
            "Name: DOB, Length: 3447, dtype: int64\n",
            "\n",
            "Unique Value Counts in Variable \"job_title\" :\n",
            "Other                                   497\n",
            "Business Systems Development Analyst     43\n",
            "Tax Accountant                           43\n",
            "Social Worker                            42\n",
            "Recruiting Manager                       41\n",
            "                                       ... \n",
            "Staff Accountant I                        4\n",
            "Health Coach III                          3\n",
            "Health Coach I                            3\n",
            "Research Assistant III                    3\n",
            "Developer I                               1\n",
            "Name: job_title, Length: 196, dtype: int64\n",
            "\n",
            "Unique Value Counts in Variable \"job_industry_category\" :\n",
            "Manufacturing         796\n",
            "Financial Services    767\n",
            "Other                 656\n",
            "Health                596\n",
            "Retail                358\n",
            "Property              267\n",
            "IT                    151\n",
            "Entertainment         136\n",
            "Agriculture           113\n",
            "Telecommunications     72\n",
            "Name: job_industry_category, dtype: int64\n",
            "\n",
            "Unique Value Counts in Variable \"wealth_segment\" :\n",
            "Mass Customer        1954\n",
            "High Net Worth        996\n",
            "Affluent Customer     962\n",
            "Name: wealth_segment, dtype: int64\n",
            "\n",
            "Unique Value Counts in Variable \"deceased_indicator\" :\n",
            "N    3910\n",
            "Y       2\n",
            "Name: deceased_indicator, dtype: int64\n",
            "\n",
            "Unique Value Counts in Variable \"owns_car\" :\n",
            "Yes    1974\n",
            "No     1938\n",
            "Name: owns_car, dtype: int64\n",
            "\n",
            "Unique Value Counts in Variable \"tenure\" :\n",
            "7     235\n",
            "5     228\n",
            "11    221\n",
            "10    218\n",
            "16    215\n",
            "8     211\n",
            "18    208\n",
            "12    202\n",
            "14    200\n",
            "9     200\n",
            "6     192\n",
            "4     191\n",
            "13    191\n",
            "17    182\n",
            "15    179\n",
            "1     166\n",
            "3     160\n",
            "19    159\n",
            "2     150\n",
            "20     95\n",
            "22     55\n",
            "21     54\n",
            "Name: tenure, dtype: int64\n"
          ],
          "name": "stdout"
        }
      ]
    },
    {
      "cell_type": "markdown",
      "metadata": {
        "id": "sBCWYf68dhKb"
      },
      "source": [
        "--> Checking Accuracy of Datasets: \n",
        "Detecting possible outliers in feature; tenure "
      ]
    },
    {
      "cell_type": "code",
      "metadata": {
        "id": "KW-RXq1bWW2q",
        "colab": {
          "base_uri": "https://localhost:8080/",
          "height": 1000
        },
        "outputId": "a6e7726c-6096-4d11-8bb8-90b5fdec58cd"
      },
      "source": [
        "import seaborn as sns\n",
        "col_outlier = ['past_3_years_bike_related_purchases','tenure']\n",
        "for col in df1[col_outlier]:\n",
        "  plt.figure(figsize=(10,8))\n",
        "  sns.boxplot(df1[col])"
      ],
      "execution_count": null,
      "outputs": [
        {
          "output_type": "stream",
          "text": [
            "/usr/local/lib/python3.6/dist-packages/seaborn/_decorators.py:43: FutureWarning: Pass the following variable as a keyword arg: x. From version 0.12, the only valid positional argument will be `data`, and passing other arguments without an explicit keyword will result in an error or misinterpretation.\n",
            "  FutureWarning\n",
            "/usr/local/lib/python3.6/dist-packages/seaborn/_decorators.py:43: FutureWarning: Pass the following variable as a keyword arg: x. From version 0.12, the only valid positional argument will be `data`, and passing other arguments without an explicit keyword will result in an error or misinterpretation.\n",
            "  FutureWarning\n"
          ],
          "name": "stderr"
        },
        {
          "output_type": "display_data",
          "data": {
            "image/png": "[encoded data removed]",
            "text/plain": [
              "<Figure size 720x576 with 1 Axes>"
            ]
          },
          "metadata": {
            "tags": [],
            "needs_background": "light"
          }
        },
        {
          "output_type": "display_data",
          "data": {
            "image/png": "[encoded data removed]",
            "text/plain": [
              "<Figure size 720x576 with 1 Axes>"
            ]
          },
          "metadata": {
            "tags": [],
            "needs_background": "light"
          }
        }
      ]
    },
    {
      "cell_type": "markdown",
      "metadata": {
        "id": "sKt1I9Hx9rqv"
      },
      "source": [
        "Data Preprocessing CustomerDemographic DataFrame (df1) : Feature Enginerring\n"
      ]
    },
    {
      "cell_type": "markdown",
      "metadata": {
        "id": "1X829xFnMNzF"
      },
      "source": [
        "--> Adding Demographic Info : Age"
      ]
    },
    {
      "cell_type": "code",
      "metadata": {
        "id": "GJ6XPsE5Mb3H"
      },
      "source": [
        "now = pd.Timestamp('now')\n",
        "df1['age'] = (now - df1['DOB']).astype('<m8[Y]') # 3\n",
        "#x['age'] = (now-x['DOB']).astype('<m8[Y]')"
      ],
      "execution_count": null,
      "outputs": []
    },
    {
      "cell_type": "code",
      "metadata": {
        "id": "s38NO0D2NvMe",
        "colab": {
          "base_uri": "https://localhost:8080/",
          "height": 274
        },
        "outputId": "f594fa1f-526b-46b8-f8dc-1188ebfbad06"
      },
      "source": [
        "df1.head()"
      ],
      "execution_count": null,
      "outputs": [
        {
          "output_type": "execute_result",
          "data": {
            "text/html": [
              "<div>\n",
              "<style scoped>\n",
              "    .dataframe tbody tr th:only-of-type {\n",
              "        vertical-align: middle;\n",
              "    }\n",
              "\n",
              "    .dataframe tbody tr th {\n",
              "        vertical-align: top;\n",
              "    }\n",
              "\n",
              "    .dataframe thead th {\n",
              "        text-align: right;\n",
              "    }\n",
              "</style>\n",
              "<table border=\"1\" class=\"dataframe\">\n",
              "  <thead>\n",
              "    <tr style=\"text-align: right;\">\n",
              "      <th></th>\n",
              "      <th>customer_id</th>\n",
              "      <th>name</th>\n",
              "      <th>gender</th>\n",
              "      <th>past_3_years_bike_related_purchases</th>\n",
              "      <th>DOB</th>\n",
              "      <th>job_title</th>\n",
              "      <th>job_industry_category</th>\n",
              "      <th>wealth_segment</th>\n",
              "      <th>deceased_indicator</th>\n",
              "      <th>owns_car</th>\n",
              "      <th>tenure</th>\n",
              "      <th>age</th>\n",
              "    </tr>\n",
              "  </thead>\n",
              "  <tbody>\n",
              "    <tr>\n",
              "      <th>0</th>\n",
              "      <td>1</td>\n",
              "      <td>Laraine Medendorp</td>\n",
              "      <td>Female</td>\n",
              "      <td>93</td>\n",
              "      <td>1953-10-12 00:00:00</td>\n",
              "      <td>Executive Secretary</td>\n",
              "      <td>Health</td>\n",
              "      <td>Mass Customer</td>\n",
              "      <td>N</td>\n",
              "      <td>Yes</td>\n",
              "      <td>11</td>\n",
              "      <td>67.0</td>\n",
              "    </tr>\n",
              "    <tr>\n",
              "      <th>1</th>\n",
              "      <td>2</td>\n",
              "      <td>Eli Bockman</td>\n",
              "      <td>Male</td>\n",
              "      <td>81</td>\n",
              "      <td>1980-12-16 00:00:00</td>\n",
              "      <td>Administrative Officer</td>\n",
              "      <td>Financial Services</td>\n",
              "      <td>Mass Customer</td>\n",
              "      <td>N</td>\n",
              "      <td>Yes</td>\n",
              "      <td>16</td>\n",
              "      <td>40.0</td>\n",
              "    </tr>\n",
              "    <tr>\n",
              "      <th>2</th>\n",
              "      <td>3</td>\n",
              "      <td>Arlin Dearle</td>\n",
              "      <td>Male</td>\n",
              "      <td>61</td>\n",
              "      <td>1954-01-20 00:00:00</td>\n",
              "      <td>Recruiting Manager</td>\n",
              "      <td>Property</td>\n",
              "      <td>Mass Customer</td>\n",
              "      <td>N</td>\n",
              "      <td>Yes</td>\n",
              "      <td>15</td>\n",
              "      <td>66.0</td>\n",
              "    </tr>\n",
              "    <tr>\n",
              "      <th>3</th>\n",
              "      <td>4</td>\n",
              "      <td>Talbot</td>\n",
              "      <td>Male</td>\n",
              "      <td>33</td>\n",
              "      <td>1961-10-03 00:00:00</td>\n",
              "      <td>Other</td>\n",
              "      <td>IT</td>\n",
              "      <td>Mass Customer</td>\n",
              "      <td>N</td>\n",
              "      <td>No</td>\n",
              "      <td>7</td>\n",
              "      <td>59.0</td>\n",
              "    </tr>\n",
              "    <tr>\n",
              "      <th>4</th>\n",
              "      <td>5</td>\n",
              "      <td>Sheila-kathryn Calton</td>\n",
              "      <td>Female</td>\n",
              "      <td>56</td>\n",
              "      <td>1977-05-13 00:00:00</td>\n",
              "      <td>Senior Editor</td>\n",
              "      <td>Other</td>\n",
              "      <td>Affluent Customer</td>\n",
              "      <td>N</td>\n",
              "      <td>Yes</td>\n",
              "      <td>8</td>\n",
              "      <td>43.0</td>\n",
              "    </tr>\n",
              "  </tbody>\n",
              "</table>\n",
              "</div>"
            ],
            "text/plain": [
              "0 customer_id                   name  gender  ... owns_car tenure   age\n",
              "0           1      Laraine Medendorp  Female  ...      Yes     11  67.0\n",
              "1           2            Eli Bockman    Male  ...      Yes     16  40.0\n",
              "2           3           Arlin Dearle    Male  ...      Yes     15  66.0\n",
              "3           4                 Talbot    Male  ...       No      7  59.0\n",
              "4           5  Sheila-kathryn Calton  Female  ...      Yes      8  43.0\n",
              "\n",
              "[5 rows x 12 columns]"
            ]
          },
          "metadata": {
            "tags": []
          },
          "execution_count": 38
        }
      ]
    },
    {
      "cell_type": "code",
      "metadata": {
        "id": "qtzCGiwqqoZZ",
        "colab": {
          "base_uri": "https://localhost:8080/",
          "height": 567
        },
        "outputId": "27649e4e-029b-4dc4-f5c9-fa78cca0956f"
      },
      "source": [
        "import seaborn as sns\n",
        "plt.figure(figsize=(10,8))\n",
        "sns.boxplot(df1['age'])"
      ],
      "execution_count": null,
      "outputs": [
        {
          "output_type": "stream",
          "text": [
            "/usr/local/lib/python3.6/dist-packages/seaborn/_decorators.py:43: FutureWarning: Pass the following variable as a keyword arg: x. From version 0.12, the only valid positional argument will be `data`, and passing other arguments without an explicit keyword will result in an error or misinterpretation.\n",
            "  FutureWarning\n"
          ],
          "name": "stderr"
        },
        {
          "output_type": "execute_result",
          "data": {
            "text/plain": [
              "<matplotlib.axes._subplots.AxesSubplot at 0x7fdc62c93b00>"
            ]
          },
          "metadata": {
            "tags": []
          },
          "execution_count": 39
        },
        {
          "output_type": "display_data",
          "data": {
            "image/png": "[encoded data removed]",
            "text/plain": [
              "<Figure size 720x576 with 1 Axes>"
            ]
          },
          "metadata": {
            "tags": [],
            "needs_background": "light"
          }
        }
      ]
    },
    {
      "cell_type": "markdown",
      "metadata": {
        "id": "Cq_uJEM6iheT"
      },
      "source": [
        "**Data Preprocessing Customer Address DataFrame (df2)**\n",
        "\n",
        "---\n",
        "\n"
      ]
    },
    {
      "cell_type": "markdown",
      "metadata": {
        "id": "EIJnHDSS--L9"
      },
      "source": [
        "Data Preprocessing Customer Address DataFrame (df2) : Data Transformation\n",
        "\n",
        "\n"
      ]
    },
    {
      "cell_type": "code",
      "metadata": {
        "id": "CeOYfT2Pk1JV",
        "colab": {
          "base_uri": "https://localhost:8080/",
          "height": 190
        },
        "outputId": "e0c92b85-ab83-4b3d-de6d-507752eab70a"
      },
      "source": [
        "df2.head()"
      ],
      "execution_count": null,
      "outputs": [
        {
          "output_type": "execute_result",
          "data": {
            "text/html": [
              "<div>\n",
              "<style scoped>\n",
              "    .dataframe tbody tr th:only-of-type {\n",
              "        vertical-align: middle;\n",
              "    }\n",
              "\n",
              "    .dataframe tbody tr th {\n",
              "        vertical-align: top;\n",
              "    }\n",
              "\n",
              "    .dataframe thead th {\n",
              "        text-align: right;\n",
              "    }\n",
              "</style>\n",
              "<table border=\"1\" class=\"dataframe\">\n",
              "  <thead>\n",
              "    <tr style=\"text-align: right;\">\n",
              "      <th></th>\n",
              "      <th>customer_id</th>\n",
              "      <th>address</th>\n",
              "      <th>postcode</th>\n",
              "      <th>state</th>\n",
              "      <th>country</th>\n",
              "      <th>property_valuation</th>\n",
              "    </tr>\n",
              "  </thead>\n",
              "  <tbody>\n",
              "    <tr>\n",
              "      <th>0</th>\n",
              "      <td>1</td>\n",
              "      <td>060 Morning Avenue</td>\n",
              "      <td>2016</td>\n",
              "      <td>New South Wales</td>\n",
              "      <td>Australia</td>\n",
              "      <td>10</td>\n",
              "    </tr>\n",
              "    <tr>\n",
              "      <th>1</th>\n",
              "      <td>2</td>\n",
              "      <td>6 Meadow Vale Court</td>\n",
              "      <td>2153</td>\n",
              "      <td>New South Wales</td>\n",
              "      <td>Australia</td>\n",
              "      <td>10</td>\n",
              "    </tr>\n",
              "    <tr>\n",
              "      <th>2</th>\n",
              "      <td>4</td>\n",
              "      <td>0 Holy Cross Court</td>\n",
              "      <td>4211</td>\n",
              "      <td>QLD</td>\n",
              "      <td>Australia</td>\n",
              "      <td>9</td>\n",
              "    </tr>\n",
              "    <tr>\n",
              "      <th>3</th>\n",
              "      <td>5</td>\n",
              "      <td>17979 Del Mar Point</td>\n",
              "      <td>2448</td>\n",
              "      <td>New South Wales</td>\n",
              "      <td>Australia</td>\n",
              "      <td>4</td>\n",
              "    </tr>\n",
              "    <tr>\n",
              "      <th>4</th>\n",
              "      <td>6</td>\n",
              "      <td>9 Oakridge Court</td>\n",
              "      <td>3216</td>\n",
              "      <td>VIC</td>\n",
              "      <td>Australia</td>\n",
              "      <td>9</td>\n",
              "    </tr>\n",
              "  </tbody>\n",
              "</table>\n",
              "</div>"
            ],
            "text/plain": [
              "0 customer_id              address  ...    country property_valuation\n",
              "0           1   060 Morning Avenue  ...  Australia                 10\n",
              "1           2  6 Meadow Vale Court  ...  Australia                 10\n",
              "2           4   0 Holy Cross Court  ...  Australia                  9\n",
              "3           5  17979 Del Mar Point  ...  Australia                  4\n",
              "4           6     9 Oakridge Court  ...  Australia                  9\n",
              "\n",
              "[5 rows x 6 columns]"
            ]
          },
          "metadata": {
            "tags": []
          },
          "execution_count": 40
        }
      ]
    },
    {
      "cell_type": "code",
      "metadata": {
        "id": "peUN0QryQshs",
        "colab": {
          "base_uri": "https://localhost:8080/"
        },
        "outputId": "fe60085d-1206-4fa7-dabc-923379a59155"
      },
      "source": [
        "df2.info()"
      ],
      "execution_count": null,
      "outputs": [
        {
          "output_type": "stream",
          "text": [
            "<class 'pandas.core.frame.DataFrame'>\n",
            "RangeIndex: 3999 entries, 0 to 3998\n",
            "Data columns (total 6 columns):\n",
            " #   Column              Non-Null Count  Dtype \n",
            "---  ------              --------------  ----- \n",
            " 0   customer_id         3999 non-null   object\n",
            " 1   address             3999 non-null   object\n",
            " 2   postcode            3999 non-null   object\n",
            " 3   state               3999 non-null   object\n",
            " 4   country             3999 non-null   object\n",
            " 5   property_valuation  3999 non-null   object\n",
            "dtypes: object(6)\n",
            "memory usage: 187.6+ KB\n"
          ],
          "name": "stdout"
        }
      ]
    },
    {
      "cell_type": "code",
      "metadata": {
        "id": "q7sCDVD8xIMS",
        "colab": {
          "base_uri": "https://localhost:8080/"
        },
        "outputId": "aaa38ffa-95df-402d-f52c-3a5d3d04ddb4"
      },
      "source": [
        "df2.isnull().sum()"
      ],
      "execution_count": null,
      "outputs": [
        {
          "output_type": "execute_result",
          "data": {
            "text/plain": [
              "0\n",
              "customer_id           0\n",
              "address               0\n",
              "postcode              0\n",
              "state                 0\n",
              "country               0\n",
              "property_valuation    0\n",
              "dtype: int64"
            ]
          },
          "metadata": {
            "tags": []
          },
          "execution_count": 42
        }
      ]
    },
    {
      "cell_type": "code",
      "metadata": {
        "id": "g4cSkkDBQXqy",
        "colab": {
          "base_uri": "https://localhost:8080/"
        },
        "outputId": "e82d43b8-3b49-43e5-da86-bdb84519e8cb"
      },
      "source": [
        "df2.customer_id.nunique()"
      ],
      "execution_count": null,
      "outputs": [
        {
          "output_type": "execute_result",
          "data": {
            "text/plain": [
              "3999"
            ]
          },
          "metadata": {
            "tags": []
          },
          "execution_count": 43
        }
      ]
    },
    {
      "cell_type": "code",
      "metadata": {
        "id": "ghuFldikvFhc",
        "colab": {
          "base_uri": "https://localhost:8080/"
        },
        "outputId": "e5854f39-8685-4c9e-c294-14a49a3f6da3"
      },
      "source": [
        "for col in df2.columns:\n",
        "  print('\\nUnique Value in feature \"{}\" :'.format(col))\n",
        "  print(df2[col].value_counts())"
      ],
      "execution_count": null,
      "outputs": [
        {
          "output_type": "stream",
          "text": [
            "\n",
            "Unique Value in feature \"customer_id\" :\n",
            "4003    1\n",
            "1332    1\n",
            "1345    1\n",
            "1344    1\n",
            "1343    1\n",
            "       ..\n",
            "2665    1\n",
            "2664    1\n",
            "2663    1\n",
            "2662    1\n",
            "1       1\n",
            "Name: customer_id, Length: 3999, dtype: int64\n",
            "\n",
            "Unique Value in feature \"address\" :\n",
            "64 Macpherson Junction     2\n",
            "3 Mariners Cove Terrace    2\n",
            "3 Talisman Place           2\n",
            "01 Nevada Alley            1\n",
            "627 Ronald Regan Alley     1\n",
            "                          ..\n",
            "375 Luster Parkway         1\n",
            "72258 Bayside Court        1\n",
            "751 Cordelia Terrace       1\n",
            "41 Spaight Road            1\n",
            "36 Vidon Parkway           1\n",
            "Name: address, Length: 3996, dtype: int64\n",
            "\n",
            "Unique Value in feature \"postcode\" :\n",
            "2170    31\n",
            "2145    30\n",
            "2155    30\n",
            "2153    29\n",
            "2560    26\n",
            "        ..\n",
            "2469     1\n",
            "4155     1\n",
            "2474     1\n",
            "3093     1\n",
            "3094     1\n",
            "Name: postcode, Length: 873, dtype: int64\n",
            "\n",
            "Unique Value in feature \"state\" :\n",
            "NSW                2054\n",
            "VIC                 939\n",
            "QLD                 838\n",
            "New South Wales      86\n",
            "Victoria             82\n",
            "Name: state, dtype: int64\n",
            "\n",
            "Unique Value in feature \"country\" :\n",
            "Australia    3999\n",
            "Name: country, dtype: int64\n",
            "\n",
            "Unique Value in feature \"property_valuation\" :\n",
            "9     647\n",
            "8     646\n",
            "10    577\n",
            "7     493\n",
            "11    281\n",
            "6     238\n",
            "5     225\n",
            "4     214\n",
            "12    195\n",
            "3     186\n",
            "1     154\n",
            "2     143\n",
            "Name: property_valuation, dtype: int64\n"
          ],
          "name": "stdout"
        }
      ]
    },
    {
      "cell_type": "markdown",
      "metadata": {
        "id": "-uOcr5iWvYyi"
      },
      "source": [
        "**Note:** \n",
        "\n",
        "We notice the unstandard value in State. To addres this problem, we sould use .replace in order to standardize the value"
      ]
    },
    {
      "cell_type": "code",
      "metadata": {
        "id": "0KlmEyOLvnjh",
        "colab": {
          "base_uri": "https://localhost:8080/"
        },
        "outputId": "6fd155a7-f8d2-481d-fcfa-f968a4f9edfd"
      },
      "source": [
        "df2 = df2.replace(to_replace=['New South Wales','Victoria'], value = ['NSW','VIC'])\n",
        "print(df2.state.value_counts())"
      ],
      "execution_count": null,
      "outputs": [
        {
          "output_type": "stream",
          "text": [
            "NSW    2140\n",
            "VIC    1021\n",
            "QLD     838\n",
            "Name: state, dtype: int64\n"
          ],
          "name": "stdout"
        }
      ]
    },
    {
      "cell_type": "code",
      "metadata": {
        "id": "ujygRrCNxbKa",
        "colab": {
          "base_uri": "https://localhost:8080/"
        },
        "outputId": "b0ac3917-6f46-44fd-9f2a-6e12e274243b"
      },
      "source": [
        "print('Customer Address Info')\n",
        "print(df2.info())\n",
        "print(df2.isnull().any())"
      ],
      "execution_count": null,
      "outputs": [
        {
          "output_type": "stream",
          "text": [
            "Customer Address Info\n",
            "<class 'pandas.core.frame.DataFrame'>\n",
            "RangeIndex: 3999 entries, 0 to 3998\n",
            "Data columns (total 6 columns):\n",
            " #   Column              Non-Null Count  Dtype \n",
            "---  ------              --------------  ----- \n",
            " 0   customer_id         3999 non-null   int64 \n",
            " 1   address             3999 non-null   object\n",
            " 2   postcode            3999 non-null   int64 \n",
            " 3   state               3999 non-null   object\n",
            " 4   country             3999 non-null   object\n",
            " 5   property_valuation  3999 non-null   int64 \n",
            "dtypes: int64(3), object(3)\n",
            "memory usage: 187.6+ KB\n",
            "None\n",
            "0\n",
            "customer_id           False\n",
            "address               False\n",
            "postcode              False\n",
            "state                 False\n",
            "country               False\n",
            "property_valuation    False\n",
            "dtype: bool\n"
          ],
          "name": "stdout"
        }
      ]
    },
    {
      "cell_type": "markdown",
      "metadata": {
        "id": "D0dxTNCwxc3p"
      },
      "source": [
        "**Note**:\n",
        "Now the Customer Adrees dataset is celan and we are going to combine the customer demographic and customer address"
      ]
    },
    {
      "cell_type": "code",
      "metadata": {
        "id": "apnrRCESyfJv",
        "colab": {
          "base_uri": "https://localhost:8080/",
          "height": 782
        },
        "outputId": "536f6d3e-46b3-41bb-9e94-a84015d4ab1f"
      },
      "source": [
        "df_customer_demographic = pd.merge(df1, df2, on='customer_id') #CustomerDemographic Dataset\n",
        "df_customer_demographic"
      ],
      "execution_count": null,
      "outputs": [
        {
          "output_type": "execute_result",
          "data": {
            "text/html": [
              "<div>\n",
              "<style scoped>\n",
              "    .dataframe tbody tr th:only-of-type {\n",
              "        vertical-align: middle;\n",
              "    }\n",
              "\n",
              "    .dataframe tbody tr th {\n",
              "        vertical-align: top;\n",
              "    }\n",
              "\n",
              "    .dataframe thead th {\n",
              "        text-align: right;\n",
              "    }\n",
              "</style>\n",
              "<table border=\"1\" class=\"dataframe\">\n",
              "  <thead>\n",
              "    <tr style=\"text-align: right;\">\n",
              "      <th></th>\n",
              "      <th>customer_id</th>\n",
              "      <th>name</th>\n",
              "      <th>gender</th>\n",
              "      <th>past_3_years_bike_related_purchases</th>\n",
              "      <th>DOB</th>\n",
              "      <th>job_title</th>\n",
              "      <th>job_industry_category</th>\n",
              "      <th>wealth_segment</th>\n",
              "      <th>deceased_indicator</th>\n",
              "      <th>owns_car</th>\n",
              "      <th>tenure</th>\n",
              "      <th>age</th>\n",
              "      <th>address</th>\n",
              "      <th>postcode</th>\n",
              "      <th>state</th>\n",
              "      <th>country</th>\n",
              "      <th>property_valuation</th>\n",
              "    </tr>\n",
              "  </thead>\n",
              "  <tbody>\n",
              "    <tr>\n",
              "      <th>0</th>\n",
              "      <td>1</td>\n",
              "      <td>Laraine Medendorp</td>\n",
              "      <td>Female</td>\n",
              "      <td>93</td>\n",
              "      <td>1953-10-12 00:00:00</td>\n",
              "      <td>Executive Secretary</td>\n",
              "      <td>Health</td>\n",
              "      <td>Mass Customer</td>\n",
              "      <td>N</td>\n",
              "      <td>Yes</td>\n",
              "      <td>11</td>\n",
              "      <td>67.0</td>\n",
              "      <td>060 Morning Avenue</td>\n",
              "      <td>2016</td>\n",
              "      <td>NSW</td>\n",
              "      <td>Australia</td>\n",
              "      <td>10</td>\n",
              "    </tr>\n",
              "    <tr>\n",
              "      <th>1</th>\n",
              "      <td>2</td>\n",
              "      <td>Eli Bockman</td>\n",
              "      <td>Male</td>\n",
              "      <td>81</td>\n",
              "      <td>1980-12-16 00:00:00</td>\n",
              "      <td>Administrative Officer</td>\n",
              "      <td>Financial Services</td>\n",
              "      <td>Mass Customer</td>\n",
              "      <td>N</td>\n",
              "      <td>Yes</td>\n",
              "      <td>16</td>\n",
              "      <td>40.0</td>\n",
              "      <td>6 Meadow Vale Court</td>\n",
              "      <td>2153</td>\n",
              "      <td>NSW</td>\n",
              "      <td>Australia</td>\n",
              "      <td>10</td>\n",
              "    </tr>\n",
              "    <tr>\n",
              "      <th>2</th>\n",
              "      <td>4</td>\n",
              "      <td>Talbot</td>\n",
              "      <td>Male</td>\n",
              "      <td>33</td>\n",
              "      <td>1961-10-03 00:00:00</td>\n",
              "      <td>Other</td>\n",
              "      <td>IT</td>\n",
              "      <td>Mass Customer</td>\n",
              "      <td>N</td>\n",
              "      <td>No</td>\n",
              "      <td>7</td>\n",
              "      <td>59.0</td>\n",
              "      <td>0 Holy Cross Court</td>\n",
              "      <td>4211</td>\n",
              "      <td>QLD</td>\n",
              "      <td>Australia</td>\n",
              "      <td>9</td>\n",
              "    </tr>\n",
              "    <tr>\n",
              "      <th>3</th>\n",
              "      <td>5</td>\n",
              "      <td>Sheila-kathryn Calton</td>\n",
              "      <td>Female</td>\n",
              "      <td>56</td>\n",
              "      <td>1977-05-13 00:00:00</td>\n",
              "      <td>Senior Editor</td>\n",
              "      <td>Other</td>\n",
              "      <td>Affluent Customer</td>\n",
              "      <td>N</td>\n",
              "      <td>Yes</td>\n",
              "      <td>8</td>\n",
              "      <td>43.0</td>\n",
              "      <td>17979 Del Mar Point</td>\n",
              "      <td>2448</td>\n",
              "      <td>NSW</td>\n",
              "      <td>Australia</td>\n",
              "      <td>4</td>\n",
              "    </tr>\n",
              "    <tr>\n",
              "      <th>4</th>\n",
              "      <td>6</td>\n",
              "      <td>Curr Duckhouse</td>\n",
              "      <td>Male</td>\n",
              "      <td>35</td>\n",
              "      <td>1966-09-16 00:00:00</td>\n",
              "      <td>Other</td>\n",
              "      <td>Retail</td>\n",
              "      <td>High Net Worth</td>\n",
              "      <td>N</td>\n",
              "      <td>Yes</td>\n",
              "      <td>13</td>\n",
              "      <td>54.0</td>\n",
              "      <td>9 Oakridge Court</td>\n",
              "      <td>3216</td>\n",
              "      <td>VIC</td>\n",
              "      <td>Australia</td>\n",
              "      <td>9</td>\n",
              "    </tr>\n",
              "    <tr>\n",
              "      <th>...</th>\n",
              "      <td>...</td>\n",
              "      <td>...</td>\n",
              "      <td>...</td>\n",
              "      <td>...</td>\n",
              "      <td>...</td>\n",
              "      <td>...</td>\n",
              "      <td>...</td>\n",
              "      <td>...</td>\n",
              "      <td>...</td>\n",
              "      <td>...</td>\n",
              "      <td>...</td>\n",
              "      <td>...</td>\n",
              "      <td>...</td>\n",
              "      <td>...</td>\n",
              "      <td>...</td>\n",
              "      <td>...</td>\n",
              "      <td>...</td>\n",
              "    </tr>\n",
              "    <tr>\n",
              "      <th>3903</th>\n",
              "      <td>3995</td>\n",
              "      <td>Rusty Iapico</td>\n",
              "      <td>Male</td>\n",
              "      <td>93</td>\n",
              "      <td>1975-12-12 00:00:00</td>\n",
              "      <td>Staff Scientist</td>\n",
              "      <td>Manufacturing</td>\n",
              "      <td>Mass Customer</td>\n",
              "      <td>N</td>\n",
              "      <td>Yes</td>\n",
              "      <td>14</td>\n",
              "      <td>45.0</td>\n",
              "      <td>613 Erie Lane</td>\n",
              "      <td>2088</td>\n",
              "      <td>NSW</td>\n",
              "      <td>Australia</td>\n",
              "      <td>12</td>\n",
              "    </tr>\n",
              "    <tr>\n",
              "      <th>3904</th>\n",
              "      <td>3996</td>\n",
              "      <td>Rosalia Halgarth</td>\n",
              "      <td>Female</td>\n",
              "      <td>8</td>\n",
              "      <td>1975-08-09 00:00:00</td>\n",
              "      <td>VP Product Management</td>\n",
              "      <td>Health</td>\n",
              "      <td>Mass Customer</td>\n",
              "      <td>N</td>\n",
              "      <td>No</td>\n",
              "      <td>19</td>\n",
              "      <td>45.0</td>\n",
              "      <td>0 Transport Center</td>\n",
              "      <td>3977</td>\n",
              "      <td>VIC</td>\n",
              "      <td>Australia</td>\n",
              "      <td>6</td>\n",
              "    </tr>\n",
              "    <tr>\n",
              "      <th>3905</th>\n",
              "      <td>3997</td>\n",
              "      <td>Blanch Nisuis</td>\n",
              "      <td>Female</td>\n",
              "      <td>87</td>\n",
              "      <td>2001-07-13 00:00:00</td>\n",
              "      <td>Statistician II</td>\n",
              "      <td>Manufacturing</td>\n",
              "      <td>High Net Worth</td>\n",
              "      <td>N</td>\n",
              "      <td>Yes</td>\n",
              "      <td>1</td>\n",
              "      <td>19.0</td>\n",
              "      <td>4 Dovetail Crossing</td>\n",
              "      <td>2350</td>\n",
              "      <td>NSW</td>\n",
              "      <td>Australia</td>\n",
              "      <td>2</td>\n",
              "    </tr>\n",
              "    <tr>\n",
              "      <th>3906</th>\n",
              "      <td>3999</td>\n",
              "      <td>Patrizius</td>\n",
              "      <td>Male</td>\n",
              "      <td>11</td>\n",
              "      <td>1973-10-24 00:00:00</td>\n",
              "      <td>Other</td>\n",
              "      <td>Manufacturing</td>\n",
              "      <td>Affluent Customer</td>\n",
              "      <td>N</td>\n",
              "      <td>Yes</td>\n",
              "      <td>10</td>\n",
              "      <td>47.0</td>\n",
              "      <td>1482 Hauk Trail</td>\n",
              "      <td>3064</td>\n",
              "      <td>VIC</td>\n",
              "      <td>Australia</td>\n",
              "      <td>3</td>\n",
              "    </tr>\n",
              "    <tr>\n",
              "      <th>3907</th>\n",
              "      <td>4000</td>\n",
              "      <td>Kippy Oldland</td>\n",
              "      <td>Male</td>\n",
              "      <td>76</td>\n",
              "      <td>1991-11-05 00:00:00</td>\n",
              "      <td>Software Engineer IV</td>\n",
              "      <td>Other</td>\n",
              "      <td>Affluent Customer</td>\n",
              "      <td>N</td>\n",
              "      <td>No</td>\n",
              "      <td>11</td>\n",
              "      <td>29.0</td>\n",
              "      <td>57042 Village Green Point</td>\n",
              "      <td>4511</td>\n",
              "      <td>QLD</td>\n",
              "      <td>Australia</td>\n",
              "      <td>6</td>\n",
              "    </tr>\n",
              "  </tbody>\n",
              "</table>\n",
              "<p>3908 rows × 17 columns</p>\n",
              "</div>"
            ],
            "text/plain": [
              "0    customer_id                   name  ...    country property_valuation\n",
              "0              1      Laraine Medendorp  ...  Australia                 10\n",
              "1              2            Eli Bockman  ...  Australia                 10\n",
              "2              4                 Talbot  ...  Australia                  9\n",
              "3              5  Sheila-kathryn Calton  ...  Australia                  4\n",
              "4              6         Curr Duckhouse  ...  Australia                  9\n",
              "...          ...                    ...  ...        ...                ...\n",
              "3903        3995           Rusty Iapico  ...  Australia                 12\n",
              "3904        3996       Rosalia Halgarth  ...  Australia                  6\n",
              "3905        3997          Blanch Nisuis  ...  Australia                  2\n",
              "3906        3999              Patrizius  ...  Australia                  3\n",
              "3907        4000          Kippy Oldland  ...  Australia                  6\n",
              "\n",
              "[3908 rows x 17 columns]"
            ]
          },
          "metadata": {
            "tags": []
          },
          "execution_count": 47
        }
      ]
    },
    {
      "cell_type": "code",
      "metadata": {
        "id": "lEn1SS-S35dp",
        "colab": {
          "base_uri": "https://localhost:8080/"
        },
        "outputId": "5a708b63-e99b-4e3f-fd09-c5f925b26cf6"
      },
      "source": [
        "# Re-arrange the columns\n",
        "df_customer_demographic.columns"
      ],
      "execution_count": null,
      "outputs": [
        {
          "output_type": "execute_result",
          "data": {
            "text/plain": [
              "Index(['customer_id', 'name', 'gender', 'past_3_years_bike_related_purchases',\n",
              "       'DOB', 'job_title', 'job_industry_category', 'wealth_segment',\n",
              "       'deceased_indicator', 'owns_car', 'tenure', 'age', 'address',\n",
              "       'postcode', 'state', 'country', 'property_valuation'],\n",
              "      dtype='object', name=0)"
            ]
          },
          "metadata": {
            "tags": []
          },
          "execution_count": 48
        }
      ]
    },
    {
      "cell_type": "code",
      "metadata": {
        "id": "nC6ATUIw4lrU",
        "colab": {
          "base_uri": "https://localhost:8080/",
          "height": 395
        },
        "outputId": "8e8fc5a7-3113-4f2f-c71a-1f4e028c428c"
      },
      "source": [
        "df_customer_demographic = df_customer_demographic.reindex(columns=['customer_id', 'name', 'gender','DOB','age','address','postcode', 'state', 'country','deceased_indicator','job_title', \n",
        "                    'job_industry_category','tenure','past_3_years_bike_related_purchases','owns_car','property_valuation','wealth_segment'])\n",
        "df_customer_demographic.head()"
      ],
      "execution_count": null,
      "outputs": [
        {
          "output_type": "execute_result",
          "data": {
            "text/html": [
              "<div>\n",
              "<style scoped>\n",
              "    .dataframe tbody tr th:only-of-type {\n",
              "        vertical-align: middle;\n",
              "    }\n",
              "\n",
              "    .dataframe tbody tr th {\n",
              "        vertical-align: top;\n",
              "    }\n",
              "\n",
              "    .dataframe thead th {\n",
              "        text-align: right;\n",
              "    }\n",
              "</style>\n",
              "<table border=\"1\" class=\"dataframe\">\n",
              "  <thead>\n",
              "    <tr style=\"text-align: right;\">\n",
              "      <th></th>\n",
              "      <th>customer_id</th>\n",
              "      <th>name</th>\n",
              "      <th>gender</th>\n",
              "      <th>DOB</th>\n",
              "      <th>age</th>\n",
              "      <th>address</th>\n",
              "      <th>postcode</th>\n",
              "      <th>state</th>\n",
              "      <th>country</th>\n",
              "      <th>deceased_indicator</th>\n",
              "      <th>job_title</th>\n",
              "      <th>job_industry_category</th>\n",
              "      <th>tenure</th>\n",
              "      <th>past_3_years_bike_related_purchases</th>\n",
              "      <th>owns_car</th>\n",
              "      <th>property_valuation</th>\n",
              "      <th>wealth_segment</th>\n",
              "    </tr>\n",
              "  </thead>\n",
              "  <tbody>\n",
              "    <tr>\n",
              "      <th>0</th>\n",
              "      <td>1</td>\n",
              "      <td>Laraine Medendorp</td>\n",
              "      <td>Female</td>\n",
              "      <td>1953-10-12 00:00:00</td>\n",
              "      <td>67.0</td>\n",
              "      <td>060 Morning Avenue</td>\n",
              "      <td>2016</td>\n",
              "      <td>NSW</td>\n",
              "      <td>Australia</td>\n",
              "      <td>N</td>\n",
              "      <td>Executive Secretary</td>\n",
              "      <td>Health</td>\n",
              "      <td>11</td>\n",
              "      <td>93</td>\n",
              "      <td>Yes</td>\n",
              "      <td>10</td>\n",
              "      <td>Mass Customer</td>\n",
              "    </tr>\n",
              "    <tr>\n",
              "      <th>1</th>\n",
              "      <td>2</td>\n",
              "      <td>Eli Bockman</td>\n",
              "      <td>Male</td>\n",
              "      <td>1980-12-16 00:00:00</td>\n",
              "      <td>40.0</td>\n",
              "      <td>6 Meadow Vale Court</td>\n",
              "      <td>2153</td>\n",
              "      <td>NSW</td>\n",
              "      <td>Australia</td>\n",
              "      <td>N</td>\n",
              "      <td>Administrative Officer</td>\n",
              "      <td>Financial Services</td>\n",
              "      <td>16</td>\n",
              "      <td>81</td>\n",
              "      <td>Yes</td>\n",
              "      <td>10</td>\n",
              "      <td>Mass Customer</td>\n",
              "    </tr>\n",
              "    <tr>\n",
              "      <th>2</th>\n",
              "      <td>4</td>\n",
              "      <td>Talbot</td>\n",
              "      <td>Male</td>\n",
              "      <td>1961-10-03 00:00:00</td>\n",
              "      <td>59.0</td>\n",
              "      <td>0 Holy Cross Court</td>\n",
              "      <td>4211</td>\n",
              "      <td>QLD</td>\n",
              "      <td>Australia</td>\n",
              "      <td>N</td>\n",
              "      <td>Other</td>\n",
              "      <td>IT</td>\n",
              "      <td>7</td>\n",
              "      <td>33</td>\n",
              "      <td>No</td>\n",
              "      <td>9</td>\n",
              "      <td>Mass Customer</td>\n",
              "    </tr>\n",
              "    <tr>\n",
              "      <th>3</th>\n",
              "      <td>5</td>\n",
              "      <td>Sheila-kathryn Calton</td>\n",
              "      <td>Female</td>\n",
              "      <td>1977-05-13 00:00:00</td>\n",
              "      <td>43.0</td>\n",
              "      <td>17979 Del Mar Point</td>\n",
              "      <td>2448</td>\n",
              "      <td>NSW</td>\n",
              "      <td>Australia</td>\n",
              "      <td>N</td>\n",
              "      <td>Senior Editor</td>\n",
              "      <td>Other</td>\n",
              "      <td>8</td>\n",
              "      <td>56</td>\n",
              "      <td>Yes</td>\n",
              "      <td>4</td>\n",
              "      <td>Affluent Customer</td>\n",
              "    </tr>\n",
              "    <tr>\n",
              "      <th>4</th>\n",
              "      <td>6</td>\n",
              "      <td>Curr Duckhouse</td>\n",
              "      <td>Male</td>\n",
              "      <td>1966-09-16 00:00:00</td>\n",
              "      <td>54.0</td>\n",
              "      <td>9 Oakridge Court</td>\n",
              "      <td>3216</td>\n",
              "      <td>VIC</td>\n",
              "      <td>Australia</td>\n",
              "      <td>N</td>\n",
              "      <td>Other</td>\n",
              "      <td>Retail</td>\n",
              "      <td>13</td>\n",
              "      <td>35</td>\n",
              "      <td>Yes</td>\n",
              "      <td>9</td>\n",
              "      <td>High Net Worth</td>\n",
              "    </tr>\n",
              "  </tbody>\n",
              "</table>\n",
              "</div>"
            ],
            "text/plain": [
              "0 customer_id                   name  ... property_valuation     wealth_segment\n",
              "0           1      Laraine Medendorp  ...                 10      Mass Customer\n",
              "1           2            Eli Bockman  ...                 10      Mass Customer\n",
              "2           4                 Talbot  ...                  9      Mass Customer\n",
              "3           5  Sheila-kathryn Calton  ...                  4  Affluent Customer\n",
              "4           6         Curr Duckhouse  ...                  9     High Net Worth\n",
              "\n",
              "[5 rows x 17 columns]"
            ]
          },
          "metadata": {
            "tags": []
          },
          "execution_count": 49
        }
      ]
    },
    {
      "cell_type": "markdown",
      "metadata": {
        "id": "f6bOm-E5Og_o"
      },
      "source": [
        "Information is included by sex and age group as follows: 0-14 years (children), 15-24 years (early working age), 25-54 years (prime working age), 55-64 years (mature working age), 65 years and over (elderly)."
      ]
    },
    {
      "cell_type": "code",
      "metadata": {
        "id": "kBL36oE2tGjp",
        "colab": {
          "base_uri": "https://localhost:8080/"
        },
        "outputId": "09bc8c96-132e-446c-c1a0-ad4dc75523f2"
      },
      "source": [
        "df_customer_demographic.age.describe()"
      ],
      "execution_count": null,
      "outputs": [
        {
          "output_type": "execute_result",
          "data": {
            "text/plain": [
              "count    3908.000000\n",
              "mean       42.920676\n",
              "std        12.608976\n",
              "min        18.000000\n",
              "25%        33.000000\n",
              "50%        43.000000\n",
              "75%        52.000000\n",
              "max        89.000000\n",
              "Name: age, dtype: float64"
            ]
          },
          "metadata": {
            "tags": []
          },
          "execution_count": 50
        }
      ]
    },
    {
      "cell_type": "code",
      "metadata": {
        "id": "sW5qxlGkOkRK",
        "colab": {
          "base_uri": "https://localhost:8080/",
          "height": 395
        },
        "outputId": "c0186345-0cc0-4cc2-cbe4-c90eac5c9905"
      },
      "source": [
        "bins = [18, 25, 55, 65, 100]\n",
        "labels = ['18-24', '25-54', '55-64', '65+']\n",
        "df_customer_demographic['age_range'] = pd.cut(df_customer_demographic.age, bins, labels = labels,include_lowest = True)\n",
        "\n",
        "df_customer_demographic.head()"
      ],
      "execution_count": null,
      "outputs": [
        {
          "output_type": "execute_result",
          "data": {
            "text/html": [
              "<div>\n",
              "<style scoped>\n",
              "    .dataframe tbody tr th:only-of-type {\n",
              "        vertical-align: middle;\n",
              "    }\n",
              "\n",
              "    .dataframe tbody tr th {\n",
              "        vertical-align: top;\n",
              "    }\n",
              "\n",
              "    .dataframe thead th {\n",
              "        text-align: right;\n",
              "    }\n",
              "</style>\n",
              "<table border=\"1\" class=\"dataframe\">\n",
              "  <thead>\n",
              "    <tr style=\"text-align: right;\">\n",
              "      <th></th>\n",
              "      <th>customer_id</th>\n",
              "      <th>name</th>\n",
              "      <th>gender</th>\n",
              "      <th>DOB</th>\n",
              "      <th>age</th>\n",
              "      <th>address</th>\n",
              "      <th>postcode</th>\n",
              "      <th>state</th>\n",
              "      <th>country</th>\n",
              "      <th>deceased_indicator</th>\n",
              "      <th>job_title</th>\n",
              "      <th>job_industry_category</th>\n",
              "      <th>tenure</th>\n",
              "      <th>past_3_years_bike_related_purchases</th>\n",
              "      <th>owns_car</th>\n",
              "      <th>property_valuation</th>\n",
              "      <th>wealth_segment</th>\n",
              "      <th>age_range</th>\n",
              "    </tr>\n",
              "  </thead>\n",
              "  <tbody>\n",
              "    <tr>\n",
              "      <th>0</th>\n",
              "      <td>1</td>\n",
              "      <td>Laraine Medendorp</td>\n",
              "      <td>Female</td>\n",
              "      <td>1953-10-12 00:00:00</td>\n",
              "      <td>67.0</td>\n",
              "      <td>060 Morning Avenue</td>\n",
              "      <td>2016</td>\n",
              "      <td>NSW</td>\n",
              "      <td>Australia</td>\n",
              "      <td>N</td>\n",
              "      <td>Executive Secretary</td>\n",
              "      <td>Health</td>\n",
              "      <td>11</td>\n",
              "      <td>93</td>\n",
              "      <td>Yes</td>\n",
              "      <td>10</td>\n",
              "      <td>Mass Customer</td>\n",
              "      <td>65+</td>\n",
              "    </tr>\n",
              "    <tr>\n",
              "      <th>1</th>\n",
              "      <td>2</td>\n",
              "      <td>Eli Bockman</td>\n",
              "      <td>Male</td>\n",
              "      <td>1980-12-16 00:00:00</td>\n",
              "      <td>40.0</td>\n",
              "      <td>6 Meadow Vale Court</td>\n",
              "      <td>2153</td>\n",
              "      <td>NSW</td>\n",
              "      <td>Australia</td>\n",
              "      <td>N</td>\n",
              "      <td>Administrative Officer</td>\n",
              "      <td>Financial Services</td>\n",
              "      <td>16</td>\n",
              "      <td>81</td>\n",
              "      <td>Yes</td>\n",
              "      <td>10</td>\n",
              "      <td>Mass Customer</td>\n",
              "      <td>25-54</td>\n",
              "    </tr>\n",
              "    <tr>\n",
              "      <th>2</th>\n",
              "      <td>4</td>\n",
              "      <td>Talbot</td>\n",
              "      <td>Male</td>\n",
              "      <td>1961-10-03 00:00:00</td>\n",
              "      <td>59.0</td>\n",
              "      <td>0 Holy Cross Court</td>\n",
              "      <td>4211</td>\n",
              "      <td>QLD</td>\n",
              "      <td>Australia</td>\n",
              "      <td>N</td>\n",
              "      <td>Other</td>\n",
              "      <td>IT</td>\n",
              "      <td>7</td>\n",
              "      <td>33</td>\n",
              "      <td>No</td>\n",
              "      <td>9</td>\n",
              "      <td>Mass Customer</td>\n",
              "      <td>55-64</td>\n",
              "    </tr>\n",
              "    <tr>\n",
              "      <th>3</th>\n",
              "      <td>5</td>\n",
              "      <td>Sheila-kathryn Calton</td>\n",
              "      <td>Female</td>\n",
              "      <td>1977-05-13 00:00:00</td>\n",
              "      <td>43.0</td>\n",
              "      <td>17979 Del Mar Point</td>\n",
              "      <td>2448</td>\n",
              "      <td>NSW</td>\n",
              "      <td>Australia</td>\n",
              "      <td>N</td>\n",
              "      <td>Senior Editor</td>\n",
              "      <td>Other</td>\n",
              "      <td>8</td>\n",
              "      <td>56</td>\n",
              "      <td>Yes</td>\n",
              "      <td>4</td>\n",
              "      <td>Affluent Customer</td>\n",
              "      <td>25-54</td>\n",
              "    </tr>\n",
              "    <tr>\n",
              "      <th>4</th>\n",
              "      <td>6</td>\n",
              "      <td>Curr Duckhouse</td>\n",
              "      <td>Male</td>\n",
              "      <td>1966-09-16 00:00:00</td>\n",
              "      <td>54.0</td>\n",
              "      <td>9 Oakridge Court</td>\n",
              "      <td>3216</td>\n",
              "      <td>VIC</td>\n",
              "      <td>Australia</td>\n",
              "      <td>N</td>\n",
              "      <td>Other</td>\n",
              "      <td>Retail</td>\n",
              "      <td>13</td>\n",
              "      <td>35</td>\n",
              "      <td>Yes</td>\n",
              "      <td>9</td>\n",
              "      <td>High Net Worth</td>\n",
              "      <td>25-54</td>\n",
              "    </tr>\n",
              "  </tbody>\n",
              "</table>\n",
              "</div>"
            ],
            "text/plain": [
              "0 customer_id                   name  ...     wealth_segment age_range\n",
              "0           1      Laraine Medendorp  ...      Mass Customer       65+\n",
              "1           2            Eli Bockman  ...      Mass Customer     25-54\n",
              "2           4                 Talbot  ...      Mass Customer     55-64\n",
              "3           5  Sheila-kathryn Calton  ...  Affluent Customer     25-54\n",
              "4           6         Curr Duckhouse  ...     High Net Worth     25-54\n",
              "\n",
              "[5 rows x 18 columns]"
            ]
          },
          "metadata": {
            "tags": []
          },
          "execution_count": 51
        }
      ]
    },
    {
      "cell_type": "code",
      "metadata": {
        "id": "Ddv3kuh9cMfN",
        "colab": {
          "base_uri": "https://localhost:8080/"
        },
        "outputId": "5445cef2-af51-4070-bfa6-7e3a1500b0a5"
      },
      "source": [
        "df_customer_demographic.info()"
      ],
      "execution_count": null,
      "outputs": [
        {
          "output_type": "stream",
          "text": [
            "<class 'pandas.core.frame.DataFrame'>\n",
            "Int64Index: 3908 entries, 0 to 3907\n",
            "Data columns (total 18 columns):\n",
            " #   Column                               Non-Null Count  Dtype   \n",
            "---  ------                               --------------  -----   \n",
            " 0   customer_id                          3908 non-null   object  \n",
            " 1   name                                 3908 non-null   object  \n",
            " 2   gender                               3908 non-null   object  \n",
            " 3   DOB                                  3908 non-null   object  \n",
            " 4   age                                  3908 non-null   float64 \n",
            " 5   address                              3908 non-null   object  \n",
            " 6   postcode                             3908 non-null   int64   \n",
            " 7   state                                3908 non-null   object  \n",
            " 8   country                              3908 non-null   object  \n",
            " 9   deceased_indicator                   3908 non-null   object  \n",
            " 10  job_title                            3908 non-null   object  \n",
            " 11  job_industry_category                3908 non-null   object  \n",
            " 12  tenure                               3908 non-null   object  \n",
            " 13  past_3_years_bike_related_purchases  3908 non-null   object  \n",
            " 14  owns_car                             3908 non-null   object  \n",
            " 15  property_valuation                   3908 non-null   int64   \n",
            " 16  wealth_segment                       3908 non-null   object  \n",
            " 17  age_range                            3908 non-null   category\n",
            "dtypes: category(1), float64(1), int64(2), object(14)\n",
            "memory usage: 553.6+ KB\n"
          ],
          "name": "stdout"
        }
      ]
    },
    {
      "cell_type": "code",
      "metadata": {
        "id": "M5TCKsjll2KQ"
      },
      "source": [
        "df_customer_demographic['past_3_years_bike_related_purchases'] = df_customer_demographic['past_3_years_bike_related_purchases'].astype(int)\n",
        "df_customer_demographic['tenure'] = df_customer_demographic['tenure'].astype(int) \n",
        "df_customer_demographic['customer_id'] = df_customer_demographic['customer_id'].astype(int)"
      ],
      "execution_count": null,
      "outputs": []
    },
    {
      "cell_type": "code",
      "metadata": {
        "id": "_dDGwq-kv9qa",
        "colab": {
          "base_uri": "https://localhost:8080/"
        },
        "outputId": "431c6407-7dcc-45f6-ed87-5e2ce1d906c4"
      },
      "source": [
        "df_customer_demographic.columns"
      ],
      "execution_count": null,
      "outputs": [
        {
          "output_type": "execute_result",
          "data": {
            "text/plain": [
              "Index(['customer_id', 'name', 'gender', 'DOB', 'age', 'address', 'postcode',\n",
              "       'state', 'country', 'deceased_indicator', 'job_title',\n",
              "       'job_industry_category', 'tenure',\n",
              "       'past_3_years_bike_related_purchases', 'owns_car', 'property_valuation',\n",
              "       'wealth_segment', 'age_range'],\n",
              "      dtype='object', name=0)"
            ]
          },
          "metadata": {
            "tags": []
          },
          "execution_count": 54
        }
      ]
    },
    {
      "cell_type": "code",
      "metadata": {
        "id": "BmnjZOjkwAg-",
        "colab": {
          "base_uri": "https://localhost:8080/"
        },
        "outputId": "9822f8f2-0719-48e0-a24d-b5bc5faebf5b"
      },
      "source": [
        "df_customer_demographic = df_customer_demographic.reindex(columns= ['customer_id', 'name', 'gender', 'DOB', 'age', 'age_range', 'address', 'postcode',\n",
        "       'state', 'country', 'deceased_indicator', 'job_title',\n",
        "       'job_industry_category', 'tenure',\n",
        "       'past_3_years_bike_related_purchases', 'owns_car', 'property_valuation',\n",
        "       'wealth_segment'])\n",
        "df_customer_demographic = df_customer_demographic.rename_axis(None, axis = 1)\n",
        "print(df_customer_demographic.head())"
      ],
      "execution_count": null,
      "outputs": [
        {
          "output_type": "stream",
          "text": [
            "   customer_id                   name  ... property_valuation     wealth_segment\n",
            "0            1      Laraine Medendorp  ...                 10      Mass Customer\n",
            "1            2            Eli Bockman  ...                 10      Mass Customer\n",
            "2            4                 Talbot  ...                  9      Mass Customer\n",
            "3            5  Sheila-kathryn Calton  ...                  4  Affluent Customer\n",
            "4            6         Curr Duckhouse  ...                  9     High Net Worth\n",
            "\n",
            "[5 rows x 18 columns]\n"
          ],
          "name": "stdout"
        }
      ]
    },
    {
      "cell_type": "code",
      "metadata": {
        "id": "E1Da7R7J4QQO",
        "colab": {
          "base_uri": "https://localhost:8080/"
        },
        "outputId": "36337873-6c62-40d0-fa15-b67487368307"
      },
      "source": [
        "for col in df_customer_demographic.columns:\n",
        "  print('Unique Value in Feature \"{}\":'.format(col))\n",
        "  print(df_customer_demographic[col].value_counts())"
      ],
      "execution_count": null,
      "outputs": [
        {
          "output_type": "stream",
          "text": [
            "Unique Value in Feature \"customer_id\":\n",
            "2047    1\n",
            "2728    1\n",
            "2724    1\n",
            "673     1\n",
            "2720    1\n",
            "       ..\n",
            "3367    1\n",
            "1318    1\n",
            "3363    1\n",
            "1314    1\n",
            "2049    1\n",
            "Name: customer_id, Length: 3908, dtype: int64\n",
            "Unique Value in Feature \"name\":\n",
            "Corabelle              2\n",
            "Breena Risebrow        1\n",
            "Giorgi Hurford         1\n",
            "Tracie Bartolomeoni    1\n",
            "Lyn Luquet             1\n",
            "                      ..\n",
            "Der Blatcher           1\n",
            "Winslow Hammant        1\n",
            "Evelina Bavin          1\n",
            "Isadora Gronaller      1\n",
            "Idalina Wilcot         1\n",
            "Name: name, Length: 3907, dtype: int64\n",
            "Unique Value in Feature \"gender\":\n",
            "Female    2037\n",
            "Male      1871\n",
            "Name: gender, dtype: int64\n",
            "Unique Value in Feature \"DOB\":\n",
            "1978-01-30    7\n",
            "1962-12-17    4\n",
            "1977-05-13    4\n",
            "1964-07-08    4\n",
            "1978-08-19    4\n",
            "             ..\n",
            "1986-05-03    1\n",
            "1986-01-21    1\n",
            "1981-05-14    1\n",
            "1964-05-29    1\n",
            "1962-05-05    1\n",
            "Name: DOB, Length: 3443, dtype: int64\n",
            "Unique Value in Feature \"age\":\n",
            "42.0    217\n",
            "43.0    204\n",
            "46.0    155\n",
            "44.0    152\n",
            "40.0    122\n",
            "41.0    120\n",
            "47.0    117\n",
            "34.0    116\n",
            "45.0    114\n",
            "61.0     91\n",
            "25.0     90\n",
            "49.0     89\n",
            "35.0     88\n",
            "56.0     86\n",
            "22.0     80\n",
            "39.0     79\n",
            "51.0     78\n",
            "26.0     78\n",
            "58.0     76\n",
            "31.0     75\n",
            "28.0     74\n",
            "53.0     74\n",
            "23.0     73\n",
            "33.0     73\n",
            "32.0     71\n",
            "63.0     71\n",
            "55.0     69\n",
            "52.0     68\n",
            "24.0     67\n",
            "64.0     65\n",
            "54.0     64\n",
            "60.0     62\n",
            "21.0     61\n",
            "27.0     60\n",
            "66.0     59\n",
            "59.0     59\n",
            "57.0     58\n",
            "65.0     58\n",
            "50.0     57\n",
            "48.0     54\n",
            "62.0     54\n",
            "30.0     53\n",
            "29.0     48\n",
            "36.0     43\n",
            "20.0     42\n",
            "38.0     41\n",
            "37.0     40\n",
            "19.0     34\n",
            "67.0     18\n",
            "18.0      6\n",
            "76.0      1\n",
            "80.0      1\n",
            "77.0      1\n",
            "89.0      1\n",
            "85.0      1\n",
            "Name: age, dtype: int64\n",
            "Unique Value in Feature \"age_range\":\n",
            "25-54    2693\n",
            "55-64     680\n",
            "18-24     453\n",
            "65+        82\n",
            "Name: age_range, dtype: int64\n",
            "Unique Value in Feature \"address\":\n",
            "64 Macpherson Junction      2\n",
            "3 Talisman Place            2\n",
            "3 Mariners Cove Terrace     2\n",
            "01 Nevada Alley             1\n",
            "51 Crescent Oaks Parkway    1\n",
            "                           ..\n",
            "29863 Waxwing Court         1\n",
            "11 Corscot Plaza            1\n",
            "375 Luster Parkway          1\n",
            "72258 Bayside Court         1\n",
            "36 Vidon Parkway            1\n",
            "Name: address, Length: 3905, dtype: int64\n",
            "Unique Value in Feature \"postcode\":\n",
            "2170    30\n",
            "2155    30\n",
            "2145    29\n",
            "2153    29\n",
            "3977    26\n",
            "        ..\n",
            "2549     1\n",
            "3122     1\n",
            "3644     1\n",
            "3116     1\n",
            "4721     1\n",
            "Name: postcode, Length: 865, dtype: int64\n",
            "Unique Value in Feature \"state\":\n",
            "NSW    2089\n",
            "VIC     998\n",
            "QLD     821\n",
            "Name: state, dtype: int64\n",
            "Unique Value in Feature \"country\":\n",
            "Australia    3908\n",
            "Name: country, dtype: int64\n",
            "Unique Value in Feature \"deceased_indicator\":\n",
            "N    3906\n",
            "Y       2\n",
            "Name: deceased_indicator, dtype: int64\n",
            "Unique Value in Feature \"job_title\":\n",
            "Other                                   495\n",
            "Business Systems Development Analyst     43\n",
            "Tax Accountant                           43\n",
            "Social Worker                            42\n",
            "Internal Auditor                         40\n",
            "                                       ... \n",
            "Staff Accountant I                        4\n",
            "Health Coach III                          3\n",
            "Health Coach I                            3\n",
            "Research Assistant III                    3\n",
            "Developer I                               1\n",
            "Name: job_title, Length: 196, dtype: int64\n",
            "Unique Value in Feature \"job_industry_category\":\n",
            "Manufacturing         796\n",
            "Financial Services    766\n",
            "Other                 655\n",
            "Health                596\n",
            "Retail                358\n",
            "Property              266\n",
            "IT                    150\n",
            "Entertainment         136\n",
            "Agriculture           113\n",
            "Telecommunications     72\n",
            "Name: job_industry_category, dtype: int64\n",
            "Unique Value in Feature \"tenure\":\n",
            "7     235\n",
            "5     228\n",
            "11    220\n",
            "10    218\n",
            "16    215\n",
            "8     211\n",
            "18    208\n",
            "12    202\n",
            "14    200\n",
            "9     200\n",
            "6     192\n",
            "13    191\n",
            "4     191\n",
            "17    182\n",
            "15    178\n",
            "1     165\n",
            "3     160\n",
            "19    159\n",
            "2     150\n",
            "20     94\n",
            "22     55\n",
            "21     54\n",
            "Name: tenure, dtype: int64\n",
            "Unique Value in Feature \"past_3_years_bike_related_purchases\":\n",
            "16    55\n",
            "19    55\n",
            "20    53\n",
            "67    52\n",
            "2     50\n",
            "      ..\n",
            "8     27\n",
            "86    27\n",
            "85    27\n",
            "95    26\n",
            "92    24\n",
            "Name: past_3_years_bike_related_purchases, Length: 100, dtype: int64\n",
            "Unique Value in Feature \"owns_car\":\n",
            "Yes    1971\n",
            "No     1937\n",
            "Name: owns_car, dtype: int64\n",
            "Unique Value in Feature \"property_valuation\":\n",
            "9     634\n",
            "8     628\n",
            "10    563\n",
            "7     480\n",
            "11    277\n",
            "6     232\n",
            "5     223\n",
            "4     211\n",
            "12    189\n",
            "3     182\n",
            "1     151\n",
            "2     138\n",
            "Name: property_valuation, dtype: int64\n",
            "Unique Value in Feature \"wealth_segment\":\n",
            "Mass Customer        1951\n",
            "High Net Worth        995\n",
            "Affluent Customer     962\n",
            "Name: wealth_segment, dtype: int64\n"
          ],
          "name": "stdout"
        }
      ]
    },
    {
      "cell_type": "code",
      "metadata": {
        "id": "XKJUpntywHs2"
      },
      "source": [
        "df_customer_demographic.head()\n",
        "df_customer_demographic.to_excel('customer_demographic_datasets.xlsx')"
      ],
      "execution_count": null,
      "outputs": []
    },
    {
      "cell_type": "markdown",
      "metadata": {
        "id": "QZVT7zX4GYid"
      },
      "source": [
        "**Data Preprocessing Transaction List (df3)**"
      ]
    },
    {
      "cell_type": "markdown",
      "metadata": {
        "id": "_-pDuPyf6tt2"
      },
      "source": [
        "Data Preprocessing Transaction List : Data Transformation"
      ]
    },
    {
      "cell_type": "code",
      "metadata": {
        "id": "NLTEBqo1Gdxc",
        "colab": {
          "base_uri": "https://localhost:8080/",
          "height": 274
        },
        "outputId": "80614103-f490-4634-cdb2-b93a04c08ae0"
      },
      "source": [
        "df3.head()"
      ],
      "execution_count": null,
      "outputs": [
        {
          "output_type": "execute_result",
          "data": {
            "text/html": [
              "<div>\n",
              "<style scoped>\n",
              "    .dataframe tbody tr th:only-of-type {\n",
              "        vertical-align: middle;\n",
              "    }\n",
              "\n",
              "    .dataframe tbody tr th {\n",
              "        vertical-align: top;\n",
              "    }\n",
              "\n",
              "    .dataframe thead th {\n",
              "        text-align: right;\n",
              "    }\n",
              "</style>\n",
              "<table border=\"1\" class=\"dataframe\">\n",
              "  <thead>\n",
              "    <tr style=\"text-align: right;\">\n",
              "      <th></th>\n",
              "      <th>transaction_id</th>\n",
              "      <th>product_id</th>\n",
              "      <th>customer_id</th>\n",
              "      <th>transaction_date</th>\n",
              "      <th>online_order</th>\n",
              "      <th>order_status</th>\n",
              "      <th>brand</th>\n",
              "      <th>product_line</th>\n",
              "      <th>product_class</th>\n",
              "      <th>product_size</th>\n",
              "      <th>list_price</th>\n",
              "      <th>standard_cost</th>\n",
              "      <th>product_first_sold_date</th>\n",
              "    </tr>\n",
              "  </thead>\n",
              "  <tbody>\n",
              "    <tr>\n",
              "      <th>0</th>\n",
              "      <td>1</td>\n",
              "      <td>2</td>\n",
              "      <td>2950</td>\n",
              "      <td>2017-02-25 00:00:00</td>\n",
              "      <td>False</td>\n",
              "      <td>Approved</td>\n",
              "      <td>Solex</td>\n",
              "      <td>Standard</td>\n",
              "      <td>medium</td>\n",
              "      <td>medium</td>\n",
              "      <td>71.49</td>\n",
              "      <td>53.62</td>\n",
              "      <td>41245</td>\n",
              "    </tr>\n",
              "    <tr>\n",
              "      <th>1</th>\n",
              "      <td>2</td>\n",
              "      <td>3</td>\n",
              "      <td>3120</td>\n",
              "      <td>2017-05-21 00:00:00</td>\n",
              "      <td>True</td>\n",
              "      <td>Approved</td>\n",
              "      <td>Trek Bicycles</td>\n",
              "      <td>Standard</td>\n",
              "      <td>medium</td>\n",
              "      <td>large</td>\n",
              "      <td>2091.47</td>\n",
              "      <td>388.92</td>\n",
              "      <td>41701</td>\n",
              "    </tr>\n",
              "    <tr>\n",
              "      <th>2</th>\n",
              "      <td>3</td>\n",
              "      <td>37</td>\n",
              "      <td>402</td>\n",
              "      <td>2017-10-16 00:00:00</td>\n",
              "      <td>False</td>\n",
              "      <td>Approved</td>\n",
              "      <td>OHM Cycles</td>\n",
              "      <td>Standard</td>\n",
              "      <td>low</td>\n",
              "      <td>medium</td>\n",
              "      <td>1793.43</td>\n",
              "      <td>248.82</td>\n",
              "      <td>36361</td>\n",
              "    </tr>\n",
              "    <tr>\n",
              "      <th>3</th>\n",
              "      <td>4</td>\n",
              "      <td>88</td>\n",
              "      <td>3135</td>\n",
              "      <td>2017-08-31 00:00:00</td>\n",
              "      <td>False</td>\n",
              "      <td>Approved</td>\n",
              "      <td>Norco Bicycles</td>\n",
              "      <td>Standard</td>\n",
              "      <td>medium</td>\n",
              "      <td>medium</td>\n",
              "      <td>1198.46</td>\n",
              "      <td>381.1</td>\n",
              "      <td>36145</td>\n",
              "    </tr>\n",
              "    <tr>\n",
              "      <th>4</th>\n",
              "      <td>5</td>\n",
              "      <td>78</td>\n",
              "      <td>787</td>\n",
              "      <td>2017-10-01 00:00:00</td>\n",
              "      <td>True</td>\n",
              "      <td>Approved</td>\n",
              "      <td>Giant Bicycles</td>\n",
              "      <td>Standard</td>\n",
              "      <td>medium</td>\n",
              "      <td>large</td>\n",
              "      <td>1765.3</td>\n",
              "      <td>709.48</td>\n",
              "      <td>42226</td>\n",
              "    </tr>\n",
              "  </tbody>\n",
              "</table>\n",
              "</div>"
            ],
            "text/plain": [
              "0 transaction_id product_id  ... standard_cost product_first_sold_date\n",
              "0              1          2  ...         53.62                   41245\n",
              "1              2          3  ...        388.92                   41701\n",
              "2              3         37  ...        248.82                   36361\n",
              "3              4         88  ...         381.1                   36145\n",
              "4              5         78  ...        709.48                   42226\n",
              "\n",
              "[5 rows x 13 columns]"
            ]
          },
          "metadata": {
            "tags": []
          },
          "execution_count": 58
        }
      ]
    },
    {
      "cell_type": "markdown",
      "metadata": {
        "id": "o_aTVGrcmQPt"
      },
      "source": [
        "--> Checking Missing Values"
      ]
    },
    {
      "cell_type": "code",
      "metadata": {
        "id": "X0nt0YxkOo65",
        "colab": {
          "base_uri": "https://localhost:8080/"
        },
        "outputId": "4e4530de-2f1e-408f-afde-9eb6d171e47d"
      },
      "source": [
        "df3.isnull().sum()"
      ],
      "execution_count": null,
      "outputs": [
        {
          "output_type": "execute_result",
          "data": {
            "text/plain": [
              "0\n",
              "transaction_id               0\n",
              "product_id                   0\n",
              "customer_id                  0\n",
              "transaction_date             0\n",
              "online_order               360\n",
              "order_status                 0\n",
              "brand                      197\n",
              "product_line               197\n",
              "product_class              197\n",
              "product_size               197\n",
              "list_price                   0\n",
              "standard_cost              197\n",
              "product_first_sold_date    197\n",
              "dtype: int64"
            ]
          },
          "metadata": {
            "tags": []
          },
          "execution_count": 59
        }
      ]
    },
    {
      "cell_type": "markdown",
      "metadata": {
        "id": "K1Yq6qnOmWvY"
      },
      "source": [
        "--> Dealing with Missing Values"
      ]
    },
    {
      "cell_type": "code",
      "metadata": {
        "id": "YLvSK6jBQVEf"
      },
      "source": [
        "#df3_test = df3.copy(deep=True)\n",
        "df3_col_miss_value = ['online_order', 'brand', 'product_line','product_class', 'product_size', 'standard_cost', 'product_first_sold_date'] \n",
        "for col in df3_col_miss_value:\n",
        "  if col == 'online_order': \n",
        "    df3.dropna(subset= ['online_order'], inplace = True)  \n",
        "  elif col == 'brand' :\n",
        "    df3[col].fillna(value = 'Other', inplace = True)\n",
        "  elif col == 'product_line': \n",
        "    df3[col].fillna(value = 'Other', inplace = True)\n",
        "  elif col == 'product_size':\n",
        "    df3[col].fillna(value = 'Other', inplace = True)\n",
        "  elif col == 'standard_cost':\n",
        "    df3.dropna(subset=['standard_cost'], inplace = True)\n",
        "  else:\n",
        "    df3.dropna(subset = ['product_first_sold_date'], inplace= True)"
      ],
      "execution_count": null,
      "outputs": []
    },
    {
      "cell_type": "code",
      "metadata": {
        "id": "THSlpsQhlyxr",
        "colab": {
          "base_uri": "https://localhost:8080/"
        },
        "outputId": "09013851-518b-4c90-8979-1f9834644087"
      },
      "source": [
        "df3.info()"
      ],
      "execution_count": null,
      "outputs": [
        {
          "output_type": "stream",
          "text": [
            "<class 'pandas.core.frame.DataFrame'>\n",
            "Int64Index: 19445 entries, 0 to 19999\n",
            "Data columns (total 13 columns):\n",
            " #   Column                   Non-Null Count  Dtype \n",
            "---  ------                   --------------  ----- \n",
            " 0   transaction_id           19445 non-null  object\n",
            " 1   product_id               19445 non-null  object\n",
            " 2   customer_id              19445 non-null  object\n",
            " 3   transaction_date         19445 non-null  object\n",
            " 4   online_order             19445 non-null  object\n",
            " 5   order_status             19445 non-null  object\n",
            " 6   brand                    19445 non-null  object\n",
            " 7   product_line             19445 non-null  object\n",
            " 8   product_class            19445 non-null  object\n",
            " 9   product_size             19445 non-null  object\n",
            " 10  list_price               19445 non-null  object\n",
            " 11  standard_cost            19445 non-null  object\n",
            " 12  product_first_sold_date  19445 non-null  object\n",
            "dtypes: object(13)\n",
            "memory usage: 2.1+ MB\n"
          ],
          "name": "stdout"
        }
      ]
    },
    {
      "cell_type": "code",
      "metadata": {
        "id": "pKFVR6hISCOt",
        "colab": {
          "base_uri": "https://localhost:8080/"
        },
        "outputId": "b67e4de0-17e8-4144-e5d2-f17ff632221e"
      },
      "source": [
        "df3.isnull().sum()"
      ],
      "execution_count": null,
      "outputs": [
        {
          "output_type": "execute_result",
          "data": {
            "text/plain": [
              "0\n",
              "transaction_id             0\n",
              "product_id                 0\n",
              "customer_id                0\n",
              "transaction_date           0\n",
              "online_order               0\n",
              "order_status               0\n",
              "brand                      0\n",
              "product_line               0\n",
              "product_class              0\n",
              "product_size               0\n",
              "list_price                 0\n",
              "standard_cost              0\n",
              "product_first_sold_date    0\n",
              "dtype: int64"
            ]
          },
          "metadata": {
            "tags": []
          },
          "execution_count": 62
        }
      ]
    },
    {
      "cell_type": "markdown",
      "metadata": {
        "id": "o76SYrYtmM08"
      },
      "source": [
        "--> Checking Unstandard Data"
      ]
    },
    {
      "cell_type": "code",
      "metadata": {
        "id": "vvRe69B2mjny",
        "colab": {
          "base_uri": "https://localhost:8080/"
        },
        "outputId": "77aa70dd-3600-4278-e972-ca980d5dbf7c"
      },
      "source": [
        "for col in df3.columns:\n",
        "  print('\\nUnique Value in Feature \"{}\" :'.format(col))\n",
        "  print(df3[col].value_counts())"
      ],
      "execution_count": null,
      "outputs": [
        {
          "output_type": "stream",
          "text": [
            "\n",
            "Unique Value in Feature \"transaction_id\" :\n",
            "20000    1\n",
            "6641     1\n",
            "6643     1\n",
            "6645     1\n",
            "6646     1\n",
            "        ..\n",
            "13320    1\n",
            "13321    1\n",
            "13322    1\n",
            "13323    1\n",
            "1        1\n",
            "Name: transaction_id, Length: 19445, dtype: int64\n",
            "\n",
            "Unique Value in Feature \"product_id\" :\n",
            "0      1157\n",
            "3       349\n",
            "1       305\n",
            "38      267\n",
            "35      261\n",
            "       ... \n",
            "16      134\n",
            "71      134\n",
            "8       132\n",
            "100     126\n",
            "47      118\n",
            "Name: product_id, Length: 101, dtype: int64\n",
            "\n",
            "Unique Value in Feature \"customer_id\" :\n",
            "1068    14\n",
            "2183    14\n",
            "2476    14\n",
            "1946    13\n",
            "2548    13\n",
            "        ..\n",
            "2749     1\n",
            "3161     1\n",
            "302      1\n",
            "1325     1\n",
            "2532     1\n",
            "Name: customer_id, Length: 3492, dtype: int64\n",
            "\n",
            "Unique Value in Feature \"transaction_date\" :\n",
            "2017-02-14    81\n",
            "2017-08-18    81\n",
            "2017-10-15    73\n",
            "2017-01-31    72\n",
            "2017-12-19    70\n",
            "              ..\n",
            "2017-12-07    37\n",
            "2017-01-12    36\n",
            "2017-09-25    35\n",
            "2017-03-29    34\n",
            "2017-10-19    32\n",
            "Name: transaction_date, Length: 364, dtype: int64\n",
            "\n",
            "Unique Value in Feature \"online_order\" :\n",
            "True     9739\n",
            "False    9706\n",
            "Name: online_order, dtype: int64\n",
            "\n",
            "Unique Value in Feature \"order_status\" :\n",
            "Approved     19273\n",
            "Cancelled      172\n",
            "Name: order_status, dtype: int64\n",
            "\n",
            "Unique Value in Feature \"brand\" :\n",
            "Solex             4169\n",
            "WeareA2B          3245\n",
            "Giant Bicycles    3244\n",
            "OHM Cycles        2993\n",
            "Trek Bicycles     2931\n",
            "Norco Bicycles    2863\n",
            "Name: brand, dtype: int64\n",
            "\n",
            "Unique Value in Feature \"product_line\" :\n",
            "Standard    13920\n",
            "Road         3894\n",
            "Touring      1213\n",
            "Mountain      418\n",
            "Name: product_line, dtype: int64\n",
            "\n",
            "Unique Value in Feature \"product_class\" :\n",
            "medium    13587\n",
            "high       2952\n",
            "low        2906\n",
            "Name: product_class, dtype: int64\n",
            "\n",
            "Unique Value in Feature \"product_size\" :\n",
            "medium    12767\n",
            "large      3900\n",
            "small      2778\n",
            "Name: product_size, dtype: int64\n",
            "\n",
            "Unique Value in Feature \"list_price\" :\n",
            "2091.47    460\n",
            "1403.50    389\n",
            "71.49      269\n",
            "1231.15    232\n",
            "1890.39    230\n",
            "          ... \n",
            "1172.78    153\n",
            "358.39     138\n",
            "1227.34    126\n",
            "202.62     123\n",
            "1036.59    111\n",
            "Name: list_price, Length: 100, dtype: int64\n",
            "\n",
            "Unique Value in Feature \"standard_cost\" :\n",
            "388.920000    460\n",
            "954.820000    389\n",
            "53.620000     269\n",
            "161.600000    232\n",
            "260.140000    230\n",
            "             ... \n",
            "151.960000    123\n",
            "206.350000    111\n",
            "270.299988      1\n",
            "312.735016      1\n",
            "667.400024      1\n",
            "Name: standard_cost, Length: 103, dtype: int64\n",
            "\n",
            "Unique Value in Feature \"product_first_sold_date\" :\n",
            "33879    230\n",
            "41064    223\n",
            "37823    221\n",
            "39880    220\n",
            "38216    217\n",
            "        ... \n",
            "41848    168\n",
            "42404    167\n",
            "41922    163\n",
            "37659    161\n",
            "34586    159\n",
            "Name: product_first_sold_date, Length: 100, dtype: int64\n"
          ],
          "name": "stdout"
        }
      ]
    },
    {
      "cell_type": "markdown",
      "metadata": {
        "id": "ag6oafcF7EOv"
      },
      "source": [
        "**Note** : All value within all feature are standard"
      ]
    },
    {
      "cell_type": "markdown",
      "metadata": {
        "id": "glt_QrRQnQaq"
      },
      "source": [
        "--> Checking unique transaction ID"
      ]
    },
    {
      "cell_type": "code",
      "metadata": {
        "id": "KO0wLTw9nTyg",
        "colab": {
          "base_uri": "https://localhost:8080/"
        },
        "outputId": "4c4d08f4-9871-4be9-fe37-728dbdd2f496"
      },
      "source": [
        "print('Unique Values in Transaction ID:')\n",
        "print(df3['transaction_id'].nunique())"
      ],
      "execution_count": null,
      "outputs": [
        {
          "output_type": "stream",
          "text": [
            "Unique Values in Transaction ID:\n",
            "19445\n"
          ],
          "name": "stdout"
        }
      ]
    },
    {
      "cell_type": "markdown",
      "metadata": {
        "id": "gS1rpLp-nojJ"
      },
      "source": [
        "**Note** : Its Unique"
      ]
    },
    {
      "cell_type": "markdown",
      "metadata": {
        "id": "aQ6Y3j5mA93j"
      },
      "source": [
        "--> Making date format in feature 'product_first_sold_date' valid (Still cant find the method)"
      ]
    },
    {
      "cell_type": "code",
      "metadata": {
        "id": "QA4p4TzDBQDj"
      },
      "source": [
        "from datetime import datetime\n",
        "df3['product_first_sold_date'] = df3['product_first_sold_date'].astype(float)\n",
        "now = pd.Timestamp('now')\n",
        "df3['product_first_sold_date'] = pd.to_datetime(df3['product_first_sold_date'],unit='D', origin=pd.Timestamp('1900-01-01'))#based on microsoft excel origin format "
      ],
      "execution_count": null,
      "outputs": []
    },
    {
      "cell_type": "code",
      "metadata": {
        "id": "UKz352rGX7wq",
        "colab": {
          "base_uri": "https://localhost:8080/",
          "height": 274
        },
        "outputId": "65de0b88-125c-436d-e089-4a22cfbe0542"
      },
      "source": [
        "df3.head()"
      ],
      "execution_count": null,
      "outputs": [
        {
          "output_type": "execute_result",
          "data": {
            "text/html": [
              "<div>\n",
              "<style scoped>\n",
              "    .dataframe tbody tr th:only-of-type {\n",
              "        vertical-align: middle;\n",
              "    }\n",
              "\n",
              "    .dataframe tbody tr th {\n",
              "        vertical-align: top;\n",
              "    }\n",
              "\n",
              "    .dataframe thead th {\n",
              "        text-align: right;\n",
              "    }\n",
              "</style>\n",
              "<table border=\"1\" class=\"dataframe\">\n",
              "  <thead>\n",
              "    <tr style=\"text-align: right;\">\n",
              "      <th></th>\n",
              "      <th>transaction_id</th>\n",
              "      <th>product_id</th>\n",
              "      <th>customer_id</th>\n",
              "      <th>transaction_date</th>\n",
              "      <th>online_order</th>\n",
              "      <th>order_status</th>\n",
              "      <th>brand</th>\n",
              "      <th>product_line</th>\n",
              "      <th>product_class</th>\n",
              "      <th>product_size</th>\n",
              "      <th>list_price</th>\n",
              "      <th>standard_cost</th>\n",
              "      <th>product_first_sold_date</th>\n",
              "    </tr>\n",
              "  </thead>\n",
              "  <tbody>\n",
              "    <tr>\n",
              "      <th>0</th>\n",
              "      <td>1</td>\n",
              "      <td>2</td>\n",
              "      <td>2950</td>\n",
              "      <td>2017-02-25 00:00:00</td>\n",
              "      <td>False</td>\n",
              "      <td>Approved</td>\n",
              "      <td>Solex</td>\n",
              "      <td>Standard</td>\n",
              "      <td>medium</td>\n",
              "      <td>medium</td>\n",
              "      <td>71.49</td>\n",
              "      <td>53.62</td>\n",
              "      <td>2012-12-04</td>\n",
              "    </tr>\n",
              "    <tr>\n",
              "      <th>1</th>\n",
              "      <td>2</td>\n",
              "      <td>3</td>\n",
              "      <td>3120</td>\n",
              "      <td>2017-05-21 00:00:00</td>\n",
              "      <td>True</td>\n",
              "      <td>Approved</td>\n",
              "      <td>Trek Bicycles</td>\n",
              "      <td>Standard</td>\n",
              "      <td>medium</td>\n",
              "      <td>large</td>\n",
              "      <td>2091.47</td>\n",
              "      <td>388.92</td>\n",
              "      <td>2014-03-05</td>\n",
              "    </tr>\n",
              "    <tr>\n",
              "      <th>2</th>\n",
              "      <td>3</td>\n",
              "      <td>37</td>\n",
              "      <td>402</td>\n",
              "      <td>2017-10-16 00:00:00</td>\n",
              "      <td>False</td>\n",
              "      <td>Approved</td>\n",
              "      <td>OHM Cycles</td>\n",
              "      <td>Standard</td>\n",
              "      <td>low</td>\n",
              "      <td>medium</td>\n",
              "      <td>1793.43</td>\n",
              "      <td>248.82</td>\n",
              "      <td>1999-07-22</td>\n",
              "    </tr>\n",
              "    <tr>\n",
              "      <th>3</th>\n",
              "      <td>4</td>\n",
              "      <td>88</td>\n",
              "      <td>3135</td>\n",
              "      <td>2017-08-31 00:00:00</td>\n",
              "      <td>False</td>\n",
              "      <td>Approved</td>\n",
              "      <td>Norco Bicycles</td>\n",
              "      <td>Standard</td>\n",
              "      <td>medium</td>\n",
              "      <td>medium</td>\n",
              "      <td>1198.46</td>\n",
              "      <td>381.1</td>\n",
              "      <td>1998-12-18</td>\n",
              "    </tr>\n",
              "    <tr>\n",
              "      <th>4</th>\n",
              "      <td>5</td>\n",
              "      <td>78</td>\n",
              "      <td>787</td>\n",
              "      <td>2017-10-01 00:00:00</td>\n",
              "      <td>True</td>\n",
              "      <td>Approved</td>\n",
              "      <td>Giant Bicycles</td>\n",
              "      <td>Standard</td>\n",
              "      <td>medium</td>\n",
              "      <td>large</td>\n",
              "      <td>1765.3</td>\n",
              "      <td>709.48</td>\n",
              "      <td>2015-08-12</td>\n",
              "    </tr>\n",
              "  </tbody>\n",
              "</table>\n",
              "</div>"
            ],
            "text/plain": [
              "0 transaction_id product_id  ... standard_cost product_first_sold_date\n",
              "0              1          2  ...         53.62              2012-12-04\n",
              "1              2          3  ...        388.92              2014-03-05\n",
              "2              3         37  ...        248.82              1999-07-22\n",
              "3              4         88  ...         381.1              1998-12-18\n",
              "4              5         78  ...        709.48              2015-08-12\n",
              "\n",
              "[5 rows x 13 columns]"
            ]
          },
          "metadata": {
            "tags": []
          },
          "execution_count": 66
        }
      ]
    },
    {
      "cell_type": "code",
      "metadata": {
        "colab": {
          "base_uri": "https://localhost:8080/"
        },
        "id": "pnSUuI6Hrylr",
        "outputId": "487e7941-9f08-4436-93db-b010d51f6840"
      },
      "source": [
        "df3.info()"
      ],
      "execution_count": null,
      "outputs": [
        {
          "output_type": "stream",
          "text": [
            "<class 'pandas.core.frame.DataFrame'>\n",
            "Int64Index: 19445 entries, 0 to 19999\n",
            "Data columns (total 13 columns):\n",
            " #   Column                   Non-Null Count  Dtype         \n",
            "---  ------                   --------------  -----         \n",
            " 0   transaction_id           19445 non-null  object        \n",
            " 1   product_id               19445 non-null  object        \n",
            " 2   customer_id              19445 non-null  object        \n",
            " 3   transaction_date         19445 non-null  object        \n",
            " 4   online_order             19445 non-null  object        \n",
            " 5   order_status             19445 non-null  object        \n",
            " 6   brand                    19445 non-null  object        \n",
            " 7   product_line             19445 non-null  object        \n",
            " 8   product_class            19445 non-null  object        \n",
            " 9   product_size             19445 non-null  object        \n",
            " 10  list_price               19445 non-null  object        \n",
            " 11  standard_cost            19445 non-null  object        \n",
            " 12  product_first_sold_date  19445 non-null  datetime64[ns]\n",
            "dtypes: datetime64[ns](1), object(12)\n",
            "memory usage: 2.1+ MB\n"
          ],
          "name": "stdout"
        }
      ]
    },
    {
      "cell_type": "markdown",
      "metadata": {
        "id": "MyuXVwwU1AES"
      },
      "source": [
        ""
      ]
    },
    {
      "cell_type": "markdown",
      "metadata": {
        "id": "9o-vQllkn6aT"
      },
      "source": [
        "Data Preprocessing Transaction List : Feature Engineering"
      ]
    },
    {
      "cell_type": "markdown",
      "metadata": {
        "id": "w28ImS5Rrvrp"
      },
      "source": [
        "--> Add Profit Attribute"
      ]
    },
    {
      "cell_type": "code",
      "metadata": {
        "id": "eEsxQK4AryVV"
      },
      "source": [
        "df3['profit'] = df3['list_price']-df3['standard_cost']"
      ],
      "execution_count": null,
      "outputs": []
    },
    {
      "cell_type": "markdown",
      "metadata": {
        "id": "-HHxVAS6lNev"
      },
      "source": [
        "--> Add RFM (recency, frequency, monetary)"
      ]
    },
    {
      "cell_type": "code",
      "metadata": {
        "id": "UXfjGblI5Bq0",
        "colab": {
          "base_uri": "https://localhost:8080/",
          "height": 190
        },
        "outputId": "4d752813-9f71-4af6-f3f8-7b08ad29c8ee"
      },
      "source": [
        "import datetime as dt\n",
        "df3_test = df3.copy(deep=True)\n",
        "df3_test['transaction_date'] = pd.to_datetime(df3_test['transaction_date'])\n",
        "NOW = df3_test['transaction_date'].max()\n",
        "rfmTable = df3_test.groupby('customer_id').agg({'transaction_date': lambda x: (NOW - x.max()).days, # Recency\n",
        "                                        'transaction_id': lambda x: len(x),      # Frequency\n",
        "                                        'profit': lambda x: x.sum()}) # Monetary Value\n",
        "\n",
        "rfmTable['transaction_date'] = rfmTable['transaction_date'].astype(int)\n",
        "rfmTable.rename(columns={'transaction_date': 'recency', \n",
        "                         'transaction_id': 'frequency', \n",
        "                         'profit': 'monetary_value'}, inplace=True)\n",
        "rfmTable.reset_index(level=0, inplace=True)\n",
        "rfmTable.head()"
      ],
      "execution_count": null,
      "outputs": [
        {
          "output_type": "execute_result",
          "data": {
            "text/html": [
              "<div>\n",
              "<style scoped>\n",
              "    .dataframe tbody tr th:only-of-type {\n",
              "        vertical-align: middle;\n",
              "    }\n",
              "\n",
              "    .dataframe tbody tr th {\n",
              "        vertical-align: top;\n",
              "    }\n",
              "\n",
              "    .dataframe thead th {\n",
              "        text-align: right;\n",
              "    }\n",
              "</style>\n",
              "<table border=\"1\" class=\"dataframe\">\n",
              "  <thead>\n",
              "    <tr style=\"text-align: right;\">\n",
              "      <th></th>\n",
              "      <th>customer_id</th>\n",
              "      <th>recency</th>\n",
              "      <th>frequency</th>\n",
              "      <th>monetary_value</th>\n",
              "    </tr>\n",
              "  </thead>\n",
              "  <tbody>\n",
              "    <tr>\n",
              "      <th>0</th>\n",
              "      <td>1</td>\n",
              "      <td>7</td>\n",
              "      <td>11</td>\n",
              "      <td>3018.09</td>\n",
              "    </tr>\n",
              "    <tr>\n",
              "      <th>1</th>\n",
              "      <td>2</td>\n",
              "      <td>128</td>\n",
              "      <td>3</td>\n",
              "      <td>2226.26</td>\n",
              "    </tr>\n",
              "    <tr>\n",
              "      <th>2</th>\n",
              "      <td>3</td>\n",
              "      <td>102</td>\n",
              "      <td>7</td>\n",
              "      <td>3290.21</td>\n",
              "    </tr>\n",
              "    <tr>\n",
              "      <th>3</th>\n",
              "      <td>4</td>\n",
              "      <td>195</td>\n",
              "      <td>2</td>\n",
              "      <td>220.57</td>\n",
              "    </tr>\n",
              "    <tr>\n",
              "      <th>4</th>\n",
              "      <td>5</td>\n",
              "      <td>16</td>\n",
              "      <td>6</td>\n",
              "      <td>2394.94</td>\n",
              "    </tr>\n",
              "  </tbody>\n",
              "</table>\n",
              "</div>"
            ],
            "text/plain": [
              "   customer_id  recency  frequency  monetary_value\n",
              "0            1        7         11         3018.09\n",
              "1            2      128          3         2226.26\n",
              "2            3      102          7         3290.21\n",
              "3            4      195          2          220.57\n",
              "4            5       16          6         2394.94"
            ]
          },
          "metadata": {
            "tags": []
          },
          "execution_count": 69
        }
      ]
    },
    {
      "cell_type": "code",
      "metadata": {
        "id": "VH524SleHkGY",
        "colab": {
          "base_uri": "https://localhost:8080/",
          "height": 190
        },
        "outputId": "c4e075b2-2485-4a90-a529-f6d309c11145"
      },
      "source": [
        "quantiles = rfmTable.drop(columns = 'customer_id').quantile(q=[0.25,0.5,0.75])\n",
        "quantiles = quantiles.to_dict()\n",
        "rfmSegmentation = rfmTable\n",
        "\n",
        "# Arguments (x = value, p = recency, monetary_value, frequency, d = quartiles dict)\n",
        "def RClass(x,p,d):\n",
        "    if x <= d[p][0.25]:\n",
        "        return 1\n",
        "    elif x <= d[p][0.50]:\n",
        "        return 2\n",
        "    elif x <= d[p][0.75]: \n",
        "        return 3\n",
        "    else:\n",
        "        return 4\n",
        "    \n",
        "# Arguments (x = value, p = recency, monetary_value, frequency, d = quartiles dict)\n",
        "def FMClass(x,p,d):\n",
        "    if x <= d[p][0.25]:\n",
        "        return 4\n",
        "    elif x <= d[p][0.50]:\n",
        "        return 3\n",
        "    elif x <= d[p][0.75]: \n",
        "        return 2\n",
        "    else:\n",
        "        return 1\n",
        "# Arguments (x = dataframe Value row list)\n",
        "def RFM_Class (x):\n",
        "  L = []\n",
        "  for elm in x:\n",
        "    L.append(elm)\n",
        "  return \"\".join(L)\n",
        "\n",
        "def RFM_score (x):\n",
        "  L = []\n",
        "  for elm in x:\n",
        "    L.append(elm)\n",
        "  return np.sum(L)\n",
        "\n",
        "# Feature Enginering For RFM Analysis\n",
        "rfmSegmentation['R_Quartile'] = rfmSegmentation['recency'].apply(RClass, args=('recency',quantiles))\n",
        "rfmSegmentation['F_Quartile'] = rfmSegmentation['frequency'].apply(FMClass, args=('frequency',quantiles))\n",
        "rfmSegmentation['M_Quartile'] = rfmSegmentation['monetary_value'].apply(FMClass, args=('monetary_value',quantiles))\n",
        "rfmSegmentation['RFM_Class'] = rfmSegmentation[rfmSegmentation.columns[4:7]].astype(str).apply(RFM_Class, axis=1)\n",
        "rfmSegmentation['RFM_Score'] = rfmSegmentation[rfmSegmentation.columns[4:7]].apply(RFM_score, axis=1)\n",
        "rfmSegmentation['Score'] = 'Green'\n",
        "rfmSegmentation.loc[rfmSegmentation['RFM_Score']>5,'Score'] = 'Bronze' \n",
        "rfmSegmentation.loc[rfmSegmentation['RFM_Score']>7,'Score'] = 'Silver' \n",
        "rfmSegmentation.loc[rfmSegmentation['RFM_Score']>9,'Score'] = 'Gold' \n",
        "rfmSegmentation.loc[rfmSegmentation['RFM_Score']>10,'Score'] = 'Platinum'\n",
        "\n",
        "rfmSegmentation.head()"
      ],
      "execution_count": null,
      "outputs": [
        {
          "output_type": "execute_result",
          "data": {
            "text/html": [
              "<div>\n",
              "<style scoped>\n",
              "    .dataframe tbody tr th:only-of-type {\n",
              "        vertical-align: middle;\n",
              "    }\n",
              "\n",
              "    .dataframe tbody tr th {\n",
              "        vertical-align: top;\n",
              "    }\n",
              "\n",
              "    .dataframe thead th {\n",
              "        text-align: right;\n",
              "    }\n",
              "</style>\n",
              "<table border=\"1\" class=\"dataframe\">\n",
              "  <thead>\n",
              "    <tr style=\"text-align: right;\">\n",
              "      <th></th>\n",
              "      <th>customer_id</th>\n",
              "      <th>recency</th>\n",
              "      <th>frequency</th>\n",
              "      <th>monetary_value</th>\n",
              "      <th>R_Quartile</th>\n",
              "      <th>F_Quartile</th>\n",
              "      <th>M_Quartile</th>\n",
              "      <th>RFM_Class</th>\n",
              "      <th>RFM_Score</th>\n",
              "      <th>Score</th>\n",
              "    </tr>\n",
              "  </thead>\n",
              "  <tbody>\n",
              "    <tr>\n",
              "      <th>0</th>\n",
              "      <td>1</td>\n",
              "      <td>7</td>\n",
              "      <td>11</td>\n",
              "      <td>3018.09</td>\n",
              "      <td>1</td>\n",
              "      <td>1</td>\n",
              "      <td>2</td>\n",
              "      <td>112</td>\n",
              "      <td>4</td>\n",
              "      <td>Green</td>\n",
              "    </tr>\n",
              "    <tr>\n",
              "      <th>1</th>\n",
              "      <td>2</td>\n",
              "      <td>128</td>\n",
              "      <td>3</td>\n",
              "      <td>2226.26</td>\n",
              "      <td>4</td>\n",
              "      <td>4</td>\n",
              "      <td>3</td>\n",
              "      <td>443</td>\n",
              "      <td>11</td>\n",
              "      <td>Platinum</td>\n",
              "    </tr>\n",
              "    <tr>\n",
              "      <th>2</th>\n",
              "      <td>3</td>\n",
              "      <td>102</td>\n",
              "      <td>7</td>\n",
              "      <td>3290.21</td>\n",
              "      <td>4</td>\n",
              "      <td>2</td>\n",
              "      <td>2</td>\n",
              "      <td>422</td>\n",
              "      <td>8</td>\n",
              "      <td>Silver</td>\n",
              "    </tr>\n",
              "    <tr>\n",
              "      <th>3</th>\n",
              "      <td>4</td>\n",
              "      <td>195</td>\n",
              "      <td>2</td>\n",
              "      <td>220.57</td>\n",
              "      <td>4</td>\n",
              "      <td>4</td>\n",
              "      <td>4</td>\n",
              "      <td>444</td>\n",
              "      <td>12</td>\n",
              "      <td>Platinum</td>\n",
              "    </tr>\n",
              "    <tr>\n",
              "      <th>4</th>\n",
              "      <td>5</td>\n",
              "      <td>16</td>\n",
              "      <td>6</td>\n",
              "      <td>2394.94</td>\n",
              "      <td>1</td>\n",
              "      <td>2</td>\n",
              "      <td>3</td>\n",
              "      <td>123</td>\n",
              "      <td>6</td>\n",
              "      <td>Bronze</td>\n",
              "    </tr>\n",
              "  </tbody>\n",
              "</table>\n",
              "</div>"
            ],
            "text/plain": [
              "   customer_id  recency  frequency  ...  RFM_Class  RFM_Score     Score\n",
              "0            1        7         11  ...        112          4     Green\n",
              "1            2      128          3  ...        443         11  Platinum\n",
              "2            3      102          7  ...        422          8    Silver\n",
              "3            4      195          2  ...        444         12  Platinum\n",
              "4            5       16          6  ...        123          6    Bronze\n",
              "\n",
              "[5 rows x 10 columns]"
            ]
          },
          "metadata": {
            "tags": []
          },
          "execution_count": 70
        }
      ]
    },
    {
      "cell_type": "code",
      "metadata": {
        "colab": {
          "base_uri": "https://localhost:8080/"
        },
        "id": "AOc4SyG3uaYp",
        "outputId": "a9148d8a-61db-4d8f-eb8d-51dfaf8e2313"
      },
      "source": [
        "rfmSegmentation.info()"
      ],
      "execution_count": null,
      "outputs": [
        {
          "output_type": "stream",
          "text": [
            "<class 'pandas.core.frame.DataFrame'>\n",
            "RangeIndex: 3492 entries, 0 to 3491\n",
            "Data columns (total 10 columns):\n",
            " #   Column          Non-Null Count  Dtype  \n",
            "---  ------          --------------  -----  \n",
            " 0   customer_id     3492 non-null   int64  \n",
            " 1   recency         3492 non-null   int64  \n",
            " 2   frequency       3492 non-null   int64  \n",
            " 3   monetary_value  3492 non-null   float64\n",
            " 4   R_Quartile      3492 non-null   int64  \n",
            " 5   F_Quartile      3492 non-null   int64  \n",
            " 6   M_Quartile      3492 non-null   int64  \n",
            " 7   RFM_Class       3492 non-null   object \n",
            " 8   RFM_Score       3492 non-null   int64  \n",
            " 9   Score           3492 non-null   object \n",
            "dtypes: float64(1), int64(7), object(2)\n",
            "memory usage: 272.9+ KB\n"
          ],
          "name": "stdout"
        }
      ]
    },
    {
      "cell_type": "markdown",
      "metadata": {
        "id": "7LTBZWlq_Bfm"
      },
      "source": [
        "--> Add 6 bike brands Attribute"
      ]
    },
    {
      "cell_type": "code",
      "metadata": {
        "id": "AnmGpZe6dX-c",
        "colab": {
          "base_uri": "https://localhost:8080/"
        },
        "outputId": "1514722c-a05e-4f91-ea26-708970df1bdc"
      },
      "source": [
        "df3['brand'].value_counts()"
      ],
      "execution_count": null,
      "outputs": [
        {
          "output_type": "execute_result",
          "data": {
            "text/plain": [
              "Solex             4169\n",
              "WeareA2B          3245\n",
              "Giant Bicycles    3244\n",
              "OHM Cycles        2993\n",
              "Trek Bicycles     2931\n",
              "Norco Bicycles    2863\n",
              "Name: brand, dtype: int64"
            ]
          },
          "metadata": {
            "tags": []
          },
          "execution_count": 72
        }
      ]
    },
    {
      "cell_type": "code",
      "metadata": {
        "id": "k3GYb78m0YXj"
      },
      "source": [
        "brand_solex = df3.copy(deep=True)\n",
        "brand_solex['Valid'] = brand_solex['brand'].astype(str).str.match(r'Solex')\n",
        "brand_solex = brand_solex[brand_solex['Valid']==True].drop(columns=['Valid','transaction_id','product_id',\n",
        "                                                                                               'transaction_date','online_order',\n",
        "                                                                                               'order_status','product_line','product_class',\n",
        "                                                                                               'product_size','list_price','standard_cost',\n",
        "                                                                                               'product_first_sold_date','profit'],axis = 1)\n",
        "brand_solex = pd.DataFrame(brand_solex.groupby('customer_id')['brand'].value_counts())\n",
        "brand_solex.columns = ['Solex']\n",
        "brand_solex.reset_index(level=0,inplace = True)\n",
        "brand_solex.reset_index(level=0,inplace = True)\n",
        "brand_solex.drop(columns=['brand'], axis = 1,inplace=True)\n",
        "\n",
        "\n",
        "brand_weareA2B = df3.copy(deep=True)\n",
        "brand_weareA2B['Valid']= brand_weareA2B['brand'].astype(str).str.match(r'WeareA2B')\n",
        "brand_weareA2B = brand_weareA2B[brand_weareA2B['Valid']==True].drop(columns = ['Valid','transaction_id','product_id',\n",
        "                                                                                               'transaction_date','online_order',\n",
        "                                                                                               'order_status','product_line','product_class',\n",
        "                                                                                               'product_size','list_price','standard_cost',\n",
        "                                                                                               'product_first_sold_date','profit'], axis = 1)\n",
        "brand_weareA2B = pd.DataFrame(brand_weareA2B.groupby('customer_id')['brand'].value_counts())\n",
        "brand_weareA2B.columns = ['WeareA2B']\n",
        "brand_weareA2B.reset_index(level=0,inplace = True)\n",
        "brand_weareA2B.reset_index(level=0,inplace = True)\n",
        "brand_weareA2B.drop(columns=['brand'], axis = 1,inplace=True)\n",
        "\n",
        "\n",
        "brand_giant_bicycles = df3.copy(deep = True)\n",
        "brand_giant_bicycles['Valid'] = brand_giant_bicycles['brand'].astype(str).str.match(r'Giant Bicycles')\n",
        "brand_giant_bicycles = brand_giant_bicycles[brand_giant_bicycles['Valid']==True].drop(columns=['Valid','transaction_id','product_id',\n",
        "                                                                                               'transaction_date','online_order',\n",
        "                                                                                               'order_status','product_line','product_class',\n",
        "                                                                                               'product_size','list_price','standard_cost',\n",
        "                                                                                               'product_first_sold_date','profit'],axis = 1)\n",
        "brand_giant_bicycles = pd.DataFrame(brand_giant_bicycles.groupby('customer_id')['brand'].value_counts())\n",
        "brand_giant_bicycles.columns = ['Giant Bicycles']\n",
        "brand_giant_bicycles.reset_index(level=0,inplace = True)\n",
        "brand_giant_bicycles.reset_index(level=0,inplace = True)\n",
        "brand_giant_bicycles.drop(columns=['brand'], axis = 1,inplace=True)\n",
        "\n",
        "\n",
        "brand_ohm_cycles = df3.copy(deep=True)\n",
        "brand_ohm_cycles['Valid'] = brand_ohm_cycles['brand'].astype(str).str.match(r'OHM Cycles')\n",
        "brand_ohm_cycles = brand_ohm_cycles[brand_ohm_cycles['Valid']==True].drop(columns=['Valid','transaction_id','product_id',\n",
        "                                                                                               'transaction_date','online_order',\n",
        "                                                                                               'order_status','product_line','product_class',\n",
        "                                                                                               'product_size','list_price','standard_cost',\n",
        "                                                                                               'product_first_sold_date','profit'],axis = 1)\n",
        "brand_ohm_cycles = pd.DataFrame(brand_ohm_cycles.groupby('customer_id')['brand'].value_counts())\n",
        "brand_ohm_cycles.columns = ['OHM Cycles']\n",
        "brand_ohm_cycles.reset_index(level=0,inplace = True)\n",
        "brand_ohm_cycles.reset_index(level=0,inplace = True)\n",
        "brand_ohm_cycles.drop(columns=['brand'], axis = 1,inplace=True)\n",
        "\n",
        "\n",
        "brand_trek_bicycles = df3.copy(deep=True)\n",
        "brand_trek_bicycles['Valid'] = brand_trek_bicycles['brand'].astype(str).str.match(r'Trek Bicycles')\n",
        "brand_trek_bicycles = brand_trek_bicycles[brand_trek_bicycles['Valid']==True].drop(columns=['Valid','transaction_id','product_id',\n",
        "                                                                                               'transaction_date','online_order',\n",
        "                                                                                               'order_status','product_line','product_class',\n",
        "                                                                                               'product_size','list_price','standard_cost',\n",
        "                                                                                               'product_first_sold_date','profit'],axis = 1)\n",
        "brand_trek_bicycles = pd.DataFrame(brand_trek_bicycles.groupby('customer_id')['brand'].value_counts())\n",
        "brand_trek_bicycles.columns = ['Trek Bicycles']\n",
        "brand_trek_bicycles.reset_index(level=0,inplace = True)\n",
        "brand_trek_bicycles.reset_index(level=0,inplace = True)\n",
        "brand_trek_bicycles.drop(columns=['brand'], axis = 1,inplace=True)\n",
        "\n",
        "\n",
        "brand_norco_bicycles = df3.copy(deep=True)\n",
        "brand_norco_bicycles['Valid'] = brand_norco_bicycles['brand'].astype(str).str.match(r'Norco Bicycles')\n",
        "brand_norco_bicycles = brand_norco_bicycles[brand_norco_bicycles['Valid']==True].drop(columns=['Valid','transaction_id','product_id',\n",
        "                                                                                               'transaction_date','online_order',\n",
        "                                                                                               'order_status','product_line','product_class',\n",
        "                                                                                               'product_size','list_price','standard_cost',\n",
        "                                                                                               'product_first_sold_date','profit'], axis = 1)\n",
        "brand_norco_bicycles = pd.DataFrame(brand_norco_bicycles.groupby('customer_id')['brand'].value_counts())\n",
        "brand_norco_bicycles.columns = ['Norco Bicycles']\n",
        "brand_norco_bicycles.reset_index(level=0,inplace = True)\n",
        "brand_norco_bicycles.reset_index(level=0,inplace = True)\n",
        "brand_norco_bicycles.drop(columns=['brand'], axis = 1,inplace=True)\n"
      ],
      "execution_count": null,
      "outputs": []
    },
    {
      "cell_type": "code",
      "metadata": {
        "id": "jPOQUTxG4XwN",
        "colab": {
          "base_uri": "https://localhost:8080/",
          "height": 426
        },
        "outputId": "94ba9e1e-5d6e-4aca-9cdd-810707ce6931"
      },
      "source": [
        "def brands_dataframe(brand_list):\n",
        "  brand_list = [brand_solex,brand_giant_bicycles,brand_weareA2B,brand_ohm_cycles,brand_trek_bicycles,brand_norco_bicycles]\n",
        "  left_brands_2nd = brand_list[0]\n",
        "  right_brands_2nd = brand_list[1]\n",
        "  brands_2nd_merge = pd.merge(left = left_brands_2nd,right = right_brands_2nd,how='outer', sort = True)\n",
        "  left_brands_3rd = brands_2nd_merge\n",
        "  right_brands_3rd = brand_list[2]\n",
        "  brands_3rd_merge = pd.merge(left = left_brands_3rd,right = right_brands_3rd, how='outer', sort = True )\n",
        "  left_brands_4th = brands_3rd_merge\n",
        "  right_brands_4th = brand_list[3]\n",
        "  brands_4th_merge = pd.merge(left = left_brands_4th, right = right_brands_4th, how = 'outer', sort = True)\n",
        "  left_brands_5th = brands_4th_merge\n",
        "  right_brands_5th = brand_list[4]\n",
        "  brands_5th_merge = pd.merge(left = left_brands_5th, right = right_brands_5th, how = 'outer', sort = True)\n",
        "  left_brands_6th = brands_5th_merge\n",
        "  right_brands_6th = brand_list[5]\n",
        "  brands_6th_merge = pd.merge(left = left_brands_6th, right = right_brands_6th, how = 'outer', sort = True)  \n",
        "  return brands_6th_merge\n",
        "\n",
        "brand_list = [brand_solex,brand_giant_bicycles,brand_weareA2B,brand_ohm_cycles,brand_trek_bicycles,brand_norco_bicycles]\n",
        "df_brands = pd.DataFrame(brands_dataframe(brand_list))\n",
        "\n",
        "df_brands.info()\n",
        "df_brands.fillna(value = 0, inplace = True)\n",
        "df_brands = df_brands.astype(int)\n",
        "df_brands.head()\n"
      ],
      "execution_count": null,
      "outputs": [
        {
          "output_type": "stream",
          "text": [
            "<class 'pandas.core.frame.DataFrame'>\n",
            "Int64Index: 3492 entries, 0 to 3491\n",
            "Data columns (total 7 columns):\n",
            " #   Column          Non-Null Count  Dtype  \n",
            "---  ------          --------------  -----  \n",
            " 0   customer_id     3492 non-null   int64  \n",
            " 1   Solex           2446 non-null   float64\n",
            " 2   Giant Bicycles  2155 non-null   float64\n",
            " 3   WeareA2B        2138 non-null   float64\n",
            " 4   OHM Cycles      1994 non-null   float64\n",
            " 5   Trek Bicycles   2004 non-null   float64\n",
            " 6   Norco Bicycles  1922 non-null   float64\n",
            "dtypes: float64(6), int64(1)\n",
            "memory usage: 218.2 KB\n"
          ],
          "name": "stdout"
        },
        {
          "output_type": "execute_result",
          "data": {
            "text/html": [
              "<div>\n",
              "<style scoped>\n",
              "    .dataframe tbody tr th:only-of-type {\n",
              "        vertical-align: middle;\n",
              "    }\n",
              "\n",
              "    .dataframe tbody tr th {\n",
              "        vertical-align: top;\n",
              "    }\n",
              "\n",
              "    .dataframe thead th {\n",
              "        text-align: right;\n",
              "    }\n",
              "</style>\n",
              "<table border=\"1\" class=\"dataframe\">\n",
              "  <thead>\n",
              "    <tr style=\"text-align: right;\">\n",
              "      <th></th>\n",
              "      <th>customer_id</th>\n",
              "      <th>Solex</th>\n",
              "      <th>Giant Bicycles</th>\n",
              "      <th>WeareA2B</th>\n",
              "      <th>OHM Cycles</th>\n",
              "      <th>Trek Bicycles</th>\n",
              "      <th>Norco Bicycles</th>\n",
              "    </tr>\n",
              "  </thead>\n",
              "  <tbody>\n",
              "    <tr>\n",
              "      <th>0</th>\n",
              "      <td>1</td>\n",
              "      <td>2</td>\n",
              "      <td>4</td>\n",
              "      <td>0</td>\n",
              "      <td>2</td>\n",
              "      <td>1</td>\n",
              "      <td>2</td>\n",
              "    </tr>\n",
              "    <tr>\n",
              "      <th>1</th>\n",
              "      <td>2</td>\n",
              "      <td>0</td>\n",
              "      <td>1</td>\n",
              "      <td>2</td>\n",
              "      <td>0</td>\n",
              "      <td>0</td>\n",
              "      <td>0</td>\n",
              "    </tr>\n",
              "    <tr>\n",
              "      <th>2</th>\n",
              "      <td>3</td>\n",
              "      <td>0</td>\n",
              "      <td>2</td>\n",
              "      <td>0</td>\n",
              "      <td>0</td>\n",
              "      <td>3</td>\n",
              "      <td>2</td>\n",
              "    </tr>\n",
              "    <tr>\n",
              "      <th>3</th>\n",
              "      <td>4</td>\n",
              "      <td>1</td>\n",
              "      <td>1</td>\n",
              "      <td>0</td>\n",
              "      <td>0</td>\n",
              "      <td>0</td>\n",
              "      <td>0</td>\n",
              "    </tr>\n",
              "    <tr>\n",
              "      <th>4</th>\n",
              "      <td>5</td>\n",
              "      <td>1</td>\n",
              "      <td>1</td>\n",
              "      <td>1</td>\n",
              "      <td>0</td>\n",
              "      <td>1</td>\n",
              "      <td>2</td>\n",
              "    </tr>\n",
              "  </tbody>\n",
              "</table>\n",
              "</div>"
            ],
            "text/plain": [
              "   customer_id  Solex  ...  Trek Bicycles  Norco Bicycles\n",
              "0            1      2  ...              1               2\n",
              "1            2      0  ...              0               0\n",
              "2            3      0  ...              3               2\n",
              "3            4      1  ...              0               0\n",
              "4            5      1  ...              1               2\n",
              "\n",
              "[5 rows x 7 columns]"
            ]
          },
          "metadata": {
            "tags": []
          },
          "execution_count": 74
        }
      ]
    },
    {
      "cell_type": "markdown",
      "metadata": {
        "id": "VzLaSagp_Ozo"
      },
      "source": [
        "**Note** : As we have extract the important feature from transaction datasets according to the all insight which cover all the customer behavioral information, we are going to combine the extracted feature based on customer_id"
      ]
    },
    {
      "cell_type": "code",
      "metadata": {
        "colab": {
          "base_uri": "https://localhost:8080/"
        },
        "id": "12yPaTMz3din",
        "outputId": "5dca214f-1a64-4d1d-d647-b9db391a1c71"
      },
      "source": [
        "df3.columns"
      ],
      "execution_count": null,
      "outputs": [
        {
          "output_type": "execute_result",
          "data": {
            "text/plain": [
              "Index(['transaction_id', 'product_id', 'customer_id', 'transaction_date',\n",
              "       'online_order', 'order_status', 'brand', 'product_line',\n",
              "       'product_class', 'product_size', 'list_price', 'standard_cost',\n",
              "       'product_first_sold_date', 'profit'],\n",
              "      dtype='object', name=0)"
            ]
          },
          "metadata": {
            "tags": []
          },
          "execution_count": 75
        }
      ]
    },
    {
      "cell_type": "code",
      "metadata": {
        "id": "4A6Ia9I53n4h"
      },
      "source": [
        "df3_new2 = df3.drop(['transaction_id', 'product_id', 'transaction_date',\n",
        "       'online_order', 'order_status', 'product_line',\n",
        "       'product_class', 'product_size', 'list_price', 'standard_cost',\n",
        "       'product_first_sold_date', 'profit'], axis = 1)"
      ],
      "execution_count": null,
      "outputs": []
    },
    {
      "cell_type": "code",
      "metadata": {
        "id": "U4w-0xEa_yOi"
      },
      "source": [
        "df3_new = pd.merge(df_brands,rfmSegmentation, on = 'customer_id')\n",
        "#df3_new2 = pd.merge(rfmSegmentation, df3_new2, on = 'customer_id') "
      ],
      "execution_count": null,
      "outputs": []
    },
    {
      "cell_type": "code",
      "metadata": {
        "id": "12JatMsOCWiq",
        "colab": {
          "base_uri": "https://localhost:8080/"
        },
        "outputId": "d1e5ba48-9f5c-4fa1-ee39-0d63ce1155c1"
      },
      "source": [
        "df3_new.head()\n",
        "df3_new.info()"
      ],
      "execution_count": null,
      "outputs": [
        {
          "output_type": "stream",
          "text": [
            "<class 'pandas.core.frame.DataFrame'>\n",
            "Int64Index: 3492 entries, 0 to 3491\n",
            "Data columns (total 16 columns):\n",
            " #   Column          Non-Null Count  Dtype  \n",
            "---  ------          --------------  -----  \n",
            " 0   customer_id     3492 non-null   int64  \n",
            " 1   Solex           3492 non-null   int64  \n",
            " 2   Giant Bicycles  3492 non-null   int64  \n",
            " 3   WeareA2B        3492 non-null   int64  \n",
            " 4   OHM Cycles      3492 non-null   int64  \n",
            " 5   Trek Bicycles   3492 non-null   int64  \n",
            " 6   Norco Bicycles  3492 non-null   int64  \n",
            " 7   recency         3492 non-null   int64  \n",
            " 8   frequency       3492 non-null   int64  \n",
            " 9   monetary_value  3492 non-null   float64\n",
            " 10  R_Quartile      3492 non-null   int64  \n",
            " 11  F_Quartile      3492 non-null   int64  \n",
            " 12  M_Quartile      3492 non-null   int64  \n",
            " 13  RFM_Class       3492 non-null   object \n",
            " 14  RFM_Score       3492 non-null   int64  \n",
            " 15  Score           3492 non-null   object \n",
            "dtypes: float64(1), int64(13), object(2)\n",
            "memory usage: 463.8+ KB\n"
          ],
          "name": "stdout"
        }
      ]
    },
    {
      "cell_type": "code",
      "metadata": {
        "id": "JDq3uAABCepw",
        "colab": {
          "base_uri": "https://localhost:8080/",
          "height": 412
        },
        "outputId": "90c2ca52-cd1c-424f-aad4-566e32cc55d5"
      },
      "source": [
        "df = pd.merge(df_customer_demographic,df3_new, on = 'customer_id')\n",
        "df.to_excel('combined_dataframe_Sprocket_Central.xlsx')\n",
        "df.head()"
      ],
      "execution_count": null,
      "outputs": [
        {
          "output_type": "execute_result",
          "data": {
            "text/html": [
              "<div>\n",
              "<style scoped>\n",
              "    .dataframe tbody tr th:only-of-type {\n",
              "        vertical-align: middle;\n",
              "    }\n",
              "\n",
              "    .dataframe tbody tr th {\n",
              "        vertical-align: top;\n",
              "    }\n",
              "\n",
              "    .dataframe thead th {\n",
              "        text-align: right;\n",
              "    }\n",
              "</style>\n",
              "<table border=\"1\" class=\"dataframe\">\n",
              "  <thead>\n",
              "    <tr style=\"text-align: right;\">\n",
              "      <th></th>\n",
              "      <th>customer_id</th>\n",
              "      <th>name</th>\n",
              "      <th>gender</th>\n",
              "      <th>DOB</th>\n",
              "      <th>age</th>\n",
              "      <th>age_range</th>\n",
              "      <th>address</th>\n",
              "      <th>postcode</th>\n",
              "      <th>state</th>\n",
              "      <th>country</th>\n",
              "      <th>deceased_indicator</th>\n",
              "      <th>job_title</th>\n",
              "      <th>job_industry_category</th>\n",
              "      <th>tenure</th>\n",
              "      <th>past_3_years_bike_related_purchases</th>\n",
              "      <th>owns_car</th>\n",
              "      <th>property_valuation</th>\n",
              "      <th>wealth_segment</th>\n",
              "      <th>Solex</th>\n",
              "      <th>Giant Bicycles</th>\n",
              "      <th>WeareA2B</th>\n",
              "      <th>OHM Cycles</th>\n",
              "      <th>Trek Bicycles</th>\n",
              "      <th>Norco Bicycles</th>\n",
              "      <th>recency</th>\n",
              "      <th>frequency</th>\n",
              "      <th>monetary_value</th>\n",
              "      <th>R_Quartile</th>\n",
              "      <th>F_Quartile</th>\n",
              "      <th>M_Quartile</th>\n",
              "      <th>RFM_Class</th>\n",
              "      <th>RFM_Score</th>\n",
              "      <th>Score</th>\n",
              "    </tr>\n",
              "  </thead>\n",
              "  <tbody>\n",
              "    <tr>\n",
              "      <th>0</th>\n",
              "      <td>1</td>\n",
              "      <td>Laraine Medendorp</td>\n",
              "      <td>Female</td>\n",
              "      <td>1953-10-12 00:00:00</td>\n",
              "      <td>67.0</td>\n",
              "      <td>65+</td>\n",
              "      <td>060 Morning Avenue</td>\n",
              "      <td>2016</td>\n",
              "      <td>NSW</td>\n",
              "      <td>Australia</td>\n",
              "      <td>N</td>\n",
              "      <td>Executive Secretary</td>\n",
              "      <td>Health</td>\n",
              "      <td>11</td>\n",
              "      <td>93</td>\n",
              "      <td>Yes</td>\n",
              "      <td>10</td>\n",
              "      <td>Mass Customer</td>\n",
              "      <td>2</td>\n",
              "      <td>4</td>\n",
              "      <td>0</td>\n",
              "      <td>2</td>\n",
              "      <td>1</td>\n",
              "      <td>2</td>\n",
              "      <td>7</td>\n",
              "      <td>11</td>\n",
              "      <td>3018.09</td>\n",
              "      <td>1</td>\n",
              "      <td>1</td>\n",
              "      <td>2</td>\n",
              "      <td>112</td>\n",
              "      <td>4</td>\n",
              "      <td>Green</td>\n",
              "    </tr>\n",
              "    <tr>\n",
              "      <th>1</th>\n",
              "      <td>2</td>\n",
              "      <td>Eli Bockman</td>\n",
              "      <td>Male</td>\n",
              "      <td>1980-12-16 00:00:00</td>\n",
              "      <td>40.0</td>\n",
              "      <td>25-54</td>\n",
              "      <td>6 Meadow Vale Court</td>\n",
              "      <td>2153</td>\n",
              "      <td>NSW</td>\n",
              "      <td>Australia</td>\n",
              "      <td>N</td>\n",
              "      <td>Administrative Officer</td>\n",
              "      <td>Financial Services</td>\n",
              "      <td>16</td>\n",
              "      <td>81</td>\n",
              "      <td>Yes</td>\n",
              "      <td>10</td>\n",
              "      <td>Mass Customer</td>\n",
              "      <td>0</td>\n",
              "      <td>1</td>\n",
              "      <td>2</td>\n",
              "      <td>0</td>\n",
              "      <td>0</td>\n",
              "      <td>0</td>\n",
              "      <td>128</td>\n",
              "      <td>3</td>\n",
              "      <td>2226.26</td>\n",
              "      <td>4</td>\n",
              "      <td>4</td>\n",
              "      <td>3</td>\n",
              "      <td>443</td>\n",
              "      <td>11</td>\n",
              "      <td>Platinum</td>\n",
              "    </tr>\n",
              "    <tr>\n",
              "      <th>2</th>\n",
              "      <td>4</td>\n",
              "      <td>Talbot</td>\n",
              "      <td>Male</td>\n",
              "      <td>1961-10-03 00:00:00</td>\n",
              "      <td>59.0</td>\n",
              "      <td>55-64</td>\n",
              "      <td>0 Holy Cross Court</td>\n",
              "      <td>4211</td>\n",
              "      <td>QLD</td>\n",
              "      <td>Australia</td>\n",
              "      <td>N</td>\n",
              "      <td>Other</td>\n",
              "      <td>IT</td>\n",
              "      <td>7</td>\n",
              "      <td>33</td>\n",
              "      <td>No</td>\n",
              "      <td>9</td>\n",
              "      <td>Mass Customer</td>\n",
              "      <td>1</td>\n",
              "      <td>1</td>\n",
              "      <td>0</td>\n",
              "      <td>0</td>\n",
              "      <td>0</td>\n",
              "      <td>0</td>\n",
              "      <td>195</td>\n",
              "      <td>2</td>\n",
              "      <td>220.57</td>\n",
              "      <td>4</td>\n",
              "      <td>4</td>\n",
              "      <td>4</td>\n",
              "      <td>444</td>\n",
              "      <td>12</td>\n",
              "      <td>Platinum</td>\n",
              "    </tr>\n",
              "    <tr>\n",
              "      <th>3</th>\n",
              "      <td>5</td>\n",
              "      <td>Sheila-kathryn Calton</td>\n",
              "      <td>Female</td>\n",
              "      <td>1977-05-13 00:00:00</td>\n",
              "      <td>43.0</td>\n",
              "      <td>25-54</td>\n",
              "      <td>17979 Del Mar Point</td>\n",
              "      <td>2448</td>\n",
              "      <td>NSW</td>\n",
              "      <td>Australia</td>\n",
              "      <td>N</td>\n",
              "      <td>Senior Editor</td>\n",
              "      <td>Other</td>\n",
              "      <td>8</td>\n",
              "      <td>56</td>\n",
              "      <td>Yes</td>\n",
              "      <td>4</td>\n",
              "      <td>Affluent Customer</td>\n",
              "      <td>1</td>\n",
              "      <td>1</td>\n",
              "      <td>1</td>\n",
              "      <td>0</td>\n",
              "      <td>1</td>\n",
              "      <td>2</td>\n",
              "      <td>16</td>\n",
              "      <td>6</td>\n",
              "      <td>2394.94</td>\n",
              "      <td>1</td>\n",
              "      <td>2</td>\n",
              "      <td>3</td>\n",
              "      <td>123</td>\n",
              "      <td>6</td>\n",
              "      <td>Bronze</td>\n",
              "    </tr>\n",
              "    <tr>\n",
              "      <th>4</th>\n",
              "      <td>6</td>\n",
              "      <td>Curr Duckhouse</td>\n",
              "      <td>Male</td>\n",
              "      <td>1966-09-16 00:00:00</td>\n",
              "      <td>54.0</td>\n",
              "      <td>25-54</td>\n",
              "      <td>9 Oakridge Court</td>\n",
              "      <td>3216</td>\n",
              "      <td>VIC</td>\n",
              "      <td>Australia</td>\n",
              "      <td>N</td>\n",
              "      <td>Other</td>\n",
              "      <td>Retail</td>\n",
              "      <td>13</td>\n",
              "      <td>35</td>\n",
              "      <td>Yes</td>\n",
              "      <td>9</td>\n",
              "      <td>High Net Worth</td>\n",
              "      <td>0</td>\n",
              "      <td>2</td>\n",
              "      <td>2</td>\n",
              "      <td>0</td>\n",
              "      <td>1</td>\n",
              "      <td>0</td>\n",
              "      <td>64</td>\n",
              "      <td>5</td>\n",
              "      <td>3946.55</td>\n",
              "      <td>3</td>\n",
              "      <td>3</td>\n",
              "      <td>2</td>\n",
              "      <td>332</td>\n",
              "      <td>8</td>\n",
              "      <td>Silver</td>\n",
              "    </tr>\n",
              "  </tbody>\n",
              "</table>\n",
              "</div>"
            ],
            "text/plain": [
              "   customer_id                   name  gender  ... RFM_Class  RFM_Score     Score\n",
              "0            1      Laraine Medendorp  Female  ...       112          4     Green\n",
              "1            2            Eli Bockman    Male  ...       443         11  Platinum\n",
              "2            4                 Talbot    Male  ...       444         12  Platinum\n",
              "3            5  Sheila-kathryn Calton  Female  ...       123          6    Bronze\n",
              "4            6         Curr Duckhouse    Male  ...       332          8    Silver\n",
              "\n",
              "[5 rows x 33 columns]"
            ]
          },
          "metadata": {
            "tags": []
          },
          "execution_count": 80
        }
      ]
    },
    {
      "cell_type": "code",
      "metadata": {
        "id": "uhMfb1REO9aa"
      },
      "source": [
        ""
      ],
      "execution_count": null,
      "outputs": []
    },
    {
      "cell_type": "code",
      "metadata": {
        "id": "9h5cZ_45DDRR",
        "colab": {
          "base_uri": "https://localhost:8080/"
        },
        "outputId": "09f86b43-3212-4df1-f95a-78e7180850d5"
      },
      "source": [
        "df.info()"
      ],
      "execution_count": null,
      "outputs": [
        {
          "output_type": "stream",
          "text": [
            "<class 'pandas.core.frame.DataFrame'>\n",
            "Int64Index: 3410 entries, 0 to 3409\n",
            "Data columns (total 33 columns):\n",
            " #   Column                               Non-Null Count  Dtype   \n",
            "---  ------                               --------------  -----   \n",
            " 0   customer_id                          3410 non-null   int64   \n",
            " 1   name                                 3410 non-null   object  \n",
            " 2   gender                               3410 non-null   object  \n",
            " 3   DOB                                  3410 non-null   object  \n",
            " 4   age                                  3410 non-null   float64 \n",
            " 5   age_range                            3410 non-null   category\n",
            " 6   address                              3410 non-null   object  \n",
            " 7   postcode                             3410 non-null   int64   \n",
            " 8   state                                3410 non-null   object  \n",
            " 9   country                              3410 non-null   object  \n",
            " 10  deceased_indicator                   3410 non-null   object  \n",
            " 11  job_title                            3410 non-null   object  \n",
            " 12  job_industry_category                3410 non-null   object  \n",
            " 13  tenure                               3410 non-null   int64   \n",
            " 14  past_3_years_bike_related_purchases  3410 non-null   int64   \n",
            " 15  owns_car                             3410 non-null   object  \n",
            " 16  property_valuation                   3410 non-null   int64   \n",
            " 17  wealth_segment                       3410 non-null   object  \n",
            " 18  Solex                                3410 non-null   int64   \n",
            " 19  Giant Bicycles                       3410 non-null   int64   \n",
            " 20  WeareA2B                             3410 non-null   int64   \n",
            " 21  OHM Cycles                           3410 non-null   int64   \n",
            " 22  Trek Bicycles                        3410 non-null   int64   \n",
            " 23  Norco Bicycles                       3410 non-null   int64   \n",
            " 24  recency                              3410 non-null   int64   \n",
            " 25  frequency                            3410 non-null   int64   \n",
            " 26  monetary_value                       3410 non-null   float64 \n",
            " 27  R_Quartile                           3410 non-null   int64   \n",
            " 28  F_Quartile                           3410 non-null   int64   \n",
            " 29  M_Quartile                           3410 non-null   int64   \n",
            " 30  RFM_Class                            3410 non-null   object  \n",
            " 31  RFM_Score                            3410 non-null   int64   \n",
            " 32  Score                                3410 non-null   object  \n",
            "dtypes: category(1), float64(2), int64(17), object(13)\n",
            "memory usage: 882.7+ KB\n"
          ],
          "name": "stdout"
        }
      ]
    },
    {
      "cell_type": "code",
      "metadata": {
        "id": "mIG6fKGeoLTB",
        "colab": {
          "base_uri": "https://localhost:8080/"
        },
        "outputId": "9dde88e9-6860-4b8b-905b-be237e54e900"
      },
      "source": [
        "df.RFM_Class.value_counts()"
      ],
      "execution_count": null,
      "outputs": [
        {
          "output_type": "execute_result",
          "data": {
            "text/plain": [
              "444    298\n",
              "111    162\n",
              "344    156\n",
              "211    155\n",
              "443    123\n",
              "      ... \n",
              "441      7\n",
              "413      6\n",
              "241      5\n",
              "214      2\n",
              "314      1\n",
              "Name: RFM_Class, Length: 61, dtype: int64"
            ]
          },
          "metadata": {
            "tags": []
          },
          "execution_count": 82
        }
      ]
    },
    {
      "cell_type": "code",
      "metadata": {
        "id": "fdn6BEpzr2br",
        "colab": {
          "base_uri": "https://localhost:8080/"
        },
        "outputId": "c8f962d4-c0c2-493c-9fd1-ee1938569a55"
      },
      "source": [
        "df['postcode'].value_counts()"
      ],
      "execution_count": null,
      "outputs": [
        {
          "output_type": "execute_result",
          "data": {
            "text/plain": [
              "2153    28\n",
              "2170    27\n",
              "2155    26\n",
              "2145    26\n",
              "2770    22\n",
              "        ..\n",
              "3791     1\n",
              "3786     1\n",
              "3793     1\n",
              "2535     1\n",
              "4557     1\n",
              "Name: postcode, Length: 829, dtype: int64"
            ]
          },
          "metadata": {
            "tags": []
          },
          "execution_count": 83
        }
      ]
    },
    {
      "cell_type": "code",
      "metadata": {
        "id": "T_HK22prrsND",
        "colab": {
          "base_uri": "https://localhost:8080/"
        },
        "outputId": "e2653ae9-5e3d-49bb-ae08-ae55445905bb"
      },
      "source": [
        "gender_count = df['gender'].value_counts().reset_index(name='counts').rename(columns={'index':'gender'})\n",
        "gender_count['percentage'] = round((gender_count['counts']/gender_count['counts'].sum())*100)\n",
        "male = gender_count.copy(deep = True)\n",
        "male['valid'] = male['gender'].astype(str).str.match('Male')\n",
        "male = male[male['valid']==True].percentage.values\n",
        "\n",
        "female = gender_count.copy(deep = True)\n",
        "female['valid'] = female['gender'].astype(str).str.match('Female')\n",
        "female = female[female['valid']==True].percentage.values\n",
        "sizes = [female, male]\n",
        "sizes"
      ],
      "execution_count": null,
      "outputs": [
        {
          "output_type": "execute_result",
          "data": {
            "text/plain": [
              "[array([52.]), array([48.])]"
            ]
          },
          "metadata": {
            "tags": []
          },
          "execution_count": 84
        }
      ]
    },
    {
      "cell_type": "markdown",
      "metadata": {
        "id": "eL4w0OfnDNeJ"
      },
      "source": [
        "**Data Intrepration** : Customer Demographic Segmentation"
      ]
    },
    {
      "cell_type": "markdown",
      "metadata": {
        "id": "D9XksDD0Dcnp"
      },
      "source": [
        "--> Gender distribution"
      ]
    },
    {
      "cell_type": "code",
      "metadata": {
        "id": "5qBmiSLWsIRx",
        "colab": {
          "base_uri": "https://localhost:8080/",
          "height": 549
        },
        "outputId": "23420346-8722-4669-842c-fe287db74c1f"
      },
      "source": [
        "# Pie chart\n",
        "def gender_distribution():\n",
        "  gender_count = df['gender'].value_counts().reset_index(name='counts').rename(columns={'index':'gender'})\n",
        "  gender_count = df['gender'].value_counts().reset_index(name='counts').rename(columns={'index':'gender'})\n",
        "  gender_count['percentage'] = round((gender_count['counts']/gender_count['counts'].sum())*100)\n",
        "  male = gender_count.copy(deep = True)\n",
        "  male['valid'] = male['gender'].astype(str).str.match('Male')\n",
        "  male = male[male['valid']==True].percentage.values\n",
        "  female = gender_count.copy(deep = True)\n",
        "  female['valid'] = female['gender'].astype(str).str.match('Female')\n",
        "  female = female[female['valid']==True].percentage.values\n",
        "  labels = ['Female', 'Male']\n",
        "  sizes = [female, male]\n",
        "  #colors\n",
        "  colors = ['deeppink','cornflowerblue']\n",
        "  #explsion\n",
        "  explode = (0.05,0.05)\n",
        "  textprops = dict(size=14, color=\"black\")\n",
        "  plt.figure(figsize=(6,7))\n",
        "  plt.pie(sizes, colors = colors, labels=labels, autopct='%1.1f%%', startangle=120, \n",
        "          pctdistance=0.35, explode = explode, textprops=textprops)\n",
        "  #draw circle\n",
        "  centre_circle = plt.Circle((0,0),0.65,fc='white')\n",
        "  fig = plt.gcf()\n",
        "  fig.gca().add_artist(centre_circle)\n",
        "  # Equal aspect ratio ensures that pie is drawn as a circle\n",
        "  plt.axis('equal')  \n",
        "  plt.tight_layout()\n",
        "  #plt.xlabel('B')\n",
        "  plt.show()\n",
        "  #return gender_count\n",
        "gender_distribution()"
      ],
      "execution_count": null,
      "outputs": [
        {
          "output_type": "stream",
          "text": [
            "/usr/local/lib/python3.6/dist-packages/ipykernel_launcher.py:21: MatplotlibDeprecationWarning: Non-1D inputs to pie() are currently squeeze()d, but this behavior is deprecated since 3.1 and will be removed in 3.3; pass a 1D array instead.\n"
          ],
          "name": "stderr"
        },
        {
          "output_type": "display_data",
          "data": {
            "image/png": "[encoded data removed]",
            "text/plain": [
              "<Figure size 432x504 with 1 Axes>"
            ]
          },
          "metadata": {
            "tags": []
          }
        }
      ]
    },
    {
      "cell_type": "markdown",
      "metadata": {
        "id": "XCB9xMdvvhNd"
      },
      "source": [
        "--> Customer age distribution"
      ]
    },
    {
      "cell_type": "code",
      "metadata": {
        "id": "A7wPo4Gkxmup",
        "colab": {
          "base_uri": "https://localhost:8080/",
          "height": 584
        },
        "outputId": "93bc8cce-8041-43d7-8b62-a0327020f9d7"
      },
      "source": [
        "def age_distribution():\n",
        "  age_count = pd.DataFrame(df['age_range'].value_counts())\n",
        "  age_count['percentage'] = round((age_count['age_range'] / age_count['age_range'].sum())*100)\n",
        "  label = ['Early Working Age (18-24)','Prime Working Age (25-54)','Mature Working Age (55-64)','Elderly (65+)']\n",
        "  size = [12,69,17,2]\n",
        "  colors = ['#ff9999','#66b3ff','#99ff99','#ffcc99']\n",
        "  explode = [0.05,0.05,0.05,0.05]\n",
        "  textprops = dict(size=14, color=\"black\")\n",
        "  plt.figure(figsize=(8,8))\n",
        "  plt.pie(size, colors = colors,labels=label,autopct='%1.1f%%',startangle=120,pctdistance=0.45,shadow=False,explode = explode,textprops=textprops)\n",
        "  centre_circle = plt.Circle((0,0),0.65,fc='white')\n",
        "  fig = plt.gcf()\n",
        "  fig.gca().add_artist(centre_circle)\n",
        "  plt.axis('equal')\n",
        "  plt.tight_layout()\n",
        "  plt.show()\n",
        "age_distribution()\n"
      ],
      "execution_count": null,
      "outputs": [
        {
          "output_type": "display_data",
          "data": {
            "image/png": "[encoded data removed]",
            "text/plain": [
              "<Figure size 576x576 with 1 Axes>"
            ]
          },
          "metadata": {
            "tags": []
          }
        }
      ]
    },
    {
      "cell_type": "markdown",
      "metadata": {
        "id": "f4BWL6oDPL16"
      },
      "source": [
        "--> Job Industry Category"
      ]
    },
    {
      "cell_type": "code",
      "metadata": {
        "id": "IVNEkHP0U8R9",
        "colab": {
          "base_uri": "https://localhost:8080/",
          "height": 632
        },
        "outputId": "574f2014-8a28-4552-acd6-87e20cf81d73"
      },
      "source": [
        "def job_industry_distribution():\n",
        "  job_industry_count = pd.DataFrame(df['job_industry_category'].value_counts())\n",
        "  job_industry_count = job_industry_count.T.reset_index(drop = True)\n",
        "  y_pos = np.arange(len(job_industry_count.columns))\n",
        "  y_value = job_industry_count.iloc[0].values.tolist()\n",
        "  plt.figure(figsize=(9,10))\n",
        "  plt.barh(y_pos,y_value,color=['blue', 'orange', 'green', 'red', 'purple', 'brown', 'pink', 'gray', 'olive', 'cyan'], zorder = 2)\n",
        "  plt.yticks(y_pos,job_industry_count.columns)\n",
        "  plt.grid(axis='x')\n",
        "  for i,v in enumerate (y_value):\n",
        "    plt.text(v+10,i-0.05, str(v), color = 'black', fontsize = 12)\n",
        "  plt.xlim(0,800)\n",
        "  plt.xlabel('Population', labelpad = 20, fontsize = 15)\n",
        "  plt.xticks(fontsize=15)\n",
        "  plt.yticks(fontsize=15)\n",
        "  plt.show()  \n",
        "job_industry_distribution()\n",
        "\n"
      ],
      "execution_count": null,
      "outputs": [
        {
          "output_type": "display_data",
          "data": {
            "image/png": "[encoded data removed]",
            "text/plain": [
              "<Figure size 648x720 with 1 Axes>"
            ]
          },
          "metadata": {
            "tags": [],
            "needs_background": "light"
          }
        }
      ]
    },
    {
      "cell_type": "markdown",
      "metadata": {
        "id": "UPl1P75zfOKf"
      },
      "source": [
        "--> Tenure Vs Age Segmentation"
      ]
    },
    {
      "cell_type": "code",
      "metadata": {
        "id": "bjHR9I3ESg63",
        "colab": {
          "base_uri": "https://localhost:8080/"
        },
        "outputId": "c13a7136-b2e8-489f-864f-13973568e774"
      },
      "source": [
        "print(df['age_range'].values)"
      ],
      "execution_count": null,
      "outputs": [
        {
          "output_type": "stream",
          "text": [
            "['65+', '25-54', '55-64', '25-54', '25-54', ..., '25-54', '25-54', '18-24', '25-54', '25-54']\n",
            "Length: 3410\n",
            "Categories (4, object): ['18-24' < '25-54' < '55-64' < '65+']\n"
          ],
          "name": "stdout"
        }
      ]
    },
    {
      "cell_type": "code",
      "metadata": {
        "id": "LYjATMGiy4zQ",
        "colab": {
          "base_uri": "https://localhost:8080/",
          "height": 608
        },
        "outputId": "ca68d885-4a60-4765-fca9-cd3152dc2b62"
      },
      "source": [
        "def age_based_tenure_distribution():\n",
        "  subject = ['tenure']\n",
        "  data1 = df.groupby('age_range')[subject].mean()\n",
        "  index = np.arange(len(subject))\n",
        "#score = np.arange(0,100,10)\n",
        "  early_working = list(data1.T['18-24'])\n",
        "  prime_working = list(data1.T['25-54'])\n",
        "  mature_working = list(data1.T['55-64'])\n",
        "  elderly = list(data1.T['65+']) \n",
        "#data1 = data1.reset_index(drop = True)\n",
        "  #fig,ax = plt.subplots()\n",
        "  bar_width = 0.1\n",
        "  plt.figure(figsize=[10,10])\n",
        "  plt.bar(index,early_working, width = bar_width, color = 'yellow', label = 'Early Working Age', zorder = 2)\n",
        "  plt.bar(index + bar_width , prime_working, width=bar_width, color = 'red', label = 'Prime Working Age',zorder = 2)\n",
        "  plt.bar(index + bar_width*2, mature_working,width = bar_width, color = 'blue', label = 'Mature Working Age',zorder = 2)\n",
        "  plt.bar(index + bar_width*3,elderly, width = bar_width, color = 'green',label = 'Elderly',zorder = 2)\n",
        "  plt.xticks(index + bar_width*1.48,subject)\n",
        "  plt.ylabel('year')\n",
        "  plt.legend()\n",
        "  plt.grid(axis='y')\n",
        "  plt.ylim(0,15)\n",
        "  plt.xlim(-0.3,0.6)\n",
        "  plt.show()\n",
        "  return early_working\n",
        "age_based_tenure_distribution()"
      ],
      "execution_count": null,
      "outputs": [
        {
          "output_type": "display_data",
          "data": {
            "image/png": "[encoded data removed]",
            "text/plain": [
              "<Figure size 720x720 with 1 Axes>"
            ]
          },
          "metadata": {
            "tags": [],
            "needs_background": "light"
          }
        },
        {
          "output_type": "execute_result",
          "data": {
            "text/plain": [
              "[3.0719602977667493]"
            ]
          },
          "metadata": {
            "tags": []
          },
          "execution_count": 89
        }
      ]
    },
    {
      "cell_type": "markdown",
      "metadata": {
        "id": "eOL2yYmULGfY"
      },
      "source": [
        "--> Customer State Distribution"
      ]
    },
    {
      "cell_type": "code",
      "metadata": {
        "id": "lvwUnbluLLAc",
        "colab": {
          "base_uri": "https://localhost:8080/",
          "height": 439
        },
        "outputId": "f9554f1b-f4ba-4ed4-a735-80c152349e00"
      },
      "source": [
        "def state_distribution():\n",
        "  state_count = df['state'].value_counts()\n",
        "  state_count = pd.DataFrame(state_count).T.reset_index(drop=True)\n",
        "  x_pos = np.arange(len(state_count.columns))\n",
        "  x_value = state_count.iloc[0].tolist()\n",
        "  plt.figure(figsize=(5,7))\n",
        "  plt.bar(x_pos,x_value,color = ['red','green','blue'], zorder=2)\n",
        "  plt.xticks(x_pos,state_count.columns, fontsize = 15)\n",
        "  plt.yticks(fontsize = 15)\n",
        "  plt.ylabel('Population', labelpad = 20, fontsize = 15)\n",
        "  plt.grid(axis = 'y')\n",
        "  for i, v in enumerate(x_value):\n",
        "    plt.text(i-0.12,v+50,str(v), color = 'black', fontsize = 15)\n",
        "  plt.ylim(0,2000)\n",
        "  plt.show()\n",
        "state_distribution()\n"
      ],
      "execution_count": null,
      "outputs": [
        {
          "output_type": "display_data",
          "data": {
            "image/png": "[encoded data removed]",
            "text/plain": [
              "<Figure size 360x504 with 1 Axes>"
            ]
          },
          "metadata": {
            "tags": [],
            "needs_background": "light"
          }
        }
      ]
    },
    {
      "cell_type": "markdown",
      "metadata": {
        "id": "t0rT0uc-W5VM"
      },
      "source": [
        "--> Wealth Segment based on State"
      ]
    },
    {
      "cell_type": "code",
      "metadata": {
        "id": "2YPb9Xzj-eA5",
        "colab": {
          "base_uri": "https://localhost:8080/",
          "height": 596
        },
        "outputId": "e8ab3298-ca96-48f1-9518-4722683b7fe6"
      },
      "source": [
        "def wealth_segment_based_state():\n",
        "  state_nsw = df.copy(deep= True)\n",
        "  state_nsw['Valid'] = state_nsw['state'].astype(str).str.match(r'NSW')\n",
        "  state_nsw = state_nsw[state_nsw['Valid'] == True]\n",
        "  state_nsw = state_nsw['wealth_segment'].value_counts().rename_axis('unique_values').reset_index(name='counts')\n",
        "  state_nsw = state_nsw.T\n",
        "  col_nsw = state_nsw.iloc[0]\n",
        "  state_nsw.columns = col_nsw\n",
        "  state_nsw = state_nsw.drop('unique_values').rename(index = {'counts':'NSW'})\n",
        "  #state_nsw.columns.name = None\n",
        "\n",
        "  state_qld = df.copy(deep= True)\n",
        "  state_qld['Valid'] = state_qld['state'].astype(str).str.match(r'QLD')\n",
        "  state_qld = state_qld[state_qld['Valid'] == True]\n",
        "  state_qld = state_qld['wealth_segment'].value_counts().rename_axis('unique_values').reset_index(name='counts')\n",
        "  state_qld = state_qld.T\n",
        "  col_qld = state_qld.iloc[0]\n",
        "  state_qld.columns = col_qld\n",
        "  state_qld = state_qld.drop('unique_values').rename(index = {'counts':'QLD'})\n",
        "  #state_qld.columns.name = None\n",
        "\n",
        "  state_vic = df.copy(deep= True)\n",
        "  state_vic['Valid'] = state_vic['state'].astype(str).str.match(r'VIC')\n",
        "  state_vic = state_vic[state_vic['Valid'] == True]\n",
        "  state_vic = state_vic['wealth_segment'].value_counts().rename_axis('unique_values').reset_index(name='counts')\n",
        "  state_vic = state_vic.T\n",
        "  col_vic = state_vic.iloc[0]\n",
        "  state_vic.columns = col_vic\n",
        "  state_vic = state_vic.drop('unique_values').rename(index = {'counts':'VIC'})\n",
        "  #state_vic.columns.name = None\n",
        "  df_state = pd.concat([state_nsw,state_qld,state_vic])\n",
        "  wealth_segment = ['Mass Customer','High Net Worth','Affluent Customer']\n",
        "  index = np.arange(len(wealth_segment))\n",
        "  NSW = list(df_state.T['NSW'])\n",
        "  QLD = list(df_state.T['QLD'])\n",
        "  VIC = list(df_state.T['VIC'])\n",
        "#data1 = data1.reset_index(drop = True)\n",
        "#fig,ax = plt.subplots()\n",
        "  bar_width = 0.25\n",
        "  plt.figure(figsize=[10,10])\n",
        "  plt.bar(index,NSW, width = bar_width, color = 'yellow', label = 'New South Wales', zorder = 2)\n",
        "  plt.bar(index + bar_width , QLD, width=bar_width, color = 'red', label = 'Queensland',zorder = 2)\n",
        "  plt.bar(index + bar_width*2, VIC,width = bar_width, color = 'blue', label = 'Victoria',zorder = 2)\n",
        "  \n",
        "  plt.xticks(index + bar_width*1,wealth_segment,fontsize=15)\n",
        "  plt.yticks(fontsize = 15)\n",
        "  plt.ylabel('Population', fontsize=15)\n",
        "  plt.legend(fontsize=15)\n",
        "  plt.grid(axis='y')\n",
        "  plt.show()\n",
        "wealth_segment_based_state()"
      ],
      "execution_count": null,
      "outputs": [
        {
          "output_type": "display_data",
          "data": {
            "image/png": "[encoded data removed]",
            "text/plain": [
              "<Figure size 720x720 with 1 Axes>"
            ]
          },
          "metadata": {
            "tags": [],
            "needs_background": "light"
          }
        }
      ]
    },
    {
      "cell_type": "code",
      "metadata": {
        "id": "mlrMMR0Uyzf_",
        "colab": {
          "base_uri": "https://localhost:8080/",
          "height": 742
        },
        "outputId": "9eb3a2f2-83f5-40b6-cc90-57b8dfb600f9"
      },
      "source": [
        "def wealth_segment_based_age_range(x):\n",
        "  #ewa: early working age, pwa: prime working age ,mwa: mature working age \n",
        "  # Create ewa DataFrame\n",
        "  ewa = x.copy(deep = True)\n",
        "  ewa['valid'] = ewa['age_range'].astype(str).str.match(r'18-24')\n",
        "  ewa = ewa[ewa['valid']==True]\n",
        "  ewa = ewa['wealth_segment'].value_counts().reset_index(\n",
        "      name='counts').rename(columns={'index':'wealth segment'})\n",
        "  ewa['age category'] = 'early working age (18-24)'\n",
        "  # Create pwa DataFrame\n",
        "  pwa = x.copy(deep = True)\n",
        "  pwa['valid'] = pwa['age_range'].astype(str).str.match(r'25-54')\n",
        "  pwa = pwa[pwa['valid']==True]\n",
        "  pwa = pwa['wealth_segment'].value_counts().reset_index(\n",
        "      name='counts').rename(columns = {'index': 'wealth segment'})\n",
        "  pwa['age category'] = 'prime working age (25-54)'\n",
        "  # Create pmwa DataFrame\n",
        "  mwa = x.copy(deep = True)\n",
        "  mwa['valid'] = mwa['age_range'].astype(str).str.match(r'55-64')\n",
        "  mwa = mwa[mwa['valid']==True]\n",
        "  mwa = mwa['wealth_segment'].value_counts().reset_index(\n",
        "      name='counts').rename(columns ={'index':'wealth segment'})\n",
        "  mwa['age category'] = 'mature working age (55-64)'\n",
        "  # Create eld DataFrame\n",
        "  eld = x.copy(deep=True)\n",
        "  eld['valid'] = eld['age_range'].astype(str).str.match(r'65+')\n",
        "  eld = eld[eld['valid']==True]\n",
        "  eld = eld['wealth_segment'].value_counts().reset_index(\n",
        "      name=('counts')).rename(columns = {'index':'wealth segment'})\n",
        "  eld['age category'] = 'elderly (65+)'\n",
        "  # Combine Each DataFrame\n",
        "  df = pd.concat([ewa,pwa,mwa,eld])\n",
        "  df = df.reset_index(drop = True)\n",
        "  \n",
        "  #Create Bar Graph\n",
        "  import seaborn as sns\n",
        "  plt.figure(figsize=(10,10))\n",
        "  sns.barplot(x='wealth segment',y ='counts', hue='age category', data = df, zorder = 2)\n",
        "  plt.ylabel(\"Population\", size=15, labelpad = 15)\n",
        "  plt.xlabel(\"Wealth Segment\", size=15, labelpad = 15 )\n",
        "  plt.xticks(fontsize = 15)\n",
        "  plt.yticks(fontsize = 15)\n",
        "  plt.grid(axis ='y')\n",
        "  plt.legend(fontsize = 15)\n",
        "  plt.ylim(0,1500)\n",
        "  return ewa\n",
        "\n",
        "wealth_segment_based_age_range= wealth_segment_based_age_range(df)\n",
        "wealth_segment_based_age_range\n"
      ],
      "execution_count": null,
      "outputs": [
        {
          "output_type": "execute_result",
          "data": {
            "text/html": [
              "<div>\n",
              "<style scoped>\n",
              "    .dataframe tbody tr th:only-of-type {\n",
              "        vertical-align: middle;\n",
              "    }\n",
              "\n",
              "    .dataframe tbody tr th {\n",
              "        vertical-align: top;\n",
              "    }\n",
              "\n",
              "    .dataframe thead th {\n",
              "        text-align: right;\n",
              "    }\n",
              "</style>\n",
              "<table border=\"1\" class=\"dataframe\">\n",
              "  <thead>\n",
              "    <tr style=\"text-align: right;\">\n",
              "      <th></th>\n",
              "      <th>wealth segment</th>\n",
              "      <th>counts</th>\n",
              "      <th>age category</th>\n",
              "    </tr>\n",
              "  </thead>\n",
              "  <tbody>\n",
              "    <tr>\n",
              "      <th>0</th>\n",
              "      <td>Mass Customer</td>\n",
              "      <td>200</td>\n",
              "      <td>early working age (18-24)</td>\n",
              "    </tr>\n",
              "    <tr>\n",
              "      <th>1</th>\n",
              "      <td>Affluent Customer</td>\n",
              "      <td>111</td>\n",
              "      <td>early working age (18-24)</td>\n",
              "    </tr>\n",
              "    <tr>\n",
              "      <th>2</th>\n",
              "      <td>High Net Worth</td>\n",
              "      <td>92</td>\n",
              "      <td>early working age (18-24)</td>\n",
              "    </tr>\n",
              "  </tbody>\n",
              "</table>\n",
              "</div>"
            ],
            "text/plain": [
              "      wealth segment  counts               age category\n",
              "0      Mass Customer     200  early working age (18-24)\n",
              "1  Affluent Customer     111  early working age (18-24)\n",
              "2     High Net Worth      92  early working age (18-24)"
            ]
          },
          "metadata": {
            "tags": []
          },
          "execution_count": 92
        },
        {
          "output_type": "display_data",
          "data": {
            "image/png": "[encoded data removed]",
            "text/plain": [
              "<Figure size 720x720 with 1 Axes>"
            ]
          },
          "metadata": {
            "tags": [],
            "needs_background": "light"
          }
        }
      ]
    },
    {
      "cell_type": "code",
      "metadata": {
        "id": "wb0MDYw36_ze",
        "colab": {
          "base_uri": "https://localhost:8080/",
          "height": 782
        },
        "outputId": "fba53789-49d6-4e14-9a4f-a2604451d92f"
      },
      "source": [
        "df"
      ],
      "execution_count": null,
      "outputs": [
        {
          "output_type": "execute_result",
          "data": {
            "text/html": [
              "<div>\n",
              "<style scoped>\n",
              "    .dataframe tbody tr th:only-of-type {\n",
              "        vertical-align: middle;\n",
              "    }\n",
              "\n",
              "    .dataframe tbody tr th {\n",
              "        vertical-align: top;\n",
              "    }\n",
              "\n",
              "    .dataframe thead th {\n",
              "        text-align: right;\n",
              "    }\n",
              "</style>\n",
              "<table border=\"1\" class=\"dataframe\">\n",
              "  <thead>\n",
              "    <tr style=\"text-align: right;\">\n",
              "      <th></th>\n",
              "      <th>customer_id</th>\n",
              "      <th>name</th>\n",
              "      <th>gender</th>\n",
              "      <th>DOB</th>\n",
              "      <th>age</th>\n",
              "      <th>age_range</th>\n",
              "      <th>address</th>\n",
              "      <th>postcode</th>\n",
              "      <th>state</th>\n",
              "      <th>country</th>\n",
              "      <th>deceased_indicator</th>\n",
              "      <th>job_title</th>\n",
              "      <th>job_industry_category</th>\n",
              "      <th>tenure</th>\n",
              "      <th>past_3_years_bike_related_purchases</th>\n",
              "      <th>owns_car</th>\n",
              "      <th>property_valuation</th>\n",
              "      <th>wealth_segment</th>\n",
              "      <th>Solex</th>\n",
              "      <th>Giant Bicycles</th>\n",
              "      <th>WeareA2B</th>\n",
              "      <th>OHM Cycles</th>\n",
              "      <th>Trek Bicycles</th>\n",
              "      <th>Norco Bicycles</th>\n",
              "      <th>recency</th>\n",
              "      <th>frequency</th>\n",
              "      <th>monetary_value</th>\n",
              "      <th>R_Quartile</th>\n",
              "      <th>F_Quartile</th>\n",
              "      <th>M_Quartile</th>\n",
              "      <th>RFM_Class</th>\n",
              "      <th>RFM_Score</th>\n",
              "      <th>Score</th>\n",
              "    </tr>\n",
              "  </thead>\n",
              "  <tbody>\n",
              "    <tr>\n",
              "      <th>0</th>\n",
              "      <td>1</td>\n",
              "      <td>Laraine Medendorp</td>\n",
              "      <td>Female</td>\n",
              "      <td>1953-10-12 00:00:00</td>\n",
              "      <td>67.0</td>\n",
              "      <td>65+</td>\n",
              "      <td>060 Morning Avenue</td>\n",
              "      <td>2016</td>\n",
              "      <td>NSW</td>\n",
              "      <td>Australia</td>\n",
              "      <td>N</td>\n",
              "      <td>Executive Secretary</td>\n",
              "      <td>Health</td>\n",
              "      <td>11</td>\n",
              "      <td>93</td>\n",
              "      <td>Yes</td>\n",
              "      <td>10</td>\n",
              "      <td>Mass Customer</td>\n",
              "      <td>2</td>\n",
              "      <td>4</td>\n",
              "      <td>0</td>\n",
              "      <td>2</td>\n",
              "      <td>1</td>\n",
              "      <td>2</td>\n",
              "      <td>7</td>\n",
              "      <td>11</td>\n",
              "      <td>3018.09</td>\n",
              "      <td>1</td>\n",
              "      <td>1</td>\n",
              "      <td>2</td>\n",
              "      <td>112</td>\n",
              "      <td>4</td>\n",
              "      <td>Green</td>\n",
              "    </tr>\n",
              "    <tr>\n",
              "      <th>1</th>\n",
              "      <td>2</td>\n",
              "      <td>Eli Bockman</td>\n",
              "      <td>Male</td>\n",
              "      <td>1980-12-16 00:00:00</td>\n",
              "      <td>40.0</td>\n",
              "      <td>25-54</td>\n",
              "      <td>6 Meadow Vale Court</td>\n",
              "      <td>2153</td>\n",
              "      <td>NSW</td>\n",
              "      <td>Australia</td>\n",
              "      <td>N</td>\n",
              "      <td>Administrative Officer</td>\n",
              "      <td>Financial Services</td>\n",
              "      <td>16</td>\n",
              "      <td>81</td>\n",
              "      <td>Yes</td>\n",
              "      <td>10</td>\n",
              "      <td>Mass Customer</td>\n",
              "      <td>0</td>\n",
              "      <td>1</td>\n",
              "      <td>2</td>\n",
              "      <td>0</td>\n",
              "      <td>0</td>\n",
              "      <td>0</td>\n",
              "      <td>128</td>\n",
              "      <td>3</td>\n",
              "      <td>2226.26</td>\n",
              "      <td>4</td>\n",
              "      <td>4</td>\n",
              "      <td>3</td>\n",
              "      <td>443</td>\n",
              "      <td>11</td>\n",
              "      <td>Platinum</td>\n",
              "    </tr>\n",
              "    <tr>\n",
              "      <th>2</th>\n",
              "      <td>4</td>\n",
              "      <td>Talbot</td>\n",
              "      <td>Male</td>\n",
              "      <td>1961-10-03 00:00:00</td>\n",
              "      <td>59.0</td>\n",
              "      <td>55-64</td>\n",
              "      <td>0 Holy Cross Court</td>\n",
              "      <td>4211</td>\n",
              "      <td>QLD</td>\n",
              "      <td>Australia</td>\n",
              "      <td>N</td>\n",
              "      <td>Other</td>\n",
              "      <td>IT</td>\n",
              "      <td>7</td>\n",
              "      <td>33</td>\n",
              "      <td>No</td>\n",
              "      <td>9</td>\n",
              "      <td>Mass Customer</td>\n",
              "      <td>1</td>\n",
              "      <td>1</td>\n",
              "      <td>0</td>\n",
              "      <td>0</td>\n",
              "      <td>0</td>\n",
              "      <td>0</td>\n",
              "      <td>195</td>\n",
              "      <td>2</td>\n",
              "      <td>220.57</td>\n",
              "      <td>4</td>\n",
              "      <td>4</td>\n",
              "      <td>4</td>\n",
              "      <td>444</td>\n",
              "      <td>12</td>\n",
              "      <td>Platinum</td>\n",
              "    </tr>\n",
              "    <tr>\n",
              "      <th>3</th>\n",
              "      <td>5</td>\n",
              "      <td>Sheila-kathryn Calton</td>\n",
              "      <td>Female</td>\n",
              "      <td>1977-05-13 00:00:00</td>\n",
              "      <td>43.0</td>\n",
              "      <td>25-54</td>\n",
              "      <td>17979 Del Mar Point</td>\n",
              "      <td>2448</td>\n",
              "      <td>NSW</td>\n",
              "      <td>Australia</td>\n",
              "      <td>N</td>\n",
              "      <td>Senior Editor</td>\n",
              "      <td>Other</td>\n",
              "      <td>8</td>\n",
              "      <td>56</td>\n",
              "      <td>Yes</td>\n",
              "      <td>4</td>\n",
              "      <td>Affluent Customer</td>\n",
              "      <td>1</td>\n",
              "      <td>1</td>\n",
              "      <td>1</td>\n",
              "      <td>0</td>\n",
              "      <td>1</td>\n",
              "      <td>2</td>\n",
              "      <td>16</td>\n",
              "      <td>6</td>\n",
              "      <td>2394.94</td>\n",
              "      <td>1</td>\n",
              "      <td>2</td>\n",
              "      <td>3</td>\n",
              "      <td>123</td>\n",
              "      <td>6</td>\n",
              "      <td>Bronze</td>\n",
              "    </tr>\n",
              "    <tr>\n",
              "      <th>4</th>\n",
              "      <td>6</td>\n",
              "      <td>Curr Duckhouse</td>\n",
              "      <td>Male</td>\n",
              "      <td>1966-09-16 00:00:00</td>\n",
              "      <td>54.0</td>\n",
              "      <td>25-54</td>\n",
              "      <td>9 Oakridge Court</td>\n",
              "      <td>3216</td>\n",
              "      <td>VIC</td>\n",
              "      <td>Australia</td>\n",
              "      <td>N</td>\n",
              "      <td>Other</td>\n",
              "      <td>Retail</td>\n",
              "      <td>13</td>\n",
              "      <td>35</td>\n",
              "      <td>Yes</td>\n",
              "      <td>9</td>\n",
              "      <td>High Net Worth</td>\n",
              "      <td>0</td>\n",
              "      <td>2</td>\n",
              "      <td>2</td>\n",
              "      <td>0</td>\n",
              "      <td>1</td>\n",
              "      <td>0</td>\n",
              "      <td>64</td>\n",
              "      <td>5</td>\n",
              "      <td>3946.55</td>\n",
              "      <td>3</td>\n",
              "      <td>3</td>\n",
              "      <td>2</td>\n",
              "      <td>332</td>\n",
              "      <td>8</td>\n",
              "      <td>Silver</td>\n",
              "    </tr>\n",
              "    <tr>\n",
              "      <th>...</th>\n",
              "      <td>...</td>\n",
              "      <td>...</td>\n",
              "      <td>...</td>\n",
              "      <td>...</td>\n",
              "      <td>...</td>\n",
              "      <td>...</td>\n",
              "      <td>...</td>\n",
              "      <td>...</td>\n",
              "      <td>...</td>\n",
              "      <td>...</td>\n",
              "      <td>...</td>\n",
              "      <td>...</td>\n",
              "      <td>...</td>\n",
              "      <td>...</td>\n",
              "      <td>...</td>\n",
              "      <td>...</td>\n",
              "      <td>...</td>\n",
              "      <td>...</td>\n",
              "      <td>...</td>\n",
              "      <td>...</td>\n",
              "      <td>...</td>\n",
              "      <td>...</td>\n",
              "      <td>...</td>\n",
              "      <td>...</td>\n",
              "      <td>...</td>\n",
              "      <td>...</td>\n",
              "      <td>...</td>\n",
              "      <td>...</td>\n",
              "      <td>...</td>\n",
              "      <td>...</td>\n",
              "      <td>...</td>\n",
              "      <td>...</td>\n",
              "      <td>...</td>\n",
              "    </tr>\n",
              "    <tr>\n",
              "      <th>3405</th>\n",
              "      <td>3496</td>\n",
              "      <td>Danya Burnyeat</td>\n",
              "      <td>Male</td>\n",
              "      <td>1986-04-25 00:00:00</td>\n",
              "      <td>34.0</td>\n",
              "      <td>25-54</td>\n",
              "      <td>2565 Caliangt Point</td>\n",
              "      <td>2171</td>\n",
              "      <td>NSW</td>\n",
              "      <td>Australia</td>\n",
              "      <td>N</td>\n",
              "      <td>Editor</td>\n",
              "      <td>Manufacturing</td>\n",
              "      <td>19</td>\n",
              "      <td>99</td>\n",
              "      <td>Yes</td>\n",
              "      <td>9</td>\n",
              "      <td>Mass Customer</td>\n",
              "      <td>1</td>\n",
              "      <td>0</td>\n",
              "      <td>0</td>\n",
              "      <td>0</td>\n",
              "      <td>1</td>\n",
              "      <td>2</td>\n",
              "      <td>256</td>\n",
              "      <td>4</td>\n",
              "      <td>2045.84</td>\n",
              "      <td>4</td>\n",
              "      <td>4</td>\n",
              "      <td>3</td>\n",
              "      <td>443</td>\n",
              "      <td>11</td>\n",
              "      <td>Platinum</td>\n",
              "    </tr>\n",
              "    <tr>\n",
              "      <th>3406</th>\n",
              "      <td>3497</td>\n",
              "      <td>Thia O'Day</td>\n",
              "      <td>Female</td>\n",
              "      <td>1986-05-03 00:00:00</td>\n",
              "      <td>34.0</td>\n",
              "      <td>25-54</td>\n",
              "      <td>96 Delladonna Trail</td>\n",
              "      <td>3976</td>\n",
              "      <td>VIC</td>\n",
              "      <td>Australia</td>\n",
              "      <td>N</td>\n",
              "      <td>Administrative Assistant IV</td>\n",
              "      <td>Manufacturing</td>\n",
              "      <td>18</td>\n",
              "      <td>73</td>\n",
              "      <td>Yes</td>\n",
              "      <td>5</td>\n",
              "      <td>Affluent Customer</td>\n",
              "      <td>1</td>\n",
              "      <td>2</td>\n",
              "      <td>0</td>\n",
              "      <td>0</td>\n",
              "      <td>0</td>\n",
              "      <td>0</td>\n",
              "      <td>52</td>\n",
              "      <td>3</td>\n",
              "      <td>1648.32</td>\n",
              "      <td>3</td>\n",
              "      <td>4</td>\n",
              "      <td>4</td>\n",
              "      <td>344</td>\n",
              "      <td>11</td>\n",
              "      <td>Platinum</td>\n",
              "    </tr>\n",
              "    <tr>\n",
              "      <th>3407</th>\n",
              "      <td>3498</td>\n",
              "      <td>Lois Abrahim</td>\n",
              "      <td>Female</td>\n",
              "      <td>1995-11-02 00:00:00</td>\n",
              "      <td>25.0</td>\n",
              "      <td>18-24</td>\n",
              "      <td>3 Nova Point</td>\n",
              "      <td>3012</td>\n",
              "      <td>VIC</td>\n",
              "      <td>Australia</td>\n",
              "      <td>N</td>\n",
              "      <td>Other</td>\n",
              "      <td>Manufacturing</td>\n",
              "      <td>5</td>\n",
              "      <td>28</td>\n",
              "      <td>No</td>\n",
              "      <td>4</td>\n",
              "      <td>Mass Customer</td>\n",
              "      <td>2</td>\n",
              "      <td>0</td>\n",
              "      <td>2</td>\n",
              "      <td>1</td>\n",
              "      <td>1</td>\n",
              "      <td>0</td>\n",
              "      <td>127</td>\n",
              "      <td>6</td>\n",
              "      <td>3147.33</td>\n",
              "      <td>4</td>\n",
              "      <td>2</td>\n",
              "      <td>2</td>\n",
              "      <td>422</td>\n",
              "      <td>8</td>\n",
              "      <td>Silver</td>\n",
              "    </tr>\n",
              "    <tr>\n",
              "      <th>3408</th>\n",
              "      <td>3499</td>\n",
              "      <td>Shelton Tewkesberrie</td>\n",
              "      <td>Male</td>\n",
              "      <td>1979-06-17 00:00:00</td>\n",
              "      <td>41.0</td>\n",
              "      <td>25-54</td>\n",
              "      <td>310 Stephen Terrace</td>\n",
              "      <td>4073</td>\n",
              "      <td>QLD</td>\n",
              "      <td>Australia</td>\n",
              "      <td>N</td>\n",
              "      <td>Other</td>\n",
              "      <td>Manufacturing</td>\n",
              "      <td>7</td>\n",
              "      <td>29</td>\n",
              "      <td>Yes</td>\n",
              "      <td>9</td>\n",
              "      <td>Mass Customer</td>\n",
              "      <td>2</td>\n",
              "      <td>2</td>\n",
              "      <td>2</td>\n",
              "      <td>0</td>\n",
              "      <td>0</td>\n",
              "      <td>1</td>\n",
              "      <td>51</td>\n",
              "      <td>7</td>\n",
              "      <td>4955.25</td>\n",
              "      <td>3</td>\n",
              "      <td>2</td>\n",
              "      <td>1</td>\n",
              "      <td>321</td>\n",
              "      <td>6</td>\n",
              "      <td>Bronze</td>\n",
              "    </tr>\n",
              "    <tr>\n",
              "      <th>3409</th>\n",
              "      <td>3500</td>\n",
              "      <td>Josy Fleeman</td>\n",
              "      <td>Female</td>\n",
              "      <td>1967-07-21 00:00:00</td>\n",
              "      <td>53.0</td>\n",
              "      <td>25-54</td>\n",
              "      <td>9491 Green Ridge Terrace</td>\n",
              "      <td>2100</td>\n",
              "      <td>NSW</td>\n",
              "      <td>Australia</td>\n",
              "      <td>N</td>\n",
              "      <td>Other</td>\n",
              "      <td>Entertainment</td>\n",
              "      <td>17</td>\n",
              "      <td>71</td>\n",
              "      <td>No</td>\n",
              "      <td>10</td>\n",
              "      <td>Affluent Customer</td>\n",
              "      <td>1</td>\n",
              "      <td>2</td>\n",
              "      <td>2</td>\n",
              "      <td>1</td>\n",
              "      <td>0</td>\n",
              "      <td>0</td>\n",
              "      <td>144</td>\n",
              "      <td>6</td>\n",
              "      <td>1785.86</td>\n",
              "      <td>4</td>\n",
              "      <td>2</td>\n",
              "      <td>4</td>\n",
              "      <td>424</td>\n",
              "      <td>10</td>\n",
              "      <td>Gold</td>\n",
              "    </tr>\n",
              "  </tbody>\n",
              "</table>\n",
              "<p>3410 rows × 33 columns</p>\n",
              "</div>"
            ],
            "text/plain": [
              "      customer_id                   name  gender  ... RFM_Class  RFM_Score     Score\n",
              "0               1      Laraine Medendorp  Female  ...       112          4     Green\n",
              "1               2            Eli Bockman    Male  ...       443         11  Platinum\n",
              "2               4                 Talbot    Male  ...       444         12  Platinum\n",
              "3               5  Sheila-kathryn Calton  Female  ...       123          6    Bronze\n",
              "4               6         Curr Duckhouse    Male  ...       332          8    Silver\n",
              "...           ...                    ...     ...  ...       ...        ...       ...\n",
              "3405         3496         Danya Burnyeat    Male  ...       443         11  Platinum\n",
              "3406         3497             Thia O'Day  Female  ...       344         11  Platinum\n",
              "3407         3498           Lois Abrahim  Female  ...       422          8    Silver\n",
              "3408         3499   Shelton Tewkesberrie    Male  ...       321          6    Bronze\n",
              "3409         3500           Josy Fleeman  Female  ...       424         10      Gold\n",
              "\n",
              "[3410 rows x 33 columns]"
            ]
          },
          "metadata": {
            "tags": []
          },
          "execution_count": 93
        }
      ]
    },
    {
      "cell_type": "code",
      "metadata": {
        "id": "QoRaYzopPkJc",
        "colab": {
          "base_uri": "https://localhost:8080/",
          "height": 626
        },
        "outputId": "6379de99-39e6-4a8d-d3ba-f4a4a4715efa"
      },
      "source": [
        "def wealth_segment_based_job_industry(x):\n",
        "  #tel: Telecomunication, \n",
        "  #arg: argiculture\n",
        "  #ent: entertiment\n",
        "  #it : IT\n",
        "  #pro: property\n",
        "  #ret: retail\n",
        "  #hea : health\n",
        "  #oth ; other\n",
        "  #fin : financial service\n",
        "  #manu : manufacturing\n",
        "\n",
        "  # Create ewa DataFrame\n",
        "  tel = x.copy(deep = True)\n",
        "  tel['valid'] = tel['job_industry_category'].astype(str).str.match(r'Telecommunications')\n",
        "  tel = tel[tel['valid']==True]\n",
        "  tel = tel['wealth_segment'].value_counts().reset_index(\n",
        "      name='counts').rename(columns={'index':'wealth segment'})\n",
        "  tel['job industry'] = 'Telecommunications'\n",
        "  # Create pwa DataFrame\n",
        "  arg = x.copy(deep = True)\n",
        "  arg['valid'] = arg['job_industry_category'].astype(str).str.match(r'Agriculture')\n",
        "  arg = arg[arg['valid']==True]\n",
        "  arg = arg['wealth_segment'].value_counts().reset_index(\n",
        "      name='counts').rename(columns = {'index': 'wealth segment'})\n",
        "  arg['job industry'] = 'Agriculture'\n",
        "  # Create pmwa DataFrame\n",
        "  ent = x.copy(deep = True)\n",
        "  ent['valid'] = ent['job_industry_category'].astype(str).str.match(r'Entertainment')\n",
        "  ent = ent[ent['valid']==True]\n",
        "  ent = ent['wealth_segment'].value_counts().reset_index(\n",
        "      name='counts').rename(columns ={'index':'wealth segment'})\n",
        "  ent['job industry'] = 'Entertainment'\n",
        "  # Create eld DataFrame\n",
        "  it = x.copy(deep=True)\n",
        "  it['valid'] = it['job_industry_category'].astype(str).str.match(r'IT')\n",
        "  it = it[it['valid']==True]\n",
        "  it = it['wealth_segment'].value_counts().reset_index(\n",
        "      name=('counts')).rename(columns = {'index':'wealth segment'})\n",
        "  it['job industry'] = 'IT'\n",
        "  #\n",
        "  pro = x.copy(deep = True)\n",
        "  pro['valid'] = pro['job_industry_category'].astype(str).str.match(r'Property')\n",
        "  pro = pro[pro['valid']==True]\n",
        "  pro = pro['wealth_segment'].value_counts().reset_index(\n",
        "      name=('counts')).rename(columns = {'index':'wealth segment'})\n",
        "  pro['job industry'] = 'Property'\n",
        "  #\n",
        "  ret = x.copy(deep = True)\n",
        "  ret['valid'] = ret['job_industry_category'].astype(str).str.match(r'Retail')\n",
        "  ret = ret[ret['valid']==True]\n",
        "  ret = ret['wealth_segment'].value_counts().reset_index(\n",
        "      name=('counts')).rename(columns = {'index':'wealth segment'})\n",
        "  ret['job industry'] = 'Retail'\n",
        "  #\n",
        "  hea = x.copy(deep = True)\n",
        "  hea['valid'] = hea['job_industry_category'].astype(str).str.match(r'Health')\n",
        "  hea = hea[hea['valid']==True]\n",
        "  hea = hea['wealth_segment'].value_counts().reset_index(\n",
        "      name=('counts')).rename(columns = {'index':'wealth segment'})\n",
        "  hea['job industry'] = 'Health'\n",
        "  #\n",
        "  oth = x.copy(deep = True)\n",
        "  oth['valid'] = oth['job_industry_category'].astype(str).str.match(r'Other')\n",
        "  oth = oth[oth['valid']==True]\n",
        "  oth = oth['wealth_segment'].value_counts().reset_index(\n",
        "      name=('counts')).rename(columns = {'index':'wealth segment'})\n",
        "  oth['job industry'] = 'Other'\n",
        "  #\n",
        "  fin = x.copy(deep = True)\n",
        "  fin['valid'] = fin['job_industry_category'].astype(str).str.match(r'Financial Services')\n",
        "  fin = fin[fin['valid']==True]\n",
        "  fin = fin['wealth_segment'].value_counts().reset_index(\n",
        "      name=('counts')).rename(columns = {'index':'wealth segment'})\n",
        "  fin['job industry'] = 'Financial Services'\n",
        "  #\n",
        "  man = x.copy(deep = True)\n",
        "  man['valid'] = man['job_industry_category'].astype(str).str.match(r'Manufacturing')\n",
        "  man = man[man['valid']==True]\n",
        "  man = man['wealth_segment'].value_counts().reset_index(\n",
        "      name=('counts')).rename(columns = {'index':'wealth segment'})\n",
        "  man['job industry'] = 'Manufacturing'\n",
        "\n",
        "  # Combine Each DataFrame\n",
        "  dfs = pd.concat([tel,arg,ent,it,pro,ret,hea,oth,fin,man])\n",
        "  dfs = dfs.reset_index(drop = True)\n",
        "  #Create Bar Graph\n",
        "  import seaborn as sns\n",
        "  plt.figure(figsize=(10,10))\n",
        "  sns.barplot(y='job industry',x ='counts', hue='wealth segment', data = dfs, zorder = 2, palette=(\"hls\"))\n",
        "  plt.ylabel(\"Job Industry Category\", size=15, labelpad = 15)\n",
        "  plt.xlabel(\"Population\", size=15, labelpad = 15 )\n",
        "  plt.xticks(fontsize = 15)\n",
        "  plt.yticks(fontsize = 15)\n",
        "  plt.grid(axis ='x')\n",
        "  plt.legend(fontsize = 15)\n",
        "  \n",
        "wealth_segment_based_job_industry= wealth_segment_based_job_industry(df)\n",
        "wealth_segment_based_job_industry"
      ],
      "execution_count": null,
      "outputs": [
        {
          "output_type": "display_data",
          "data": {
            "image/png": "[encoded data removed]",
            "text/plain": [
              "<Figure size 720x720 with 1 Axes>"
            ]
          },
          "metadata": {
            "tags": [],
            "needs_background": "light"
          }
        }
      ]
    },
    {
      "cell_type": "markdown",
      "metadata": {
        "id": "jelpDnu3XFNd"
      },
      "source": [
        "--> Age Vs bike related purchase"
      ]
    },
    {
      "cell_type": "code",
      "metadata": {
        "id": "BUEZwOhfXQJ9",
        "colab": {
          "base_uri": "https://localhost:8080/",
          "height": 556
        },
        "outputId": "74967be1-48f3-43ef-b048-0bd868bed299"
      },
      "source": [
        "def past_3_years_bike_purchase_based_age_range_distribution(df):\n",
        "  subject_bike_purchase = ['past_3_years_bike_related_purchases']\n",
        "  bike_purchase = df.groupby('age_range')[subject_bike_purchase].sum().rename_axis(None)\n",
        "  bike_purchase = bike_purchase.rename(columns={'past_3_years_bike_related_purchases':'counts'},\n",
        "                                       index={'18-24':'Early Working Age','25-54':'Prime Working Age',\n",
        "                                              '55-64':'Mature Working Age','65+':'Elderly'})\n",
        "  bike_purchase = bike_purchase.reset_index().rename(columns = {'index':'age range'})\n",
        "  index = np.arange(len([subject_bike_purchase]))\n",
        "  import seaborn as sns\n",
        "  fig,ax = plt.subplots(figsize= (8,5))\n",
        "  sns.barplot(x = 'age range', y = 'counts', data = bike_purchase, zorder =2)\n",
        "  ax.grid(axis ='y')\n",
        "  #ax.set_xticklabels = (fontsize = 15)\n",
        "  #x_values = bike_purchase['counts'].T.tolist()\n",
        "  #for i, v in enumerate(x_values):\n",
        "   # plt.text(i-0.17,v+950,str(v), color = 'black')\n",
        "  plt.xticks(fontsize = 14, rotation = 40)\n",
        "  plt.yticks(fontsize = 14)\n",
        "  plt.xlabel(None)\n",
        "  plt.ylabel('Past 3 Years Bike Purchase Cumulative', fontsize = 14)\n",
        "  return bike_purchase\n",
        "aaa = past_3_years_bike_purchase_based_age_range_distribution(df)\n",
        "aaa"
      ],
      "execution_count": null,
      "outputs": [
        {
          "output_type": "execute_result",
          "data": {
            "text/html": [
              "<div>\n",
              "<style scoped>\n",
              "    .dataframe tbody tr th:only-of-type {\n",
              "        vertical-align: middle;\n",
              "    }\n",
              "\n",
              "    .dataframe tbody tr th {\n",
              "        vertical-align: top;\n",
              "    }\n",
              "\n",
              "    .dataframe thead th {\n",
              "        text-align: right;\n",
              "    }\n",
              "</style>\n",
              "<table border=\"1\" class=\"dataframe\">\n",
              "  <thead>\n",
              "    <tr style=\"text-align: right;\">\n",
              "      <th></th>\n",
              "      <th>age range</th>\n",
              "      <th>counts</th>\n",
              "    </tr>\n",
              "  </thead>\n",
              "  <tbody>\n",
              "    <tr>\n",
              "      <th>0</th>\n",
              "      <td>Early Working Age</td>\n",
              "      <td>20174</td>\n",
              "    </tr>\n",
              "    <tr>\n",
              "      <th>1</th>\n",
              "      <td>Prime Working Age</td>\n",
              "      <td>116720</td>\n",
              "    </tr>\n",
              "    <tr>\n",
              "      <th>2</th>\n",
              "      <td>Mature Working Age</td>\n",
              "      <td>26737</td>\n",
              "    </tr>\n",
              "    <tr>\n",
              "      <th>3</th>\n",
              "      <td>Elderly</td>\n",
              "      <td>3355</td>\n",
              "    </tr>\n",
              "  </tbody>\n",
              "</table>\n",
              "</div>"
            ],
            "text/plain": [
              "            age range  counts\n",
              "0   Early Working Age   20174\n",
              "1   Prime Working Age  116720\n",
              "2  Mature Working Age   26737\n",
              "3             Elderly    3355"
            ]
          },
          "metadata": {
            "tags": []
          },
          "execution_count": 95
        },
        {
          "output_type": "display_data",
          "data": {
            "image/png": "[encoded data removed]",
            "text/plain": [
              "<Figure size 576x360 with 1 Axes>"
            ]
          },
          "metadata": {
            "tags": [],
            "needs_background": "light"
          }
        }
      ]
    },
    {
      "cell_type": "code",
      "metadata": {
        "id": "XsjFmCaIMQAX",
        "colab": {
          "base_uri": "https://localhost:8080/",
          "height": 549
        },
        "outputId": "9d01e726-c1fd-4b25-d6d8-ea58db547624"
      },
      "source": [
        "def past_3_years_bike_purchase_based_states(x):\n",
        "  subject = 'past_3_years_bike_related_purchases'\n",
        "  bike_counts = x.groupby('state')[subject].sum()\n",
        "  bike_counts = bike_counts.reset_index(name='counts')\n",
        "  bike_counts['percentage'] = round((bike_counts['counts']/bike_counts['counts'].sum())*100,2)\n",
        "  nsw = bike_counts.copy(deep=True)\n",
        "  nsw['valid'] = nsw['state'].astype(str).str.match(r'NSW')\n",
        "  nsw = nsw[nsw['valid']==True].percentage.values\n",
        "  qld = bike_counts.copy(deep=True)\n",
        "  qld['valid'] = qld['state'].astype(str).str.match(r'QLD')\n",
        "  qld = qld[qld['valid']==True].percentage.values\n",
        "  vic = bike_counts.copy(deep=True)\n",
        "  vic['valid'] = vic['state'].astype(str).str.match(r'VIC')\n",
        "  vic = vic[vic['valid']==True].percentage.values\n",
        "  size = [nsw,qld,vic]\n",
        "  label = ['New South Wales','Queensland','Victoria']\n",
        "\n",
        "  #explsion\n",
        "  explode = (0.05,0.05,0.05)\n",
        "  textprops = dict(size=14, color=\"black\")\n",
        "  plt.figure(figsize=(6,7))\n",
        "  plt.pie(size, labels=label, autopct='%1.1f%%', startangle=20, \n",
        "          pctdistance=0.79,explode = explode,  textprops=textprops)\n",
        "  #draw circle\n",
        "  centre_circle = plt.Circle((0,0),0.6,fc='white')\n",
        "  fig = plt.gcf()\n",
        "  fig.gca().add_artist(centre_circle)\n",
        "  plt.axis('equal')  \n",
        "  plt.tight_layout()\n",
        "  #plt.xlabel('B')\n",
        "  plt.show()\n",
        "  past_3_years_based_state = bike_counts\n",
        "  return past_3_years_based_state\n",
        "ab = past_3_years_bike_purchase_based_states(df)\n",
        "ab.to_excel('past_bike_related_purchase_based_on_states.xlsx')\n",
        "\n",
        "  \n",
        " "
      ],
      "execution_count": null,
      "outputs": [
        {
          "output_type": "stream",
          "text": [
            "/usr/local/lib/python3.6/dist-packages/ipykernel_launcher.py:23: MatplotlibDeprecationWarning: Non-1D inputs to pie() are currently squeeze()d, but this behavior is deprecated since 3.1 and will be removed in 3.3; pass a 1D array instead.\n"
          ],
          "name": "stderr"
        },
        {
          "output_type": "display_data",
          "data": {
            "image/png": "[encoded data removed]",
            "text/plain": [
              "<Figure size 432x504 with 1 Axes>"
            ]
          },
          "metadata": {
            "tags": []
          }
        }
      ]
    },
    {
      "cell_type": "markdown",
      "metadata": {
        "id": "Kz0WhsOzl2li"
      },
      "source": [
        "-> Brand Interaction Based on Age"
      ]
    },
    {
      "cell_type": "code",
      "metadata": {
        "id": "PaBiUDLvNn4C",
        "colab": {
          "base_uri": "https://localhost:8080/",
          "height": 514
        },
        "outputId": "630fc20e-94f2-4f61-b736-1d4ee77b278c"
      },
      "source": [
        "def brand_sales_ratio(x):\n",
        "  brand = ['Solex','Giant Bicycles','WeareA2B','Trek Bicycles', 'Norco Bicycles']\n",
        "  data = []\n",
        "  for i in brand:\n",
        "    data.append(x[i].sum())\n",
        "  data = np.transpose(pd.DataFrame(data))\n",
        "  data.columns = brand\n",
        "  data = data.T.reset_index().rename(columns = {'index':'brand',0:'counts'})\n",
        "  import seaborn as sns\n",
        "  fig,ax = plt.subplots(figsize = (10,8))\n",
        "  sns.barplot(x = 'counts', y = 'brand',data = data, zorder = 2)\n",
        "  plt.ylabel(None)\n",
        "  plt.xlabel('Total Amount of Sales in 2017', labelpad = 14, fontsize = 14)\n",
        "  plt.xticks(fontsize = 14)\n",
        "  plt.yticks(fontsize = 14)\n",
        "  plt.grid(axis = 'x')\n",
        "  brand_sales_2017 = data\n",
        "  return brand_sales_2017\n",
        "soll = brand_sales_ratio(df)\n",
        "soll.to_excel('Total_Brand_Sales_2017.xlsx')"
      ],
      "execution_count": null,
      "outputs": [
        {
          "output_type": "display_data",
          "data": {
            "image/png": "[encoded data removed]",
            "text/plain": [
              "<Figure size 720x576 with 1 Axes>"
            ]
          },
          "metadata": {
            "tags": [],
            "needs_background": "light"
          }
        }
      ]
    },
    {
      "cell_type": "code",
      "metadata": {
        "id": "lT7S2YM4l8fr",
        "colab": {
          "base_uri": "https://localhost:8080/",
          "height": 724
        },
        "outputId": "78c2ba4a-23f0-46fc-f37b-ec7b53187647"
      },
      "source": [
        "def brand_based_age(x):\n",
        "  subject = 'Solex','Giant Bicycles', 'WeareA2B','Trek Bicycles','Norco Bicycles'\n",
        "  brand_counts = x.groupby('age_range')[subject].sum().rename(index={'18-24':'Early Working Age','25-54':'Prime Working Age','55-64':'Mature Working Age','65+':'Elderly'})\n",
        "  #ewa = list(brand_counts['18-24'].T)\n",
        "  #pwa = list(brand_counts['25-54'].T)\n",
        "  #mwa = list(brand_counts['55-64'].T)\n",
        "  #eld = list(brand_counts.T['65+'])\n",
        "  sol = list(brand_counts['Solex'].T)\n",
        "  gia = list(brand_counts['Giant Bicycles'].T)\n",
        "  wea = list(brand_counts['WeareA2B'].T)\n",
        "  tre = list(brand_counts['Trek Bicycles'].T)\n",
        "  nor = list(brand_counts['Norco Bicycles'].T)\n",
        "\n",
        "  bar_width = 0.15\n",
        "  index = np.arange(len(brand_counts.index))\n",
        "  plt.figure(figsize=(10,10))\n",
        "  plt.bar(index,sol,width = bar_width,label = 'Solex',zorder = 2)\n",
        "  plt.bar(index + bar_width, gia, width = bar_width, label = 'Giant Bicycles', zorder = 2)\n",
        "  plt.bar(index + bar_width*2,wea,width=bar_width,label = 'WeareA2B', zorder =2)\n",
        "  plt.bar(index + bar_width*3,tre, width = bar_width,label = 'Trek Bicycles', zorder = 2)\n",
        "  plt.bar(index + bar_width*4,nor, width = bar_width,label = 'Norco Bicycles', zorder = 2)\n",
        "  plt.xticks(index + bar_width*2, brand_counts.index, fontsize = 15, rotation = 40)\n",
        "  plt.yticks(fontsize=15)\n",
        "  plt.grid(axis = 'y')\n",
        "  plt.ylabel('Total Amount of Sales', fontsize = 15, labelpad = 15)\n",
        "  plt.legend(fontsize =15)\n",
        "  brand_based_age = brand_counts\n",
        "  return brand_based_age\n",
        "brand = brand_based_age(df)\n",
        "brand.to_excel('Brand_based_age_range.xlsx')"
      ],
      "execution_count": null,
      "outputs": [
        {
          "output_type": "stream",
          "text": [
            "/usr/local/lib/python3.6/dist-packages/ipykernel_launcher.py:3: FutureWarning: Indexing with multiple keys (implicitly converted to a tuple of keys) will be deprecated, use a list instead.\n",
            "  This is separate from the ipykernel package so we can avoid doing imports until\n"
          ],
          "name": "stderr"
        },
        {
          "output_type": "display_data",
          "data": {
            "image/png": "[encoded data removed]",
            "text/plain": [
              "<Figure size 720x720 with 1 Axes>"
            ]
          },
          "metadata": {
            "tags": [],
            "needs_background": "light"
          }
        }
      ]
    },
    {
      "cell_type": "code",
      "metadata": {
        "id": "SIeJIzWY6uxf",
        "colab": {
          "base_uri": "https://localhost:8080/",
          "height": 750
        },
        "outputId": "95c56d8f-eed5-4733-c634-931cf9b0796a"
      },
      "source": [
        "def brand_based_job_industry(x):\n",
        "  subject = 'Solex','Giant Bicycles','WeareA2B','Trek Bicycles','Norco Bicycles' \n",
        "  brand_counts = x.groupby('job_industry_category')[subject].sum()\n",
        "  #arg = list(brand_counts.T['Argiculture'])\n",
        "  #tel = list(brand_counts.T['Telecommunications'])\n",
        "  #ent = list(brand_counts.T['Entertainment'])\n",
        "  #it = list(brand_counts.T['IT'])\n",
        "  #pro = list(brand_counts.T['Property'])\n",
        "  #ret = list(brand_counts.T['Retail'])\n",
        "  #hea = list(brand_counts.T['Health'])\n",
        "  #oth = list(brand_counts.T['Other'])\n",
        "  #fin = list(brand_counts.T['Financial Services'])\n",
        "  #man = list(brand_counts.T['Manufacturing'])\n",
        "  sol = list(brand_counts['Solex'].T)\n",
        "  gia = list(brand_counts['Giant Bicycles'].T)\n",
        "  wea = list(brand_counts['WeareA2B'].T)\n",
        "  tre = list(brand_counts['Trek Bicycles'].T)\n",
        "  nor = list(brand_counts['Norco Bicycles'].T)\n",
        "\n",
        "  bar_width = 0.15\n",
        "  index = np.arange(len(brand_counts.index))\n",
        "  plt.figure(figsize=(15,10))\n",
        "  plt.bar(index,sol,width = bar_width,label = 'Solex',zorder = 2,color ='mediumslateblue')\n",
        "  plt.bar(index + bar_width, gia, width = bar_width, label = 'Giant Bicycles', zorder = 2,color='turquoise')\n",
        "  plt.bar(index + bar_width*2,wea,width=bar_width,label = 'WeareA2B', zorder =2,color = 'sienna')\n",
        "  plt.bar(index + bar_width*3,tre, width = bar_width,label = 'Trek Bicycles', zorder = 2, color= 'yellowgreen')\n",
        "  plt.bar(index + bar_width*4,nor, width = bar_width,label = 'Norco Bicycles', zorder = 2,color ='darkslategray')\n",
        "  plt.xticks(index + bar_width*2, brand_counts.index, fontsize = 15, rotation = 55)\n",
        "  plt.yticks(fontsize=15)\n",
        "  plt.grid(axis = 'y')\n",
        "  plt.ylabel('Total Amount of Sales', fontsize = 15, labelpad = 15)\n",
        "  plt.legend(fontsize =15)\n",
        "  brand_based_industry_job = brand_counts\n",
        "  return brand_based_industry_job\n",
        "brand_based_job= brand_based_job_industry(df)\n",
        "brand_based_job.to_excel('brand_based_industry.xlsx')"
      ],
      "execution_count": null,
      "outputs": [
        {
          "output_type": "stream",
          "text": [
            "/usr/local/lib/python3.6/dist-packages/ipykernel_launcher.py:3: FutureWarning: Indexing with multiple keys (implicitly converted to a tuple of keys) will be deprecated, use a list instead.\n",
            "  This is separate from the ipykernel package so we can avoid doing imports until\n"
          ],
          "name": "stderr"
        },
        {
          "output_type": "display_data",
          "data": {
            "image/png": "[encoded data removed]",
            "text/plain": [
              "<Figure size 1080x720 with 1 Axes>"
            ]
          },
          "metadata": {
            "tags": [],
            "needs_background": "light"
          }
        }
      ]
    },
    {
      "cell_type": "code",
      "metadata": {
        "id": "ANkMLAS8GIYa",
        "colab": {
          "base_uri": "https://localhost:8080/",
          "height": 630
        },
        "outputId": "2f6d1182-948c-4b3b-8e63-fb4ca0646d4e"
      },
      "source": [
        "# brand based on state\n",
        "def brand_based_state(x):\n",
        "  subject = 'Solex','Giant Bicycles','WeareA2B','Trek Bicycles','Norco Bicycles' \n",
        "  brand_counts = x.groupby('state')[subject].sum()\n",
        "  sol = list(brand_counts['Solex'].T)\n",
        "  gia = list(brand_counts['Giant Bicycles'].T)\n",
        "  wea = list(brand_counts['WeareA2B'].T)\n",
        "  tre = list(brand_counts['Trek Bicycles'].T)\n",
        "  nor = list(brand_counts['Norco Bicycles'].T)\n",
        "  bar_width = 0.15\n",
        "  index = np.arange(len(brand_counts.index))\n",
        "  plt.figure(figsize=(15,10))\n",
        "  plt.bar(index,sol,width = bar_width,label = 'Solex',zorder = 2)\n",
        "  plt.bar(index + bar_width, gia, width = bar_width, label = 'Giant Bicycles', zorder = 2)\n",
        "  plt.bar(index + bar_width*2,wea,width=bar_width,label = 'WeareA2B', zorder =2)\n",
        "  plt.bar(index + bar_width*3,tre, width = bar_width,label = 'Trek Bicycles', zorder = 2)\n",
        "  plt.bar(index + bar_width*4,nor, width = bar_width,label = 'Norco Bicycles', zorder = 2)\n",
        "  plt.xticks(index + bar_width*2, brand_counts.index, fontsize = 15)\n",
        "  plt.yticks(fontsize=15)\n",
        "  plt.grid(axis = 'y')\n",
        "  plt.ylabel('Total Amount of Sales', fontsize = 15, labelpad = 15)\n",
        "  plt.legend(fontsize =15)\n",
        "  brand_based_state = brand_counts\n",
        "  return brand_based_state\n",
        "brand_based_state = brand_based_state(df)\n",
        "brand_based_state.to_excel('brand_based_state.xlsx')\n"
      ],
      "execution_count": null,
      "outputs": [
        {
          "output_type": "stream",
          "text": [
            "/usr/local/lib/python3.6/dist-packages/ipykernel_launcher.py:4: FutureWarning: Indexing with multiple keys (implicitly converted to a tuple of keys) will be deprecated, use a list instead.\n",
            "  after removing the cwd from sys.path.\n"
          ],
          "name": "stderr"
        },
        {
          "output_type": "display_data",
          "data": {
            "image/png": "[encoded data removed]",
            "text/plain": [
              "<Figure size 1080x720 with 1 Axes>"
            ]
          },
          "metadata": {
            "tags": [],
            "needs_background": "light"
          }
        }
      ]
    },
    {
      "cell_type": "markdown",
      "metadata": {
        "id": "P9uMrGDzxqvr"
      },
      "source": [
        "**Data Preprocessing New Customer Data**\n",
        "\n",
        "---\n",
        "\n"
      ]
    },
    {
      "cell_type": "code",
      "metadata": {
        "colab": {
          "base_uri": "https://localhost:8080/"
        },
        "id": "pETktntGf4aY",
        "outputId": "6567263e-5f26-443f-9bbb-411a8e8caba1"
      },
      "source": [
        "df4.info()"
      ],
      "execution_count": null,
      "outputs": [
        {
          "output_type": "stream",
          "text": [
            "<class 'pandas.core.frame.DataFrame'>\n",
            "Int64Index: 983 entries, 0 to 999\n",
            "Data columns (total 24 columns):\n",
            " #   Column                               Non-Null Count  Dtype         \n",
            "---  ------                               --------------  -----         \n",
            " 0   first_name                           983 non-null    object        \n",
            " 1   last_name                            954 non-null    object        \n",
            " 2   gender                               983 non-null    object        \n",
            " 3   past_3_years_bike_related_purchases  983 non-null    object        \n",
            " 4   DOB                                  983 non-null    datetime64[ns]\n",
            " 5   job_title                            983 non-null    object        \n",
            " 6   job_industry_category                983 non-null    object        \n",
            " 7   wealth_segment                       983 non-null    object        \n",
            " 8   deceased_indicator                   983 non-null    object        \n",
            " 9   owns_car                             983 non-null    object        \n",
            " 10  tenure                               983 non-null    object        \n",
            " 11  address                              983 non-null    object        \n",
            " 12  postcode                             983 non-null    object        \n",
            " 13  state                                983 non-null    object        \n",
            " 14  country                              983 non-null    object        \n",
            " 15  property_valuation                   983 non-null    object        \n",
            " 16  nan                                  983 non-null    float64       \n",
            " 17  nan                                  983 non-null    float64       \n",
            " 18  nan                                  983 non-null    float64       \n",
            " 19  nan                                  983 non-null    float64       \n",
            " 20  nan                                  983 non-null    float64       \n",
            " 21  Rank                                 983 non-null    object        \n",
            " 22  Value                                983 non-null    object        \n",
            " 23  age                                  983 non-null    float64       \n",
            "dtypes: datetime64[ns](1), float64(6), object(17)\n",
            "memory usage: 192.0+ KB\n"
          ],
          "name": "stdout"
        }
      ]
    },
    {
      "cell_type": "code",
      "metadata": {
        "id": "hMI0q7wXxlE6",
        "colab": {
          "base_uri": "https://localhost:8080/",
          "height": 362
        },
        "outputId": "ecc6589e-3cf3-4451-f04d-d5df60154afa"
      },
      "source": [
        "def new_customer_data(x):\n",
        "  x = df4.copy(deep=True)\n",
        "  col_mis = ['DOB','job_title','job_industry_category']\n",
        "  for col in col_mis:\n",
        "    if (col == 'job_title'):\n",
        "      x[col].fillna(value = 'Other',inplace = True)\n",
        "    elif (col == 'job_industry_category'):\n",
        "      x[col].fillna(value = 'Other', inplace = True)\n",
        "    else:\n",
        "      x.dropna(subset=['DOB'], inplace = True)\n",
        "  now = pd.Timestamp('now')\n",
        "  import datetime\n",
        "  lis = []\n",
        "  x[\"DOB\"] = pd.to_datetime(x[\"DOB\"]).dt.strftime('%Y-%m-%d %H:%M:%S')\n",
        "  now = pd.to_datetime('today')\n",
        "  x['DOB'] = pd.to_datetime(x['DOB'])\n",
        "  x['age'] = (now - x['DOB']).astype('<m8[Y]')\n",
        "  x['name'] = x[x.columns[0:2]].astype(str).apply(df1_name,axis = 1)\n",
        "  now = pd.Timestamp('now')\n",
        "  x['age'] = (now - x['DOB']).astype('<m8[Y]') # 3\n",
        "  bins = [18, 25, 55, 65, 100]\n",
        "  labels = ['18-24', '25-54', '55-64', '65+']\n",
        "  x['age_range'] = pd.cut(x.age, bins, labels = labels,include_lowest = True)\n",
        "  x = x.reindex(columns= ['name', 'gender', 'DOB', 'age', 'age_range', 'address', 'postcode',\n",
        "       'state', 'country', 'deceased_indicator', 'job_title',\n",
        "       'job_industry_category', 'tenure',\n",
        "       'past_3_years_bike_related_purchases', 'owns_car', 'property_valuation',\n",
        "       'wealth_segment'])#.drop(columns=['first_name','last_name','customer_id','default'])\n",
        "  return x\n",
        "df4_new = new_customer_data(df4)\n",
        "df4_new.head()"
      ],
      "execution_count": null,
      "outputs": [
        {
          "output_type": "execute_result",
          "data": {
            "text/html": [
              "<div>\n",
              "<style scoped>\n",
              "    .dataframe tbody tr th:only-of-type {\n",
              "        vertical-align: middle;\n",
              "    }\n",
              "\n",
              "    .dataframe tbody tr th {\n",
              "        vertical-align: top;\n",
              "    }\n",
              "\n",
              "    .dataframe thead th {\n",
              "        text-align: right;\n",
              "    }\n",
              "</style>\n",
              "<table border=\"1\" class=\"dataframe\">\n",
              "  <thead>\n",
              "    <tr style=\"text-align: right;\">\n",
              "      <th></th>\n",
              "      <th>name</th>\n",
              "      <th>gender</th>\n",
              "      <th>DOB</th>\n",
              "      <th>age</th>\n",
              "      <th>age_range</th>\n",
              "      <th>address</th>\n",
              "      <th>postcode</th>\n",
              "      <th>state</th>\n",
              "      <th>country</th>\n",
              "      <th>deceased_indicator</th>\n",
              "      <th>job_title</th>\n",
              "      <th>job_industry_category</th>\n",
              "      <th>tenure</th>\n",
              "      <th>past_3_years_bike_related_purchases</th>\n",
              "      <th>owns_car</th>\n",
              "      <th>property_valuation</th>\n",
              "      <th>wealth_segment</th>\n",
              "    </tr>\n",
              "  </thead>\n",
              "  <tbody>\n",
              "    <tr>\n",
              "      <th>0</th>\n",
              "      <td>Chickie Brister</td>\n",
              "      <td>Male</td>\n",
              "      <td>1957-07-12</td>\n",
              "      <td>63.0</td>\n",
              "      <td>55-64</td>\n",
              "      <td>45 Shopko Center</td>\n",
              "      <td>4500</td>\n",
              "      <td>QLD</td>\n",
              "      <td>Australia</td>\n",
              "      <td>N</td>\n",
              "      <td>General Manager</td>\n",
              "      <td>Manufacturing</td>\n",
              "      <td>14</td>\n",
              "      <td>86</td>\n",
              "      <td>Yes</td>\n",
              "      <td>6</td>\n",
              "      <td>Mass Customer</td>\n",
              "    </tr>\n",
              "    <tr>\n",
              "      <th>1</th>\n",
              "      <td>Morly Genery</td>\n",
              "      <td>Male</td>\n",
              "      <td>1970-03-22</td>\n",
              "      <td>50.0</td>\n",
              "      <td>25-54</td>\n",
              "      <td>14 Mccormick Park</td>\n",
              "      <td>2113</td>\n",
              "      <td>NSW</td>\n",
              "      <td>Australia</td>\n",
              "      <td>N</td>\n",
              "      <td>Structural Engineer</td>\n",
              "      <td>Property</td>\n",
              "      <td>16</td>\n",
              "      <td>69</td>\n",
              "      <td>No</td>\n",
              "      <td>11</td>\n",
              "      <td>Mass Customer</td>\n",
              "    </tr>\n",
              "    <tr>\n",
              "      <th>2</th>\n",
              "      <td>Ardelis Forrester</td>\n",
              "      <td>Female</td>\n",
              "      <td>1974-08-28</td>\n",
              "      <td>46.0</td>\n",
              "      <td>25-54</td>\n",
              "      <td>5 Colorado Crossing</td>\n",
              "      <td>3505</td>\n",
              "      <td>VIC</td>\n",
              "      <td>Australia</td>\n",
              "      <td>N</td>\n",
              "      <td>Senior Cost Accountant</td>\n",
              "      <td>Financial Services</td>\n",
              "      <td>10</td>\n",
              "      <td>10</td>\n",
              "      <td>No</td>\n",
              "      <td>5</td>\n",
              "      <td>Affluent Customer</td>\n",
              "    </tr>\n",
              "    <tr>\n",
              "      <th>3</th>\n",
              "      <td>Lucine Stutt</td>\n",
              "      <td>Female</td>\n",
              "      <td>1979-01-28</td>\n",
              "      <td>41.0</td>\n",
              "      <td>25-54</td>\n",
              "      <td>207 Annamark Plaza</td>\n",
              "      <td>4814</td>\n",
              "      <td>QLD</td>\n",
              "      <td>Australia</td>\n",
              "      <td>N</td>\n",
              "      <td>Account Representative III</td>\n",
              "      <td>Manufacturing</td>\n",
              "      <td>5</td>\n",
              "      <td>64</td>\n",
              "      <td>Yes</td>\n",
              "      <td>1</td>\n",
              "      <td>Affluent Customer</td>\n",
              "    </tr>\n",
              "    <tr>\n",
              "      <th>4</th>\n",
              "      <td>Melinda Hadlee</td>\n",
              "      <td>Female</td>\n",
              "      <td>1965-09-21</td>\n",
              "      <td>55.0</td>\n",
              "      <td>25-54</td>\n",
              "      <td>115 Montana Place</td>\n",
              "      <td>2093</td>\n",
              "      <td>NSW</td>\n",
              "      <td>Australia</td>\n",
              "      <td>N</td>\n",
              "      <td>Financial Analyst</td>\n",
              "      <td>Financial Services</td>\n",
              "      <td>19</td>\n",
              "      <td>34</td>\n",
              "      <td>No</td>\n",
              "      <td>9</td>\n",
              "      <td>Affluent Customer</td>\n",
              "    </tr>\n",
              "  </tbody>\n",
              "</table>\n",
              "</div>"
            ],
            "text/plain": [
              "0               name  gender  ... property_valuation     wealth_segment\n",
              "0    Chickie Brister    Male  ...                  6      Mass Customer\n",
              "1       Morly Genery    Male  ...                 11      Mass Customer\n",
              "2  Ardelis Forrester  Female  ...                  5  Affluent Customer\n",
              "3       Lucine Stutt  Female  ...                  1  Affluent Customer\n",
              "4     Melinda Hadlee  Female  ...                  9  Affluent Customer\n",
              "\n",
              "[5 rows x 17 columns]"
            ]
          },
          "metadata": {
            "tags": []
          },
          "execution_count": 102
        }
      ]
    },
    {
      "cell_type": "code",
      "metadata": {
        "id": "t2pHOjJLGbKt"
      },
      "source": [
        "df4_new.to_excel('New Customer Data Raw.xlsx')"
      ],
      "execution_count": null,
      "outputs": []
    },
    {
      "cell_type": "code",
      "metadata": {
        "id": "uB71USDq15_s"
      },
      "source": [
        "df.head()\n",
        "df.to_excel('Existing Customer Data Raw.xlsx')"
      ],
      "execution_count": null,
      "outputs": []
    },
    {
      "cell_type": "markdown",
      "metadata": {
        "id": "WSHJCDiVWgMh"
      },
      "source": [
        "**Predictive Analytics**"
      ]
    },
    {
      "cell_type": "markdown",
      "metadata": {
        "id": "icg84lMxWuTj"
      },
      "source": [
        "--> Numbering The Categorical Value (Existing Data Customer)"
      ]
    },
    {
      "cell_type": "code",
      "metadata": {
        "id": "fYbLq7tIs8ch",
        "colab": {
          "base_uri": "https://localhost:8080/",
          "height": 395
        },
        "outputId": "ff273444-06b5-4e21-8b89-8dcbbfccbe3c"
      },
      "source": [
        "def prepare_existing_data(df):\n",
        "  feature_2_drop = ['customer_id','Solex',\n",
        "                      'Giant Bicycles','WeareA2B',\n",
        "                      'OHM Cycles','Trek Bicycles',\n",
        "                      'Norco Bicycles',\n",
        "                      'frequency','monetary_value','recency',\n",
        "                      'R_Quartile','F_Quartile',\n",
        "                      'M_Quartile','RFM_Class','RFM_Score','Score']\n",
        "  df = df.drop(feature_2_drop, axis = 1)\n",
        "  return df\n",
        "def combine_existing_new(existing,new):\n",
        "  df = pd.concat([existing,new],ignore_index=True)\n",
        "  #df = df.drop(['Score'], axis = 1)\n",
        "  return df\n",
        "\n",
        "existing = prepare_existing_data(df)\n",
        "combined_data = combine_existing_new(existing,df4_new)\n",
        "combined_data.to_excel('Combined Existing New.xlsx')\n",
        "combined_data.tail()"
      ],
      "execution_count": null,
      "outputs": [
        {
          "output_type": "execute_result",
          "data": {
            "text/html": [
              "<div>\n",
              "<style scoped>\n",
              "    .dataframe tbody tr th:only-of-type {\n",
              "        vertical-align: middle;\n",
              "    }\n",
              "\n",
              "    .dataframe tbody tr th {\n",
              "        vertical-align: top;\n",
              "    }\n",
              "\n",
              "    .dataframe thead th {\n",
              "        text-align: right;\n",
              "    }\n",
              "</style>\n",
              "<table border=\"1\" class=\"dataframe\">\n",
              "  <thead>\n",
              "    <tr style=\"text-align: right;\">\n",
              "      <th></th>\n",
              "      <th>name</th>\n",
              "      <th>gender</th>\n",
              "      <th>DOB</th>\n",
              "      <th>age</th>\n",
              "      <th>age_range</th>\n",
              "      <th>address</th>\n",
              "      <th>postcode</th>\n",
              "      <th>state</th>\n",
              "      <th>country</th>\n",
              "      <th>deceased_indicator</th>\n",
              "      <th>job_title</th>\n",
              "      <th>job_industry_category</th>\n",
              "      <th>tenure</th>\n",
              "      <th>past_3_years_bike_related_purchases</th>\n",
              "      <th>owns_car</th>\n",
              "      <th>property_valuation</th>\n",
              "      <th>wealth_segment</th>\n",
              "    </tr>\n",
              "  </thead>\n",
              "  <tbody>\n",
              "    <tr>\n",
              "      <th>4388</th>\n",
              "      <td>Ferdinand Romanetti</td>\n",
              "      <td>Male</td>\n",
              "      <td>1959-10-07 00:00:00</td>\n",
              "      <td>61.0</td>\n",
              "      <td>55-64</td>\n",
              "      <td>2 Sloan Way</td>\n",
              "      <td>2200</td>\n",
              "      <td>NSW</td>\n",
              "      <td>Australia</td>\n",
              "      <td>N</td>\n",
              "      <td>Paralegal</td>\n",
              "      <td>Financial Services</td>\n",
              "      <td>9</td>\n",
              "      <td>60</td>\n",
              "      <td>No</td>\n",
              "      <td>7</td>\n",
              "      <td>Affluent Customer</td>\n",
              "    </tr>\n",
              "    <tr>\n",
              "      <th>4389</th>\n",
              "      <td>Burk Wortley</td>\n",
              "      <td>Male</td>\n",
              "      <td>2001-10-17 00:00:00</td>\n",
              "      <td>19.0</td>\n",
              "      <td>18-24</td>\n",
              "      <td>04 Union Crossing</td>\n",
              "      <td>2196</td>\n",
              "      <td>NSW</td>\n",
              "      <td>Australia</td>\n",
              "      <td>N</td>\n",
              "      <td>Senior Sales Associate</td>\n",
              "      <td>Health</td>\n",
              "      <td>6</td>\n",
              "      <td>22</td>\n",
              "      <td>No</td>\n",
              "      <td>10</td>\n",
              "      <td>Mass Customer</td>\n",
              "    </tr>\n",
              "    <tr>\n",
              "      <th>4390</th>\n",
              "      <td>Melloney Temby</td>\n",
              "      <td>Female</td>\n",
              "      <td>1954-10-05 00:00:00</td>\n",
              "      <td>66.0</td>\n",
              "      <td>65+</td>\n",
              "      <td>33475 Fair Oaks Junction</td>\n",
              "      <td>4702</td>\n",
              "      <td>QLD</td>\n",
              "      <td>Australia</td>\n",
              "      <td>N</td>\n",
              "      <td>Budget/Accounting Analyst IV</td>\n",
              "      <td>Financial Services</td>\n",
              "      <td>15</td>\n",
              "      <td>17</td>\n",
              "      <td>Yes</td>\n",
              "      <td>2</td>\n",
              "      <td>Affluent Customer</td>\n",
              "    </tr>\n",
              "    <tr>\n",
              "      <th>4391</th>\n",
              "      <td>Dickie Cubbini</td>\n",
              "      <td>Male</td>\n",
              "      <td>1952-12-17 00:00:00</td>\n",
              "      <td>68.0</td>\n",
              "      <td>65+</td>\n",
              "      <td>57666 Victoria Way</td>\n",
              "      <td>4215</td>\n",
              "      <td>QLD</td>\n",
              "      <td>Australia</td>\n",
              "      <td>N</td>\n",
              "      <td>Financial Advisor</td>\n",
              "      <td>Financial Services</td>\n",
              "      <td>19</td>\n",
              "      <td>30</td>\n",
              "      <td>Yes</td>\n",
              "      <td>2</td>\n",
              "      <td>Mass Customer</td>\n",
              "    </tr>\n",
              "    <tr>\n",
              "      <th>4392</th>\n",
              "      <td>Sylas Duffill</td>\n",
              "      <td>Male</td>\n",
              "      <td>1955-10-02 00:00:00</td>\n",
              "      <td>65.0</td>\n",
              "      <td>55-64</td>\n",
              "      <td>21875 Grover Drive</td>\n",
              "      <td>2010</td>\n",
              "      <td>NSW</td>\n",
              "      <td>Australia</td>\n",
              "      <td>N</td>\n",
              "      <td>Staff Accountant IV</td>\n",
              "      <td>Property</td>\n",
              "      <td>14</td>\n",
              "      <td>56</td>\n",
              "      <td>Yes</td>\n",
              "      <td>9</td>\n",
              "      <td>Mass Customer</td>\n",
              "    </tr>\n",
              "  </tbody>\n",
              "</table>\n",
              "</div>"
            ],
            "text/plain": [
              "0                    name  gender  ... property_valuation     wealth_segment\n",
              "4388  Ferdinand Romanetti    Male  ...                  7  Affluent Customer\n",
              "4389         Burk Wortley    Male  ...                 10      Mass Customer\n",
              "4390       Melloney Temby  Female  ...                  2  Affluent Customer\n",
              "4391       Dickie Cubbini    Male  ...                  2      Mass Customer\n",
              "4392        Sylas Duffill    Male  ...                  9      Mass Customer\n",
              "\n",
              "[5 rows x 17 columns]"
            ]
          },
          "metadata": {
            "tags": []
          },
          "execution_count": 105
        }
      ]
    },
    {
      "cell_type": "code",
      "metadata": {
        "colab": {
          "base_uri": "https://localhost:8080/"
        },
        "id": "X1r7idEKg8cP",
        "outputId": "27352cbf-7ff3-4195-d847-73d70389c423"
      },
      "source": [
        "# preform one hot encoding\n",
        "def encode_and_scalling_input(x):\n",
        "  feature_2_drop = ['name','DOB','age_range','address','postcode','country',\n",
        "                    'deceased_indicator','job_title','job_industry_category']      \n",
        "  x = x.drop(feature_2_drop,axis = 1)\n",
        "    # OH Encode\n",
        "  #x = pd.get_dummies(x,columns=['state','wealth_segment'])\n",
        "    # Label Encoder\n",
        "  from sklearn.preprocessing import LabelEncoder\n",
        "  feature_2_encode = ['gender','owns_car','state','wealth_segment']\n",
        "  l3 = LabelEncoder()\n",
        "  label = []\n",
        "  for i in feature_2_encode:\n",
        "    label.append(l3.fit_transform(x[i]))\n",
        "    data = pd.DataFrame(np.transpose(label))\n",
        "  data.columns = feature_2_encode \n",
        "  x[feature_2_encode] = data[feature_2_encode]\n",
        "    # Scalling\n",
        "  feature_2_scale = ['tenure','past_3_years_bike_related_purchases','property_valuation','age']\n",
        "  #from sklearn.preprocessing import StandardScaler\n",
        "  #standardScaler = StandardScaler()\n",
        "  #x[feature_2_scale] = standardScaler.fit_transform(x[feature_2_scale])\n",
        "  return x\n",
        "combined_data_new = encode_and_scalling_input(combined_data)\n",
        "combined_data_new.info()\n",
        "combined_data_new.to_excel('Combined Data New.xlsx')"
      ],
      "execution_count": null,
      "outputs": [
        {
          "output_type": "stream",
          "text": [
            "<class 'pandas.core.frame.DataFrame'>\n",
            "RangeIndex: 4393 entries, 0 to 4392\n",
            "Data columns (total 8 columns):\n",
            " #   Column                               Non-Null Count  Dtype  \n",
            "---  ------                               --------------  -----  \n",
            " 0   gender                               4393 non-null   int64  \n",
            " 1   age                                  4393 non-null   float64\n",
            " 2   state                                4393 non-null   int64  \n",
            " 3   tenure                               4393 non-null   object \n",
            " 4   past_3_years_bike_related_purchases  4393 non-null   object \n",
            " 5   owns_car                             4393 non-null   int64  \n",
            " 6   property_valuation                   4393 non-null   object \n",
            " 7   wealth_segment                       4393 non-null   int64  \n",
            "dtypes: float64(1), int64(4), object(3)\n",
            "memory usage: 274.7+ KB\n"
          ],
          "name": "stdout"
        }
      ]
    },
    {
      "cell_type": "code",
      "metadata": {
        "id": "efijIL9EcQwE",
        "colab": {
          "base_uri": "https://localhost:8080/"
        },
        "outputId": "e5bc56fd-7a56-4d04-90b3-ac2fb5efb81b"
      },
      "source": [
        "combined_data_new.head()"
      ],
      "execution_count": null,
      "outputs": [
        {
          "output_type": "execute_result",
          "data": {
            "text/html": [
              "<div>\n",
              "<style scoped>\n",
              "    .dataframe tbody tr th:only-of-type {\n",
              "        vertical-align: middle;\n",
              "    }\n",
              "\n",
              "    .dataframe tbody tr th {\n",
              "        vertical-align: top;\n",
              "    }\n",
              "\n",
              "    .dataframe thead th {\n",
              "        text-align: right;\n",
              "    }\n",
              "</style>\n",
              "<table border=\"1\" class=\"dataframe\">\n",
              "  <thead>\n",
              "    <tr style=\"text-align: right;\">\n",
              "      <th></th>\n",
              "      <th>gender</th>\n",
              "      <th>age</th>\n",
              "      <th>state</th>\n",
              "      <th>tenure</th>\n",
              "      <th>past_3_years_bike_related_purchases</th>\n",
              "      <th>owns_car</th>\n",
              "      <th>property_valuation</th>\n",
              "      <th>wealth_segment</th>\n",
              "    </tr>\n",
              "  </thead>\n",
              "  <tbody>\n",
              "    <tr>\n",
              "      <th>0</th>\n",
              "      <td>0</td>\n",
              "      <td>67.0</td>\n",
              "      <td>0</td>\n",
              "      <td>11</td>\n",
              "      <td>93</td>\n",
              "      <td>1</td>\n",
              "      <td>10</td>\n",
              "      <td>2</td>\n",
              "    </tr>\n",
              "    <tr>\n",
              "      <th>1</th>\n",
              "      <td>1</td>\n",
              "      <td>40.0</td>\n",
              "      <td>0</td>\n",
              "      <td>16</td>\n",
              "      <td>81</td>\n",
              "      <td>1</td>\n",
              "      <td>10</td>\n",
              "      <td>2</td>\n",
              "    </tr>\n",
              "    <tr>\n",
              "      <th>2</th>\n",
              "      <td>1</td>\n",
              "      <td>59.0</td>\n",
              "      <td>1</td>\n",
              "      <td>7</td>\n",
              "      <td>33</td>\n",
              "      <td>0</td>\n",
              "      <td>9</td>\n",
              "      <td>2</td>\n",
              "    </tr>\n",
              "    <tr>\n",
              "      <th>3</th>\n",
              "      <td>0</td>\n",
              "      <td>43.0</td>\n",
              "      <td>0</td>\n",
              "      <td>8</td>\n",
              "      <td>56</td>\n",
              "      <td>1</td>\n",
              "      <td>4</td>\n",
              "      <td>0</td>\n",
              "    </tr>\n",
              "    <tr>\n",
              "      <th>4</th>\n",
              "      <td>1</td>\n",
              "      <td>54.0</td>\n",
              "      <td>2</td>\n",
              "      <td>13</td>\n",
              "      <td>35</td>\n",
              "      <td>1</td>\n",
              "      <td>9</td>\n",
              "      <td>1</td>\n",
              "    </tr>\n",
              "  </tbody>\n",
              "</table>\n",
              "</div>"
            ],
            "text/plain": [
              "0  gender   age  state  ... owns_car property_valuation  wealth_segment\n",
              "0       0  67.0      0  ...        1                 10               2\n",
              "1       1  40.0      0  ...        1                 10               2\n",
              "2       1  59.0      1  ...        0                  9               2\n",
              "3       0  43.0      0  ...        1                  4               0\n",
              "4       1  54.0      2  ...        1                  9               1\n",
              "\n",
              "[5 rows x 8 columns]"
            ]
          },
          "metadata": {
            "tags": []
          },
          "execution_count": 119
        }
      ]
    },
    {
      "cell_type": "code",
      "metadata": {
        "id": "W3nt7c2H1IIr"
      },
      "source": [
        "def split_existing_new_data(x):\n",
        "  existing_encoded_input = x.loc[0:3409]\n",
        "  new_encoded_input = x.loc[3410:]\n",
        "  return existing_encoded_input,new_encoded_input \n",
        "existing_encoded_input,new_encoded_input = split_existing_new_data(combined_data_new) "
      ],
      "execution_count": null,
      "outputs": []
    },
    {
      "cell_type": "code",
      "metadata": {
        "colab": {
          "base_uri": "https://localhost:8080/",
          "height": 190
        },
        "id": "F0-H37SZ2jM1",
        "outputId": "bb0a5245-b593-4404-c458-7bdd68d98686"
      },
      "source": [
        "def label_encoder_output(x):\n",
        "  from sklearn.preprocessing import LabelEncoder\n",
        "  #x_new = x.copy(deep = True)\n",
        "  feature_2_encode = ['Score']\n",
        "  l3 = LabelEncoder()\n",
        "  label = []\n",
        "  for i in feature_2_encode:\n",
        "    label.append(l3.fit_transform(x[i]))\n",
        "    output_existing = pd.DataFrame(np.transpose(label))\n",
        "  output_existing.columns = feature_2_encode \n",
        "  return output_existing\n",
        "existing_encoded_output = label_encoder_output(df)\n",
        "existing_encoded_output.head()"
      ],
      "execution_count": null,
      "outputs": [
        {
          "output_type": "execute_result",
          "data": {
            "text/html": [
              "<div>\n",
              "<style scoped>\n",
              "    .dataframe tbody tr th:only-of-type {\n",
              "        vertical-align: middle;\n",
              "    }\n",
              "\n",
              "    .dataframe tbody tr th {\n",
              "        vertical-align: top;\n",
              "    }\n",
              "\n",
              "    .dataframe thead th {\n",
              "        text-align: right;\n",
              "    }\n",
              "</style>\n",
              "<table border=\"1\" class=\"dataframe\">\n",
              "  <thead>\n",
              "    <tr style=\"text-align: right;\">\n",
              "      <th></th>\n",
              "      <th>Score</th>\n",
              "    </tr>\n",
              "  </thead>\n",
              "  <tbody>\n",
              "    <tr>\n",
              "      <th>0</th>\n",
              "      <td>2</td>\n",
              "    </tr>\n",
              "    <tr>\n",
              "      <th>1</th>\n",
              "      <td>3</td>\n",
              "    </tr>\n",
              "    <tr>\n",
              "      <th>2</th>\n",
              "      <td>3</td>\n",
              "    </tr>\n",
              "    <tr>\n",
              "      <th>3</th>\n",
              "      <td>0</td>\n",
              "    </tr>\n",
              "    <tr>\n",
              "      <th>4</th>\n",
              "      <td>4</td>\n",
              "    </tr>\n",
              "  </tbody>\n",
              "</table>\n",
              "</div>"
            ],
            "text/plain": [
              "   Score\n",
              "0      2\n",
              "1      3\n",
              "2      3\n",
              "3      0\n",
              "4      4"
            ]
          },
          "metadata": {
            "tags": []
          },
          "execution_count": 108
        }
      ]
    },
    {
      "cell_type": "code",
      "metadata": {
        "id": "xemB1XiD3G3h"
      },
      "source": [
        "def existing_data(input,output):\n",
        "  x = input\n",
        "  y = output\n",
        "  df = pd.merge(x,y, left_index=True, right_index=True, how='inner')\n",
        "  return df\n",
        "existing_data = existing_data(existing_encoded_input,existing_encoded_output)\n",
        "existing_data.head()\n",
        "existing_data.to_excel('Existing_Customer_Dataset_Final.xlsx')\n",
        "\n",
        "new_customer_data = new_encoded_input\n",
        "new_customer_data.to_excel('New_Customer_Dataset_Final.xlsx')"
      ],
      "execution_count": null,
      "outputs": []
    },
    {
      "cell_type": "code",
      "metadata": {
        "colab": {
          "base_uri": "https://localhost:8080/",
          "height": 190
        },
        "id": "lx3EVDKr3oT3",
        "outputId": "e20810b0-5b26-4d6d-d67b-10be3740e159"
      },
      "source": [
        "existing_data.head()"
      ],
      "execution_count": null,
      "outputs": [
        {
          "output_type": "execute_result",
          "data": {
            "text/html": [
              "<div>\n",
              "<style scoped>\n",
              "    .dataframe tbody tr th:only-of-type {\n",
              "        vertical-align: middle;\n",
              "    }\n",
              "\n",
              "    .dataframe tbody tr th {\n",
              "        vertical-align: top;\n",
              "    }\n",
              "\n",
              "    .dataframe thead th {\n",
              "        text-align: right;\n",
              "    }\n",
              "</style>\n",
              "<table border=\"1\" class=\"dataframe\">\n",
              "  <thead>\n",
              "    <tr style=\"text-align: right;\">\n",
              "      <th></th>\n",
              "      <th>gender</th>\n",
              "      <th>age</th>\n",
              "      <th>state</th>\n",
              "      <th>tenure</th>\n",
              "      <th>past_3_years_bike_related_purchases</th>\n",
              "      <th>owns_car</th>\n",
              "      <th>property_valuation</th>\n",
              "      <th>wealth_segment</th>\n",
              "      <th>Score</th>\n",
              "    </tr>\n",
              "  </thead>\n",
              "  <tbody>\n",
              "    <tr>\n",
              "      <th>0</th>\n",
              "      <td>0</td>\n",
              "      <td>67.0</td>\n",
              "      <td>0</td>\n",
              "      <td>11</td>\n",
              "      <td>93</td>\n",
              "      <td>1</td>\n",
              "      <td>10</td>\n",
              "      <td>2</td>\n",
              "      <td>2</td>\n",
              "    </tr>\n",
              "    <tr>\n",
              "      <th>1</th>\n",
              "      <td>1</td>\n",
              "      <td>40.0</td>\n",
              "      <td>0</td>\n",
              "      <td>16</td>\n",
              "      <td>81</td>\n",
              "      <td>1</td>\n",
              "      <td>10</td>\n",
              "      <td>2</td>\n",
              "      <td>3</td>\n",
              "    </tr>\n",
              "    <tr>\n",
              "      <th>2</th>\n",
              "      <td>1</td>\n",
              "      <td>59.0</td>\n",
              "      <td>1</td>\n",
              "      <td>7</td>\n",
              "      <td>33</td>\n",
              "      <td>0</td>\n",
              "      <td>9</td>\n",
              "      <td>2</td>\n",
              "      <td>3</td>\n",
              "    </tr>\n",
              "    <tr>\n",
              "      <th>3</th>\n",
              "      <td>0</td>\n",
              "      <td>43.0</td>\n",
              "      <td>0</td>\n",
              "      <td>8</td>\n",
              "      <td>56</td>\n",
              "      <td>1</td>\n",
              "      <td>4</td>\n",
              "      <td>0</td>\n",
              "      <td>0</td>\n",
              "    </tr>\n",
              "    <tr>\n",
              "      <th>4</th>\n",
              "      <td>1</td>\n",
              "      <td>54.0</td>\n",
              "      <td>2</td>\n",
              "      <td>13</td>\n",
              "      <td>35</td>\n",
              "      <td>1</td>\n",
              "      <td>9</td>\n",
              "      <td>1</td>\n",
              "      <td>4</td>\n",
              "    </tr>\n",
              "  </tbody>\n",
              "</table>\n",
              "</div>"
            ],
            "text/plain": [
              "   gender   age  state  ... property_valuation wealth_segment  Score\n",
              "0       0  67.0      0  ...                 10              2      2\n",
              "1       1  40.0      0  ...                 10              2      3\n",
              "2       1  59.0      1  ...                  9              2      3\n",
              "3       0  43.0      0  ...                  4              0      0\n",
              "4       1  54.0      2  ...                  9              1      4\n",
              "\n",
              "[5 rows x 9 columns]"
            ]
          },
          "metadata": {
            "tags": []
          },
          "execution_count": 110
        }
      ]
    },
    {
      "cell_type": "code",
      "metadata": {
        "colab": {
          "base_uri": "https://localhost:8080/",
          "height": 219
        },
        "id": "ExSwbmdWFMvi",
        "outputId": "12ac0ef5-1071-45db-9a7a-d33a1c9a06c1"
      },
      "source": [
        "existing_data.corr()"
      ],
      "execution_count": null,
      "outputs": [
        {
          "output_type": "execute_result",
          "data": {
            "text/html": [
              "<div>\n",
              "<style scoped>\n",
              "    .dataframe tbody tr th:only-of-type {\n",
              "        vertical-align: middle;\n",
              "    }\n",
              "\n",
              "    .dataframe tbody tr th {\n",
              "        vertical-align: top;\n",
              "    }\n",
              "\n",
              "    .dataframe thead th {\n",
              "        text-align: right;\n",
              "    }\n",
              "</style>\n",
              "<table border=\"1\" class=\"dataframe\">\n",
              "  <thead>\n",
              "    <tr style=\"text-align: right;\">\n",
              "      <th></th>\n",
              "      <th>gender</th>\n",
              "      <th>age</th>\n",
              "      <th>state</th>\n",
              "      <th>owns_car</th>\n",
              "      <th>wealth_segment</th>\n",
              "      <th>Score</th>\n",
              "    </tr>\n",
              "  </thead>\n",
              "  <tbody>\n",
              "    <tr>\n",
              "      <th>gender</th>\n",
              "      <td>1.000000</td>\n",
              "      <td>-0.010710</td>\n",
              "      <td>0.000928</td>\n",
              "      <td>-0.004390</td>\n",
              "      <td>-0.029048</td>\n",
              "      <td>0.012145</td>\n",
              "    </tr>\n",
              "    <tr>\n",
              "      <th>age</th>\n",
              "      <td>-0.010710</td>\n",
              "      <td>1.000000</td>\n",
              "      <td>0.009534</td>\n",
              "      <td>-0.000880</td>\n",
              "      <td>0.004696</td>\n",
              "      <td>-0.006550</td>\n",
              "    </tr>\n",
              "    <tr>\n",
              "      <th>state</th>\n",
              "      <td>0.000928</td>\n",
              "      <td>0.009534</td>\n",
              "      <td>1.000000</td>\n",
              "      <td>-0.016187</td>\n",
              "      <td>0.003275</td>\n",
              "      <td>0.005368</td>\n",
              "    </tr>\n",
              "    <tr>\n",
              "      <th>owns_car</th>\n",
              "      <td>-0.004390</td>\n",
              "      <td>-0.000880</td>\n",
              "      <td>-0.016187</td>\n",
              "      <td>1.000000</td>\n",
              "      <td>-0.029379</td>\n",
              "      <td>-0.006667</td>\n",
              "    </tr>\n",
              "    <tr>\n",
              "      <th>wealth_segment</th>\n",
              "      <td>-0.029048</td>\n",
              "      <td>0.004696</td>\n",
              "      <td>0.003275</td>\n",
              "      <td>-0.029379</td>\n",
              "      <td>1.000000</td>\n",
              "      <td>0.000569</td>\n",
              "    </tr>\n",
              "    <tr>\n",
              "      <th>Score</th>\n",
              "      <td>0.012145</td>\n",
              "      <td>-0.006550</td>\n",
              "      <td>0.005368</td>\n",
              "      <td>-0.006667</td>\n",
              "      <td>0.000569</td>\n",
              "      <td>1.000000</td>\n",
              "    </tr>\n",
              "  </tbody>\n",
              "</table>\n",
              "</div>"
            ],
            "text/plain": [
              "                  gender       age  ...  wealth_segment     Score\n",
              "gender          1.000000 -0.010710  ...       -0.029048  0.012145\n",
              "age            -0.010710  1.000000  ...        0.004696 -0.006550\n",
              "state           0.000928  0.009534  ...        0.003275  0.005368\n",
              "owns_car       -0.004390 -0.000880  ...       -0.029379 -0.006667\n",
              "wealth_segment -0.029048  0.004696  ...        1.000000  0.000569\n",
              "Score           0.012145 -0.006550  ...        0.000569  1.000000\n",
              "\n",
              "[6 rows x 6 columns]"
            ]
          },
          "metadata": {
            "tags": []
          },
          "execution_count": 111
        }
      ]
    },
    {
      "cell_type": "markdown",
      "metadata": {
        "id": "gZAisGgRenWv"
      },
      "source": [
        "**Applying PCA**"
      ]
    },
    {
      "cell_type": "code",
      "metadata": {
        "id": "--qSZTM68gsB",
        "colab": {
          "base_uri": "https://localhost:8080/"
        },
        "outputId": "6b8453b1-c9ff-4eab-cf0c-75427d2c2ef1"
      },
      "source": [
        "# split the input and output data\n",
        "def input_output_split():\n",
        "  x = existing_data.loc[:,'gender':'wealth_segment'].values\n",
        "  y = existing_data.loc[:,'Score'].values\n",
        "  return x,y\n",
        "x,y = input_output_split()\n",
        "print('Observed feature')\n",
        "print(x)\n",
        "print('\\nOutput Feature')\n",
        "print(y)"
      ],
      "execution_count": null,
      "outputs": [
        {
          "output_type": "stream",
          "text": [
            "Observed feature\n",
            "[[0 67.0 0 ... 1 10 2]\n",
            " [1 40.0 0 ... 1 10 2]\n",
            " [1 59.0 1 ... 0 9 2]\n",
            " ...\n",
            " [0 25.0 2 ... 0 4 2]\n",
            " [1 41.0 1 ... 1 9 2]\n",
            " [0 53.0 0 ... 0 10 0]]\n",
            "\n",
            "Output Feature\n",
            "[2 3 3 ... 4 0 1]\n"
          ],
          "name": "stdout"
        }
      ]
    },
    {
      "cell_type": "code",
      "metadata": {
        "colab": {
          "base_uri": "https://localhost:8080/",
          "height": 190
        },
        "id": "Rqe7J2R2e_rA",
        "outputId": "68542518-0e31-41e4-cf14-5928448225a1"
      },
      "source": [
        "# Standardize the data\n",
        "def Standardize_data(x):\n",
        "  from sklearn.preprocessing import StandardScaler\n",
        "  x_std = StandardScaler().fit_transform(x)\n",
        "  return x_std\n",
        "x_std = Standardize_data(x)\n",
        "#df_x_std = np.round(pd.DataFrame(x_std, columns = df.columns[0:10]),3)\n",
        "df_x_std = pd.DataFrame(x_std, columns = existing_data.columns[0:8])\n",
        "#print(df_x_std.head())\n",
        "df_x_std.head()\n",
        "#df_x_std.to_excel('input_standardize.xlsx')"
      ],
      "execution_count": null,
      "outputs": [
        {
          "output_type": "execute_result",
          "data": {
            "text/html": [
              "<div>\n",
              "<style scoped>\n",
              "    .dataframe tbody tr th:only-of-type {\n",
              "        vertical-align: middle;\n",
              "    }\n",
              "\n",
              "    .dataframe tbody tr th {\n",
              "        vertical-align: top;\n",
              "    }\n",
              "\n",
              "    .dataframe thead th {\n",
              "        text-align: right;\n",
              "    }\n",
              "</style>\n",
              "<table border=\"1\" class=\"dataframe\">\n",
              "  <thead>\n",
              "    <tr style=\"text-align: right;\">\n",
              "      <th></th>\n",
              "      <th>gender</th>\n",
              "      <th>age</th>\n",
              "      <th>state</th>\n",
              "      <th>tenure</th>\n",
              "      <th>past_3_years_bike_related_purchases</th>\n",
              "      <th>owns_car</th>\n",
              "      <th>property_valuation</th>\n",
              "      <th>wealth_segment</th>\n",
              "    </tr>\n",
              "  </thead>\n",
              "  <tbody>\n",
              "    <tr>\n",
              "      <th>0</th>\n",
              "      <td>-0.969953</td>\n",
              "      <td>1.922736</td>\n",
              "      <td>-0.853829</td>\n",
              "      <td>0.056297</td>\n",
              "      <td>1.536663</td>\n",
              "      <td>0.990079</td>\n",
              "      <td>0.880184</td>\n",
              "      <td>0.905363</td>\n",
              "    </tr>\n",
              "    <tr>\n",
              "      <th>1</th>\n",
              "      <td>1.030978</td>\n",
              "      <td>-0.223870</td>\n",
              "      <td>-0.853829</td>\n",
              "      <td>0.937707</td>\n",
              "      <td>1.117863</td>\n",
              "      <td>0.990079</td>\n",
              "      <td>0.880184</td>\n",
              "      <td>0.905363</td>\n",
              "    </tr>\n",
              "    <tr>\n",
              "      <th>2</th>\n",
              "      <td>1.030978</td>\n",
              "      <td>1.286705</td>\n",
              "      <td>0.335532</td>\n",
              "      <td>-0.648832</td>\n",
              "      <td>-0.557335</td>\n",
              "      <td>-1.010021</td>\n",
              "      <td>0.525782</td>\n",
              "      <td>0.905363</td>\n",
              "    </tr>\n",
              "    <tr>\n",
              "      <th>3</th>\n",
              "      <td>-0.969953</td>\n",
              "      <td>0.014642</td>\n",
              "      <td>-0.853829</td>\n",
              "      <td>-0.472550</td>\n",
              "      <td>0.245364</td>\n",
              "      <td>0.990079</td>\n",
              "      <td>-1.246226</td>\n",
              "      <td>-1.519844</td>\n",
              "    </tr>\n",
              "    <tr>\n",
              "      <th>4</th>\n",
              "      <td>1.030978</td>\n",
              "      <td>0.889185</td>\n",
              "      <td>1.524894</td>\n",
              "      <td>0.408861</td>\n",
              "      <td>-0.487535</td>\n",
              "      <td>0.990079</td>\n",
              "      <td>0.525782</td>\n",
              "      <td>-0.307240</td>\n",
              "    </tr>\n",
              "  </tbody>\n",
              "</table>\n",
              "</div>"
            ],
            "text/plain": [
              "     gender       age     state  ...  owns_car  property_valuation  wealth_segment\n",
              "0 -0.969953  1.922736 -0.853829  ...  0.990079            0.880184        0.905363\n",
              "1  1.030978 -0.223870 -0.853829  ...  0.990079            0.880184        0.905363\n",
              "2  1.030978  1.286705  0.335532  ... -1.010021            0.525782        0.905363\n",
              "3 -0.969953  0.014642 -0.853829  ...  0.990079           -1.246226       -1.519844\n",
              "4  1.030978  0.889185  1.524894  ...  0.990079            0.525782       -0.307240\n",
              "\n",
              "[5 rows x 8 columns]"
            ]
          },
          "metadata": {
            "tags": []
          },
          "execution_count": 113
        }
      ]
    },
    {
      "cell_type": "code",
      "metadata": {
        "colab": {
          "base_uri": "https://localhost:8080/",
          "height": 277
        },
        "id": "l08hxrB-gOrb",
        "outputId": "2fb51c38-134f-494c-abaf-66b3e7605bb4"
      },
      "source": [
        "def cov_matrix(x):\n",
        "  import numpy as np\n",
        "  mean_vector = np.mean(x, axis = 0)\n",
        "  cov_matrix = (x-mean_vector).T.dot(x-mean_vector)/(x.shape[0]-1)\n",
        "  return cov_matrix,mean_vector\n",
        "cov_matrix,mean_vector = cov_matrix(x_std)\n",
        "df_cov_matrix = np.round(pd.DataFrame(cov_matrix),3)\n",
        "df_mean_vector = np.round(pd.DataFrame(mean_vector))\n",
        "#print('Covariance Matrix \\n{}'.format(df_cov_matrix))\n",
        "df_cov_matrix\n",
        "#df_cov_matrix.to_excel(\"cov_matrix_pca.xlsx\")\n",
        "#df_mean_vector.to_excel('mean_vector.xlsx')"
      ],
      "execution_count": null,
      "outputs": [
        {
          "output_type": "execute_result",
          "data": {
            "text/html": [
              "<div>\n",
              "<style scoped>\n",
              "    .dataframe tbody tr th:only-of-type {\n",
              "        vertical-align: middle;\n",
              "    }\n",
              "\n",
              "    .dataframe tbody tr th {\n",
              "        vertical-align: top;\n",
              "    }\n",
              "\n",
              "    .dataframe thead th {\n",
              "        text-align: right;\n",
              "    }\n",
              "</style>\n",
              "<table border=\"1\" class=\"dataframe\">\n",
              "  <thead>\n",
              "    <tr style=\"text-align: right;\">\n",
              "      <th></th>\n",
              "      <th>0</th>\n",
              "      <th>1</th>\n",
              "      <th>2</th>\n",
              "      <th>3</th>\n",
              "      <th>4</th>\n",
              "      <th>5</th>\n",
              "      <th>6</th>\n",
              "      <th>7</th>\n",
              "    </tr>\n",
              "  </thead>\n",
              "  <tbody>\n",
              "    <tr>\n",
              "      <th>0</th>\n",
              "      <td>1.000</td>\n",
              "      <td>-0.011</td>\n",
              "      <td>0.001</td>\n",
              "      <td>0.002</td>\n",
              "      <td>0.028</td>\n",
              "      <td>-0.004</td>\n",
              "      <td>-0.007</td>\n",
              "      <td>-0.029</td>\n",
              "    </tr>\n",
              "    <tr>\n",
              "      <th>1</th>\n",
              "      <td>-0.011</td>\n",
              "      <td>1.000</td>\n",
              "      <td>0.010</td>\n",
              "      <td>0.436</td>\n",
              "      <td>-0.032</td>\n",
              "      <td>-0.001</td>\n",
              "      <td>0.022</td>\n",
              "      <td>0.005</td>\n",
              "    </tr>\n",
              "    <tr>\n",
              "      <th>2</th>\n",
              "      <td>0.001</td>\n",
              "      <td>0.010</td>\n",
              "      <td>1.000</td>\n",
              "      <td>0.002</td>\n",
              "      <td>-0.001</td>\n",
              "      <td>-0.016</td>\n",
              "      <td>-0.229</td>\n",
              "      <td>0.003</td>\n",
              "    </tr>\n",
              "    <tr>\n",
              "      <th>3</th>\n",
              "      <td>0.002</td>\n",
              "      <td>0.436</td>\n",
              "      <td>0.002</td>\n",
              "      <td>1.000</td>\n",
              "      <td>-0.013</td>\n",
              "      <td>-0.008</td>\n",
              "      <td>-0.014</td>\n",
              "      <td>0.011</td>\n",
              "    </tr>\n",
              "    <tr>\n",
              "      <th>4</th>\n",
              "      <td>0.028</td>\n",
              "      <td>-0.032</td>\n",
              "      <td>-0.001</td>\n",
              "      <td>-0.013</td>\n",
              "      <td>1.000</td>\n",
              "      <td>-0.000</td>\n",
              "      <td>0.010</td>\n",
              "      <td>0.018</td>\n",
              "    </tr>\n",
              "    <tr>\n",
              "      <th>5</th>\n",
              "      <td>-0.004</td>\n",
              "      <td>-0.001</td>\n",
              "      <td>-0.016</td>\n",
              "      <td>-0.008</td>\n",
              "      <td>-0.000</td>\n",
              "      <td>1.000</td>\n",
              "      <td>0.046</td>\n",
              "      <td>-0.029</td>\n",
              "    </tr>\n",
              "    <tr>\n",
              "      <th>6</th>\n",
              "      <td>-0.007</td>\n",
              "      <td>0.022</td>\n",
              "      <td>-0.229</td>\n",
              "      <td>-0.014</td>\n",
              "      <td>0.010</td>\n",
              "      <td>0.046</td>\n",
              "      <td>1.000</td>\n",
              "      <td>-0.016</td>\n",
              "    </tr>\n",
              "    <tr>\n",
              "      <th>7</th>\n",
              "      <td>-0.029</td>\n",
              "      <td>0.005</td>\n",
              "      <td>0.003</td>\n",
              "      <td>0.011</td>\n",
              "      <td>0.018</td>\n",
              "      <td>-0.029</td>\n",
              "      <td>-0.016</td>\n",
              "      <td>1.000</td>\n",
              "    </tr>\n",
              "  </tbody>\n",
              "</table>\n",
              "</div>"
            ],
            "text/plain": [
              "       0      1      2      3      4      5      6      7\n",
              "0  1.000 -0.011  0.001  0.002  0.028 -0.004 -0.007 -0.029\n",
              "1 -0.011  1.000  0.010  0.436 -0.032 -0.001  0.022  0.005\n",
              "2  0.001  0.010  1.000  0.002 -0.001 -0.016 -0.229  0.003\n",
              "3  0.002  0.436  0.002  1.000 -0.013 -0.008 -0.014  0.011\n",
              "4  0.028 -0.032 -0.001 -0.013  1.000 -0.000  0.010  0.018\n",
              "5 -0.004 -0.001 -0.016 -0.008 -0.000  1.000  0.046 -0.029\n",
              "6 -0.007  0.022 -0.229 -0.014  0.010  0.046  1.000 -0.016\n",
              "7 -0.029  0.005  0.003  0.011  0.018 -0.029 -0.016  1.000"
            ]
          },
          "metadata": {
            "tags": []
          },
          "execution_count": 114
        }
      ]
    },
    {
      "cell_type": "code",
      "metadata": {
        "colab": {
          "base_uri": "https://localhost:8080/"
        },
        "id": "EfhUQq-lgV-W",
        "outputId": "41f1a6d7-0dbb-40e4-c1bc-5748ac169143"
      },
      "source": [
        "axa = (x_std-mean_vector)\n",
        "axa"
      ],
      "execution_count": null,
      "outputs": [
        {
          "output_type": "execute_result",
          "data": {
            "text/plain": [
              "array([[-0.96995268,  1.92273599, -0.85382891, ...,  0.99007854,\n",
              "         0.88018382,  0.90536304],\n",
              "       [ 1.03097813, -0.22387   , -0.85382891, ...,  0.99007854,\n",
              "         0.88018382,  0.90536304],\n",
              "       [ 1.03097813,  1.28670458,  0.33553244, ..., -1.01002088,\n",
              "         0.52578226,  0.90536304],\n",
              "       ...,\n",
              "       [-0.96995268, -1.41642888,  1.52489379, ..., -1.01002088,\n",
              "        -1.24622556,  0.90536304],\n",
              "       [ 1.03097813, -0.14436607,  0.33553244, ...,  0.99007854,\n",
              "         0.52578226,  0.90536304],\n",
              "       [-0.96995268,  0.80968103, -0.85382891, ..., -1.01002088,\n",
              "         0.88018382, -1.51984354]])"
            ]
          },
          "metadata": {
            "tags": []
          },
          "execution_count": 115
        }
      ]
    },
    {
      "cell_type": "code",
      "metadata": {
        "colab": {
          "base_uri": "https://localhost:8080/"
        },
        "id": "SeMRHnfZhJgs",
        "outputId": "5a0042c0-7baa-4f97-e657-8fd02916b96f"
      },
      "source": [
        "def eigen_decomposition(x):\n",
        "  eig_vals, eig_vecs = np.linalg.eig(x)\n",
        "  return eig_vals, eig_vecs\n",
        "eig_vals, eig_vecs = eigen_decomposition(df_cov_matrix.values)\n",
        "print('Eigenvectors \\n {}'. format(eig_vecs))\n",
        "print('\\nEigenvalues \\n {}'.format(eig_vals))\n"
      ],
      "execution_count": null,
      "outputs": [
        {
          "output_type": "stream",
          "text": [
            "Eigenvectors \n",
            " [[ 1.79724350e-02  2.05397694e-02  2.90088373e-02 -1.65999726e-02\n",
            "   5.48227441e-01  3.13716187e-01  5.20778271e-01 -5.72675176e-01]\n",
            " [ 7.04260002e-01 -7.05432550e-01  6.08593281e-02  3.16929656e-02\n",
            "  -2.27693106e-02 -2.12856086e-02  1.18478984e-02 -2.37186316e-02]\n",
            " [-5.89575562e-02 -2.13643885e-02  6.93926152e-01 -6.83139468e-01\n",
            "  -1.47081709e-02 -1.67200824e-01 -7.30538023e-02 -1.19771568e-01]\n",
            " [-7.01018800e-01 -7.03757758e-01 -8.56322746e-02  7.95471304e-05\n",
            "  -2.24660490e-02 -2.42145360e-02  6.38050624e-02 -2.83304693e-02]\n",
            " [ 3.10255955e-02  7.26276707e-02 -3.05121095e-02  2.03656330e-02\n",
            "  -4.68840997e-01 -4.80040538e-01  7.35129417e-01 -4.18428981e-02]\n",
            " [-3.49036487e-03  1.69371556e-02 -9.02860367e-02  1.89593957e-01\n",
            "   3.45471954e-01 -7.68018891e-01 -3.13613379e-01 -3.84767819e-01]\n",
            " [-8.81792121e-02  2.26289574e-03  7.04345087e-01  7.00122274e-01\n",
            "  -1.67389537e-02  4.34018519e-02  3.39222943e-02  5.12978569e-02]\n",
            " [ 6.41455007e-03 -2.53939047e-02  3.74657180e-02 -7.42201540e-02\n",
            "   5.98969309e-01 -2.24523858e-01  2.81642224e-01  7.09862066e-01]]\n",
            "\n",
            "Eigenvalues \n",
            " [0.5607749  1.43901599 0.7705214  1.23904934 0.94241158 0.98679326\n",
            " 1.02564859 1.03578493]\n"
          ],
          "name": "stdout"
        }
      ]
    },
    {
      "cell_type": "code",
      "metadata": {
        "colab": {
          "base_uri": "https://localhost:8080/"
        },
        "id": "1oF8APO9hQTz",
        "outputId": "fe958ba0-e58f-4d63-8a5d-9c979eabda98"
      },
      "source": [
        "def sort_eigen(eig_val,eig_vec):\n",
        "  # Make a list of (eigenvalue, eigenvector) tuples\n",
        "  eig_pairs = [(np.abs(eig_val[i]), eig_vec[:,i]) for i in range(len(eig_val))]\n",
        "  # Sort the (eigenvalue, eigenvector) tuples from high to low\n",
        "  eig_pairs.sort(key=lambda x: x[0], reverse=True)\n",
        "  return eig_pairs\n",
        "eig_pairs = sort_eigen(eig_vals,eig_vecs)\n",
        "print('\\nEigenvalues in descending order:')\n",
        "for i in eig_pairs:\n",
        "  print(i[0])\n",
        "print('\\nEigenvector in descending order:')\n",
        "for i in eig_pairs:\n",
        "  print(i[1])"
      ],
      "execution_count": null,
      "outputs": [
        {
          "output_type": "stream",
          "text": [
            "\n",
            "Eigenvalues in descending order:\n",
            "1.4390159939760179\n",
            "1.2390493438375139\n",
            "1.0357849322349404\n",
            "1.0256485856302326\n",
            "0.9867932579098625\n",
            "0.9424115823386479\n",
            "0.7705214006879865\n",
            "0.5607749033847966\n",
            "\n",
            "Eigenvector in descending order:\n",
            "[ 0.02053977 -0.70543255 -0.02136439 -0.70375776  0.07262767  0.01693716\n",
            "  0.0022629  -0.0253939 ]\n",
            "[-1.65999726e-02  3.16929656e-02 -6.83139468e-01  7.95471304e-05\n",
            "  2.03656330e-02  1.89593957e-01  7.00122274e-01 -7.42201540e-02]\n",
            "[-0.57267518 -0.02371863 -0.11977157 -0.02833047 -0.0418429  -0.38476782\n",
            "  0.05129786  0.70986207]\n",
            "[ 0.52077827  0.0118479  -0.0730538   0.06380506  0.73512942 -0.31361338\n",
            "  0.03392229  0.28164222]\n",
            "[ 0.31371619 -0.02128561 -0.16720082 -0.02421454 -0.48004054 -0.76801889\n",
            "  0.04340185 -0.22452386]\n",
            "[ 0.54822744 -0.02276931 -0.01470817 -0.02246605 -0.468841    0.34547195\n",
            " -0.01673895  0.59896931]\n",
            "[ 0.02900884  0.06085933  0.69392615 -0.08563227 -0.03051211 -0.09028604\n",
            "  0.70434509  0.03746572]\n",
            "[ 0.01797244  0.70426    -0.05895756 -0.7010188   0.0310256  -0.00349036\n",
            " -0.08817921  0.00641455]\n"
          ],
          "name": "stdout"
        }
      ]
    },
    {
      "cell_type": "code",
      "metadata": {
        "colab": {
          "base_uri": "https://localhost:8080/",
          "height": 370
        },
        "id": "Z4oDk5wbhTtS",
        "outputId": "99ea7ee3-ff44-4a63-c9cc-5657f586cb82"
      },
      "source": [
        "def pca_loadings(eigpairs,input):\n",
        "  data =  []\n",
        "  for i in eigpairs:\n",
        "    data.append(i[1])\n",
        "  a = pd.DataFrame(data).T\n",
        "  a.columns = [''.join(['PC',f'{i+1}']) for i in range (a.shape[1])] \n",
        "  a.index = input.drop('RFM_Score',axis = 1).columns\n",
        "  return a\n",
        "loadings = np.round(pca_loadings(eig_pairs,existing_data),3)\n",
        "#loadings.to_excel('loading_factor.xlsx')\n",
        "loadings"
      ],
      "execution_count": null,
      "outputs": [
        {
          "output_type": "error",
          "ename": "KeyError",
          "evalue": "ignored",
          "traceback": [
            "\u001b[0;31m---------------------------------------------------------------------------\u001b[0m",
            "\u001b[0;31mKeyError\u001b[0m                                  Traceback (most recent call last)",
            "\u001b[0;32m<ipython-input-118-fe6fb4ad4a65>\u001b[0m in \u001b[0;36m<module>\u001b[0;34m()\u001b[0m\n\u001b[1;32m      7\u001b[0m   \u001b[0ma\u001b[0m\u001b[0;34m.\u001b[0m\u001b[0mindex\u001b[0m \u001b[0;34m=\u001b[0m \u001b[0minput\u001b[0m\u001b[0;34m.\u001b[0m\u001b[0mdrop\u001b[0m\u001b[0;34m(\u001b[0m\u001b[0;34m'RFM_Score'\u001b[0m\u001b[0;34m,\u001b[0m\u001b[0maxis\u001b[0m \u001b[0;34m=\u001b[0m \u001b[0;36m1\u001b[0m\u001b[0;34m)\u001b[0m\u001b[0;34m.\u001b[0m\u001b[0mcolumns\u001b[0m\u001b[0;34m\u001b[0m\u001b[0;34m\u001b[0m\u001b[0m\n\u001b[1;32m      8\u001b[0m   \u001b[0;32mreturn\u001b[0m \u001b[0ma\u001b[0m\u001b[0;34m\u001b[0m\u001b[0;34m\u001b[0m\u001b[0m\n\u001b[0;32m----> 9\u001b[0;31m \u001b[0mloadings\u001b[0m \u001b[0;34m=\u001b[0m \u001b[0mnp\u001b[0m\u001b[0;34m.\u001b[0m\u001b[0mround\u001b[0m\u001b[0;34m(\u001b[0m\u001b[0mpca_loadings\u001b[0m\u001b[0;34m(\u001b[0m\u001b[0meig_pairs\u001b[0m\u001b[0;34m,\u001b[0m\u001b[0mexisting_data\u001b[0m\u001b[0;34m)\u001b[0m\u001b[0;34m,\u001b[0m\u001b[0;36m3\u001b[0m\u001b[0;34m)\u001b[0m\u001b[0;34m\u001b[0m\u001b[0;34m\u001b[0m\u001b[0m\n\u001b[0m\u001b[1;32m     10\u001b[0m \u001b[0;31m#loadings.to_excel('loading_factor.xlsx')\u001b[0m\u001b[0;34m\u001b[0m\u001b[0;34m\u001b[0m\u001b[0;34m\u001b[0m\u001b[0m\n\u001b[1;32m     11\u001b[0m \u001b[0mloadings\u001b[0m\u001b[0;34m\u001b[0m\u001b[0;34m\u001b[0m\u001b[0m\n",
            "\u001b[0;32m<ipython-input-118-fe6fb4ad4a65>\u001b[0m in \u001b[0;36mpca_loadings\u001b[0;34m(eigpairs, input)\u001b[0m\n\u001b[1;32m      5\u001b[0m   \u001b[0ma\u001b[0m \u001b[0;34m=\u001b[0m \u001b[0mpd\u001b[0m\u001b[0;34m.\u001b[0m\u001b[0mDataFrame\u001b[0m\u001b[0;34m(\u001b[0m\u001b[0mdata\u001b[0m\u001b[0;34m)\u001b[0m\u001b[0;34m.\u001b[0m\u001b[0mT\u001b[0m\u001b[0;34m\u001b[0m\u001b[0;34m\u001b[0m\u001b[0m\n\u001b[1;32m      6\u001b[0m   \u001b[0ma\u001b[0m\u001b[0;34m.\u001b[0m\u001b[0mcolumns\u001b[0m \u001b[0;34m=\u001b[0m \u001b[0;34m[\u001b[0m\u001b[0;34m''\u001b[0m\u001b[0;34m.\u001b[0m\u001b[0mjoin\u001b[0m\u001b[0;34m(\u001b[0m\u001b[0;34m[\u001b[0m\u001b[0;34m'PC'\u001b[0m\u001b[0;34m,\u001b[0m\u001b[0;34mf'{i+1}'\u001b[0m\u001b[0;34m]\u001b[0m\u001b[0;34m)\u001b[0m \u001b[0;32mfor\u001b[0m \u001b[0mi\u001b[0m \u001b[0;32min\u001b[0m \u001b[0mrange\u001b[0m \u001b[0;34m(\u001b[0m\u001b[0ma\u001b[0m\u001b[0;34m.\u001b[0m\u001b[0mshape\u001b[0m\u001b[0;34m[\u001b[0m\u001b[0;36m1\u001b[0m\u001b[0;34m]\u001b[0m\u001b[0;34m)\u001b[0m\u001b[0;34m]\u001b[0m\u001b[0;34m\u001b[0m\u001b[0;34m\u001b[0m\u001b[0m\n\u001b[0;32m----> 7\u001b[0;31m   \u001b[0ma\u001b[0m\u001b[0;34m.\u001b[0m\u001b[0mindex\u001b[0m \u001b[0;34m=\u001b[0m \u001b[0minput\u001b[0m\u001b[0;34m.\u001b[0m\u001b[0mdrop\u001b[0m\u001b[0;34m(\u001b[0m\u001b[0;34m'RFM_Score'\u001b[0m\u001b[0;34m,\u001b[0m\u001b[0maxis\u001b[0m \u001b[0;34m=\u001b[0m \u001b[0;36m1\u001b[0m\u001b[0;34m)\u001b[0m\u001b[0;34m.\u001b[0m\u001b[0mcolumns\u001b[0m\u001b[0;34m\u001b[0m\u001b[0;34m\u001b[0m\u001b[0m\n\u001b[0m\u001b[1;32m      8\u001b[0m   \u001b[0;32mreturn\u001b[0m \u001b[0ma\u001b[0m\u001b[0;34m\u001b[0m\u001b[0;34m\u001b[0m\u001b[0m\n\u001b[1;32m      9\u001b[0m \u001b[0mloadings\u001b[0m \u001b[0;34m=\u001b[0m \u001b[0mnp\u001b[0m\u001b[0;34m.\u001b[0m\u001b[0mround\u001b[0m\u001b[0;34m(\u001b[0m\u001b[0mpca_loadings\u001b[0m\u001b[0;34m(\u001b[0m\u001b[0meig_pairs\u001b[0m\u001b[0;34m,\u001b[0m\u001b[0mexisting_data\u001b[0m\u001b[0;34m)\u001b[0m\u001b[0;34m,\u001b[0m\u001b[0;36m3\u001b[0m\u001b[0;34m)\u001b[0m\u001b[0;34m\u001b[0m\u001b[0;34m\u001b[0m\u001b[0m\n",
            "\u001b[0;32m/usr/local/lib/python3.6/dist-packages/pandas/core/frame.py\u001b[0m in \u001b[0;36mdrop\u001b[0;34m(self, labels, axis, index, columns, level, inplace, errors)\u001b[0m\n\u001b[1;32m   4172\u001b[0m             \u001b[0mlevel\u001b[0m\u001b[0;34m=\u001b[0m\u001b[0mlevel\u001b[0m\u001b[0;34m,\u001b[0m\u001b[0;34m\u001b[0m\u001b[0;34m\u001b[0m\u001b[0m\n\u001b[1;32m   4173\u001b[0m             \u001b[0minplace\u001b[0m\u001b[0;34m=\u001b[0m\u001b[0minplace\u001b[0m\u001b[0;34m,\u001b[0m\u001b[0;34m\u001b[0m\u001b[0;34m\u001b[0m\u001b[0m\n\u001b[0;32m-> 4174\u001b[0;31m             \u001b[0merrors\u001b[0m\u001b[0;34m=\u001b[0m\u001b[0merrors\u001b[0m\u001b[0;34m,\u001b[0m\u001b[0;34m\u001b[0m\u001b[0;34m\u001b[0m\u001b[0m\n\u001b[0m\u001b[1;32m   4175\u001b[0m         )\n\u001b[1;32m   4176\u001b[0m \u001b[0;34m\u001b[0m\u001b[0m\n",
            "\u001b[0;32m/usr/local/lib/python3.6/dist-packages/pandas/core/generic.py\u001b[0m in \u001b[0;36mdrop\u001b[0;34m(self, labels, axis, index, columns, level, inplace, errors)\u001b[0m\n\u001b[1;32m   3887\u001b[0m         \u001b[0;32mfor\u001b[0m \u001b[0maxis\u001b[0m\u001b[0;34m,\u001b[0m \u001b[0mlabels\u001b[0m \u001b[0;32min\u001b[0m \u001b[0maxes\u001b[0m\u001b[0;34m.\u001b[0m\u001b[0mitems\u001b[0m\u001b[0;34m(\u001b[0m\u001b[0;34m)\u001b[0m\u001b[0;34m:\u001b[0m\u001b[0;34m\u001b[0m\u001b[0;34m\u001b[0m\u001b[0m\n\u001b[1;32m   3888\u001b[0m             \u001b[0;32mif\u001b[0m \u001b[0mlabels\u001b[0m \u001b[0;32mis\u001b[0m \u001b[0;32mnot\u001b[0m \u001b[0;32mNone\u001b[0m\u001b[0;34m:\u001b[0m\u001b[0;34m\u001b[0m\u001b[0;34m\u001b[0m\u001b[0m\n\u001b[0;32m-> 3889\u001b[0;31m                 \u001b[0mobj\u001b[0m \u001b[0;34m=\u001b[0m \u001b[0mobj\u001b[0m\u001b[0;34m.\u001b[0m\u001b[0m_drop_axis\u001b[0m\u001b[0;34m(\u001b[0m\u001b[0mlabels\u001b[0m\u001b[0;34m,\u001b[0m \u001b[0maxis\u001b[0m\u001b[0;34m,\u001b[0m \u001b[0mlevel\u001b[0m\u001b[0;34m=\u001b[0m\u001b[0mlevel\u001b[0m\u001b[0;34m,\u001b[0m \u001b[0merrors\u001b[0m\u001b[0;34m=\u001b[0m\u001b[0merrors\u001b[0m\u001b[0;34m)\u001b[0m\u001b[0;34m\u001b[0m\u001b[0;34m\u001b[0m\u001b[0m\n\u001b[0m\u001b[1;32m   3890\u001b[0m \u001b[0;34m\u001b[0m\u001b[0m\n\u001b[1;32m   3891\u001b[0m         \u001b[0;32mif\u001b[0m \u001b[0minplace\u001b[0m\u001b[0;34m:\u001b[0m\u001b[0;34m\u001b[0m\u001b[0;34m\u001b[0m\u001b[0m\n",
            "\u001b[0;32m/usr/local/lib/python3.6/dist-packages/pandas/core/generic.py\u001b[0m in \u001b[0;36m_drop_axis\u001b[0;34m(self, labels, axis, level, errors)\u001b[0m\n\u001b[1;32m   3921\u001b[0m                 \u001b[0mnew_axis\u001b[0m \u001b[0;34m=\u001b[0m \u001b[0maxis\u001b[0m\u001b[0;34m.\u001b[0m\u001b[0mdrop\u001b[0m\u001b[0;34m(\u001b[0m\u001b[0mlabels\u001b[0m\u001b[0;34m,\u001b[0m \u001b[0mlevel\u001b[0m\u001b[0;34m=\u001b[0m\u001b[0mlevel\u001b[0m\u001b[0;34m,\u001b[0m \u001b[0merrors\u001b[0m\u001b[0;34m=\u001b[0m\u001b[0merrors\u001b[0m\u001b[0;34m)\u001b[0m\u001b[0;34m\u001b[0m\u001b[0;34m\u001b[0m\u001b[0m\n\u001b[1;32m   3922\u001b[0m             \u001b[0;32melse\u001b[0m\u001b[0;34m:\u001b[0m\u001b[0;34m\u001b[0m\u001b[0;34m\u001b[0m\u001b[0m\n\u001b[0;32m-> 3923\u001b[0;31m                 \u001b[0mnew_axis\u001b[0m \u001b[0;34m=\u001b[0m \u001b[0maxis\u001b[0m\u001b[0;34m.\u001b[0m\u001b[0mdrop\u001b[0m\u001b[0;34m(\u001b[0m\u001b[0mlabels\u001b[0m\u001b[0;34m,\u001b[0m \u001b[0merrors\u001b[0m\u001b[0;34m=\u001b[0m\u001b[0merrors\u001b[0m\u001b[0;34m)\u001b[0m\u001b[0;34m\u001b[0m\u001b[0;34m\u001b[0m\u001b[0m\n\u001b[0m\u001b[1;32m   3924\u001b[0m             \u001b[0mresult\u001b[0m \u001b[0;34m=\u001b[0m \u001b[0mself\u001b[0m\u001b[0;34m.\u001b[0m\u001b[0mreindex\u001b[0m\u001b[0;34m(\u001b[0m\u001b[0;34m**\u001b[0m\u001b[0;34m{\u001b[0m\u001b[0maxis_name\u001b[0m\u001b[0;34m:\u001b[0m \u001b[0mnew_axis\u001b[0m\u001b[0;34m}\u001b[0m\u001b[0;34m)\u001b[0m\u001b[0;34m\u001b[0m\u001b[0;34m\u001b[0m\u001b[0m\n\u001b[1;32m   3925\u001b[0m \u001b[0;34m\u001b[0m\u001b[0m\n",
            "\u001b[0;32m/usr/local/lib/python3.6/dist-packages/pandas/core/indexes/base.py\u001b[0m in \u001b[0;36mdrop\u001b[0;34m(self, labels, errors)\u001b[0m\n\u001b[1;32m   5285\u001b[0m         \u001b[0;32mif\u001b[0m \u001b[0mmask\u001b[0m\u001b[0;34m.\u001b[0m\u001b[0many\u001b[0m\u001b[0;34m(\u001b[0m\u001b[0;34m)\u001b[0m\u001b[0;34m:\u001b[0m\u001b[0;34m\u001b[0m\u001b[0;34m\u001b[0m\u001b[0m\n\u001b[1;32m   5286\u001b[0m             \u001b[0;32mif\u001b[0m \u001b[0merrors\u001b[0m \u001b[0;34m!=\u001b[0m \u001b[0;34m\"ignore\"\u001b[0m\u001b[0;34m:\u001b[0m\u001b[0;34m\u001b[0m\u001b[0;34m\u001b[0m\u001b[0m\n\u001b[0;32m-> 5287\u001b[0;31m                 \u001b[0;32mraise\u001b[0m \u001b[0mKeyError\u001b[0m\u001b[0;34m(\u001b[0m\u001b[0;34mf\"{labels[mask]} not found in axis\"\u001b[0m\u001b[0;34m)\u001b[0m\u001b[0;34m\u001b[0m\u001b[0;34m\u001b[0m\u001b[0m\n\u001b[0m\u001b[1;32m   5288\u001b[0m             \u001b[0mindexer\u001b[0m \u001b[0;34m=\u001b[0m \u001b[0mindexer\u001b[0m\u001b[0;34m[\u001b[0m\u001b[0;34m~\u001b[0m\u001b[0mmask\u001b[0m\u001b[0;34m]\u001b[0m\u001b[0;34m\u001b[0m\u001b[0;34m\u001b[0m\u001b[0m\n\u001b[1;32m   5289\u001b[0m         \u001b[0;32mreturn\u001b[0m \u001b[0mself\u001b[0m\u001b[0;34m.\u001b[0m\u001b[0mdelete\u001b[0m\u001b[0;34m(\u001b[0m\u001b[0mindexer\u001b[0m\u001b[0;34m)\u001b[0m\u001b[0;34m\u001b[0m\u001b[0;34m\u001b[0m\u001b[0m\n",
            "\u001b[0;31mKeyError\u001b[0m: \"['RFM_Score'] not found in axis\""
          ]
        }
      ]
    },
    {
      "cell_type": "code",
      "metadata": {
        "id": "mzKtez8Yh5B0"
      },
      "source": [
        "def pca_variance(eigpairs):\n",
        "  list_var = []\n",
        "  for i in eigpairs:\n",
        "    list_var.append(i[0])\n",
        "    eig_val = pd.DataFrame(list_var).T\n",
        "    eig_val.columns = [''.join(['PC',f'{i+1}']) for i in range (eig_val.shape[1])]\n",
        "  list_var_ratio = []\n",
        "  for i in eig_val.values:\n",
        "    list_var_ratio.append((i/np.sum(eig_val.values))*100)     \n",
        "    eig_val_ratio = pd.DataFrame(list_var_ratio)  \n",
        "    eig_val_ratio.columns = [''.join(['PC',f'{i+1}']) for i in range (eig_val_ratio.shape[1])]\n",
        "  return np.round(eig_val,3),eig_val_ratio \n",
        "sorted_variance,sorted_exp_variance= pca_variance(eig_pairs)\n",
        "sorted_variance.to_excel('sorted_variance.xlsx')\n",
        "sorted_exp_variance.to_excel('sorted_exp_variance.xlsx')"
      ],
      "execution_count": null,
      "outputs": []
    },
    {
      "cell_type": "code",
      "metadata": {
        "id": "kmkFMIPih7io"
      },
      "source": [
        "def biplots(x,y):\n",
        "    #x = variance\n",
        "    #y = variance_ratio\n",
        "    subject = y.columns\n",
        "    x = x.values.T\n",
        "    y = y.values\n",
        "    cumulated_var_ratio = []\n",
        "    #series = pd.Series(y)\n",
        "    cumsum = y.cumsum()\n",
        "    cumulated_var_ratio.append(cumsum)\n",
        "    cumulated_var_ratio = cumulated_var_ratio[0]\n",
        "    index = np.arange(len(x))\n",
        "    #indexy = \n",
        "    fig,ax = plt.subplots(figsize=(10,7))\n",
        "    ax.plot(x,color='black', marker='+', linestyle='dashed',linewidth=1, markersize=9, markerfacecolor = 'red')\n",
        "    ax2 = ax.twinx()\n",
        "    ax2.plot(cumulated_var_ratio,color='black', marker='o', linestyle='dashed',linewidth=1, markersize=7, markerfacecolor = 'blue')\n",
        "    ax2.set_ylim(0,102)\n",
        "    plt.xticks(index,subject,fontsize = 15)\n",
        "    #ax.set_xticks(index,subject,labelsize = 15)\n",
        "    ax.tick_params(labelsize=15)\n",
        "    plt.yticks(fontsize=15)\n",
        "    ax.set_ylabel('Eigenvalue', fontsize = 15, labelpad = 15)\n",
        "    ax2.set_ylabel('Cumulative Percentage', fontsize = 15, labelpad = 15)\n",
        "    plt.grid()\n",
        "    plt.show()\n",
        "    return cumulated_var_ratio\n",
        "biplots(sorted_variance,sorted_exp_variance)"
      ],
      "execution_count": null,
      "outputs": []
    },
    {
      "cell_type": "code",
      "metadata": {
        "id": "l28KQd8hkDsv"
      },
      "source": [
        "def contribution(x):\n",
        "  #for i in x.index:\n",
        "  c = np.abs(x.drop(x.columns[6:8],axis = 1))\n",
        "  c = c.sum(axis = 1)  \n",
        "  # return c.append(i)\n",
        "  contribution = pd.DataFrame(c).reset_index().rename(columns={'index':'Variable',0:'Contribution'})\n",
        "  contribution_ratio = []\n",
        "  for i in contribution['Contribution']:\n",
        "    contribution_ratio.append((i/np.sum(contribution['Contribution'].values))*100)\n",
        "  contribution_ratio = pd.DataFrame(contribution_ratio).reset_index().rename(columns={'index':'Variable',0:'Contribution Ratio'})\n",
        "  contribution_ratio['Variable'] = contribution['Variable'].values\n",
        "  contribution = contribution.sort_values(by = 'Contribution', ascending=False)\n",
        "  contribution_ratio = contribution_ratio.sort_values(by = 'Contribution Ratio', ascending=False)\n",
        "  return contribution,contribution_ratio \n",
        "contribution,contribution_ratio = contribution(loadings)\n",
        "#contribution_ratio.to_excel('contribution_ratio.xlsx')\n",
        "contribution_ratio"
      ],
      "execution_count": null,
      "outputs": []
    },
    {
      "cell_type": "code",
      "metadata": {
        "id": "4nojbqXvkTLH"
      },
      "source": [
        "xxx = 1/8\n",
        "xxx"
      ],
      "execution_count": null,
      "outputs": []
    },
    {
      "cell_type": "code",
      "metadata": {
        "id": "cE7K1lk5odsh"
      },
      "source": [
        "existing_data.head()"
      ],
      "execution_count": null,
      "outputs": []
    },
    {
      "cell_type": "markdown",
      "metadata": {
        "id": "mN2EU_yC5ozl"
      },
      "source": [
        "**Predictive Modelling**"
      ]
    },
    {
      "cell_type": "code",
      "metadata": {
        "id": "uPxDokFJ5rra"
      },
      "source": [
        "# Create Feature variabel X and Target variabel y\n",
        "def split_existing_data(input):             \n",
        "  x = input.drop(['tenure','state','property_valuation','RFM_Score','gender','owns_car'], axis = 1)\n",
        "  y = input['RFM_Score']\n",
        "  from sklearn.model_selection import train_test_split\n",
        "  x_train, x_test, y_train, y_test = train_test_split(x,y,test_size  =0.3, random_state = 50)\n",
        "  return x_train, x_test, y_train, y_test\n",
        "# Split data \n",
        "x_train, x_test, y_train, y_test = split_existing_data(existing_data) "
      ],
      "execution_count": null,
      "outputs": []
    },
    {
      "cell_type": "code",
      "metadata": {
        "id": "nsdr9G9E56_Y"
      },
      "source": [
        "# Machine learning Classification model libraries\n",
        "from sklearn.linear_model import LogisticRegression\n",
        "from sklearn.neighbors import KNeighborsClassifier\n",
        "from sklearn.svm import SVC\n",
        "from sklearn.tree import DecisionTreeClassifier\n",
        "from sklearn.ensemble import RandomForestClassifier\n",
        "from sklearn import metrics"
      ],
      "execution_count": null,
      "outputs": []
    },
    {
      "cell_type": "code",
      "metadata": {
        "id": "yPiAFM3O5-xw"
      },
      "source": [
        "# fit the logistic regression model\n",
        "logmodel = LogisticRegression()\n",
        "logmodel.fit(x_train,y_train)\n",
        "\n",
        "#Predictive Accuracy\n",
        "pred = logmodel.predict(x_test)\n",
        "# find Accuracy using _score model\n",
        "logmodel_accuracy = round(metrics.accuracy_score(y_test,pred)* 100,2)\n",
        "logmodel_accuracy"
      ],
      "execution_count": null,
      "outputs": []
    },
    {
      "cell_type": "code",
      "metadata": {
        "id": "0NzI7v8q6tHj"
      },
      "source": [
        "svcmodel = SVC()\n",
        "svcmodel.fit(x_train,y_train)\n",
        "svc_pred = svcmodel.predict(x_test)\n",
        "svc_accuracy = round(metrics.accuracy_score(y_test,svc_pred)*100,2)\n",
        "svc_accuracy"
      ],
      "execution_count": null,
      "outputs": []
    },
    {
      "cell_type": "code",
      "metadata": {
        "id": "MXxTsCQMqdWN"
      },
      "source": [
        "test_pred = pd.DataFrame(svc_pred).reset_index().drop(['index'], axis = 1)\n",
        "test_y = pd.DataFrame(y_test).reset_index().drop(['index'],axis = 1)\n"
      ],
      "execution_count": null,
      "outputs": []
    },
    {
      "cell_type": "code",
      "metadata": {
        "id": "vWFo-EO37YDG"
      },
      "source": [
        "rfmodel = RandomForestClassifier(criterion = 'entropy')\n",
        "rfmodel.fit(x_train,y_train)\n",
        "rfpred = rfmodel.predict(x_test)\n",
        "rf_accuracy = round(metrics.accuracy_score(y_test,rfpred)*100,2)\n",
        "rf_accuracy"
      ],
      "execution_count": null,
      "outputs": []
    },
    {
      "cell_type": "markdown",
      "metadata": {
        "id": "_cUemj9Z2Y8q"
      },
      "source": [
        "----------------------------------------------------------------------------------------**Break**"
      ]
    }
  ]
}